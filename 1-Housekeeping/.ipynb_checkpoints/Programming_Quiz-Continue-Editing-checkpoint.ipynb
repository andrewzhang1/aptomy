{
 "cells": [
  {
   "cell_type": "markdown",
   "metadata": {},
   "source": []
  },
  {
   "cell_type": "markdown",
   "metadata": {},
   "source": [
    "Practice\n",
    "=="
   ]
  },
  {
   "cell_type": "markdown",
   "metadata": {},
   "source": [
    "## RESTful API with curl"
   ]
  },
  {
   "cell_type": "markdown",
   "metadata": {},
   "source": [
    "### Professional RESTful API Design using Python Flask: Safari Books Online - Premium\n",
    "http://techbus.safaribooksonline.com/video/web-development/200000006a0405\n",
    "\n",
    "\n"
   ]
  },
  {
   "cell_type": "markdown",
   "metadata": {},
   "source": [
    "###Getting Started with Cloud-Native Python: Safari Books Online - Premium\n",
    "http://techbus.safaribooksonline.com/video/programming/python/9781788833660\n",
    "\n",
    "```\n",
    "/mnt/AGZ1/GD_AGZ1117/AGZ_Home/workspace_pOD/Getting-started-with-Cloud-Native-Python\n",
    "(azhang@vmlxu1)\\>git clone https://github.com/aqilshaikh/Getting-started-with-Cloud-Native-Python.git\n",
    "\n",
    "\n",
    "/mnt/AGZ1/GD_AGZ1117/AGZ_Home/workspace_pOD/Getting-started-with-Cloud-Native-Python/Section01\n",
    "(azhang@vmlxu1)\\>python hello.py\n",
    "\n",
    "/mnt/AGZ1/GD_AGZ1117/AGZ_Home/workspace_pOD/Getting-started-with-Cloud-Native-Python/Section01\n",
    "(azhang@vmlxu1)\\>python hello.py\n",
    " * Serving Flask app \"hello\" (lazy loading)\n",
    " * Environment: production\n",
    "   WARNING: Do not use the development server in a production environment.\n",
    "   Use a production WSGI server instead.\n",
    " * Debug mode: on\n",
    " * Running on http://0.0.0.0:5000/ (Press CTRL+C to quit)\n",
    " * Restarting with stat\n",
    " * Debugger is active!\n",
    " * Debugger PIN: 136-000-985\n",
    "127.0.0.1 - - [30/May/2018 11:49:13] \"GET / HTTP/1.1\" 200 -\n",
    "\n",
    "\n",
    "Run api call by curl:\n",
    "\n",
    "/mnt/AGZ1/GD_AGZ1117/AGZ_Home/workspace_pOD\n",
    "(azhang@vmlxu1)\\>curl http://0.0.0.0:5000/\n",
    "Hello World!\n",
    "\n",
    "\n",
    "```"
   ]
  },
  {
   "cell_type": "code",
   "execution_count": 57,
   "metadata": {},
   "outputs": [
    {
     "name": "stdout",
     "output_type": "stream",
     "text": [
      "/mnt/AGZ1/GD_AGZ1117/AGZ_Home/workspace_pOD/Getting-started-with-Cloud-Native-Python/Section01\n"
     ]
    }
   ],
   "source": [
    "%%bash\n",
    "cd /mnt/AGZ1/GD_AGZ1117/AGZ_Home/workspace_pOD/Getting-started-with-Cloud-Native-Python/Section01 \n",
    "pwd"
   ]
  },
  {
   "cell_type": "code",
   "execution_count": 53,
   "metadata": {},
   "outputs": [
    {
     "name": "stdout",
     "output_type": "stream",
     "text": [
      "total 2550\n",
      "-rwxr-xr-x 1 azhang root   29042 Apr 14 18:09 2-Final-neg_low-170124_SIG-A_03_blastoise_WAV06R05C15.ipynb\n",
      "-rwxr-xr-x 1 azhang root  401408 Apr 14 18:11 ACAP_Core_Annotations_Test2-CVC-Mode (with one voltage mode).ipynb\n",
      "-rwxr-xr-x 1 azhang root      17 Mar 15 18:46 ans_key2.txt\n",
      "-rwxr-xr-x 1 azhang root       0 Mar 17 15:08 ans_key3a.txt\n",
      "-rwxr-xr-x 1 azhang root       0 Mar 15 20:32 ans_key3.txt\n",
      "-rwxr-xr-x 1 azhang root      21 Mar 18 23:31 anskey3.txt\n",
      "-rwxr-xr-x 1 azhang root    2634 Dec  6 16:06 Ass1-1_Comp-Princiapl.py\n",
      "-rwxr-xr-x 1 azhang root    1424 Oct 25  2017 Ass1-2_Fifo (1).py\n",
      "-rwxr-xr-x 1 azhang root    1425 Apr 15 13:15 Ass1-2_Fifo.py\n",
      "-rwxr-xr-x 1 azhang root    1908 Nov  8  2017 Ass2-1_InterestCalculator.py\n",
      "-rwxr-xr-x 1 azhang root    1319 Nov  8  2017 Ass2-2_Stack.py\n",
      "-rwxr-xr-x 1 azhang root    4249 Nov 29 12:14 Ass3-1_Quadratic.py\n",
      "-rwxr-xr-x 1 azhang root   10307 Jan  5 15:03 Ass3-2_WordCounter.py\n",
      "-rwxr-xr-x 1 azhang root    1872 Nov  7  2017 Homework+oct+25-Athira+Babu.py\n",
      "-rwxr-xr-x 1 azhang root       0 Oct 25  2017 __init__.py\n",
      "-rwxr-xr-x 1 azhang root     780 Nov  7  2017 Kuei-Lin Yang_HW1_Q1_CompoundInterest.py\n",
      "-rwxr-xr-x 1 azhang root     788 Nov  7  2017 Kuei-Lin Yang_HW1_Q2_FIFO.py\n",
      "-rwxr-xr-x 1 azhang root     928 Nov  7  2017 Kuei-Lin Yang_HW2_Q1_InterestCalculator.py\n",
      "-rwxr-xr-x 1 azhang root     628 Nov  7  2017 Kuei-Lin Yang_HW2_Q2_Stack.py\n",
      "-rwxr-xr-x 1 azhang root    3846 Nov 28 22:06 Kuei-Lin Yang_HW3_Q1_Quadratic.py\n",
      "-rwxr-xr-x 1 azhang root    2176 Nov 29 17:34 Kuei-Lin Yang_HW3_Q2_WordCounter.py\n",
      "-rwxr-xr-x 1 azhang root 1656084 May 30 11:45 Programming_Quiz-Andrew_Continue-Editing.ipynb\n",
      "-rwxr-xr-x 1 azhang root   18784 May 19 11:44 Programming_Quiz_Answered_AndrewZhang.ipynb\n",
      "-rwxr-xr-x 1 azhang root   22228 May 19 11:44 Programming Quiz.ipynb\n",
      "-rwxr-xr-x 1 azhang root    3106 Sep 26  2017 red-headed-league.txt\n",
      "-rwxr-xr-x 1 azhang root      43 Mar 15 21:03 somefile.txt\n",
      "-rwxr-xr-x 1 azhang root    3856 Nov 29 11:49 Suman_HW3_Q1_Quadratic (1).py\n",
      "-rwxr-xr-x 1 azhang root    3860 Apr 15 13:21 Suman_HW3_Q1_Quadratic.py\n",
      "-rwxr-xr-x 1 azhang root    2187 Nov 29 11:49 Suman_HW3_Q2_WordCounter.py\n",
      "-rwxr-xr-x 1 azhang root    4723 Apr 15 13:53 UCSC-Marilo's python.ipynb\n",
      "-rwxr-xr-x 1 azhang root    3045 Nov 29 17:34 WordCounter.csv\n"
     ]
    }
   ],
   "source": [
    "%%bash\n",
    "\n",
    "#python hello.py\n",
    "#curl http://0.0.0.0:5000/"
   ]
  },
  {
   "cell_type": "markdown",
   "metadata": {},
   "source": [
    "curl RESTful API\n",
    "\n",
    "http://jsonplaceholder.typicode.com/\n",
    "\n",
    "    "
   ]
  },
  {
   "cell_type": "code",
   "execution_count": 60,
   "metadata": {},
   "outputs": [],
   "source": [
    "%%bash\n",
    "sqlite3"
   ]
  },
  {
   "cell_type": "code",
   "execution_count": null,
   "metadata": {},
   "outputs": [],
   "source": [
    "%%bash"
   ]
  },
  {
   "cell_type": "markdown",
   "metadata": {},
   "source": [
    "## OOP-1 Class"
   ]
  },
  {
   "cell_type": "markdown",
   "metadata": {},
   "source": [
    "### With __init__"
   ]
  },
  {
   "cell_type": "code",
   "execution_count": 2,
   "metadata": {},
   "outputs": [],
   "source": [
    "class Coordiate():\n",
    "    # object is very basic, you can use it an attribute\n",
    "    # data attribute: what is the object: x,y for example\n",
    "    # procedure attributes: method (function): how we interact with the object\n",
    "\n",
    "    # use special method to create an instance:\n",
    "    # self is a parameter to refer to an instance of the class\n",
    "\n",
    "    def __str__(self):\n",
    "        return \"<\" + str(self.x) + \",\" + str(self.y) + \">\"\n",
    "    \n",
    "    def __init__(self, x, y):\n",
    "        self.x = x\n",
    "        self.y = y\n",
    "\n",
    "    def addTwo(self,x,y):\n",
    "        return x + y\n",
    "       "
   ]
  },
  {
   "cell_type": "code",
   "execution_count": null,
   "metadata": {},
   "outputs": [],
   "source": []
  },
  {
   "cell_type": "markdown",
   "metadata": {},
   "source": [
    "```\n",
    " If without \"def __str__(self):\", the \"print(c)\"   it will show:\n",
    " <__main__.Coordiate instance at 0x7f59082f4c68>\n",
    "\n",
    "```"
   ]
  },
  {
   "cell_type": "code",
   "execution_count": 44,
   "metadata": {},
   "outputs": [
    {
     "name": "stdout",
     "output_type": "stream",
     "text": [
      "<3,4>\n",
      "3\n",
      "5\n",
      "<type 'instance'>\n"
     ]
    },
    {
     "data": {
      "text/plain": [
       "True"
      ]
     },
     "execution_count": 44,
     "metadata": {},
     "output_type": "execute_result"
    }
   ],
   "source": [
    "c = Coordiate(3,4)\n",
    "print(c)\n",
    "print(c.x)\n",
    "print(c.addTwo(2,3))\n",
    "print(type(c))\n",
    "isinstance(c, Coordiate)\n"
   ]
  },
  {
   "cell_type": "markdown",
   "metadata": {},
   "source": [
    "### Without __init__"
   ]
  },
  {
   "cell_type": "code",
   "execution_count": 46,
   "metadata": {},
   "outputs": [],
   "source": [
    "class Coordiate():\n",
    "    def addTwo(self,x,y):\n",
    "        return x + y"
   ]
  },
  {
   "cell_type": "code",
   "execution_count": 47,
   "metadata": {},
   "outputs": [
    {
     "name": "stdout",
     "output_type": "stream",
     "text": [
      "5\n"
     ]
    }
   ],
   "source": [
    "c = Coordiate()\n",
    "\n",
    "print(c.addTwo(2,3))"
   ]
  },
  {
   "cell_type": "markdown",
   "metadata": {},
   "source": [
    "### Class Fraction"
   ]
  },
  {
   "cell_type": "code",
   "execution_count": 62,
   "metadata": {},
   "outputs": [],
   "source": [
    "## Try adding a \n",
    "class Fraction(object):\n",
    "    def __init__(self, num, denom):\n",
    "        assert type"
   ]
  },
  {
   "cell_type": "markdown",
   "metadata": {},
   "source": [
    "#### class basic2"
   ]
  },
  {
   "cell_type": "code",
   "execution_count": 78,
   "metadata": {},
   "outputs": [
    {
     "name": "stdout",
     "output_type": "stream",
     "text": [
      "9\n"
     ]
    }
   ],
   "source": [
    "class Calculate(object):\n",
    "    zero = 101  # Class variable\n",
    "    def add(self, x, y):\n",
    "      return x + y + self.zero\n",
    "\n",
    "if __name__ == '__main__':\n",
    "    calc = Calculate()\n",
    "    calc.zero = 5 \n",
    "    result = calc.add(2, 2)\n",
    "    print (result)\n"
   ]
  },
  {
   "cell_type": "markdown",
   "metadata": {},
   "source": [
    "## Linux\n",
    "### Bash Tips "
   ]
  },
  {
   "cell_type": "markdown",
   "metadata": {},
   "source": [
    "#### 1. A way to run sql from bash in the runtime"
   ]
  },
  {
   "cell_type": "code",
   "execution_count": 79,
   "metadata": {},
   "outputs": [
    {
     "name": "stderr",
     "output_type": "stream",
     "text": [
      "bash: line 1: /mnt/AGZ1/GD_AGZ1117/AGZ_Home/workspace_pOD/genia/Ilya/autoQuestionPage: Is a directory\n",
      "bash: line 2: syntax error near unexpected token `\\>grep'\n",
      "bash: line 2: `(azhang@vmlxu1)\\>grep EOF *'\n"
     ]
    }
   ],
   "source": [
    "%%bash\n",
    "/mnt/AGZ1/GD_AGZ1117/AGZ_Home/workspace_pOD/genia/Ilya/autoQuestionPage\n",
    "(azhang@vmlxu1)\\>grep EOF *\n",
    "grep: chipInits: Is a directory\n",
    "getChipInits.sh:ssh genia@merge1 bash -s \"$args_str\" <<'EOF'\n",
    "getChipInits.sh:EOF\n",
    "\n",
    "# get_Error_Main_new_loop.sh\n",
    "# /mnt/AGZ1/GD_AGZ1117/AGZ_Home/workspace_pOD/genia/Andrew/ERROR_HOME/bin\n",
    "\n",
    "if [ $# != 2 ]; then\n",
    "    echo \"You need two arguments: The run list file and node name:\"\n",
    "    echo -e \"\\nFor example: getDailyFailedRunSQL_remote.sh Failed% 161208\"\n",
    "    exit\n",
    "fi\n",
    "\n",
    "HOST_IP=10.21.57.25\n",
    "mysql -N -ucumulus -pcumulus  -h $HOST_IP  << EOF\n",
    "SELECT file_name, host_name, run_status from cumulus.runs\n",
    "where run_status like '$1'\n",
    "AND formated_run_name like '$2'\n",
    "order by formated_run_name;\n",
    "EOF\n",
    "\n",
    "\n"
   ]
  },
  {
   "cell_type": "markdown",
   "metadata": {},
   "source": [
    "#### 2. xagrgs -find - grep"
   ]
  },
  {
   "cell_type": "code",
   "execution_count": 15,
   "metadata": {},
   "outputs": [
    {
     "name": "stdout",
     "output_type": "stream",
     "text": [
      "./t1/test.c:apple\n",
      "./two/3.c:apple\n"
     ]
    }
   ],
   "source": [
    "%%bash\n",
    "# Usage of xargs:\n",
    "cd /mnt/AGZ1/GD_AGZ1117/AGZ_Home/workspace_pOD/test\n",
    "find . -name *.c | xargs grep apple\n"
   ]
  },
  {
   "cell_type": "code",
   "execution_count": 14,
   "metadata": {},
   "outputs": [
    {
     "name": "stdout",
     "output_type": "stream",
     "text": [
      "./t1/test.c:apple\n",
      "./two/3.c:apple\n"
     ]
    },
    {
     "name": "stderr",
     "output_type": "stream",
     "text": [
      "grep: .: Is a directory\n"
     ]
    }
   ],
   "source": [
    "%%bash\n",
    "cd /mnt/AGZ1/GD_AGZ1117/AGZ_Home/workspace_pOD/test\n",
    "find . -name *.* | xargs grep apple"
   ]
  },
  {
   "cell_type": "markdown",
   "metadata": {},
   "source": [
    "#### 3. cut, sort "
   ]
  },
  {
   "cell_type": "code",
   "execution_count": 3,
   "metadata": {},
   "outputs": [
    {
     "name": "stderr",
     "output_type": "stream",
     "text": [
      "bash: line 2: cd: /mnt/AGZ1/GD_AGZ1117/AGZ_Home/workspace_pOD/InterviewQnA/Cassandra: No such file or directory\n",
      "grep: hack_news_Feb-3_8_20pm_page1.txt: No such file or directory\n"
     ]
    }
   ],
   "source": [
    "%%bash\n",
    "# find top 10 from column 1\n",
    "cd /mnt/AGZ1/GD_AGZ1117/AGZ_Home/workspace_pOD/InterviewQnA/Cassandra\n",
    "grep -i points hack_news_Feb-3_8_20pm_page1.txt | cut -d' ' -f1,4 | sort -k1 -nr | head -10 "
   ]
  },
  {
   "cell_type": "markdown",
   "metadata": {},
   "source": [
    "#### 4. Find cpu numbd and"
   ]
  },
  {
   "cell_type": "code",
   "execution_count": 4,
   "metadata": {},
   "outputs": [
    {
     "name": "stderr",
     "output_type": "stream",
     "text": [
      "cat: /sys/devices/system/cpu/cpu*/topology/thread_siblings_list: No such file or directory\n"
     ]
    }
   ],
   "source": [
    "%%bash\n",
    "\n",
    "for cpunum in $(cat /sys/devices/system/cpu/cpu*/topology/thread_siblings_list | cut -s -d, -f2-| sort -un)\n",
    "#for cpunum in $(cat /sys/devices/system/cpu/cpu*/topology/thread_siblings_list | cut -s -d, -f2- | tr ',' '\\n' | sort -un)\n",
    "do\n",
    "           # echo 0 > /sys/devices/system/cpu/cpu$cpunum/online\n",
    "        echo $cpunum\n",
    "done\n"
   ]
  },
  {
   "cell_type": "markdown",
   "metadata": {},
   "source": [
    "### Bash by Sander van Vugt"
   ]
  },
  {
   "cell_type": "markdown",
   "metadata": {},
   "source": [
    "#### 1.5 Using Bash Internal Commands versus External Commands\n",
    "```\n",
    "Internal Commands (without a PID) : Commands which are built into the shell.\n",
    "Use help to het a list of all internal commands\n",
    "\n",
    "External Commands (wiht PID) : Commands which aren’t built into the shell. When an external command has to be executed, the shell looks for its path given in PATH variable and also a new process has to be spawned and the command gets executed''=\n",
    "```\n"
   ]
  },
  {
   "cell_type": "code",
   "execution_count": 45,
   "metadata": {},
   "outputs": [
    {
     "name": "stdout",
     "output_type": "stream",
     "text": [
      "echo is a shell builtin\n",
      "cd is a shell builtin\n",
      "cat is /bin/cat\n"
     ]
    }
   ],
   "source": [
    "%%bash\n",
    "# help\n",
    "type echo # this actually anexternal command\n",
    "type cd\n",
    "type cat"
   ]
  },
  {
   "cell_type": "code",
   "execution_count": 11,
   "metadata": {},
   "outputs": [
    {
     "name": "stdout",
     "output_type": "stream",
     "text": [
      "/usr/bin/bashbug\n",
      "bashbug\n"
     ]
    }
   ],
   "source": [
    "%%bash\n",
    "FILENAME=/usr/bin/bashbug\n",
    "echo $FILENAME\n",
    "echo ${FILENAME##*/}\n"
   ]
  },
  {
   "cell_type": "code",
   "execution_count": 15,
   "metadata": {},
   "outputs": [
    {
     "name": "stdout",
     "output_type": "stream",
     "text": [
      "/usr/bin\n"
     ]
    }
   ],
   "source": [
    "%%bash\n",
    "FILENAME=/usr/bin/bashbug\n",
    "echo ${FILENAME%/*}"
   ]
  },
  {
   "cell_type": "markdown",
   "metadata": {},
   "source": [
    "#### 3.2 Pattern Matching"
   ]
  },
  {
   "cell_type": "code",
   "execution_count": 1,
   "metadata": {},
   "outputs": [
    {
     "name": "stdout",
     "output_type": "stream",
     "text": [
      "BLAH is rababarabarabarara\n",
      "The result of ##*ba is  rara\n",
      "The result of #*ba is  barabarabarara\n",
      "The result of %%*ba is  ra\n",
      "The result of %*bai* is  rababarabara\n"
     ]
    }
   ],
   "source": [
    "%%bash\n",
    "BLAH=rababarabarabarara\n",
    "\n",
    "echo BLAH is $BLAH\n",
    "echo 'The result of ##*ba is ' ${BLAH##*ba}\n",
    "echo 'The result of #*ba is ' ${BLAH#*ba}\n",
    "echo 'The result of %%*ba is ' ${BLAH%%ba*}\n",
    "echo 'The result of %*bai* is ' ${BLAH%ba*}"
   ]
  },
  {
   "cell_type": "markdown",
   "metadata": {},
   "source": [
    "#### 3.3 Regular Expressions"
   ]
  },
  {
   "cell_type": "markdown",
   "metadata": {},
   "source": [
    "#### 3.4 Calculation\n",
    "```\n",
    "Use let or $(( 1 +1 ))\n",
    "```"
   ]
  },
  {
   "cell_type": "code",
   "execution_count": 2,
   "metadata": {},
   "outputs": [
    {
     "name": "stdout",
     "output_type": "stream",
     "text": [
      "2\n"
     ]
    }
   ],
   "source": [
    "%%bash\n",
    "echo $(( 1+1 ))"
   ]
  },
  {
   "cell_type": "code",
   "execution_count": 4,
   "metadata": {},
   "outputs": [
    {
     "name": "stdout",
     "output_type": "stream",
     "text": [
      "3\n",
      "3.333333333\n",
      "3.3\n",
      "3.333\n",
      "2.666\n"
     ]
    }
   ],
   "source": [
    "%%bash\n",
    "bc\n",
    "10/3\n",
    "scale=9\n",
    "10/3\n",
    "scale=1\n",
    "10/3\n",
    "scale=3\n",
    "10/3\n",
    "8/3"
   ]
  },
  {
   "cell_type": "code",
   "execution_count": 6,
   "metadata": {},
   "outputs": [
    {
     "name": "stdout",
     "output_type": "stream",
     "text": [
      "3.333333333\n"
     ]
    }
   ],
   "source": [
    "%%bash\n",
    "VAR=$(echo \"scale=9;10/3\"|bc)\n",
    "echo $VAR"
   ]
  },
  {
   "cell_type": "markdown",
   "metadata": {},
   "source": [
    "#### about data format"
   ]
  },
  {
   "cell_type": "code",
   "execution_count": 3,
   "metadata": {},
   "outputs": [
    {
     "name": "stdout",
     "output_type": "stream",
     "text": [
      "17-11-18\n",
      "the day is 17\n",
      "the month is 11\n",
      "the year is 18\n"
     ]
    }
   ],
   "source": [
    "%%bash\n",
    "DATE=$(date +%d-%m-%y)\n",
    "echo $DATE\n",
    "echo the day is ${DATE%%-*}\n",
    "MONTH=${DATE%-*}\n",
    "echo the month is ${MONTH#*-}\n",
    "echo the year is ${DATE##*-}"
   ]
  },
  {
   "cell_type": "markdown",
   "metadata": {},
   "source": [
    "#### 4.1 Using grep\n",
    "\n",
    "```\n",
    "\"-e\": either:  \n",
    "grep -E 'prep|start|send' file.txt\n",
    "\n",
    "```"
   ]
  },
  {
   "cell_type": "markdown",
   "metadata": {},
   "source": [
    "#### 4.2 Using test"
   ]
  },
  {
   "cell_type": "code",
   "execution_count": 53,
   "metadata": {},
   "outputs": [
    {
     "name": "stdout",
     "output_type": "stream",
     "text": [
      "string does not start with an a\n",
      "use [[]]:\n"
     ]
    },
    {
     "name": "stderr",
     "output_type": "stream",
     "text": [
      "bash: line 2: [: too many arguments\n"
     ]
    }
   ],
   "source": [
    "%%bash\n",
    "BLAH=abcde\n",
    "[ $BLAH = a* ] || echo string does not start with an a\n",
    "echo use [[]]:\n",
    "[[ $BLAH = a* ]] || echo string does not start with an a\n"
   ]
  },
  {
   "cell_type": "code",
   "execution_count": 57,
   "metadata": {},
   "outputs": [
    {
     "name": "stdout",
     "output_type": "stream",
     "text": [
      "use [[]]\n"
     ]
    }
   ],
   "source": [
    "%%bash\n",
    "BLAH=abcde\n",
    "echo use [[]]\n",
    "[[ $BLAH = a* ]] || echo string does not start with an a"
   ]
  },
  {
   "cell_type": "code",
   "execution_count": 61,
   "metadata": {},
   "outputs": [
    {
     "name": "stdout",
     "output_type": "stream",
     "text": [
      "No result\n"
     ]
    }
   ],
   "source": [
    "%%bash\n",
    "BLAH=abcde\n",
    "#See the difference without space\n",
    "[ $BLAH=a* ] || echo string does not start with an a\n",
    "echo No result"
   ]
  },
  {
   "cell_type": "markdown",
   "metadata": {},
   "source": [
    "#### 4.3 Using cut and sort"
   ]
  },
  {
   "cell_type": "code",
   "execution_count": 63,
   "metadata": {},
   "outputs": [
    {
     "name": "stdout",
     "output_type": "stream",
     "text": [
      "65534\n",
      "1001\n",
      "1000\n"
     ]
    }
   ],
   "source": [
    "%%bash\n",
    "cut -f 3 -d : /etc/passwd | sort -rn  | head -3"
   ]
  },
  {
   "cell_type": "code",
   "execution_count": 71,
   "metadata": {},
   "outputs": [
    {
     "name": "stdout",
     "output_type": "stream",
     "text": [
      "nobody:x:65534:65534:nobody:/nonexistent:/usr/sbin/nologin\n",
      "jason:x:1001:1001:Jason Zhang,,,:/home/jason:/bin/bash\n",
      "azhang:x:1000:1000:azhang,,,:/home/azhang:/bin/bash\n"
     ]
    }
   ],
   "source": [
    "%%bash\n",
    "sort -n -r -k 3 -t: /etc/passwd |head -3"
   ]
  },
  {
   "cell_type": "code",
   "execution_count": 74,
   "metadata": {},
   "outputs": [
    {
     "name": "stdout",
     "output_type": "stream",
     "text": [
      "sync:x:4:65534:sync:/bin:/bin/sync\n"
     ]
    }
   ],
   "source": [
    "%%bash\n",
    "head -5 /etc/passwd | tail -1  # just show the 5th line"
   ]
  },
  {
   "cell_type": "markdown",
   "metadata": {},
   "source": [
    "#### 4.6 Using awk\n",
    "```\n",
    "Search patterns: awk '/search parttern' {Actions}' file\n",
    "\n",
    "```"
   ]
  },
  {
   "cell_type": "code",
   "execution_count": 82,
   "metadata": {},
   "outputs": [
    {
     "name": "stdout",
     "output_type": "stream",
     "text": [
      "root\n",
      "daemon\n",
      "bin\n"
     ]
    }
   ],
   "source": [
    "%%bash\n",
    "awk -F : ' { print $1 }' /etc/passwd | head -3"
   ]
  },
  {
   "cell_type": "code",
   "execution_count": 85,
   "metadata": {},
   "outputs": [
    {
     "name": "stdout",
     "output_type": "stream",
     "text": [
      "root\n",
      "daemon\n",
      "bin\n"
     ]
    }
   ],
   "source": [
    "%%bash\n",
    "cut -f 1 -d : /etc/passwd | head -3"
   ]
  },
  {
   "cell_type": "code",
   "execution_count": 90,
   "metadata": {},
   "outputs": [
    {
     "name": "stdout",
     "output_type": "stream",
     "text": [
      "1000\n"
     ]
    }
   ],
   "source": [
    "%%bash\n",
    "# Search user \"azhang\" and it column 4 number:\n",
    "awk -F : '/azhang/ { print $4 }' /etc/passwd"
   ]
  },
  {
   "cell_type": "code",
   "execution_count": 95,
   "metadata": {},
   "outputs": [
    {
     "name": "stdout",
     "output_type": "stream",
     "text": [
      "azhang /bin/bash\n"
     ]
    }
   ],
   "source": [
    "%%bash\n",
    "# Search user \"azhang\" and print first and the last field:\n",
    "awk -F : '/azhang/ { print $1,$NF }' /etc/passwd"
   ]
  },
  {
   "cell_type": "code",
   "execution_count": 98,
   "metadata": {},
   "outputs": [
    {
     "name": "stdout",
     "output_type": "stream",
     "text": [
      "nobody:x:65534:65534:nobody:/nonexistent:/usr/sbin/nologin\n",
      "jason:x:1001:1001:Jason Zhang,,,:/home/jason:/bin/bash\n"
     ]
    }
   ],
   "source": [
    "%%bash\n",
    "awk -F : '$3 > 1000' /etc/passwd"
   ]
  },
  {
   "cell_type": "code",
   "execution_count": 100,
   "metadata": {},
   "outputs": [
    {
     "name": "stdout",
     "output_type": "stream",
     "text": [
      "root:x:0:0:root:/root:/bin/bash\n",
      "azhang:x:1000:1000:azhang,,,:/home/azhang:/bin/bash\n",
      "jason:x:1001:1001:Jason Zhang,,,:/home/jason:/bin/bash\n"
     ]
    }
   ],
   "source": [
    "%%bash\n",
    "# Search the last field contains bash:\n",
    "awk -F : '$NF ~/bash/' /etc/passwd"
   ]
  },
  {
   "cell_type": "markdown",
   "metadata": {},
   "source": [
    "#### Assignment 4"
   ]
  },
  {
   "cell_type": "code",
   "execution_count": 113,
   "metadata": {},
   "outputs": [
    {
     "name": "stdout",
     "output_type": "stream",
     "text": [
      "cn=lara,dc=example,dc=com\n",
      "the username is LARA\n"
     ]
    }
   ],
   "source": [
    "%%bash\n",
    "#!/bin/bash\n",
    "USER=cn=lara,dc=example,dc=com\n",
    "echo $USER\n",
    "USER=${USER%%,*}\n",
    "USER=${USER#*=}\n",
    "USER=$(echo $USER | tr [:lower:] [:upper:])\n",
    "echo the username is $USER"
   ]
  },
  {
   "cell_type": "markdown",
   "metadata": {},
   "source": [
    "#### 6.3 Working with Arrays"
   ]
  },
  {
   "cell_type": "code",
   "execution_count": null,
   "metadata": {},
   "outputs": [],
   "source": []
  },
  {
   "cell_type": "code",
   "execution_count": 7,
   "metadata": {},
   "outputs": [
    {
     "name": "stdout",
     "output_type": "stream",
     "text": [
      "linda\n"
     ]
    }
   ],
   "source": [
    "%%bash\n",
    "names=(linda lisa laura lori)\n",
    "echo $names\n"
   ]
  },
  {
   "cell_type": "code",
   "execution_count": 10,
   "metadata": {},
   "outputs": [
    {
     "name": "stdout",
     "output_type": "stream",
     "text": [
      "lisa\n"
     ]
    }
   ],
   "source": [
    "%%bash\n",
    "names=(linda lisa laura lori)\n",
    "echo ${names[1]}\n"
   ]
  },
  {
   "cell_type": "code",
   "execution_count": 11,
   "metadata": {},
   "outputs": [
    {
     "name": "stdout",
     "output_type": "stream",
     "text": [
      "linda lisa laura lori\n",
      "linda lisa laura lori\n"
     ]
    }
   ],
   "source": [
    "%%bash\n",
    "names=(linda lisa laura lori)\n",
    "echo ${names[*]}\n",
    "echo ${names[@]}"
   ]
  },
  {
   "cell_type": "code",
   "execution_count": 56,
   "metadata": {},
   "outputs": [
    {
     "name": "stdout",
     "output_type": "stream",
     "text": [
      "4\n",
      "4\n"
     ]
    }
   ],
   "source": [
    "%%bash\n",
    "names=(linda lisa laura lori)\n",
    "echo ${#names[*]}\n",
    "echo ${#names[@]}  # counting whatever included"
   ]
  },
  {
   "cell_type": "code",
   "execution_count": 14,
   "metadata": {},
   "outputs": [
    {
     "name": "stdout",
     "output_type": "stream",
     "text": [
      "linda lisa laura lori sherry Andrew\n"
     ]
    }
   ],
   "source": [
    "%%bash\n",
    "names=(linda lisa laura lori)\n",
    "names[6]=sherry\n",
    "names[50]=Andrew\n",
    "echo ${names[@]}"
   ]
  },
  {
   "cell_type": "markdown",
   "metadata": {},
   "source": [
    "#### 6.4 Defining Menu Interfaces"
   ]
  },
  {
   "cell_type": "code",
   "execution_count": 2,
   "metadata": {},
   "outputs": [
    {
     "name": "stdout",
     "output_type": "stream",
     "text": [
      "select a task\n",
      "\n"
     ]
    },
    {
     "name": "stderr",
     "output_type": "stream",
     "text": [
      "1) check mounts\n",
      "2) check disk space\n",
      "3) check Memoru usage\n",
      "#? "
     ]
    }
   ],
   "source": [
    "%%bash\n",
    "echo 'select a task'\n",
    "select TASK in 'check mounts' 'check disk space' 'check Memoru usage'\n",
    "do \n",
    "    case $REPLY in\n",
    "        1) TASK=mount;;\n",
    "        2) TASK=\"df -h\";;\n",
    "        3) TASK=\"free -m\";;\n",
    "        *) echo ERROR && exit2;;\n",
    "    esac\n",
    "    if [ -n \"$TASK\" ]\n",
    "    then\n",
    "        clear\n",
    "        $TASK\n",
    "        break\n",
    "    else\n",
    "        echo Invalid CHOICE && exit 3\n",
    "    fi\n",
    "done"
   ]
  },
  {
   "cell_type": "code",
   "execution_count": null,
   "metadata": {},
   "outputs": [],
   "source": []
  },
  {
   "cell_type": "code",
   "execution_count": null,
   "metadata": {},
   "outputs": [],
   "source": []
  },
  {
   "cell_type": "markdown",
   "metadata": {},
   "source": [
    "### Advanced Shell"
   ]
  },
  {
   "cell_type": "markdown",
   "metadata": {},
   "source": [
    "#### 2.3 Using Internal vs. External Commands"
   ]
  },
  {
   "cell_type": "code",
   "execution_count": 17,
   "metadata": {},
   "outputs": [
    {
     "name": "stdout",
     "output_type": "stream",
     "text": [
      "ls is /bin/ls\n",
      "time is a shell keyword\n",
      "/usr/bin/time\n"
     ]
    }
   ],
   "source": [
    "%%bash\n",
    "type ls\n",
    "type time  # looks like an internal one\n",
    "which time # also an external one, which give different result"
   ]
  },
  {
   "cell_type": "code",
   "execution_count": 18,
   "metadata": {},
   "outputs": [
    {
     "name": "stdout",
     "output_type": "stream",
     "text": [
      "/home/azhang/ngrok\n"
     ]
    },
    {
     "name": "stderr",
     "output_type": "stream",
     "text": [
      "\n",
      "real\t0m0.002s\n",
      "user\t0m0.000s\n",
      "sys\t0m0.000s\n"
     ]
    }
   ],
   "source": [
    "%%bash\n",
    "time ls /home/azhang/ngrok"
   ]
  },
  {
   "cell_type": "code",
   "execution_count": 133,
   "metadata": {},
   "outputs": [
    {
     "name": "stdout",
     "output_type": "stream",
     "text": [
      "/home/azhang/ngrok\n"
     ]
    },
    {
     "name": "stderr",
     "output_type": "stream",
     "text": [
      "0.00user 0.00system 0:00.00elapsed 0%CPU (0avgtext+0avgdata 2404maxresident)k\n",
      "0inputs+0outputs (0major+104minor)pagefaults 0swaps\n"
     ]
    }
   ],
   "source": [
    "%%bash\n",
    "#echo \"Use external:\"\n",
    "/usr/bin/time ls /home/azhang/ngrok"
   ]
  },
  {
   "cell_type": "code",
   "execution_count": 151,
   "metadata": {
    "scrolled": true
   },
   "outputs": [
    {
     "name": "stdout",
     "output_type": "stream",
     "text": [
      "Ford,\n",
      "Jaguar,\n",
      "Geely,\n",
      "BMW\n"
     ]
    }
   ],
   "source": [
    "%%bash\n",
    "#!/bin/bash\n",
    "car=(\"Ford\", \"Jaguar\", \"Geely\", \"BMW\")\n",
    "len=${#car[*]}  # get total elements in an array\n",
    "\n",
    "# print it\n",
    "for (( i=0; i<${len}; i++));\n",
    "do\n",
    "    echo \"${car[$i]}\"\n",
    "done"
   ]
  },
  {
   "cell_type": "markdown",
   "metadata": {},
   "source": [
    "#### 7.4 Avoiding Useless Commands (cat /etc/passwd | grep root)"
   ]
  },
  {
   "cell_type": "code",
   "execution_count": 19,
   "metadata": {},
   "outputs": [
    {
     "name": "stdout",
     "output_type": "stream",
     "text": [
      "len=${#car[*]}  # get total elements in an array\r\n",
      "for (( i=0; i<${len}; i++));\r\n"
     ]
    }
   ],
   "source": [
    "%%bash\n",
    "cd /mnt/AGZ1/GD_AGZ1117/AGZ_Home/workspace_pOD/shell_by_Sander-van\n",
    "grep len  Adv_3.2_C-StyleSyntax_for_loop.sh"
   ]
  },
  {
   "cell_type": "code",
   "execution_count": 18,
   "metadata": {},
   "outputs": [
    {
     "name": "stdout",
     "output_type": "stream",
     "text": [
      "len=${#car[*]}\n",
      "for\n"
     ]
    }
   ],
   "source": [
    "%%bash\n",
    "cd /mnt/AGZ1/GD_AGZ1117/AGZ_Home/workspace_pOD/aptomy/shell_by_Sander-van\n",
    "grep len Adv_3.2_C-StyleSyntax_for_loop.sh | awk '{print $1}'"
   ]
  },
  {
   "cell_type": "code",
   "execution_count": 19,
   "metadata": {},
   "outputs": [
    {
     "name": "stdout",
     "output_type": "stream",
     "text": [
      "len=${#car[*]}\n",
      "for\n"
     ]
    }
   ],
   "source": [
    "%%bash\n",
    "cd /mnt/AGZ1/GD_AGZ1117/AGZ_Home/workspace_pOD/aptomy/shell_by_Sander-van\n",
    "awk  '/len/{ print $1}' Adv_3.2_C-StyleSyntax_for_loop.sh\n",
    "# This is the best way"
   ]
  },
  {
   "cell_type": "markdown",
   "metadata": {},
   "source": [
    "#### 7.5 Minimizing Operations"
   ]
  },
  {
   "cell_type": "code",
   "execution_count": 25,
   "metadata": {},
   "outputs": [
    {
     "name": "stdout",
     "output_type": "stream",
     "text": [
      "17_11_18\n",
      "17\n"
     ]
    }
   ],
   "source": [
    "%%bash\n",
    "DATE=$(date +%d_%m_%y)\n",
    "echo $DATE\n",
    "DAY=${DATE:0:2}\n",
    "echo $DAY"
   ]
  },
  {
   "cell_type": "markdown",
   "metadata": {},
   "source": [
    "##### 7.6 Analyzing Script Performance with time \n"
   ]
  },
  {
   "cell_type": "code",
   "execution_count": null,
   "metadata": {},
   "outputs": [],
   "source": []
  },
  {
   "cell_type": "markdown",
   "metadata": {},
   "source": [
    "#### 8.1 Comparing Bash to Python\n",
    "```\n",
    "help() \n",
    "help> keywords\n",
    "help> LISTS\n",
    "help> topics\n",
    "help> modules\n",
    "\n",
    "\n",
    "```"
   ]
  },
  {
   "cell_type": "code",
   "execution_count": 1,
   "metadata": {},
   "outputs": [
    {
     "name": "stdout",
     "output_type": "stream",
     "text": [
      "A. HISTORY OF THE SOFTWARE\n",
      "==========================\n",
      "\n",
      "Python was created in the early 1990s by Guido van Rossum at Stichting\n",
      "Mathematisch Centrum (CWI, see http://www.cwi.nl) in the Netherlands\n",
      "as a successor of a language called ABC.  Guido remains Python's\n",
      "principal author, although it includes many contributions from others.\n",
      "\n",
      "In 1995, Guido continued his work on Python at the Corporation for\n",
      "National Research Initiatives (CNRI, see http://www.cnri.reston.va.us)\n",
      "in Reston, Virginia where he released several versions of the\n",
      "software.\n",
      "\n",
      "In May 2000, Guido and the Python core development team moved to\n",
      "BeOpen.com to form the BeOpen PythonLabs team.  In October of the same\n",
      "year, the PythonLabs team moved to Digital Creations (now Zope\n",
      "Corporation, see http://www.zope.com).  In 2001, the Python Software\n",
      "Foundation (PSF, see http://www.python.org/psf/) was formed, a\n",
      "non-profit organization created specifically to own Python-related\n",
      "Intellectual Property.  Zope Corporation is a sponsoring member of\n",
      "the PSF.\n",
      "\n",
      "All Python releases are Open Source (see http://www.opensource.org for\n",
      "Hit Return for more, or q (and Return) to quit: qui\n",
      "Hit Return for more, or q (and Return) to quit: q\n"
     ]
    }
   ],
   "source": [
    "license()"
   ]
  },
  {
   "cell_type": "code",
   "execution_count": 3,
   "metadata": {},
   "outputs": [
    {
     "name": "stdout",
     "output_type": "stream",
     "text": [
      "The Zen of Python, by Tim Peters\n",
      "\n",
      "Beautiful is better than ugly.\n",
      "Explicit is better than implicit.\n",
      "Simple is better than complex.\n",
      "Complex is better than complicated.\n",
      "Flat is better than nested.\n",
      "Sparse is better than dense.\n",
      "Readability counts.\n",
      "Special cases aren't special enough to break the rules.\n",
      "Although practicality beats purity.\n",
      "Errors should never pass silently.\n",
      "Unless explicitly silenced.\n",
      "In the face of ambiguity, refuse the temptation to guess.\n",
      "There should be one-- and preferably only one --obvious way to do it.\n",
      "Although that way may not be obvious at first unless you're Dutch.\n",
      "Now is better than never.\n",
      "Although never is often better than *right* now.\n",
      "If the implementation is hard to explain, it's a bad idea.\n",
      "If the implementation is easy to explain, it may be a good idea.\n",
      "Namespaces are one honking great idea -- let's do more of those!\n"
     ]
    }
   ],
   "source": [
    "import this"
   ]
  },
  {
   "cell_type": "code",
   "execution_count": 26,
   "metadata": {},
   "outputs": [
    {
     "name": "stdout",
     "output_type": "stream",
     "text": [
      "Hello there -f\n"
     ]
    }
   ],
   "source": [
    "import sys\n",
    "\n",
    "# Gather our code in a main() function\n",
    "def main():\n",
    "  print ('Hello there', sys.argv[1])\n",
    "    # Command line args are in sys.argv[1], sys.argv[2] ..\n",
    "    # sys.argv[0] is the script name itself and can be ignored\n",
    "\n",
    "    # Standard boilerplate to call the main() function to begin\n",
    "    # the program.\n",
    "    \n",
    "if __name__ == '__main__':\n",
    "  main()"
   ]
  },
  {
   "cell_type": "markdown",
   "metadata": {},
   "source": [
    "#### 8.4 Work with argument, etc"
   ]
  },
  {
   "cell_type": "code",
   "execution_count": 20,
   "metadata": {},
   "outputs": [
    {
     "name": "stdout",
     "output_type": "stream",
     "text": [
      "Content of 84_WorkingwithArguments.py\n",
      "#!/home/azhang/anaconda3/bin/python\n",
      "import sys\n",
      "\n",
      "print (\"Hello \" + sys.argv[0] + \" \" + sys.argv[1])\n",
      "print (len(sys.argv))\n",
      "\n",
      "Run it on the command line: \n",
      "Hello 84_WorkingwithArguments.py Andrew\n",
      "2\n"
     ]
    }
   ],
   "source": [
    "%%bash\n",
    "cd /mnt/AGZ1/GD_AGZ1117/AGZ_Home/workspace_pOD/aptomy/shell_by_Sander-van\n",
    "echo \"Content of 84_WorkingwithArguments.py\"; cat 84_WorkingwithArguments.py\n",
    "echo \"Run it on the command line: \"\n",
    "python 84_WorkingwithArguments.py Andrew "
   ]
  },
  {
   "cell_type": "code",
   "execution_count": 22,
   "metadata": {},
   "outputs": [
    {
     "name": "stdout",
     "output_type": "stream",
     "text": [
      "Content of 85_workWithArgu.py\n",
      "import sys\n",
      "count = len(sys.argv) - 1 \n",
      "if ( count >= 1 ):\n",
      "  print (\"Number of arguments :\" + str(count))\n",
      "  for arg in sys.argv:\n",
      "    print(arg)\n",
      "  print(\"Exiting \" + sys.argv[0])\n",
      "\n",
      "\n",
      "\n",
      "\n",
      "Run it on the command line: \n",
      "Number of arguments :2\n",
      "85_workWithArgu.py\n",
      "One\n",
      "Two\n",
      "Exiting 85_workWithArgu.py\n"
     ]
    }
   ],
   "source": [
    "%%bash\n",
    "cd /mnt/AGZ1/GD_AGZ1117/AGZ_Home/workspace_pOD/aptomy/shell_by_Sander-van\n",
    "echo \"Content of 85_workWithArgu.py\"; cat 85_workWithArgu.py\n",
    "echo \"Run it on the command line: \"\n",
    "python 85_workWithArgu.py One Two"
   ]
  },
  {
   "cell_type": "markdown",
   "metadata": {},
   "source": [
    "#### 8.6 Interactive Python"
   ]
  },
  {
   "cell_type": "code",
   "execution_count": 27,
   "metadata": {},
   "outputs": [
    {
     "name": "stdout",
     "output_type": "stream",
     "text": [
      "Hello -f\n",
      "Exiting /home/azhang/anaconda3/envs/py34/lib/python3.4/site-packages/ipykernel/__main__.py\n"
     ]
    }
   ],
   "source": [
    "# Need python 2 for raw_input (python3: input())\n",
    "import sys\n",
    "count = len(sys.argv)\n",
    "name = ''\n",
    "if ( count == 1 ):\n",
    "  name = raw_input(\"Give a name: \")\n",
    "else: \n",
    "  name = sys.argv[1]\n",
    "\n",
    "print (\"Hello \" + name)\n",
    "print(\"Exiting \" + sys.argv[0])"
   ]
  },
  {
   "cell_type": "code",
   "execution_count": 28,
   "metadata": {},
   "outputs": [
    {
     "name": "stdout",
     "output_type": "stream",
     "text": [
      "Give a name: ssdsd\n",
      "Hello ssdsd\n",
      "Exiting /home/azhang/anaconda3/envs/py34/lib/python3.4/site-packages/ipykernel/__main__.py\n"
     ]
    }
   ],
   "source": [
    "# 86_InteractivePython-2.py\n",
    "import sys\n",
    "name = ''\n",
    "name = input(\"Give a name: \")\n",
    "#name = sys.argv[1]\n",
    "print (\"Hello \" + name)\n",
    "print(\"Exiting \" + sys.argv[0])\n"
   ]
  },
  {
   "cell_type": "markdown",
   "metadata": {},
   "source": [
    "#### 8.7 Writing Output to Files"
   ]
  },
  {
   "cell_type": "code",
   "execution_count": 33,
   "metadata": {},
   "outputs": [
    {
     "data": {
      "text/plain": [
       "False"
      ]
     },
     "execution_count": 33,
     "metadata": {},
     "output_type": "execute_result"
    }
   ],
   "source": [
    "import sys\n",
    "sys = [2, 3,4,5]\n",
    "count == len(sys)"
   ]
  },
  {
   "cell_type": "code",
   "execution_count": null,
   "metadata": {},
   "outputs": [],
   "source": []
  },
  {
   "cell_type": "markdown",
   "metadata": {},
   "source": [
    "#### Random numbers"
   ]
  },
  {
   "cell_type": "code",
   "execution_count": 36,
   "metadata": {},
   "outputs": [
    {
     "name": "stdout",
     "output_type": "stream",
     "text": [
      "54\n",
      "27721\n",
      "16409\n"
     ]
    }
   ],
   "source": [
    "%%bash\n",
    "expr $RANDOM % 100\n",
    "expr $RANDOM\n",
    "echo $RANDOM"
   ]
  },
  {
   "cell_type": "code",
   "execution_count": 24,
   "metadata": {},
   "outputs": [
    {
     "name": "stdout",
     "output_type": "stream",
     "text": [
      "5\n",
      "3\n",
      "1 + 2\n",
      "1003\n",
      "1003\n"
     ]
    },
    {
     "name": "stderr",
     "output_type": "stream",
     "text": [
      "\n",
      "real\t0m0.001s\n",
      "user\t0m0.000s\n",
      "sys\t0m0.004s\n",
      "\n",
      "real\t0m0.000s\n",
      "user\t0m0.000s\n",
      "sys\t0m0.000s\n"
     ]
    }
   ],
   "source": [
    "%%bash\n",
    "grep -m1 -ao '[0-9]' /dev/urandom | sed s/0/10/ | head -n1\n",
    "echo $RANDOM % 10 + 1 | bc\n",
    "echo 1 + 2\n",
    "time echo 1000 + 3 | bc\n",
    "time echo $((1000 + 3))  # This one is much fast!"
   ]
  },
  {
   "cell_type": "markdown",
   "metadata": {},
   "source": [
    "## Visualization"
   ]
  },
  {
   "cell_type": "markdown",
   "metadata": {},
   "source": [
    "### plt.show()"
   ]
  },
  {
   "cell_type": "code",
   "execution_count": 3,
   "metadata": {},
   "outputs": [
    {
     "name": "stdout",
     "output_type": "stream",
     "text": [
      "imports loaded\n"
     ]
    }
   ],
   "source": [
    "# Preparations (must use python3)\n",
    "import numpy as np\n",
    "import matplotlib.pyplot as plt\n",
    "\n",
    "%matplotlib inline \n",
    "print(\"imports loaded\")"
   ]
  },
  {
   "cell_type": "code",
   "execution_count": null,
   "metadata": {},
   "outputs": [],
   "source": []
  },
  {
   "cell_type": "code",
   "execution_count": 27,
   "metadata": {},
   "outputs": [
    {
     "data": {
      "image/png": "[encoded data removed]",
      "text/plain": [
       "<matplotlib.figure.Figure at 0x7f52c4a762e8>"
      ]
     },
     "metadata": {},
     "output_type": "display_data"
    }
   ],
   "source": [
    "# p.22 of Mastering Machine Learning with scikit-learn.pdf\n",
    "import matplotlib.pyplot as plt\n",
    "X = [[6], [8], [10], [14], [18]]\n",
    "y = [[7], [9], [13], [17.5], [18]]\n",
    "plt.figure()\n",
    "plt.title('Pizza price plotted against diameter')\n",
    "plt.xlabel('Diameter in inches')\n",
    "plt.ylabel('Price in dollars')\n",
    "plt.plot(X, y, 'k.')\n",
    "plt.axis([0, 25, 0, 25])\n",
    "plt.grid(True)\n",
    "#plt.show()"
   ]
  },
  {
   "cell_type": "code",
   "execution_count": 12,
   "metadata": {},
   "outputs": [
    {
     "data": {
      "text/plain": [
       "[<matplotlib.lines.Line2D at 0x7f52c65d7048>]"
      ]
     },
     "execution_count": 12,
     "metadata": {},
     "output_type": "execute_result"
    },
    {
     "data": {
      "image/png": "[encoded data removed]",
      "text/plain": [
       "<matplotlib.figure.Figure at 0x7f52c661d6a0>"
      ]
     },
     "metadata": {},
     "output_type": "display_data"
    }
   ],
   "source": [
    "#matplotlib.use('Agg')\n",
    "plt.plot([1,2], [2,5])"
   ]
  },
  {
   "cell_type": "code",
   "execution_count": 20,
   "metadata": {},
   "outputs": [
    {
     "name": "stdout",
     "output_type": "stream",
     "text": [
      "[ 0.25051494  0.47793973  0.41002976  0.6453179   0.97645871  0.44830686\n",
      "  1.31111853  0.33534459  0.26290965  0.62417973  1.13386002  1.03250778\n",
      "  0.8408279   2.05489015  1.62326874  2.14961179  0.32034426  0.54682622\n",
      "  1.23500298  0.81385901  0.11949271  0.19980487  1.12443618  0.87193222\n",
      "  0.68239106  1.26695361  0.14850612  0.03954691  0.55410895  1.2022194\n",
      "  0.7097148   0.96871928  1.2990274   0.61489784  0.65544576  0.47501273\n",
      "  0.56794438  0.87408077  0.19192507  0.11548401  0.01700735  0.54585167\n",
      "  0.39737896  0.28124021  0.74295256  0.17321538  1.12973144  0.27116225\n",
      "  1.08263482  0.71973934]\n"
     ]
    },
    {
     "data": {
      "text/plain": [
       "[<matplotlib.lines.Line2D at 0x7f52c4ab5f98>]"
      ]
     },
     "execution_count": 20,
     "metadata": {},
     "output_type": "execute_result"
    },
    {
     "data": {
      "image/png": "[encoded data removed]",
      "text/plain": [
       "<matplotlib.figure.Figure at 0x7f52c6597358>"
      ]
     },
     "metadata": {},
     "output_type": "display_data"
    }
   ],
   "source": [
    "from numpy.random import randn\n",
    "num1 = abs(randn(50))\n",
    "print(num1)\n",
    "plt.plot(randn(50))\n",
    "plt.plot(randn(50))\n",
    "plt.plot(num1)"
   ]
  },
  {
   "cell_type": "code",
   "execution_count": 21,
   "metadata": {},
   "outputs": [
    {
     "data": {
      "text/plain": [
       "[<matplotlib.lines.Line2D at 0x7f52c4a9a710>]"
      ]
     },
     "execution_count": 21,
     "metadata": {},
     "output_type": "execute_result"
    },
    {
     "data": {
      "image/png": "[encoded data removed]",
      "text/plain": [
       "<matplotlib.figure.Figure at 0x7f52c4c6f828>"
      ]
     },
     "metadata": {},
     "output_type": "display_data"
    }
   ],
   "source": [
    "plt.plot(range(100))"
   ]
  },
  {
   "cell_type": "markdown",
   "metadata": {},
   "source": [
    "## Google class"
   ]
  },
  {
   "cell_type": "code",
   "execution_count": 14,
   "metadata": {},
   "outputs": [],
   "source": [
    "import os\n",
    "import sys\n",
    "#dir(sys)\n",
    "#help(sys.argv) # main page, doc"
   ]
  },
  {
   "cell_type": "code",
   "execution_count": 73,
   "metadata": {},
   "outputs": [
    {
     "name": "stdout",
     "output_type": "stream",
     "text": [
      "Hello\n",
      "['/home/azhang/anaconda3/envs/py34/lib/python3.4/site-packages/ipykernel/__main__.py', '-f', '/run/user/1000/jupyter/kernel-ba6d09fe-0348-4022-9dde-f7af5c5f465d.json']\n"
     ]
    }
   ],
   "source": [
    "# Script nameL hello.py\n",
    "import sys\n",
    "\n",
    "def say_hello():\n",
    "    print (\"Hello\")\n",
    "    print (sys.argv)\n",
    "\n",
    "if __name__ == '__main__':\n",
    "    say_hello()\n",
    "\n",
    "# Command line: \"python aa bb cc\" ==> \n",
    "# Hello\n",
    "# ['hello.py', 'aa', 'bb', 'cc']\n"
   ]
  },
  {
   "cell_type": "markdown",
   "metadata": {},
   "source": [
    "# R Demo"
   ]
  },
  {
   "cell_type": "code",
   "execution_count": 2,
   "metadata": {},
   "outputs": [
    {
     "data": {
      "text/html": [
       "<ol class=list-inline>\n",
       "\t<li>-0.0764401737206221</li>\n",
       "\t<li>-0.808753944048414</li>\n",
       "\t<li>-0.741459248716511</li>\n",
       "\t<li>-0.745438344913356</li>\n",
       "\t<li>0.425279364491186</li>\n",
       "\t<li>-0.214605305530362</li>\n",
       "\t<li>1.21540666096264</li>\n",
       "\t<li>-0.168610462399671</li>\n",
       "\t<li>0.107625715402357</li>\n",
       "\t<li>0.573577114002545</li>\n",
       "</ol>\n"
      ],
      "text/latex": [
       "\\begin{enumerate*}\n",
       "\\item -0.0764401737206221\n",
       "\\item -0.808753944048414\n",
       "\\item -0.741459248716511\n",
       "\\item -0.745438344913356\n",
       "\\item 0.425279364491186\n",
       "\\item -0.214605305530362\n",
       "\\item 1.21540666096264\n",
       "\\item -0.168610462399671\n",
       "\\item 0.107625715402357\n",
       "\\item 0.573577114002545\n",
       "\\end{enumerate*}\n"
      ],
      "text/markdown": [
       "1. -0.0764401737206221\n",
       "2. -0.808753944048414\n",
       "3. -0.741459248716511\n",
       "4. -0.745438344913356\n",
       "5. 0.425279364491186\n",
       "6. -0.214605305530362\n",
       "7. 1.21540666096264\n",
       "8. -0.168610462399671\n",
       "9. 0.107625715402357\n",
       "10. 0.573577114002545\n",
       "\n",
       "\n"
      ],
      "text/plain": [
       " [1] -0.07644017 -0.80875394 -0.74145925 -0.74543834  0.42527936 -0.21460531\n",
       " [7]  1.21540666 -0.16861046  0.10762572  0.57357711"
      ]
     },
     "metadata": {},
     "output_type": "display_data"
    }
   ],
   "source": [
    "x <- rnorm(10)\n",
    "x"
   ]
  },
  {
   "cell_type": "code",
   "execution_count": 4,
   "metadata": {},
   "outputs": [
    {
     "data": {
      "text/html": [
       "<ol class=list-inline>\n",
       "\t<li>1.27024203308252</li>\n",
       "\t<li>-1.05965444557226</li>\n",
       "\t<li>-1.7348253628039</li>\n",
       "\t<li>-1.80141392315483</li>\n",
       "\t<li>0.115161095220328</li>\n",
       "\t<li>-0.20571688797907</li>\n",
       "\t<li>1.59025296752386</li>\n",
       "\t<li>0.14615789632387</li>\n",
       "\t<li>0.209580168535692</li>\n",
       "\t<li>0.212265783794077</li>\n",
       "</ol>\n"
      ],
      "text/latex": [
       "\\begin{enumerate*}\n",
       "\\item 1.27024203308252\n",
       "\\item -1.05965444557226\n",
       "\\item -1.7348253628039\n",
       "\\item -1.80141392315483\n",
       "\\item 0.115161095220328\n",
       "\\item -0.20571688797907\n",
       "\\item 1.59025296752386\n",
       "\\item 0.14615789632387\n",
       "\\item 0.209580168535692\n",
       "\\item 0.212265783794077\n",
       "\\end{enumerate*}\n"
      ],
      "text/markdown": [
       "1. 1.27024203308252\n",
       "2. -1.05965444557226\n",
       "3. -1.7348253628039\n",
       "4. -1.80141392315483\n",
       "5. 0.115161095220328\n",
       "6. -0.20571688797907\n",
       "7. 1.59025296752386\n",
       "8. 0.14615789632387\n",
       "9. 0.209580168535692\n",
       "10. 0.212265783794077\n",
       "\n",
       "\n"
      ],
      "text/plain": [
       " [1]  1.2702420 -1.0596544 -1.7348254 -1.8014139  0.1151611 -0.2057169\n",
       " [7]  1.5902530  0.1461579  0.2095802  0.2122658"
      ]
     },
     "metadata": {},
     "output_type": "display_data"
    }
   ],
   "source": [
    "y <- x + rnorm(10)\n",
    "y"
   ]
  },
  {
   "cell_type": "code",
   "execution_count": 4,
   "metadata": {},
   "outputs": [
    {
     "data": {
      "text/plain": [
       "[<matplotlib.lines.Line2D at 0x7f2628577278>]"
      ]
     },
     "execution_count": 4,
     "metadata": {},
     "output_type": "execute_result"
    },
    {
     "data": {
      "image/png": "[encoded data removed]",
      "text/plain": [
       "<matplotlib.figure.Figure at 0x7f262b92a7f0>"
      ]
     },
     "metadata": {},
     "output_type": "display_data"
    }
   ],
   "source": [
    "plt.plot(range(100))"
   ]
  },
  {
   "cell_type": "markdown",
   "metadata": {},
   "source": [
    "# Question & Tips"
   ]
  },
  {
   "cell_type": "code",
   "execution_count": null,
   "metadata": {},
   "outputs": [],
   "source": []
  },
  {
   "cell_type": "code",
   "execution_count": 12,
   "metadata": {},
   "outputs": [
    {
     "name": "stdout",
     "output_type": "stream",
     "text": [
      "['c', 'a', 't', 'd', 'o', 'g', 'r', 'a', 'b', 'b', 'i', 't']\n"
     ]
    }
   ],
   "source": [
    "wordlist = ['cat','dog','rabbit']\n",
    "letterlist = [ ]\n",
    "for aword in wordlist:\n",
    "    for aletter in aword:\n",
    "        letterlist.append(aletter)\n",
    "print(letterlist)"
   ]
  },
  {
   "cell_type": "code",
   "execution_count": 13,
   "metadata": {},
   "outputs": [
    {
     "ename": "SyntaxError",
     "evalue": "Missing parentheses in call to 'print' (<ipython-input-13-4065985d12ee>, line 4)",
     "output_type": "error",
     "traceback": [
      "\u001b[0;36m  File \u001b[0;32m\"<ipython-input-13-4065985d12ee>\"\u001b[0;36m, line \u001b[0;32m4\u001b[0m\n\u001b[0;31m    print aletter\u001b[0m\n\u001b[0m                ^\u001b[0m\n\u001b[0;31mSyntaxError\u001b[0m\u001b[0;31m:\u001b[0m Missing parentheses in call to 'print'\n"
     ]
    }
   ],
   "source": [
    "wordlist = ['cat','dog','rabbit', 3, 5]\n",
    "for word in wordlist:\n",
    "    for aletter in  word:\n",
    "        print aletter      "
   ]
  },
  {
   "cell_type": "code",
   "execution_count": 4,
   "metadata": {},
   "outputs": [
    {
     "ename": "SyntaxError",
     "evalue": "invalid syntax (<ipython-input-4-95fbf1729886>, line 5)",
     "output_type": "error",
     "traceback": [
      "\u001b[0;36m  File \u001b[0;32m\"<ipython-input-4-95fbf1729886>\"\u001b[0;36m, line \u001b[0;32m5\u001b[0m\n\u001b[0;31m    print wordlist[]\u001b[0m\n\u001b[0m                   ^\u001b[0m\n\u001b[0;31mSyntaxError\u001b[0m\u001b[0;31m:\u001b[0m invalid syntax\n"
     ]
    }
   ],
   "source": [
    "wordlist = ['cat','dog','rabbit']\n",
    "\n",
    "for name in wordlist:\n",
    "    print wordlist[len]\n",
    "    print wordlist[]\n",
    "#print wordlist[1]"
   ]
  },
  {
   "cell_type": "code",
   "execution_count": null,
   "metadata": {},
   "outputs": [],
   "source": []
  },
  {
   "cell_type": "code",
   "execution_count": 5,
   "metadata": {},
   "outputs": [
    {
     "data": {
      "text/plain": [
       "<function append>"
      ]
     },
     "execution_count": 5,
     "metadata": {},
     "output_type": "execute_result"
    }
   ],
   "source": [
    "wordlist = ['cat','dog','rabbit']\n",
    "wordlist.append"
   ]
  },
  {
   "cell_type": "code",
   "execution_count": 7,
   "metadata": {},
   "outputs": [
    {
     "data": {
      "text/plain": [
       "81"
      ]
     },
     "execution_count": 7,
     "metadata": {},
     "output_type": "execute_result"
    }
   ],
   "source": [
    "def square(n):\n",
    "    return n **2\n",
    "\n",
    "square(3)\n",
    "square(square(3))"
   ]
  },
  {
   "cell_type": "code",
   "execution_count": 10,
   "metadata": {},
   "outputs": [
    {
     "ename": "IndentationError",
     "evalue": "expected an indented block (<ipython-input-10-54545cffde44>, line 4)",
     "output_type": "error",
     "traceback": [
      "\u001b[0;36m  File \u001b[0;32m\"<ipython-input-10-54545cffde44>\"\u001b[0;36m, line \u001b[0;32m4\u001b[0m\n\u001b[0;31m    \u001b[0m\n\u001b[0m    ^\u001b[0m\n\u001b[0;31mIndentationError\u001b[0m\u001b[0;31m:\u001b[0m expected an indented block\n"
     ]
    }
   ],
   "source": [
    "def genereatOne(strlen):\n",
    "    res = \"\"\n",
    "    for i in range(strlen):\n",
    "        "
   ]
  },
  {
   "cell_type": "markdown",
   "metadata": {},
   "source": [
    "## Corey Schafer's top 10"
   ]
  },
  {
   "cell_type": "markdown",
   "metadata": {},
   "source": [
    "#### 3. Discuss How you use python: System file search of web scraping, etc"
   ]
  },
  {
   "cell_type": "code",
   "execution_count": 15,
   "metadata": {},
   "outputs": [
    {
     "name": "stdout",
     "output_type": "stream",
     "text": [
      "3_systemTest.py\n",
      "first_module.py\n",
      "OOP1_Employee.py\n",
      "OOP2_Employee.py\n",
      "OOP3_Employee.py\n",
      "second_module.py\n",
      "__init__.py\n"
     ]
    }
   ],
   "source": [
    "import os, glob\n",
    "os.chdir((\"/mnt/AGZ1/GD_AGZ1117/AGZ_Home/workspace_pOD/aptomy/1-Housekeeping/Corey\"))\n",
    "#os.chdir((\"C:\\\\AGZ1\\\\GD_AGZ1117\\\\AGZ_Home\\\\workspace_pOD\\\\1_HouseKeeper\\\\Corey\"))\n",
    "\n",
    "for file in glob.glob(\"*.py\"):\n",
    "    print(file)"
   ]
  },
  {
   "cell_type": "markdown",
   "metadata": {},
   "source": [
    "#### 4. Common interview problems"
   ]
  },
  {
   "cell_type": "markdown",
   "metadata": {},
   "source": [
    "Fabonachi problems; 3443, prime number, etc"
   ]
  },
  {
   "cell_type": "code",
   "execution_count": null,
   "metadata": {},
   "outputs": [],
   "source": []
  },
  {
   "cell_type": "code",
   "execution_count": 8,
   "metadata": {},
   "outputs": [
    {
     "data": {
      "text/plain": [
       "{1, 8, 27, 64}"
      ]
     },
     "execution_count": 8,
     "metadata": {},
     "output_type": "execute_result"
    }
   ],
   "source": [
    "{x ** 3 for x in [1, 2, 3, 4]} # Set comprehensions in 3.0"
   ]
  },
  {
   "cell_type": "code",
   "execution_count": null,
   "metadata": {},
   "outputs": [],
   "source": []
  },
  {
   "cell_type": "markdown",
   "metadata": {},
   "source": [
    "#### 5. Basic data type and know when to use them\n"
   ]
  },
  {
   "cell_type": "code",
   "execution_count": 47,
   "metadata": {},
   "outputs": [],
   "source": [
    "# Strings"
   ]
  },
  {
   "cell_type": "code",
   "execution_count": 10,
   "metadata": {},
   "outputs": [
    {
     "name": "stdout",
     "output_type": "stream",
     "text": [
      "1\n",
      "2\n",
      "3\n",
      "4\n",
      "6\n",
      "27\n"
     ]
    }
   ],
   "source": [
    "# tup\n",
    "my_tup = (1,2,3,4,6,27)\n",
    "for i in my_tup:\n",
    "    print (i)\n"
   ]
  },
  {
   "cell_type": "code",
   "execution_count": 11,
   "metadata": {},
   "outputs": [
    {
     "name": "stdout",
     "output_type": "stream",
     "text": [
      "('age', '2')\n",
      "('name', 'Bronx')\n",
      "('occupation', \"Andrew' Dog\")\n"
     ]
    }
   ],
   "source": [
    "# Need python 2\n",
    "\n",
    "my_dict = {'name': 'Bronx', 'age': '2', 'occupation':\"Andrew' Dog\" }\n",
    "my_dict\n",
    "for key2, val in my_dict.iteritems():\n",
    "    print (key2, val)"
   ]
  },
  {
   "cell_type": "code",
   "execution_count": 4,
   "metadata": {},
   "outputs": [
    {
     "name": "stdout",
     "output_type": "stream",
     "text": [
      "Bronx\n",
      "2\n"
     ]
    }
   ],
   "source": [
    "print (my_dict['name'])\n",
    "print (my_dict['age'])\n"
   ]
  },
  {
   "cell_type": "code",
   "execution_count": 6,
   "metadata": {},
   "outputs": [
    {
     "name": "stdout",
     "output_type": "stream",
     "text": [
      "10\n",
      "13\n",
      "15\n",
      "49\n",
      "50\n",
      "20\n",
      "30\n"
     ]
    }
   ],
   "source": [
    "# set: no dup valu will be printed out\n",
    "my_set = {10, 20,30,30,30,49, 50, 15, 13,15}\n",
    "\n",
    "for i in my_set:\n",
    "    print (i)"
   ]
  },
  {
   "cell_type": "markdown",
   "metadata": {},
   "source": [
    "#### 6. List comprehesion"
   ]
  },
  {
   "cell_type": "code",
   "execution_count": 22,
   "metadata": {},
   "outputs": [
    {
     "data": {
      "text/plain": [
       "[1, 4, 9, 16, 25]"
      ]
     },
     "execution_count": 22,
     "metadata": {},
     "output_type": "execute_result"
    }
   ],
   "source": [
    "squares = [x ** 2 for x in [1, 2, 3, 4, 5]]\n",
    "squares"
   ]
  },
  {
   "cell_type": "markdown",
   "metadata": {},
   "source": [
    "#### 7. Use Generator"
   ]
  },
  {
   "cell_type": "code",
   "execution_count": null,
   "metadata": {},
   "outputs": [],
   "source": []
  },
  {
   "cell_type": "markdown",
   "metadata": {},
   "source": [
    "#### 8. Basic OOP"
   ]
  },
  {
   "cell_type": "code",
   "execution_count": null,
   "metadata": {},
   "outputs": [],
   "source": []
  },
  {
   "cell_type": "markdown",
   "metadata": {},
   "source": [
    "#### 9. Have python related questions ready to ask your interviers"
   ]
  },
  {
   "cell_type": "markdown",
   "metadata": {},
   "source": [
    "## 2014/02/20 SN\n",
    "\n",
    "```\n",
    "1. Write a method that takes an array as an input. Reverses array elements, removes duplicates & sorts the array elements.\n",
    "For example : Input array 5,6,0,3,-1,3,5,6,10  Final result : -1,0,3,5,6,10\n",
    "\n",
    "2. How to test login a web page, like yahoo/gmail?\n",
    "(create a set of user name/password, etc)\n",
    "\n",
    "3. What is the difference between  array vs link list.\n",
    "\n",
    "From Ken\n",
    "\n",
    "forgot last step --\n",
    "\n",
    "newList.toArray(array);\n",
    "\n",
    "and array will contain the result.\n",
    "you swap elements from first half of the array to the second half of the array\n",
    "\n",
    "         if (array == null) {\n",
    "             return;\n",
    "         }\n",
    "\n",
    "         int i = 0;\n",
    "         int j = array.length - 1;        \n",
    "         inttmp;\n",
    "\n",
    "         while (j > i) {\n",
    "             tmp = array[j];\n",
    "             array[j] = array[i];\n",
    "             array[i] = tmp;\n",
    "             j--;\n",
    "             i++;\n",
    "         }\n",
    "\n",
    "sort the array --\n",
    "      Arrays.sort (array)\n",
    "\n",
    "remove the duplicates\n",
    "\n",
    "      List newList = new ArrayList();\n",
    "      int last = array[0];\n",
    "      newList.add(array[0]);\n",
    "      i=1; \n",
    "      while (i <array.length) {\n",
    "        if (array[i] != last) {\n",
    "             newList.add (array[i]);\n",
    "       }\n",
    "     }\n",
    "\n",
    "\n",
    "```\n"
   ]
  },
  {
   "cell_type": "markdown",
   "metadata": {},
   "source": [
    "## 2015/04/02 GS\n",
    "\n",
    "1.\tSQL sytax to query customer ID through two tables with inner joint\n",
    "2.\tCreate swap function to swap two numbers\n"
   ]
  },
  {
   "cell_type": "markdown",
   "metadata": {},
   "source": [
    "#### 10. Know the basics of other technolgies\n",
    "- How database works and how to write basic SQL code\n",
    "- t-shaped skillset\n"
   ]
  },
  {
   "cell_type": "markdown",
   "metadata": {},
   "source": [
    "## 2015/04/14 CR\n",
    "\n",
    "```\n",
    "1.\tLinux commands such as set variables: (export vs set)\n",
    "2.\tJava basic syntax to create a class\n",
    "3.\tPattern match with PERL (python) and shell\n",
    "\n",
    "```"
   ]
  },
  {
   "cell_type": "markdown",
   "metadata": {},
   "source": [
    "## 2015_07_12_VI\n",
    "\n",
    "```\n",
    "Big data test: Hadoop, hive, scoop, etc\n",
    "ETL, SQL, Hive, pig\n",
    "Good experience\n",
    "Informatic\n",
    "Talend,\n",
    "Test questions\n",
    "\n",
    "NoSQL\n",
    "What is difference between NoSQL and RDBMS?\n",
    "Mongo vs Cassandra\n",
    "Do you have experience with any of the column based NoSQL?\n",
    "Scoop:\n",
    "How to do load data into HDFS for some specific data from certain tables?\n",
    "Save sql query into a file and load by scoop import by specifying the JDBC credentials and then attach with this sql in the end…\n",
    "Python:\n",
    "How to do you access database and load data into hive and retrieve data and automate the process.\n",
    "\n",
    "SQL\n",
    "How to find the duplicated record? (Vs unique)?Group by, or use functions, etc. kind of trick questions.\n",
    "ETL:\n",
    "SCA: slowly changing attribute \n",
    "From relational DB: the data has no redundancy, but we need to keep the historical data (such as \n",
    "Hive:\n",
    "Internal vs external table \n",
    "External table (the data will kept on Hadoop even the tables are deleted)\n",
    "Unix:\n",
    "Join 100 files into one the compare the correctness.\n",
    "\n",
    "\n",
    "```"
   ]
  },
  {
   "cell_type": "markdown",
   "metadata": {},
   "source": [
    "## 2015_06_02_CL\n",
    "```\n",
    "Given a sorted array of integers, return a string collapsing integer ranges. For example, \n",
    " \n",
    "1, 2, 2, 3, 6, 6, 8, 9, 10 \n",
    " \n",
    "becomes\n",
    " \n",
    "(1-3, 6, 8-10) \n",
    "```\n"
   ]
  },
  {
   "cell_type": "code",
   "execution_count": 1,
   "metadata": {},
   "outputs": [],
   "source": [
    "# R version: https://stackoverflow.com/questions/14868406/continuous-integer-runs\n",
    "\n",
    "z <- structure(list(greg = c(7L, 8L, 9L, 10L, 11L, 20L, 21L, 22L, \n",
    "    23L, 24L, 30L, 31L, 32L, 33L, 49L), researcher = 42:48, sally = c(25L, \n",
    "    26L, 27L, 28L, 29L, 37L, 38L, 39L, 40L, 41L), sam = c(1L, 2L, \n",
    "    3L, 4L, 5L, 6L, 16L, 17L, 18L, 19L, 34L, 35L, 36L), teacher = 12:15), .Names = c(\"greg\", \n",
    "    \"researcher\", \"sally\", \"sam\", \"teacher\"))"
   ]
  },
  {
   "cell_type": "code",
   "execution_count": 2,
   "metadata": {},
   "outputs": [
    {
     "data": {
      "text/html": [
       "<dl>\n",
       "\t<dt>$greg</dt>\n",
       "\t\t<dd>'7:11, 20:24, 30:33, 49:49'</dd>\n",
       "\t<dt>$researcher</dt>\n",
       "\t\t<dd>'42:48'</dd>\n",
       "\t<dt>$sally</dt>\n",
       "\t\t<dd>'25:29, 37:41'</dd>\n",
       "\t<dt>$sam</dt>\n",
       "\t\t<dd>'1:6, 16:19, 34:36'</dd>\n",
       "\t<dt>$teacher</dt>\n",
       "\t\t<dd>'12:15'</dd>\n",
       "</dl>\n"
      ],
      "text/latex": [
       "\\begin{description}\n",
       "\\item[\\$greg] '7:11, 20:24, 30:33, 49:49'\n",
       "\\item[\\$researcher] '42:48'\n",
       "\\item[\\$sally] '25:29, 37:41'\n",
       "\\item[\\$sam] '1:6, 16:19, 34:36'\n",
       "\\item[\\$teacher] '12:15'\n",
       "\\end{description}\n"
      ],
      "text/markdown": [
       "$greg\n",
       ":   '7:11, 20:24, 30:33, 49:49'\n",
       "$researcher\n",
       ":   '42:48'\n",
       "$sally\n",
       ":   '25:29, 37:41'\n",
       "$sam\n",
       ":   '1:6, 16:19, 34:36'\n",
       "$teacher\n",
       ":   '12:15'\n",
       "\n",
       "\n"
      ],
      "text/plain": [
       "$greg\n",
       "[1] \"7:11, 20:24, 30:33, 49:49\"\n",
       "\n",
       "$researcher\n",
       "[1] \"42:48\"\n",
       "\n",
       "$sally\n",
       "[1] \"25:29, 37:41\"\n",
       "\n",
       "$sam\n",
       "[1] \"1:6, 16:19, 34:36\"\n",
       "\n",
       "$teacher\n",
       "[1] \"12:15\"\n"
      ]
     },
     "metadata": {},
     "output_type": "display_data"
    }
   ],
   "source": [
    "lapply(z, function(x) {\n",
    "  diffs <- c(1, diff(x))\n",
    "  start_indexes <- c(1, which(diffs > 1))\n",
    "  end_indexes <- c(start_indexes - 1, length(x))\n",
    "  coloned <- paste(x[start_indexes], x[end_indexes], sep=\":\")\n",
    "  paste0(coloned, collapse=\", \")\n",
    "})"
   ]
  },
  {
   "cell_type": "markdown",
   "metadata": {},
   "source": [
    "## 2015/7/20 IN\n",
    "```\n",
    "Question from Chris:\n",
    "1.\tWhat is your understanding of machine learning Algorithm\n",
    "2.\tWhat is the skill level of python?\n",
    "3.\tHow to you write a python api such as validating  the joining  tables\n",
    "4.\tWhat is the parameters for the api to join the tables.\n",
    "5.\tHow do you verify the data validation by joining various tables.\n",
    "\n",
    "```\n",
    "https://www.shanelynn.ie/merge-join-dataframes-python-pandas-index-1/"
   ]
  },
  {
   "cell_type": "markdown",
   "metadata": {},
   "source": [
    "## 2015/08/04  CL\n",
    "\n",
    "```\n",
    "command to check what network port is still open\n",
    "\n",
    "```"
   ]
  },
  {
   "cell_type": "code",
   "execution_count": null,
   "metadata": {},
   "outputs": [],
   "source": []
  },
  {
   "cell_type": "markdown",
   "metadata": {},
   "source": [
    "## 2016/04/22_IA\n"
   ]
  },
  {
   "cell_type": "markdown",
   "metadata": {},
   "source": [
    "## 2017_03_09 AP\n",
    "kafka\n",
    "sql\n",
    "hadoop\n"
   ]
  },
  {
   "cell_type": "markdown",
   "metadata": {},
   "source": [
    "## 2018_03 AP\n",
    "qa for data science\n",
    "\n",
    "```\n",
    "\n",
    "Analysis of a large body of text\n",
    "\n",
    "\n",
    "Download a plain text (UTF-8) version of Tolstoy’s War and Peace (http://www.gutenberg.org/ebooks/2600)\n",
    "\n",
    "\n",
    "```"
   ]
  },
  {
   "cell_type": "markdown",
   "metadata": {},
   "source": [
    "## 2018/04/11 - VE\n"
   ]
  },
  {
   "cell_type": "markdown",
   "metadata": {},
   "source": [
    "## 2018/04/12 MB \n",
    "6:00 pm – Naveen\n",
    "\n",
    "```\n",
    "\n",
    "My understanding of GPU:\n",
    "CMOs -> FPGA – CPU  GPU – UBF  h5 \n",
    "\n",
    "1.\tSensor  FPGA  CPU  c++ code/labcodes  pipeline code\n",
    "2.\tSensor  FPGA  CPU snail  c++ code  OC Calibration \n",
    "\n",
    "\n",
    "Cloud:\n",
    "\n",
    "8 million GPU: 8GB/sec (CPU memory handling 1GB/sec) vs GPU enables memory bandwidth: 300 GB/sec memory handling.\n",
    "\n",
    "He is good at summarize my priorities for the GPU test.\n",
    "\n",
    "```\n"
   ]
  },
  {
   "cell_type": "markdown",
   "metadata": {},
   "source": [
    "## 2018_04_13_SS\n",
    "\n",
    "```\n",
    "What is outjoin?\n",
    "Tuple in python is inmutable\n",
    "```\n"
   ]
  },
  {
   "cell_type": "markdown",
   "metadata": {},
   "source": [
    "## 2018/4/14 WD\n",
    "\n",
    "```\n",
    "•\tWorkflow – from customer:\n",
    "•\tFilter, group by, having\n",
    "•\tQuery\n",
    "•\tCreate report   visualization\n",
    "\n",
    "SSI  python - and selenium, HR, analytics\n",
    "Platfora, hosted – Analytics \n",
    "\n",
    "```"
   ]
  },
  {
   "cell_type": "markdown",
   "metadata": {},
   "source": [
    "## 2018/4/16 DR\n",
    "\n",
    "```\n",
    "How to find and search a pattern?\n",
    "\n",
    "\n",
    "```"
   ]
  },
  {
   "cell_type": "markdown",
   "metadata": {},
   "source": [
    "### 1. How to find certain patterns under sub-directories"
   ]
  },
  {
   "cell_type": "code",
   "execution_count": 56,
   "metadata": {},
   "outputs": [
    {
     "name": "stdout",
     "output_type": "stream",
     "text": [
      "./t1/test.c:apple\n",
      "./two/3.c:apple\n"
     ]
    }
   ],
   "source": [
    "%%bash\n",
    "cd  /mnt/AGZ1/GD_AGZ1117/AGZ_Home/workspace_pOD/TEST\n",
    "find . -name \"*.c\" | xargs grep -i apple"
   ]
  },
  {
   "cell_type": "code",
   "execution_count": null,
   "metadata": {},
   "outputs": [],
   "source": []
  },
  {
   "cell_type": "markdown",
   "metadata": {},
   "source": [
    "## 2018/04/24GS\n",
    "\n",
    "```\n",
    "1. Bash: how to set env \n",
    "2.. export v=test ; <bre>the space allowed? No\n",
    "3. Difference among: $?, $# and $@\n",
    "4. list comprehension\n",
    "\n",
    "\n",
    "```\n",
    "\n",
    "\n",
    "\n"
   ]
  },
  {
   "cell_type": "markdown",
   "metadata": {},
   "source": [
    "## 2018/04/25 IM\n",
    "\n",
    "```\n",
    "1. Self join\n",
    "2. RESTful API: curl automation with bash\n",
    "3. Convert strings into digital\n",
    "\n",
    "```\n"
   ]
  },
  {
   "cell_type": "code",
   "execution_count": null,
   "metadata": {},
   "outputs": [],
   "source": []
  },
  {
   "cell_type": "markdown",
   "metadata": {},
   "source": [
    "### 1. Convert string into numbers"
   ]
  },
  {
   "cell_type": "code",
   "execution_count": null,
   "metadata": {},
   "outputs": [],
   "source": []
  },
  {
   "cell_type": "markdown",
   "metadata": {},
   "source": [
    "### 4/26/2018 Toshiba interview"
   ]
  },
  {
   "cell_type": "markdown",
   "metadata": {},
   "source": [
    "#### 1. Arraylist vs linkedList \n"
   ]
  },
  {
   "cell_type": "code",
   "execution_count": null,
   "metadata": {},
   "outputs": [],
   "source": []
  },
  {
   "cell_type": "code",
   "execution_count": null,
   "metadata": {},
   "outputs": [],
   "source": [
    "2. Implement a python class\n"
   ]
  },
  {
   "cell_type": "markdown",
   "metadata": {},
   "source": [
    "## 05/03/2018 VA"
   ]
  },
  {
   "cell_type": "markdown",
   "metadata": {},
   "source": [
    "### 1. How to get number from a string?\n",
    "```\n",
    "String like this: S = \"abc123def45gh6ij78\", get result like:\n",
    "123+45+6+78 (and get the sum)\n",
    "```"
   ]
  },
  {
   "cell_type": "code",
   "execution_count": 16,
   "metadata": {},
   "outputs": [
    {
     "ename": "IndentationError",
     "evalue": "expected an indented block (<ipython-input-16-523e337862a4>, line 13)",
     "output_type": "error",
     "traceback": [
      "\u001b[0;36m  File \u001b[0;32m\"<ipython-input-16-523e337862a4>\"\u001b[0;36m, line \u001b[0;32m13\u001b[0m\n\u001b[0;31m    '''\u001b[0m\n\u001b[0m       \n^\u001b[0m\n\u001b[0;31mIndentationError\u001b[0m\u001b[0;31m:\u001b[0m expected an indented block\n"
     ]
    }
   ],
   "source": [
    "def is_a_digit(s):\n",
    "''' (str) -> bool\n",
    "\n",
    "Precondition: len(s) == 1\n",
    "\n",
    "Return True iff s is a string containing a single digit character (between\n",
    "'0' and '9' inclusive).\n",
    "\n",
    ">>> is_a_digit('7')\n",
    "True\n",
    ">>> is_a_digit('b')\n",
    "False\n",
    "'''\n",
    "\n",
    "#return '0' <= s and s <= '9'\n",
    "\n",
    "def sum_digits(digit):\n",
    "    b = 0\n",
    "    for a in digit:\n",
    "        if is_a_digit(a) == True:\n",
    "            b = int(a)\n",
    "            b += 1\n",
    "            return b\n",
    "\n",
    "\n"
   ]
  },
  {
   "cell_type": "code",
   "execution_count": 17,
   "metadata": {},
   "outputs": [
    {
     "name": "stdout",
     "output_type": "stream",
     "text": [
      "2\n",
      "0\n",
      "0\n"
     ]
    }
   ],
   "source": [
    "def divide(x,y):\n",
    "    return x/y\n",
    "\n",
    "'''\n",
    "Need three answers:\n",
    "1) 2\n",
    "2) 1/3 ==> 0.3\n",
    "3) 1 /4 ==> 0.25\n",
    "'''\n",
    "\n",
    "print(divide(4, 2))\n",
    "print(divide(1, 4))\n",
    "print(divide(1, 3))\n"
   ]
  },
  {
   "cell_type": "markdown",
   "metadata": {},
   "source": [
    "## 05/10/2018 CG"
   ]
  },
  {
   "cell_type": "markdown",
   "metadata": {},
   "source": [
    "### 1. How to get data, say on s3? How many different ways?\n",
    "scp, wget, etc\n"
   ]
  },
  {
   "cell_type": "markdown",
   "metadata": {},
   "source": [
    "### 2. SQL, pull data from back account\n",
    "kind of using: select * from table where group by having order by"
   ]
  },
  {
   "cell_type": "markdown",
   "metadata": {},
   "source": [
    "### 3. How to remove duplicate rows?\n",
    "A: disctinct (it has performance issue); more efficient way: union table; use grep awk. His answer: use row function to remove duplicated rows ( if we know the patters), even python  drop duplicate rows in pandas (pandas.DataFrame.drop_duplicates)\n"
   ]
  },
  {
   "cell_type": "markdown",
   "metadata": {},
   "source": [
    "### 4.\tDo you know python data structures: list, dictionary? \n",
    "In a dictionary, how do you retrieve key and value, say name and value; just change one of the person’s value (all unique): fine the name change the age from 24 to 25; find the name and replace the age.\n",
    "A: https://stackoverflow.com/questions/19773669/python-dictionary-replace-values\n"
   ]
  },
  {
   "cell_type": "markdown",
   "metadata": {},
   "source": [
    "## 05/10/2018 PAN\n"
   ]
  },
  {
   "cell_type": "markdown",
   "metadata": {},
   "source": [
    "\n",
    "•\tFrom Varang: This position will: from firewall, data is forward to kafka/Kubernetes, load json file to monogDB and use elastic search for data query; we use pykafka to process kafka.\n",
    "- What is kafka topic partition?\n",
    "How to check if a port is open (netstat –nap |grep)\n",
    "•\tHow to reverse a string usin python?\n",
    "•\tHow to check memory, cpu usage?\n",
    "•\tHow to move data from hadoop to file system?\n",
    "•\tHow to reverse a string using python?\n",
    "```"
   ]
  },
  {
   "cell_type": "markdown",
   "metadata": {},
   "source": [
    " ### 1. How to reverse a string usin python?"
   ]
  },
  {
   "cell_type": "code",
   "execution_count": 2,
   "metadata": {},
   "outputs": [
    {
     "name": "stdout",
     "output_type": "stream",
     "text": [
      "Hello Guest\n",
      "tseuG olleH\n"
     ]
    }
   ],
   "source": [
    "s = \"Hello Guest\"\n",
    "print(s)\n",
    "\n",
    "r = s[::-1]\n",
    "print(r)"
   ]
  },
  {
   "cell_type": "code",
   "execution_count": 3,
   "metadata": {
    "scrolled": true
   },
   "outputs": [
    {
     "data": {
      "text/plain": [
       "'tseuG olleH'"
      ]
     },
     "execution_count": 3,
     "metadata": {},
     "output_type": "execute_result"
    }
   ],
   "source": [
    "#https://stackoverflow.com/questions/931092/reverse-a-string-in-python\n",
    "def reverse_a_string_more_slowly(a_string):\n",
    "    new_strings = []\n",
    "    index = len(a_string)\n",
    "    while index:\n",
    "        index -= 1                       \n",
    "        new_strings.append(a_string[index])\n",
    "    return ''.join(new_strings)\n",
    "\n",
    "reverse_a_string_more_slowly('Hello Guest')"
   ]
  },
  {
   "cell_type": "markdown",
   "metadata": {},
   "source": [
    "### 2. How to copy data from hadoop to local file system?"
   ]
  },
  {
   "cell_type": "markdown",
   "metadata": {},
   "source": [
    "### 3. Wha is kafka topic partition?"
   ]
  },
  {
   "cell_type": "code",
   "execution_count": null,
   "metadata": {},
   "outputs": [],
   "source": []
  },
  {
   "cell_type": "code",
   "execution_count": 4,
   "metadata": {},
   "outputs": [
    {
     "ename": "AttributeError",
     "evalue": "'module' object has no attribute 'style'",
     "output_type": "error",
     "traceback": [
      "\u001b[0;31m---------------------------------------------------------------------------\u001b[0m",
      "\u001b[0;31mAttributeError\u001b[0m                            Traceback (most recent call last)",
      "\u001b[0;32m<ipython-input-4-1dbde8391e98>\u001b[0m in \u001b[0;36m<module>\u001b[0;34m()\u001b[0m\n\u001b[1;32m      1\u001b[0m \u001b[0;32mimport\u001b[0m \u001b[0mmatplotlib\u001b[0m\u001b[0;34m\u001b[0m\u001b[0m\n\u001b[0;32m----> 2\u001b[0;31m \u001b[0mmatplotlib\u001b[0m\u001b[0;34m.\u001b[0m\u001b[0mstyle\u001b[0m\u001b[0;34m.\u001b[0m\u001b[0muse\u001b[0m\u001b[0;34m(\u001b[0m\u001b[0;34m'ggplot'\u001b[0m\u001b[0;34m)\u001b[0m\u001b[0;34m\u001b[0m\u001b[0m\n\u001b[0m",
      "\u001b[0;31mAttributeError\u001b[0m: 'module' object has no attribute 'style'"
     ]
    }
   ],
   "source": [
    "import matplotlib\n",
    "matplotlib.style.use('ggplot')"
   ]
  },
  {
   "cell_type": "code",
   "execution_count": 10,
   "metadata": {},
   "outputs": [],
   "source": [
    "import matplotlib.pyplot as plt\n",
    "import pandas as pd\n",
    "import numpy as np"
   ]
  },
  {
   "cell_type": "code",
   "execution_count": 16,
   "metadata": {},
   "outputs": [
    {
     "data": {
      "text/plain": [
       "2000-01-01   -1.144823\n",
       "2000-01-02    0.013396\n",
       "2000-01-03    1.217216\n",
       "2000-01-04    0.089059\n",
       "2000-01-05    0.220682\n",
       "2000-01-06    0.139219\n",
       "2000-01-07    1.618340\n",
       "2000-01-08   -0.136832\n",
       "2000-01-09    1.304741\n",
       "2000-01-10    0.386307\n",
       "2000-01-11    1.032234\n",
       "2000-01-12   -0.312298\n",
       "2000-01-13   -1.406016\n",
       "2000-01-14   -1.247617\n",
       "2000-01-15   -0.530808\n",
       "2000-01-16   -1.185565\n",
       "2000-01-17   -0.648430\n",
       "2000-01-18   -0.083108\n",
       "2000-01-19   -0.968757\n",
       "2000-01-20   -1.374774\n",
       "2000-01-21    1.100702\n",
       "2000-01-22    3.135841\n",
       "2000-01-23   -0.711807\n",
       "2000-01-24    0.936862\n",
       "2000-01-25    0.547543\n",
       "2000-01-26    3.854846\n",
       "2000-01-27   -0.443565\n",
       "2000-01-28   -0.352372\n",
       "2000-01-29   -1.280841\n",
       "2000-01-30   -0.915236\n",
       "                ...   \n",
       "2002-08-28   -1.499908\n",
       "2002-08-29    0.343413\n",
       "2002-08-30    0.722798\n",
       "2002-08-31   -1.119537\n",
       "2002-09-01   -0.300118\n",
       "2002-09-02    0.058081\n",
       "2002-09-03   -0.107052\n",
       "2002-09-04    0.956193\n",
       "2002-09-05    0.464461\n",
       "2002-09-06    0.219933\n",
       "2002-09-07   -1.495108\n",
       "2002-09-08   -1.144585\n",
       "2002-09-09    0.800896\n",
       "2002-09-10    0.302940\n",
       "2002-09-11   -1.347214\n",
       "2002-09-12   -0.264868\n",
       "2002-09-13    1.846248\n",
       "2002-09-14   -1.033913\n",
       "2002-09-15   -1.349507\n",
       "2002-09-16    0.078339\n",
       "2002-09-17    0.452440\n",
       "2002-09-18   -1.121087\n",
       "2002-09-19    0.245329\n",
       "2002-09-20    0.412149\n",
       "2002-09-21    1.040219\n",
       "2002-09-22    0.344260\n",
       "2002-09-23   -0.773497\n",
       "2002-09-24    0.873094\n",
       "2002-09-25    0.116082\n",
       "2002-09-26    0.467364\n",
       "Freq: D, dtype: float64"
      ]
     },
     "execution_count": 16,
     "metadata": {},
     "output_type": "execute_result"
    }
   ],
   "source": [
    "ts = pd.Series(np.random.randn(1000), index=pd.date_range('1/1/2000', periods=1000))\n",
    "ts"
   ]
  },
  {
   "cell_type": "markdown",
   "metadata": {},
   "source": [
    "# Task List"
   ]
  },
  {
   "cell_type": "markdown",
   "metadata": {},
   "source": [
    "## Toturials by Alex\n",
    "```\n",
    "/mnt/AGZ1/GD_AGZ1117/AGZ_Home/workspace_pOD/Selenium\n",
    "```\n"
   ]
  },
  {
   "cell_type": "code",
   "execution_count": 17,
   "metadata": {},
   "outputs": [
    {
     "name": "stdout",
     "output_type": "stream",
     "text": [
      "Result is:  94\n"
     ]
    }
   ],
   "source": [
    "## Test a python class\n",
    "\n",
    "class Calculate(object):\n",
    "    # May or may not define \"zero\"; it's needed if calc.zero late in the function is not defined.\n",
    "    zero = 90\n",
    "\n",
    "    def add(self, x, y):\n",
    "      return x + y + self.zero\n",
    "\n",
    "if __name__ == '__main__':\n",
    "    calc = Calculate()\n",
    "    #calc.zero = 8\n",
    "    result = calc.add(2, 2)\n",
    "    print (\"Result is: \", result)"
   ]
  },
  {
   "cell_type": "code",
   "execution_count": 2,
   "metadata": {},
   "outputs": [
    {
     "name": "stdout",
     "output_type": "stream",
     "text": [
      "Starting program\n",
      "something went to boom: division by zero\n",
      "Finally I geto to run\n"
     ]
    }
   ],
   "source": [
    "# Error handling\n",
    "# KISS - keep it simple / stupid\n",
    "\n",
    "def doSomething(number):\n",
    "    try:\n",
    "        x = 5\n",
    "        y = x / number\n",
    "        print (y)\n",
    "    except OSError:\n",
    "        print (\"OS Error\")\n",
    "    except RuntimeError:\n",
    "        pass\n",
    "    # except ZeroDivisionError:\n",
    "    #     pass\n",
    "    #     print (\"Please do not dev by zero\")\n",
    "\n",
    "    except Exception as e:\n",
    "        print (\"something went to boom: %s\" % e)\n",
    "    finally:\n",
    "        print (\"Finally I geto to run\")\n",
    "print (\"Starting program\")\n",
    "doSomething(0)"
   ]
  },
  {
   "cell_type": "markdown",
   "metadata": {},
   "source": [
    "Dan Bikle\n",
    "--------\n",
    "\n",
    "Andrew, good to hear from you. Take a look at this repo: \n",
    "- https://github.com/danbikle/reg4us\n",
    "The python code which makes predictions is in this script:\n",
    "- https://github.com/danbikle/reg4us/blob/master/script/learn_tst_rpt.py\n",
    "The above script is called by this script:\n",
    "- https://github.com/danbikle/reg4us/blob/master/script/night.bash\n",
    "\n",
    "See if you can get these scripts to run on your Ubuntu Linux box.\n",
    "-- Dan\n",
    "\n",
    "(99+) dan101 - Google Groups\n",
    "https://groups.google.com/forum/#!forum/dan101\n",
    "\n"
   ]
  },
  {
   "cell_type": "code",
   "execution_count": 28,
   "metadata": {},
   "outputs": [
    {
     "name": "stdout",
     "output_type": "stream",
     "text": [
      "       cdate_s     closep\n",
      "5   1950-01-10  17.030001\n",
      "6   1950-01-11  17.090000\n",
      "7   1950-01-12  16.760000\n",
      "8   1950-01-13  16.670000\n",
      "9   1950-01-16  16.719999\n",
      "10  1950-01-17  16.860001\n"
     ]
    }
   ],
   "source": [
    "import pandas as pd\n",
    "import numpy  as np\n",
    "\n",
    "prices_df = pd.read_csv('http://ml4.us/csv/GSPC.csv')\n",
    "prices_df.columns = ['cdate_s','openp','highp','lowp','closep','adjp','volume']\n",
    "\n",
    "# I should get 2 columns and rows 5 through 11:\n",
    "s1_df = prices_df[['cdate_s','closep']].iloc[5:11]\n",
    "print(s1_df)\n"
   ]
  },
  {
   "cell_type": "code",
   "execution_count": 29,
   "metadata": {},
   "outputs": [],
   "source": [
    "prices_df = pd.read_csv('http://ml4.us/csv/GSPC.csv')"
   ]
  },
  {
   "cell_type": "code",
   "execution_count": 30,
   "metadata": {},
   "outputs": [
    {
     "name": "stdout",
     "output_type": "stream",
     "text": [
      "Index(['Date', 'Open', 'High', 'Low', 'Close', 'Adj Close', 'Volume'], dtype='object')\n"
     ]
    }
   ],
   "source": [
    "print(prices_df.columns)"
   ]
  },
  {
   "cell_type": "code",
   "execution_count": null,
   "metadata": {},
   "outputs": [],
   "source": []
  },
  {
   "cell_type": "code",
   "execution_count": 5,
   "metadata": {},
   "outputs": [],
   "source": [
    "#url = 'http://ichart.finance.yahoo.com/table.csv?s=GE&d=10&e=5&f=2013&g=d&a=0&b=2&c=1962&ignore=.csv'\n",
    "url = 'http://ml4.us/csv/GSPC.csv'"
   ]
  },
  {
   "cell_type": "code",
   "execution_count": 12,
   "metadata": {},
   "outputs": [
    {
     "ename": "ImportError",
     "evalue": "No module named 'urllib3'",
     "output_type": "error",
     "traceback": [
      "\u001b[0;31m---------------------------------------------------------------------------\u001b[0m",
      "\u001b[0;31mImportError\u001b[0m                               Traceback (most recent call last)",
      "\u001b[0;32m<ipython-input-12-4217ffc3b54e>\u001b[0m in \u001b[0;36m<module>\u001b[0;34m()\u001b[0m\n\u001b[0;32m----> 1\u001b[0;31m \u001b[0;32mfrom\u001b[0m \u001b[0murllib3\u001b[0m \u001b[0;32mimport\u001b[0m \u001b[0mrequest\u001b[0m\u001b[0;34m\u001b[0m\u001b[0m\n\u001b[0m",
      "\u001b[0;31mImportError\u001b[0m: No module named 'urllib3'"
     ]
    }
   ],
   "source": [
    "from urllib3 import request"
   ]
  },
  {
   "cell_type": "code",
   "execution_count": 1,
   "metadata": {},
   "outputs": [],
   "source": [
    "from urllib.request import urlopen"
   ]
  },
  {
   "cell_type": "code",
   "execution_count": 8,
   "metadata": {},
   "outputs": [
    {
     "ename": "AttributeError",
     "evalue": "'module' object has no attribute 'urlopen'",
     "output_type": "error",
     "traceback": [
      "\u001b[0;31m---------------------------------------------------------------------------\u001b[0m",
      "\u001b[0;31mAttributeError\u001b[0m                            Traceback (most recent call last)",
      "\u001b[0;32m<ipython-input-8-47d285bbec01>\u001b[0m in \u001b[0;36m<module>\u001b[0;34m()\u001b[0m\n\u001b[1;32m      1\u001b[0m \u001b[0;32mimport\u001b[0m \u001b[0murllib\u001b[0m\u001b[0;34m\u001b[0m\u001b[0m\n\u001b[0;32m----> 2\u001b[0;31m \u001b[0mge_csv\u001b[0m \u001b[0;34m=\u001b[0m \u001b[0murllib\u001b[0m\u001b[0;34m.\u001b[0m\u001b[0murlopen\u001b[0m\u001b[0;34m(\u001b[0m\u001b[0murl\u001b[0m\u001b[0;34m)\u001b[0m\u001b[0;34m\u001b[0m\u001b[0m\n\u001b[0m\u001b[1;32m      3\u001b[0m \u001b[0mdata\u001b[0m \u001b[0;34m=\u001b[0m \u001b[0;34m[\u001b[0m\u001b[0;34m]\u001b[0m\u001b[0;34m\u001b[0m\u001b[0m\n\u001b[1;32m      4\u001b[0m \u001b[0;32mfor\u001b[0m \u001b[0mline\u001b[0m \u001b[0;32min\u001b[0m \u001b[0mge_csv\u001b[0m\u001b[0;34m:\u001b[0m\u001b[0;34m\u001b[0m\u001b[0m\n\u001b[1;32m      5\u001b[0m     \u001b[0mdata\u001b[0m\u001b[0;34m.\u001b[0m\u001b[0mappend\u001b[0m\u001b[0;34m(\u001b[0m\u001b[0mline\u001b[0m\u001b[0;34m.\u001b[0m\u001b[0msplit\u001b[0m\u001b[0;34m(\u001b[0m\u001b[0;34m','\u001b[0m\u001b[0;34m)\u001b[0m\u001b[0;34m)\u001b[0m\u001b[0;34m\u001b[0m\u001b[0m\n",
      "\u001b[0;31mAttributeError\u001b[0m: 'module' object has no attribute 'urlopen'"
     ]
    }
   ],
   "source": [
    "import urllib\n",
    "ge_csv = urllib.urlopen(url)\n",
    "data = []\n",
    "for line in ge_csv:\n",
    "    data.append(line.split(','))\n",
    "data[:4]\n"
   ]
  },
  {
   "cell_type": "code",
   "execution_count": 11,
   "metadata": {},
   "outputs": [
    {
     "name": "stdout",
     "output_type": "stream",
     "text": [
      "<Response [200]>\n"
     ]
    }
   ],
   "source": [
    "url = 'http://ml4.us/csv/GSPC.csv'\n",
    "response = requests.get(url)\n",
    "\n",
    "#soup = BeautifulSoup(response.content, \"html.parser\")\n",
    "print(response)"
   ]
  },
  {
   "cell_type": "code",
   "execution_count": 15,
   "metadata": {},
   "outputs": [
    {
     "ename": "AttributeError",
     "evalue": "'module' object has no attribute 'urlopen'",
     "output_type": "error",
     "traceback": [
      "\u001b[0;31m---------------------------------------------------------------------------\u001b[0m",
      "\u001b[0;31mAttributeError\u001b[0m                            Traceback (most recent call last)",
      "\u001b[0;32m<ipython-input-15-8bb35ee6e8f6>\u001b[0m in \u001b[0;36m<module>\u001b[0;34m()\u001b[0m\n\u001b[0;32m----> 1\u001b[0;31m \u001b[0mge_csv\u001b[0m \u001b[0;34m=\u001b[0m \u001b[0murllib\u001b[0m\u001b[0;34m.\u001b[0m\u001b[0murlopen\u001b[0m\u001b[0;34m(\u001b[0m\u001b[0murl\u001b[0m\u001b[0;34m)\u001b[0m\u001b[0;34m\u001b[0m\u001b[0m\n\u001b[0m\u001b[1;32m      2\u001b[0m \u001b[0;32mimport\u001b[0m \u001b[0mpandas\u001b[0m\u001b[0;34m\u001b[0m\u001b[0m\n\u001b[1;32m      3\u001b[0m \u001b[0mge\u001b[0m \u001b[0;34m=\u001b[0m \u001b[0mpandas\u001b[0m\u001b[0;34m.\u001b[0m\u001b[0mread_csv\u001b[0m\u001b[0;34m(\u001b[0m\u001b[0mge_csv\u001b[0m\u001b[0;34m,\u001b[0m \u001b[0mindex_col\u001b[0m\u001b[0;34m=\u001b[0m\u001b[0;36m0\u001b[0m\u001b[0;34m,\u001b[0m \u001b[0mparse_dates\u001b[0m\u001b[0;34m=\u001b[0m\u001b[0;32mTrue\u001b[0m\u001b[0;34m)\u001b[0m\u001b[0;34m\u001b[0m\u001b[0m\n\u001b[1;32m      4\u001b[0m \u001b[0mge\u001b[0m\u001b[0;34m.\u001b[0m\u001b[0mplot\u001b[0m\u001b[0;34m(\u001b[0m\u001b[0my\u001b[0m\u001b[0;34m=\u001b[0m\u001b[0;34m'Adj Close'\u001b[0m\u001b[0;34m)\u001b[0m\u001b[0;34m\u001b[0m\u001b[0m\n",
      "\u001b[0;31mAttributeError\u001b[0m: 'module' object has no attribute 'urlopen'"
     ]
    }
   ],
   "source": [
    "\n",
    "\n",
    "ge_csv = urllib.urlopen(url)\n",
    "response = requests.get(url)\n",
    "import pandas\n",
    "ge = pandas.read_csv(ge_csv, index_col=0, parse_dates=True)\n",
    "ge.plot(y='Adj Close')"
   ]
  },
  {
   "cell_type": "code",
   "execution_count": 23,
   "metadata": {},
   "outputs": [],
   "source": [
    "from bs4 import BeautifulSoup\n",
    "import requests\n",
    "\n",
    "response = requests.get(url)\n",
    "\n",
    "soup = BeautifulSoup(response.content, \"html.parser\")\n",
    "#print(soup)"
   ]
  },
  {
   "cell_type": "markdown",
   "metadata": {},
   "source": [
    "## Galvanize\n",
    "```\n",
    "Look at C:\\Users\\Andrew\\OneDrive\\AGZ\\1c-Galvanize\n",
    "```"
   ]
  },
  {
   "cell_type": "code",
   "execution_count": 1,
   "metadata": {},
   "outputs": [
    {
     "ename": "SyntaxError",
     "evalue": "invalid syntax (<ipython-input-1-1d3f09b4b791>, line 2)",
     "output_type": "error",
     "traceback": [
      "\u001b[0;36m  File \u001b[0;32m\"<ipython-input-1-1d3f09b4b791>\"\u001b[0;36m, line \u001b[0;32m2\u001b[0m\n\u001b[0;31m    ls -l C:\\Users\\Andrew\\OneDrive\\AGZ\\1c-Galvanize\u001b[0m\n\u001b[0m          ^\u001b[0m\n\u001b[0;31mSyntaxError\u001b[0m\u001b[0;31m:\u001b[0m invalid syntax\n"
     ]
    }
   ],
   "source": [
    "\n"
   ]
  },
  {
   "cell_type": "code",
   "execution_count": 13,
   "metadata": {},
   "outputs": [
    {
     "data": {
      "text/plain": [
       "'dlrow olleh'"
      ]
     },
     "execution_count": 13,
     "metadata": {},
     "output_type": "execute_result"
    }
   ],
   "source": [
    "# 2018/05/11 \n",
    "#How to reverse a string using python?\n",
    "'hello world'[::-1]"
   ]
  },
  {
   "cell_type": "code",
   "execution_count": 61,
   "metadata": {},
   "outputs": [
    {
     "name": "stdout",
     "output_type": "stream",
     "text": [
      "You need two arguments: The run list file and node name:\n",
      "\n",
      "For example: getDailyFailedRunSQL_remote.sh Failed% 161208\n"
     ]
    }
   ],
   "source": [
    "%%bash\n",
    "#!/bin/bash \n",
    "\n",
    "# Script Name: getDailyFailedRunSQL_remote.sh\n",
    "# getDailyFailedRun.sh\n",
    "\n",
    "# Need to pass three  argument on the command line: \"getDailyFailedRunSQL_remote.sh  \"Error Message\" \"Date\"\" \n",
    "# For example: getDailyFailedRunSQL_remote.sh Partial% 161208\n",
    "\n",
    "# Run sql through bash without showing the headers\n",
    "#export HOST_IP=10.21.57.25\n",
    "#set -x\n",
    "if [ $# != 2 ]; then\n",
    "    echo \"You need two arguments: The run list file and node name:\"\n",
    "    echo -e \"\\nFor example: getDailyFailedRunSQL_remote.sh Failed% 161208\"\n",
    "    exit\n",
    "fi\n",
    "\n",
    "HOST_IP=10.21.57.25\n",
    "mysql -N -ucumulus -pcumulus  -h $HOST_IP  << EOF\n",
    "SELECT file_name, host_name, run_status from cumulus.runs\n",
    "where run_status like '$1' \n",
    "AND formated_run_name like '$2' \n",
    "order by formated_run_name; \n",
    "EOF\n",
    "\n",
    "# End of the test!\n"
   ]
  },
  {
   "cell_type": "code",
   "execution_count": null,
   "metadata": {},
   "outputs": [],
   "source": []
  },
  {
   "cell_type": "markdown",
   "metadata": {},
   "source": [
    "# python debug\n"
   ]
  },
  {
   "cell_type": "markdown",
   "metadata": {},
   "source": [
    "## Recursive vs for loop\n",
    "https://goo.gl/7SE9Fd"
   ]
  },
  {
   "cell_type": "code",
   "execution_count": null,
   "metadata": {},
   "outputs": [],
   "source": [
    "# factorial 阶乘 算法\n",
    "\n",
    "def factorial(n):\n",
    "    if not isinstance(n, int):\n",
    "        print('Factorial is only defined for integers.')\n",
    "        return None\n",
    "    elif n < 0:\n",
    "        print('Factorial is not defined for negative integers.')\n",
    "        return None\n",
    "    elif n == 0:\n",
    "        return 1\n",
    "    else:\n",
    "        return n * factorial(n - 1)\n",
    "\n",
    "print factorial(3.2)\n",
    "print factorial(-3)\n",
    "print factorial(\"Hi\")\n",
    "print factorial(6)"
   ]
  },
  {
   "cell_type": "markdown",
   "metadata": {},
   "source": [
    "## factorial using for loop\n",
    "https://goo.gl/et6SZF"
   ]
  },
  {
   "cell_type": "code",
   "execution_count": 4,
   "metadata": {},
   "outputs": [
    {
     "name": "stdout",
     "output_type": "stream",
     "text": [
      "720\n"
     ]
    }
   ],
   "source": [
    "def factorial(n): \n",
    "    fac = 1\n",
    "    for i in range(1, n + 1):\n",
    "            fac = fac * i\n",
    "    print(fac)\n",
    "    \n",
    "factorial(6)"
   ]
  },
  {
   "cell_type": "code",
   "execution_count": 5,
   "metadata": {},
   "outputs": [
    {
     "ename": "IndexError",
     "evalue": "list index out of range",
     "output_type": "error",
     "traceback": [
      "\u001b[0;31m\u001b[0m",
      "\u001b[0;31mIndexError\u001b[0mTraceback (most recent call last)",
      "\u001b[0;32m<ipython-input-5-a434cf2be4c7>\u001b[0m in \u001b[0;36m<module>\u001b[0;34m()\u001b[0m\n\u001b[1;32m      6\u001b[0m             \u001b[0mfac\u001b[0m \u001b[0;34m=\u001b[0m \u001b[0mfac\u001b[0m\u001b[0;34m[\u001b[0m\u001b[0mn\u001b[0m\u001b[0;34m-\u001b[0m\u001b[0;36m1\u001b[0m\u001b[0;34m]\u001b[0m \u001b[0;34m+\u001b[0m \u001b[0mfac\u001b[0m\u001b[0;34m[\u001b[0m\u001b[0mn\u001b[0m\u001b[0;34m-\u001b[0m\u001b[0;36m2\u001b[0m\u001b[0;34m]\u001b[0m\u001b[0;34m\u001b[0m\u001b[0m\n\u001b[1;32m      7\u001b[0m     \u001b[0;32mprint\u001b[0m\u001b[0;34m(\u001b[0m\u001b[0mfac\u001b[0m\u001b[0;34m)\u001b[0m\u001b[0;34m\u001b[0m\u001b[0m\n\u001b[0;32m----> 8\u001b[0;31m \u001b[0mfibonacci\u001b[0m\u001b[0;34m(\u001b[0m\u001b[0;36m6\u001b[0m\u001b[0;34m)\u001b[0m\u001b[0;34m\u001b[0m\u001b[0m\n\u001b[0m",
      "\u001b[0;32m<ipython-input-5-a434cf2be4c7>\u001b[0m in \u001b[0;36mfibonacci\u001b[0;34m(n)\u001b[0m\n\u001b[1;32m      4\u001b[0m     \u001b[0mfac\u001b[0m \u001b[0;34m=\u001b[0m \u001b[0;34m[\u001b[0m\u001b[0;34m]\u001b[0m\u001b[0;34m\u001b[0m\u001b[0m\n\u001b[1;32m      5\u001b[0m     \u001b[0;32mfor\u001b[0m \u001b[0mi\u001b[0m \u001b[0;32min\u001b[0m \u001b[0mrange\u001b[0m\u001b[0;34m(\u001b[0m\u001b[0;36m1\u001b[0m\u001b[0;34m,\u001b[0m \u001b[0mn\u001b[0m \u001b[0;34m+\u001b[0m \u001b[0;36m1\u001b[0m\u001b[0;34m)\u001b[0m\u001b[0;34m:\u001b[0m\u001b[0;34m\u001b[0m\u001b[0m\n\u001b[0;32m----> 6\u001b[0;31m             \u001b[0mfac\u001b[0m \u001b[0;34m=\u001b[0m \u001b[0mfac\u001b[0m\u001b[0;34m[\u001b[0m\u001b[0mn\u001b[0m\u001b[0;34m-\u001b[0m\u001b[0;36m1\u001b[0m\u001b[0;34m]\u001b[0m \u001b[0;34m+\u001b[0m \u001b[0mfac\u001b[0m\u001b[0;34m[\u001b[0m\u001b[0mn\u001b[0m\u001b[0;34m-\u001b[0m\u001b[0;36m2\u001b[0m\u001b[0;34m]\u001b[0m\u001b[0;34m\u001b[0m\u001b[0m\n\u001b[0m\u001b[1;32m      7\u001b[0m     \u001b[0;32mprint\u001b[0m\u001b[0;34m(\u001b[0m\u001b[0mfac\u001b[0m\u001b[0;34m)\u001b[0m\u001b[0;34m\u001b[0m\u001b[0m\n\u001b[1;32m      8\u001b[0m \u001b[0mfibonacci\u001b[0m\u001b[0;34m(\u001b[0m\u001b[0;36m6\u001b[0m\u001b[0;34m)\u001b[0m\u001b[0;34m\u001b[0m\u001b[0m\n",
      "\u001b[0;31mIndexError\u001b[0m: list index out of range"
     ]
    }
   ],
   "source": [
    "# arry[n] = arry[n-1] + arry[n-2] \n",
    "\n",
    "def fibonacci (n): \n",
    "    fac = []\n",
    "    for i in range(1, n + 1):\n",
    "            fac = fac[n-1] + fac[n-2] \n",
    "    print(fac)\n",
    "fibonacci(6)"
   ]
  },
  {
   "cell_type": "code",
   "execution_count": 1,
   "metadata": {},
   "outputs": [
    {
     "name": "stdout",
     "output_type": "stream",
     "text": [
      "Enter the start number here 6\n",
      "Enter the end number here 9\n",
      "[8, 13, 21]\n"
     ]
    }
   ],
   "source": [
    "startNumber = int(raw_input(\"Enter the start number here \"))\n",
    "endNumber = int(raw_input(\"Enter the end number here \"))\n",
    "\n",
    "def fib(n):\n",
    "    if n < 2:\n",
    "        return n\n",
    "    return fib(n-2) + fib(n-1)\n",
    "\n",
    "print map(fib, range(startNumber, endNumber))"
   ]
  },
  {
   "cell_type": "code",
   "execution_count": null,
   "metadata": {},
   "outputs": [],
   "source": []
  },
  {
   "cell_type": "code",
   "execution_count": null,
   "metadata": {},
   "outputs": [],
   "source": []
  },
  {
   "cell_type": "code",
   "execution_count": null,
   "metadata": {},
   "outputs": [],
   "source": []
  },
  {
   "cell_type": "code",
   "execution_count": null,
   "metadata": {},
   "outputs": [],
   "source": []
  },
  {
   "cell_type": "markdown",
   "metadata": {},
   "source": [
    "# Programming Quiz"
   ]
  },
  {
   "cell_type": "markdown",
   "metadata": {},
   "source": [
    "## Quiz 1 (Function, Class, Bitwise)"
   ]
  },
  {
   "cell_type": "markdown",
   "metadata": {},
   "source": [
    "### 1. How is `**` used as a unary operator in Python? In other words, when you see someone make a call to a function, `some_func(**kwargs)`, what is generally happening?"
   ]
  },
  {
   "cell_type": "markdown",
   "metadata": {},
   "source": [
    "\n"
   ]
  },
  {
   "cell_type": "markdown",
   "metadata": {},
   "source": [
    "kwargs means keyword argument, declared variables within the arguments; kwargs is a dictionary, with the dictionary key being the variable name and dictionary value is the value of that variable. Here are two samples verify its type as dictionary and usages. "
   ]
  },
  {
   "cell_type": "code",
   "execution_count": 6,
   "metadata": {},
   "outputs": [
    {
     "name": "stdout",
     "output_type": "stream",
     "text": [
      "{'a': 'Andrew'} <type 'dict'>\n",
      "{'a': 'Jason', 'b': 'Sherry'} <type 'dict'>\n"
     ]
    }
   ],
   "source": [
    "# Part 1\n",
    "def some_func(**kwargs):\n",
    "    print kwargs, type(kwargs)\n",
    "    \n",
    "some_func(a = 'Andrew')\n",
    "\n",
    "some_func(a = 'Jason', b ='Sherry')"
   ]
  },
  {
   "cell_type": "code",
   "execution_count": 7,
   "metadata": {},
   "outputs": [
    {
     "name": "stdout",
     "output_type": "stream",
     "text": [
      "a 7\n",
      "c 3\n",
      "b -5\n",
      "d -10\n"
     ]
    }
   ],
   "source": [
    "# Part 2\n",
    "def some_func(**kwargs):\n",
    "    # since kwargs is a dictionary, we can iterate using items() function. \n",
    "    for key, value in kwargs.items():\n",
    "        print key, value\n",
    "\n",
    "some_func(a = 7, b = -5, c = 3, d = -10)"
   ]
  },
  {
   "cell_type": "markdown",
   "metadata": {},
   "source": [
    "### 2. What does the line `#!/bin/sh` do at the beginning of a file?\n"
   ]
  },
  {
   "cell_type": "markdown",
   "metadata": {},
   "source": [
    "\n",
    "It specify which shell the script should be using. In this case, it use \"/bin/sh\" (\"sh\" might have soft link to other shell, such ksh, bash, or csh). If this is not specified at the begenning of a file, it will use the default shell specified by the /etc/passwd. Such as, bash:\n"
   ]
  },
  {
   "cell_type": "code",
   "execution_count": 8,
   "metadata": {},
   "outputs": [
    {
     "name": "stdout",
     "output_type": "stream",
     "text": [
      "/mnt/AGZ1/GD_AGZ1117/AGZ_Home/workspace_pOD/ipython/UCSC/2017PythonClass/Assignment\n",
      "azhang:x:1000:1000:azhang,,,:/home/azhang:/bin/bash\n"
     ]
    }
   ],
   "source": [
    "%%bash\n",
    "pwd\n",
    "grep $LOGNAME /etc/passwd\n",
    "# bash is used by use \"azhang\""
   ]
  },
  {
   "cell_type": "markdown",
   "metadata": {},
   "source": [
    "### 3. Assume you have a list `x = [\"table\", \"chair\", \"cup\", \"fork\"]`. Write a function to write the contents of this list to a file, one item per line."
   ]
  },
  {
   "cell_type": "code",
   "execution_count": 9,
   "metadata": {},
   "outputs": [
    {
     "name": "stdout",
     "output_type": "stream",
     "text": [
      "\n",
      "Check the content for the file\n",
      "table\n",
      "chair\n",
      "cup\n",
      "fork\n"
     ]
    }
   ],
   "source": [
    "# 1. Remove the file if existed on pwd if we need to run multiple time\n",
    "import os\n",
    "if os.path.exists(\"anskey3.txt\"): os.remove(\"anskey3.txt\")\n",
    "\n",
    "# 2. Defile a function and decide the file name to be written: anskey3.txt\n",
    "x = [\"table\", \"chair\", \"cup\", \"fork\"]\n",
    "with open('anskey3.txt', 'a') as the_file:\n",
    "    the_file.write(x[0] +'\\n')\n",
    "    the_file.write(x[1] +'\\n')\n",
    "    the_file.write(x[2] +'\\n')\n",
    "    the_file.write(x[3] +'\\n')\n",
    "    the_file.close\n",
    "\n",
    "# 3. Check the result\n",
    "print \"\\nCheck the content for the file\"\n",
    "with open('anskey3.txt', 'r') as fo:\n",
    "    for items in fo.readlines():\n",
    "        print items.strip()"
   ]
  },
  {
   "cell_type": "markdown",
   "metadata": {},
   "source": [
    "### 4. Write another function to read the file from the previous question, and return the same list of items. (Hint: What about non-printing characters?)"
   ]
  },
  {
   "cell_type": "code",
   "execution_count": 10,
   "metadata": {},
   "outputs": [
    {
     "name": "stdout",
     "output_type": "stream",
     "text": [
      "['table', 'chair', 'cup', 'fork']\n"
     ]
    }
   ],
   "source": [
    "with open(\"anskey3.txt\") as f:\n",
    "    content = f.readlines()\n",
    "# Remove whitespace characters like `\\n` at the end of each line\n",
    "content = [x.strip() for x in content] \n",
    "print content"
   ]
  },
  {
   "cell_type": "markdown",
   "metadata": {},
   "source": [
    "### 5. Write a function to calculate the factorial of number."
   ]
  },
  {
   "cell_type": "code",
   "execution_count": 11,
   "metadata": {},
   "outputs": [
    {
     "name": "stdout",
     "output_type": "stream",
     "text": [
      "720\n"
     ]
    }
   ],
   "source": [
    "# n! --> 6!= 6*5*4*3*2*1 = 720\n",
    "def factorial(n):\n",
    "    num = 1\n",
    "    while n >= 1:\n",
    "        num = num * n\n",
    "        n = n - 1\n",
    "    return num\n",
    "\n",
    "# Run a test of factorial 6:\n",
    "print factorial(6)"
   ]
  },
  {
   "cell_type": "code",
   "execution_count": 12,
   "metadata": {},
   "outputs": [
    {
     "name": "stdout",
     "output_type": "stream",
     "text": [
      "720\n"
     ]
    }
   ],
   "source": [
    "# 2nd way: use math function\n",
    "from math import factorial\n",
    "print factorial(6)"
   ]
  },
  {
   "cell_type": "code",
   "execution_count": 14,
   "metadata": {},
   "outputs": [
    {
     "name": "stdout",
     "output_type": "stream",
     "text": [
      "720\n",
      "None\n"
     ]
    }
   ],
   "source": [
    "# 3rd way: use xrange, which might same memory\n",
    "def factorial(n):\n",
    "    base = 1\n",
    "    for i in range(n,0,-1):\n",
    "        base = base * i\n",
    "    print base\n",
    "\n",
    "# Test:\n",
    "print factorial(6)"
   ]
  },
  {
   "cell_type": "markdown",
   "metadata": {},
   "source": [
    "### 6. Write a function to generate the n-th element of the sequence 2, 1, 3, 4, 7, 11, 18,...\n",
    "\n"
   ]
  },
  {
   "cell_type": "code",
   "execution_count": 15,
   "metadata": {},
   "outputs": [
    {
     "name": "stdout",
     "output_type": "stream",
     "text": [
      "1 th element is 2\n",
      "2 th element is 1\n",
      "3 th element is 3\n",
      "4 th element is 4\n",
      "5 th element is 7\n",
      "6 th element is 11\n",
      "7 th element is 18\n"
     ]
    }
   ],
   "source": [
    "# Mine is wrong:\n",
    "def get_nth_element(my_list):\n",
    "    #print len(my_list)\n",
    "    for i in range (0,  len(my_list)):\n",
    "        print i+1,\"th element is\",my_list[i]\n",
    "\n",
    "# Test:     my_list = [2, 1, 3, 4, 7, 11, 18]\n",
    "my_list = [2, 1, 3, 4, 7, 11, 18]\n",
    "get_nth_element(my_list)"
   ]
  },
  {
   "cell_type": "code",
   "execution_count": 18,
   "metadata": {},
   "outputs": [
    {
     "name": "stdout",
     "output_type": "stream",
     "text": [
      "0 2\n",
      "1 1\n",
      "2 3\n",
      "3 4\n",
      "4 7\n",
      "5 11\n",
      "6 18\n",
      "7 29\n",
      "8 47\n",
      "9 76\n"
     ]
    }
   ],
   "source": [
    "# This is correct:\n",
    "# The pattern of the list it that each number is the sum of the previous two numbers\n",
    "\n",
    "def get_nth_element(n):\n",
    "    if n < 0:\n",
    "        return\n",
    "    prev_number = 2\n",
    "    curr_number = 1\n",
    "    while n > 0:\n",
    "        # curr_number will be overwritten, need a temp variable\n",
    "        temp = curr_number \n",
    "        curr_number = prev_number + curr_number\n",
    "        prev_number = temp\n",
    "        n -= 1\n",
    "    return prev_number\n",
    "\n",
    "# test\n",
    "for i in range(10):\n",
    "    print i, get_nth_element(i)"
   ]
  },
  {
   "cell_type": "code",
   "execution_count": null,
   "metadata": {},
   "outputs": [],
   "source": []
  },
  {
   "cell_type": "code",
   "execution_count": null,
   "metadata": {},
   "outputs": [],
   "source": []
  },
  {
   "cell_type": "markdown",
   "metadata": {},
   "source": [
    "###  7. Write a function to determine if a number is a prime.\n",
    "Question from Andrew: why it shows multiple line on jupyter, but it's fine on pycharm? I guess it's because loop multiple times until we reach the last; how to avid it?"
   ]
  },
  {
   "cell_type": "code",
   "execution_count": 19,
   "metadata": {},
   "outputs": [
    {
     "name": "stdout",
     "output_type": "stream",
     "text": [
      "13  is a prime.\n",
      "13  is a prime.\n",
      "13  is a prime.\n",
      "13  is a prime.\n",
      "13  is a prime.\n",
      "13  is a prime.\n",
      "13  is a prime.\n",
      "13  is a prime.\n",
      "13  is a prime.\n",
      "13  is a prime.\n",
      "13  is a prime.\n",
      "None\n"
     ]
    }
   ],
   "source": [
    "def is_primer_number(x):\n",
    "    prime_numbers = 0\n",
    "    if x >= 2:\n",
    "        for y in range(2, x):\n",
    "            if not (x % y):\n",
    "                print x, \" is not a prime.\"\n",
    "            else:\n",
    "                print x, \" is a prime.\"\n",
    "\n",
    "\n",
    "#print is_primer_number(13)\n",
    "print is_primer_number(13)\n",
    "#print is_primer_number(6)\n"
   ]
  },
  {
   "cell_type": "code",
   "execution_count": 20,
   "metadata": {
    "scrolled": true
   },
   "outputs": [
    {
     "name": "stdout",
     "output_type": "stream",
     "text": [
      "1 False\n",
      "2 True\n",
      "3 True\n",
      "4 False\n",
      "5 True\n",
      "6 False\n",
      "7 True\n",
      "8 False\n",
      "9 False\n",
      "10 False\n",
      "11 True\n",
      "12 False\n",
      "13 True\n",
      "14 False\n",
      "15 False\n",
      "16 False\n",
      "17 True\n",
      "18 False\n",
      "19 True\n"
     ]
    }
   ],
   "source": [
    "# Better to use \"Trus\" and \"False\"\n",
    "def is_prime(x):\n",
    "    # up to sqrt(n)\n",
    "    if x == 1:\n",
    "        return False\n",
    "    for i in range(2, x):\n",
    "        if x % i == 0:\n",
    "            return False\n",
    "    return True\n",
    "\n",
    "# Run a test\n",
    "for i in range(1, 20):\n",
    "    print i, is_prime(i)"
   ]
  },
  {
   "cell_type": "code",
   "execution_count": 10,
   "metadata": {},
   "outputs": [
    {
     "name": "stdout",
     "output_type": "stream",
     "text": [
      "True\n"
     ]
    }
   ],
   "source": [
    "print is_prime(23)"
   ]
  },
  {
   "cell_type": "code",
   "execution_count": 12,
   "metadata": {},
   "outputs": [
    {
     "name": "stdout",
     "output_type": "stream",
     "text": [
      "False\n"
     ]
    }
   ],
   "source": [
    "print is_prime(24)"
   ]
  },
  {
   "cell_type": "markdown",
   "metadata": {},
   "source": [
    "### 8. Write a class with a method that determines if a word is a palindrome.\n",
    "\n",
    "Question from Andrew: why it show \"None\" in the answer?"
   ]
  },
  {
   "cell_type": "code",
   "execution_count": 21,
   "metadata": {},
   "outputs": [
    {
     "name": "stdout",
     "output_type": "stream",
     "text": [
      "radar  is a palindrom\n",
      "None\n",
      "palindrom  is not a palindrom\n",
      "None\n"
     ]
    }
   ],
   "source": [
    "# We don't need this \"__init__\":\n",
    "class Palindrome():\n",
    "    def __init__(self, n):\n",
    "        self.n = n\n",
    "\n",
    "    def getPalindrome(self, n):\n",
    "        # convert the number into a string\n",
    "        s = str(n)\n",
    "        r = s[::-1]\n",
    "        if ( s == r):\n",
    "            print n, \" is a palindrom\"\n",
    "        else:\n",
    "            print n, \" is not a palindrom\"\n",
    "\n",
    "checkPalindrome = Palindrome(\"\")\n",
    "print checkPalindrome.getPalindrome(\"radar\")\n",
    "print checkPalindrome.getPalindrome(\"palindrom\")\n"
   ]
  },
  {
   "cell_type": "code",
   "execution_count": 22,
   "metadata": {},
   "outputs": [
    {
     "name": "stdout",
     "output_type": "stream",
     "text": [
      "True\n"
     ]
    }
   ],
   "source": [
    "# Better way to do:\n",
    "class Palindrome():\n",
    "    \n",
    "    def getPalindrome(self, n):\n",
    "        # convert the number into a string\n",
    "        s = str(n)\n",
    "        r = s[::-1]\n",
    "        if ( s == r):\n",
    "            return True\n",
    "        else:\n",
    "            print False\n",
    "            \n",
    "checkPalindrome = Palindrome()\n",
    "\n",
    "print checkPalindrome.getPalindrome(\"radar\")\n"
   ]
  },
  {
   "cell_type": "code",
   "execution_count": 11,
   "metadata": {},
   "outputs": [
    {
     "name": "stdout",
     "output_type": "stream",
     "text": [
      "False\n",
      "None\n"
     ]
    }
   ],
   "source": [
    "print checkPalindrome.getPalindrome(\"pool\") # Why got \"None\""
   ]
  },
  {
   "cell_type": "markdown",
   "metadata": {},
   "source": [
    "### 9. Write a function to sum the bits of a number. For example `sum_bits(2) == 1`, `sum_bits(3) == 2`.\n",
    "https://goo.gl/sQeQd8\n"
   ]
  },
  {
   "cell_type": "code",
   "execution_count": 23,
   "metadata": {},
   "outputs": [],
   "source": [
    "def count_bits(n):\n",
    "    bit_count = 0\n",
    "    while n > 0:\n",
    "        bit_count += n % 2\n",
    "        n /= 2\n",
    "    return bit_count"
   ]
  },
  {
   "cell_type": "code",
   "execution_count": 26,
   "metadata": {},
   "outputs": [
    {
     "data": {
      "text/plain": [
       "1"
      ]
     },
     "execution_count": 26,
     "metadata": {},
     "output_type": "execute_result"
    }
   ],
   "source": [
    "count_bits(16)"
   ]
  },
  {
   "cell_type": "code",
   "execution_count": 21,
   "metadata": {},
   "outputs": [
    {
     "data": {
      "text/plain": [
       "1"
      ]
     },
     "execution_count": 21,
     "metadata": {},
     "output_type": "execute_result"
    }
   ],
   "source": [
    "count_bits(2)"
   ]
  },
  {
   "cell_type": "code",
   "execution_count": 27,
   "metadata": {},
   "outputs": [
    {
     "name": "stdout",
     "output_type": "stream",
     "text": [
      "3\n"
     ]
    }
   ],
   "source": [
    "# Function to get sum of digits (WRONG!)\n",
    " \n",
    "def getSum(n):\n",
    " \n",
    "    sum = 0\n",
    " \n",
    "    # Single line that calculates sum \n",
    "    while(n > 0):\n",
    "        sum += int(n%10)\n",
    "        n = int(n/10)\n",
    " \n",
    "    return sum\n",
    " \n",
    "# Driver code\n",
    " \n",
    "n = 3\n",
    "print(getSum(n))\n",
    " "
   ]
  },
  {
   "cell_type": "markdown",
   "metadata": {},
   "source": [
    "### 10. What is the difference between a logical/boolean OR operation, and a bitwise OR operation? In other words, what is happening in this snippet from a Python interactive session:\n",
    "```\n",
    ">>> a = 0b10\n",
    ">>> b = 0b11\n",
    ">>>\n",
    ">>> a or b\n",
    "2\n",
    ">>> a | b\n",
    "3\n",
    "```\n",
    "\n",
    "- http://wiki.python.org/moin/BitwiseOperators\n",
    "- https://stackoverflow.com/questions/31575691/what-is-a-bitmask-and-a-mask\n",
    "- https://www.youtube.com/watch?v=frwqnS9ICxw\n",
    "- https://www.youtube.com/watch?v=iBbT1rCaEhw (28) Python Programming Tutorial - 7 (bitwise operators) - YouTube"
   ]
  },
  {
   "cell_type": "raw",
   "metadata": {},
   "source": [
    "# Jason\n",
    "Logical OR is a short circuit. In python, all numbers except 0 are equivalent to True. So if we do A or B or C or D or E, it'll return the first value that gives us a true value. So 0 or 1 or 2 would return 1 while 3 or 2 or 1 will return 3 (0 = False, 1 = True, 2 = True, ...). This is similar to the way that logical and works which returns the first value that is equivalent to False unless all values are True.\n"
   ]
  },
  {
   "cell_type": "raw",
   "metadata": {},
   "source": [
    "Logical operators deal with statements.\n",
    "Bitwise operators deal with binary representations of data.\n",
    "\n",
    "A bitwise operation operates on one or more bit patterns or binary numerals at the level of their individual bits"
   ]
  },
  {
   "cell_type": "code",
   "execution_count": 24,
   "metadata": {},
   "outputs": [
    {
     "name": "stdout",
     "output_type": "stream",
     "text": [
      "a:  2\n",
      "b:  3\n"
     ]
    },
    {
     "data": {
      "text/plain": [
       "2"
      ]
     },
     "execution_count": 24,
     "metadata": {},
     "output_type": "execute_result"
    }
   ],
   "source": [
    "# Logic OR (a or b: takes a)\n",
    "a = 0b10\n",
    "b = 0b11\n",
    "print \"a: \", a\n",
    "print \"b: \", b\n",
    "a or b"
   ]
  },
  {
   "cell_type": "raw",
   "metadata": {},
   "source": [
    "On the other hand, bitwise OR does an OR on each bit. so 0b11 | 0b10 will return a number that is 1|1=1 as the first digit and 1|0=1 as the second digit, so it becomes 0b11 in binary, which is 3."
   ]
  },
  {
   "cell_type": "code",
   "execution_count": 25,
   "metadata": {},
   "outputs": [
    {
     "data": {
      "text/plain": [
       "3"
      ]
     },
     "execution_count": 25,
     "metadata": {},
     "output_type": "execute_result"
    }
   ],
   "source": [
    "# Bitwise OR \n",
    "a | b"
   ]
  },
  {
   "cell_type": "markdown",
   "metadata": {},
   "source": [
    "### Self practice"
   ]
  },
  {
   "cell_type": "code",
   "execution_count": null,
   "metadata": {},
   "outputs": [],
   "source": []
  },
  {
   "cell_type": "code",
   "execution_count": 28,
   "metadata": {},
   "outputs": [
    {
     "data": {
      "text/plain": [
       "2"
      ]
     },
     "execution_count": 28,
     "metadata": {},
     "output_type": "execute_result"
    }
   ],
   "source": [
    "a = 0b10\n",
    "b = 0b11\n",
    "a or b"
   ]
  },
  {
   "cell_type": "code",
   "execution_count": 59,
   "metadata": {},
   "outputs": [
    {
     "data": {
      "text/plain": [
       "3"
      ]
     },
     "execution_count": 59,
     "metadata": {},
     "output_type": "execute_result"
    }
   ],
   "source": [
    "b"
   ]
  },
  {
   "cell_type": "code",
   "execution_count": 61,
   "metadata": {},
   "outputs": [
    {
     "data": {
      "text/plain": [
       "2"
      ]
     },
     "execution_count": 61,
     "metadata": {},
     "output_type": "execute_result"
    }
   ],
   "source": [
    "a"
   ]
  },
  {
   "cell_type": "code",
   "execution_count": 62,
   "metadata": {},
   "outputs": [
    {
     "data": {
      "text/plain": [
       "2"
      ]
     },
     "execution_count": 62,
     "metadata": {},
     "output_type": "execute_result"
    }
   ],
   "source": [
    "2 or 3"
   ]
  },
  {
   "cell_type": "code",
   "execution_count": 64,
   "metadata": {},
   "outputs": [
    {
     "data": {
      "text/plain": [
       "3"
      ]
     },
     "execution_count": 64,
     "metadata": {},
     "output_type": "execute_result"
    }
   ],
   "source": [
    "2 | 3"
   ]
  },
  {
   "cell_type": "code",
   "execution_count": null,
   "metadata": {
    "collapsed": true
   },
   "outputs": [],
   "source": []
  },
  {
   "cell_type": "code",
   "execution_count": 21,
   "metadata": {},
   "outputs": [
    {
     "data": {
      "text/plain": [
       "3"
      ]
     },
     "execution_count": 21,
     "metadata": {},
     "output_type": "execute_result"
    }
   ],
   "source": [
    "a | b"
   ]
  },
  {
   "cell_type": "code",
   "execution_count": 98,
   "metadata": {},
   "outputs": [
    {
     "data": {
      "text/plain": [
       "1"
      ]
     },
     "execution_count": 98,
     "metadata": {},
     "output_type": "execute_result"
    }
   ],
   "source": [
    "a ^ b"
   ]
  },
  {
   "cell_type": "code",
   "execution_count": 99,
   "metadata": {},
   "outputs": [
    {
     "data": {
      "text/plain": [
       "3"
      ]
     },
     "execution_count": 99,
     "metadata": {},
     "output_type": "execute_result"
    }
   ],
   "source": [
    "a and b"
   ]
  },
  {
   "cell_type": "code",
   "execution_count": 27,
   "metadata": {},
   "outputs": [
    {
     "data": {
      "text/plain": [
       "16"
      ]
     },
     "execution_count": 27,
     "metadata": {},
     "output_type": "execute_result"
    }
   ],
   "source": [
    "\n",
    "# (29) Python Programming Tutorial - 51 - Bitwise Operators - YouTube\n",
    "# https://www.youtube.com/watch?v=frwqnS9ICxw\n",
    "a = 50 #110010\n",
    "b = 20 #011001\n",
    "c = a & b\n",
    "c"
   ]
  },
  {
   "cell_type": "raw",
   "metadata": {},
   "source": [
    "\n",
    "\n"
   ]
  },
  {
   "cell_type": "code",
   "execution_count": 30,
   "metadata": {},
   "outputs": [
    {
     "data": {
      "text/plain": [
       "1"
      ]
     },
     "execution_count": 30,
     "metadata": {},
     "output_type": "execute_result"
    }
   ],
   "source": [
    "a = 101\n",
    "b = 001\n",
    "a & b\n"
   ]
  },
  {
   "cell_type": "code",
   "execution_count": 32,
   "metadata": {},
   "outputs": [
    {
     "data": {
      "text/plain": [
       "101"
      ]
     },
     "execution_count": 32,
     "metadata": {},
     "output_type": "execute_result"
    }
   ],
   "source": [
    "a | b"
   ]
  },
  {
   "cell_type": "code",
   "execution_count": 33,
   "metadata": {},
   "outputs": [
    {
     "data": {
      "text/plain": [
       "101"
      ]
     },
     "execution_count": 33,
     "metadata": {},
     "output_type": "execute_result"
    }
   ],
   "source": [
    "a or B"
   ]
  },
  {
   "cell_type": "code",
   "execution_count": 41,
   "metadata": {},
   "outputs": [
    {
     "data": {
      "text/plain": [
       "101"
      ]
     },
     "execution_count": 41,
     "metadata": {},
     "output_type": "execute_result"
    }
   ],
   "source": [
    "101 | 100"
   ]
  },
  {
   "cell_type": "code",
   "execution_count": 44,
   "metadata": {},
   "outputs": [
    {
     "data": {
      "text/plain": [
       "101"
      ]
     },
     "execution_count": 44,
     "metadata": {},
     "output_type": "execute_result"
    }
   ],
   "source": [
    "101 or 100"
   ]
  },
  {
   "cell_type": "code",
   "execution_count": 46,
   "metadata": {},
   "outputs": [
    {
     "data": {
      "text/plain": [
       "100"
      ]
     },
     "execution_count": 46,
     "metadata": {},
     "output_type": "execute_result"
    }
   ],
   "source": [
    "101 and 100 "
   ]
  },
  {
   "cell_type": "code",
   "execution_count": 53,
   "metadata": {},
   "outputs": [
    {
     "ename": "SyntaxError",
     "evalue": "invalid syntax (<ipython-input-53-7a6ac58ae815>, line 1)",
     "output_type": "error",
     "traceback": [
      "\u001b[0;36m  File \u001b[0;32m\"<ipython-input-53-7a6ac58ae815>\"\u001b[0;36m, line \u001b[0;32m1\u001b[0m\n\u001b[0;31m    101 && 100\u001b[0m\n\u001b[0m         ^\u001b[0m\n\u001b[0;31mSyntaxError\u001b[0m\u001b[0;31m:\u001b[0m invalid syntax\n"
     ]
    }
   ],
   "source": [
    "101 & 100"
   ]
  },
  {
   "cell_type": "code",
   "execution_count": 52,
   "metadata": {},
   "outputs": [
    {
     "data": {
      "text/plain": [
       "1"
      ]
     },
     "execution_count": 52,
     "metadata": {},
     "output_type": "execute_result"
    }
   ],
   "source": [
    "0 or 1"
   ]
  },
  {
   "cell_type": "code",
   "execution_count": 55,
   "metadata": {},
   "outputs": [
    {
     "data": {
      "text/plain": [
       "1"
      ]
     },
     "execution_count": 55,
     "metadata": {},
     "output_type": "execute_result"
    }
   ],
   "source": [
    "0101 & 0011 # = 0001"
   ]
  },
  {
   "cell_type": "code",
   "execution_count": 69,
   "metadata": {},
   "outputs": [
    {
     "data": {
      "text/plain": [
       "65"
      ]
     },
     "execution_count": 69,
     "metadata": {},
     "output_type": "execute_result"
    }
   ],
   "source": [
    "1011 and 0101"
   ]
  },
  {
   "cell_type": "code",
   "execution_count": 67,
   "metadata": {},
   "outputs": [
    {
     "data": {
      "text/plain": [
       "1011"
      ]
     },
     "execution_count": 67,
     "metadata": {},
     "output_type": "execute_result"
    }
   ],
   "source": [
    "1011 or 0101"
   ]
  },
  {
   "cell_type": "code",
   "execution_count": 72,
   "metadata": {},
   "outputs": [
    {
     "ename": "SyntaxError",
     "evalue": "invalid syntax (<ipython-input-72-5cd487ec0533>, line 1)",
     "output_type": "error",
     "traceback": [
      "\u001b[0;36m  File \u001b[0;32m\"<ipython-input-72-5cd487ec0533>\"\u001b[0;36m, line \u001b[0;32m1\u001b[0m\n\u001b[0;31m    1011 && 0101\u001b[0m\n\u001b[0m          ^\u001b[0m\n\u001b[0;31mSyntaxError\u001b[0m\u001b[0;31m:\u001b[0m invalid syntax\n"
     ]
    }
   ],
   "source": [
    "1011 && 0101"
   ]
  },
  {
   "cell_type": "markdown",
   "metadata": {},
   "source": [
    "### 11. What is a bit mask? If you had `data = 0b01000010`, how would you toggle the seventh bit from 1 to 0?\n",
    "- https://en.wikipedia.org/wiki/Mask_(computing)\n",
    "\n",
    "(28) 16 - Bitwise Operators ( shifts & | ~ ) | Python Tutorials - YouTube\n",
    "- https://www.codecademy.com/en/forum_questions/51c0c68f9c4e9d31ef00017f"
   ]
  },
  {
   "cell_type": "raw",
   "metadata": {},
   "source": [
    "A bit mask is a binary number that is all 0's except the important locations, e.g. 0b01000000. To form a bit mask, we can use the << operator, so 0b00000001 << 6 would move the 1 over 6 spots to form 0b01000000.\n",
    "\n",
    ">>> 1 << 6\n",
    "64\n",
    ">>> bin(1 << 6)\n",
    "'0b1000000'\n",
    ">>>\n",
    "\n",
    "You can toggle any bit by XOR'ing a mask with a 1 in that spot. So to toggle the 7th bit, you can do n ^ (1 << 6).\n",
    ">>> bin(0b01000010 ^ 0b01000000)\n",
    "'0b10'\n",
    ">>> bin(0b01000010 ^ (1 << 6))\n",
    "'0b10'\n",
    "\n",
    "There are a couple of other tricks you can do with bit operators like xor, and, or. See https://en.wikipedia.org/wiki/Bit_manipulation"
   ]
  },
  {
   "cell_type": "raw",
   "metadata": {},
   "source": [
    "A bit mask is a binary number that is all 0's except the important locations, e.g. 0b01000000. To form a bit mask, we can use the \"<<\" operator, so 0b00000001 << 6 would move the 1 over 6 spots to form 0b01000000."
   ]
  },
  {
   "cell_type": "code",
   "execution_count": 14,
   "metadata": {},
   "outputs": [
    {
     "data": {
      "text/plain": [
       "64"
      ]
     },
     "execution_count": 14,
     "metadata": {},
     "output_type": "execute_result"
    }
   ],
   "source": [
    "1 << 6"
   ]
  },
  {
   "cell_type": "code",
   "execution_count": 13,
   "metadata": {},
   "outputs": [
    {
     "data": {
      "text/plain": [
       "'0b1000000'"
      ]
     },
     "execution_count": 13,
     "metadata": {},
     "output_type": "execute_result"
    }
   ],
   "source": [
    "bin(1 << 6)"
   ]
  },
  {
   "cell_type": "code",
   "execution_count": 15,
   "metadata": {},
   "outputs": [
    {
     "data": {
      "text/plain": [
       "'0b10'"
      ]
     },
     "execution_count": 15,
     "metadata": {},
     "output_type": "execute_result"
    }
   ],
   "source": [
    "bin(0b01000010 ^ 0b01000000)"
   ]
  },
  {
   "cell_type": "code",
   "execution_count": null,
   "metadata": {
    "collapsed": true
   },
   "outputs": [],
   "source": []
  },
  {
   "cell_type": "code",
   "execution_count": 4,
   "metadata": {},
   "outputs": [
    {
     "name": "stdout",
     "output_type": "stream",
     "text": [
      "The bit is a 0\n",
      "None\n"
     ]
    }
   ],
   "source": [
    "def checkbit(number,n):\n",
    "     mask = 0b1                  # Mask is 0000001\n",
    "     # The 1 in the mask will be shifted until it reaches the correct spot\n",
    "     mask = mask >> (n - 1)         \n",
    "     if mask & number == 0:      #If that operation returns 0\n",
    "          print \"The bit is a 0\"\n",
    "     else:                                   \n",
    "     # If that operation returns anything not 0 (1, 2, 4, 8, etc.)\n",
    "          print \"The bit is a 1\"\n",
    "print checkbit(223,2)"
   ]
  },
  {
   "cell_type": "code",
   "execution_count": 7,
   "metadata": {},
   "outputs": [
    {
     "data": {
      "text/plain": [
       "12"
      ]
     },
     "execution_count": 7,
     "metadata": {},
     "output_type": "execute_result"
    }
   ],
   "source": [
    "x = 3\n",
    "x << 2\n"
   ]
  },
  {
   "cell_type": "code",
   "execution_count": 8,
   "metadata": {},
   "outputs": [
    {
     "data": {
      "text/plain": [
       "3"
      ]
     },
     "execution_count": 8,
     "metadata": {},
     "output_type": "execute_result"
    }
   ],
   "source": [
    "x | 2"
   ]
  },
  {
   "cell_type": "code",
   "execution_count": 18,
   "metadata": {},
   "outputs": [
    {
     "data": {
      "text/plain": [
       "1"
      ]
     },
     "execution_count": 18,
     "metadata": {},
     "output_type": "execute_result"
    }
   ],
   "source": [
    "x & 1"
   ]
  },
  {
   "cell_type": "code",
   "execution_count": null,
   "metadata": {
    "collapsed": true
   },
   "outputs": [],
   "source": []
  },
  {
   "cell_type": "code",
   "execution_count": null,
   "metadata": {
    "collapsed": true
   },
   "outputs": [],
   "source": [
    "B"
   ]
  },
  {
   "cell_type": "code",
   "execution_count": 25,
   "metadata": {},
   "outputs": [
    {
     "data": {
      "text/plain": [
       "16"
      ]
     },
     "execution_count": 25,
     "metadata": {},
     "output_type": "execute_result"
    }
   ],
   "source": []
  },
  {
   "cell_type": "code",
   "execution_count": null,
   "metadata": {
    "collapsed": true
   },
   "outputs": [],
   "source": []
  },
  {
   "cell_type": "markdown",
   "metadata": {},
   "source": [
    "### 12. What are the differences between TCP and UDP? (List one or two sentences.)"
   ]
  },
  {
   "cell_type": "markdown",
   "metadata": {},
   "source": [
    "- TCP is connection oriented.  So it has features like reliable transport and flow control.  TCP is streaming oriented (aka stream of bytes).\n",
    "- UDP is connectionless oriented.  So it does not support reliable transport.  UDP is message oriented (aka datagram)."
   ]
  },
  {
   "cell_type": "markdown",
   "metadata": {},
   "source": [
    "### 13. Pick the invalid IP address(es): a) 127.0.0.1,  b) 0.0.0.0,  c) 127.256.365.0\n",
    "\n",
    "Invalid IP address: c) 127.256.365.0"
   ]
  },
  {
   "cell_type": "markdown",
   "metadata": {},
   "source": [
    "### 14. How many tests would you need in order to test an arbitrary state machine? (Is there an upper bound?)\n",
    "- https://teh.id.au/posts/2017/07/15/state-machine-testing/\n",
    "- https://www.youtube.com/watch?v=xNaLrnTuw-M"
   ]
  },
  {
   "cell_type": "raw",
   "metadata": {},
   "source": [
    "\n",
    "Not very sure what an arbitrary state machine is. My guess would be that it can take on an arbitrary number of states, so the number of tests you would need to fully test it would be upper bounded by the number of possible states. For example, if my program has n possible states, the maximum number of tests that would be necessary is n but could be less.\n"
   ]
  },
  {
   "cell_type": "code",
   "execution_count": null,
   "metadata": {
    "collapsed": true
   },
   "outputs": [],
   "source": []
  },
  {
   "cell_type": "markdown",
   "metadata": {},
   "source": [
    "### 15. Examine the following Python code, add comments, and offer suggestions to make this more readable and robust. Context: an Armstrong number is one that can be written as a sum of cubes of its digits. For example, 153 is an Armstrong number is equal to 1^3 + 5^3 + 3^3 = 1 + 125 + 27. \n",
    "```\n",
    "def armstrong(n):\n",
    "    res = 0\n",
    "orig = n\n",
    "    while n != 0:\n",
    "        remainder = n % 10\n",
    "        res += remainder**3\n",
    "        n //= 10\n",
    "    if orig == res:\n",
    "        return True\n",
    "    return False\n",
    "```\n",
    "\n",
    "https://goo.gl/S218m7"
   ]
  },
  {
   "cell_type": "raw",
   "metadata": {},
   "source": [
    "I may make some modification as following:\n",
    "\n",
    "1) Rename the variable to be more meaningful, for example: use \"sum\" as \"res\", original_number\" as orig\n",
    "2) Add data validation: input number must the an interger and greater than 0, such as:\n",
    "     take input from the user:\n",
    "     num = int(input(\"Please positvie ingeter: \"))\n",
    "   Furhtermore, refuse anythe wrong type of data input.\n",
    "3) Added minimum comments as following.   \n",
    "4) Do a few test for validation"
   ]
  },
  {
   "cell_type": "code",
   "execution_count": 6,
   "metadata": {},
   "outputs": [],
   "source": [
    "def armstrong(n):\n",
    "    \n",
    "    # initialize sum\n",
    "    res = 0\n",
    "    orig = n\n",
    "    \n",
    "    # find the sum of the cube of each digit\n",
    "    while n != 0:\n",
    "        remainder = n % 10    \n",
    "        res += remainder**3    \n",
    "        n //= 10\n",
    "        \n",
    "    # display the result\n",
    "    if orig == res:\n",
    "       return True\n",
    "    else:        \n",
    "        return False"
   ]
  },
  {
   "cell_type": "code",
   "execution_count": 27,
   "metadata": {},
   "outputs": [
    {
     "name": "stdout",
     "output_type": "stream",
     "text": [
      "True\n"
     ]
    }
   ],
   "source": [
    "# Test\n",
    "print armstrong(153)"
   ]
  },
  {
   "cell_type": "code",
   "execution_count": 28,
   "metadata": {},
   "outputs": [
    {
     "name": "stdout",
     "output_type": "stream",
     "text": [
      "False\n"
     ]
    }
   ],
   "source": [
    "print armstrong(123)"
   ]
  },
  {
   "cell_type": "markdown",
   "metadata": {},
   "source": [
    "# Others\n",
    "- Table of Contents (2) — jupyter_contrib_nbextensions 0.3.3 documentation \n",
    "http://jupyter-contrib-nbextensions.readthedocs.io/en/latest/nbextensions/toc2/README.html\n",
    "- (2) Jupyter Notebook Tutorial: Introduction, Setup, and Walkthrough - YouTube\n",
    "https://www.youtube.com/watch?v=HW29067qVWk"
   ]
  },
  {
   "cell_type": "code",
   "execution_count": 41,
   "metadata": {},
   "outputs": [],
   "source": [
    "# \n",
    "g = lambda x: 2*x*x +x +3"
   ]
  },
  {
   "cell_type": "code",
   "execution_count": 42,
   "metadata": {},
   "outputs": [
    {
     "data": {
      "text/plain": [
       "39"
      ]
     },
     "execution_count": 42,
     "metadata": {},
     "output_type": "execute_result"
    }
   ],
   "source": [
    "g(4)"
   ]
  },
  {
   "cell_type": "code",
   "execution_count": 21,
   "metadata": {},
   "outputs": [
    {
     "data": {
      "text/plain": [
       "2.8284271247461903"
      ]
     },
     "execution_count": 21,
     "metadata": {},
     "output_type": "execute_result"
    }
   ],
   "source": [
    "root = lambda x, y: (x*y)**0.5\n",
    "root(8,1)"
   ]
  },
  {
   "cell_type": "code",
   "execution_count": 22,
   "metadata": {},
   "outputs": [
    {
     "data": {
      "text/plain": [
       "3.0"
      ]
     },
     "execution_count": 22,
     "metadata": {},
     "output_type": "execute_result"
    }
   ],
   "source": [
    "root(9,1)"
   ]
  },
  {
   "cell_type": "markdown",
   "metadata": {},
   "source": [
    "## 1. Recursive "
   ]
  },
  {
   "cell_type": "markdown",
   "metadata": {},
   "source": [
    "https://goo.gl/7SE9Fd"
   ]
  },
  {
   "cell_type": "code",
   "execution_count": null,
   "metadata": {},
   "outputs": [],
   "source": []
  },
  {
   "cell_type": "code",
   "execution_count": 1,
   "metadata": {},
   "outputs": [
    {
     "data": {
      "text/plain": [
       "5"
      ]
     },
     "execution_count": 1,
     "metadata": {},
     "output_type": "execute_result"
    }
   ],
   "source": [
    "# fibonacci\n",
    "def fibonacci(n):\n",
    "    if n == 0:\n",
    "        return 0\n",
    "    elif n == 1:\n",
    "        return 1\n",
    "    else:\n",
    "        return fibonacci(n-1) + fibonacci(n-2)\n",
    "\n",
    "fibonacci(5)\n",
    "\n"
   ]
  },
  {
   "cell_type": "markdown",
   "metadata": {},
   "source": [
    "## 2. Web scraping"
   ]
  },
  {
   "cell_type": "markdown",
   "metadata": {},
   "source": [
    "### Sample 1"
   ]
  },
  {
   "cell_type": "code",
   "execution_count": 2,
   "metadata": {},
   "outputs": [
    {
     "data": {
      "text/plain": [
       "<Response [200]>"
      ]
     },
     "execution_count": 2,
     "metadata": {},
     "output_type": "execute_result"
    }
   ],
   "source": [
    "# http://dataquestio.github.io/web-scraping-pages/simple.html\n",
    "import requests\n",
    "page = requests.get(\"http://dataquestio.github.io/web-scraping-pages/simple.html\")\n",
    "page\n"
   ]
  },
  {
   "cell_type": "code",
   "execution_count": 3,
   "metadata": {},
   "outputs": [
    {
     "data": {
      "text/plain": [
       "200"
      ]
     },
     "execution_count": 3,
     "metadata": {},
     "output_type": "execute_result"
    }
   ],
   "source": [
    "page.status_code"
   ]
  },
  {
   "cell_type": "code",
   "execution_count": 6,
   "metadata": {},
   "outputs": [
    {
     "data": {
      "text/plain": [
       "b'<!DOCTYPE html>\\n<html>\\n    <head>\\n        <title>A simple example page</title>\\n    </head>\\n    <body>\\n        <p>Here is some simple content for this page.</p>\\n    </body>\\n</html>'"
      ]
     },
     "execution_count": 6,
     "metadata": {},
     "output_type": "execute_result"
    }
   ],
   "source": [
    "page.content"
   ]
  },
  {
   "cell_type": "code",
   "execution_count": 4,
   "metadata": {},
   "outputs": [],
   "source": [
    "from bs4 import BeautifulSoup\n",
    "soup = BeautifulSoup(page.content, 'html.parser')"
   ]
  },
  {
   "cell_type": "code",
   "execution_count": 5,
   "metadata": {},
   "outputs": [
    {
     "name": "stdout",
     "output_type": "stream",
     "text": [
      "<!DOCTYPE html>\n",
      "<html>\n",
      " <head>\n",
      "  <title>\n",
      "   A simple example page\n",
      "  </title>\n",
      " </head>\n",
      " <body>\n",
      "  <p>\n",
      "   Here is some simple content for this page.\n",
      "  </p>\n",
      " </body>\n",
      "</html>\n"
     ]
    }
   ],
   "source": [
    "print(soup.prettify())"
   ]
  },
  {
   "cell_type": "markdown",
   "metadata": {},
   "source": [
    "### Sample 2"
   ]
  },
  {
   "cell_type": "code",
   "execution_count": 6,
   "metadata": {},
   "outputs": [
    {
     "name": "stdout",
     "output_type": "stream",
     "text": [
      "\n",
      "\n",
      "\n",
      "<!DOCTYPE html>\n",
      "<html\n",
      "    xmlns:og=\"http://ogp.me/ns#\"\n",
      "    xmlns:fb=\"http://www.facebook.com/2008/fbml\">\n",
      "    <head>\n",
      "         \n",
      "        <meta charset=\"utf-8\">\n",
      "        <meta http-equiv=\"X-UA-Compatible\" content=\"IE=edge\">\n",
      "\n",
      "    <meta name=\"apple-itunes-app\" content=\"app-id=342792525, app-argument=imdb:///?src=mdot\">\n",
      "\n",
      "\n",
      "\n",
      "        <script type=\"text/javascript\">var IMDbTimer={starttime: new Date().getTime(),pt:'java'};</script>\n",
      "\n",
      "<script>\n",
      "    if (typeof uet == 'function') {\n",
      "      uet(\"bb\", \"LoadTitle\"\n"
     ]
    }
   ],
   "source": [
    "# https://www.dataquest.io/blog/web-scraping-beautifulsoup/\n",
    "from requests import get\n",
    "url = 'http://www.imdb.com/search/title?release_date=2017&sort=num_votes,desc&page=1'\n",
    "\n",
    "response = get(url)\n",
    "print(response.text[:500])"
   ]
  },
  {
   "cell_type": "code",
   "execution_count": 9,
   "metadata": {},
   "outputs": [
    {
     "data": {
      "text/plain": [
       "bs4.BeautifulSoup"
      ]
     },
     "execution_count": 9,
     "metadata": {},
     "output_type": "execute_result"
    }
   ],
   "source": [
    "from bs4 import BeautifulSoup\n",
    "\n",
    "html_soup = BeautifulSoup(response.text, 'html.parser')\n",
    "type(html_soup)"
   ]
  },
  {
   "cell_type": "code",
   "execution_count": 11,
   "metadata": {},
   "outputs": [
    {
     "name": "stdout",
     "output_type": "stream",
     "text": [
      "<class 'bs4.element.ResultSet'>\n",
      "50\n"
     ]
    }
   ],
   "source": [
    "movie_containers = html_soup.find_all('div', class_ = 'lister-item mode-advanced')\n",
    "print(type(movie_containers))\n",
    "print(len(movie_containers))"
   ]
  },
  {
   "cell_type": "code",
   "execution_count": 16,
   "metadata": {},
   "outputs": [
    {
     "ename": "SyntaxError",
     "evalue": "invalid syntax (<ipython-input-16-3a7497f7d06b>, line 1)",
     "output_type": "error",
     "traceback": [
      "\u001b[0;36m  File \u001b[0;32m\"<ipython-input-16-3a7497f7d06b>\"\u001b[0;36m, line \u001b[0;32m1\u001b[0m\n\u001b[0;31m    <class 'bs4.element.ResultSet'>\u001b[0m\n\u001b[0m    ^\u001b[0m\n\u001b[0;31mSyntaxError\u001b[0m\u001b[0;31m:\u001b[0m invalid syntax\n"
     ]
    }
   ],
   "source": [
    "<class 'bs4.element.ResultSet'>\n",
    "50"
   ]
  },
  {
   "cell_type": "markdown",
   "metadata": {},
   "source": [
    "## 3-Math Funcs"
   ]
  },
  {
   "cell_type": "code",
   "execution_count": 1,
   "metadata": {},
   "outputs": [
    {
     "data": {
      "text/plain": [
       "8"
      ]
     },
     "execution_count": 1,
     "metadata": {},
     "output_type": "execute_result"
    }
   ],
   "source": [
    "from operator import add, mul, div\n",
    "add(2,3)\n",
    "mul(2,3)\n",
    "div(24,3)"
   ]
  },
  {
   "cell_type": "code",
   "execution_count": 2,
   "metadata": {},
   "outputs": [
    {
     "data": {
      "text/plain": [
       "1"
      ]
     },
     "execution_count": 2,
     "metadata": {},
     "output_type": "execute_result"
    }
   ],
   "source": [
    "max(1, min(-2, 50000))"
   ]
  },
  {
   "cell_type": "code",
   "execution_count": 13,
   "metadata": {},
   "outputs": [
    {
     "data": {
      "text/plain": [
       "True"
      ]
     },
     "execution_count": 13,
     "metadata": {},
     "output_type": "execute_result"
    }
   ],
   "source": [
    "# 14.2\n",
    "isinstance('abc', str)"
   ]
  },
  {
   "cell_type": "code",
   "execution_count": null,
   "metadata": {},
   "outputs": [],
   "source": []
  },
  {
   "cell_type": "markdown",
   "metadata": {},
   "source": [
    "## Numpy_Beginner_Code\n",
    "/mnt/AGZ1/GD_AGZ1117/AGZ_Home/workspace_pOD/Numpy_Beginner_Code"
   ]
  },
  {
   "cell_type": "code",
   "execution_count": 5,
   "metadata": {},
   "outputs": [
    {
     "name": "stdout",
     "output_type": "stream",
     "text": [
      "In: a = arange(5)\n",
      "In: a.dtype\n",
      "int64\n",
      "\n",
      "In: a.shape\n",
      "(5,)\n",
      "\n",
      "In: a\n",
      "[0 1 2 3 4]\n",
      "\n",
      "In: m\n",
      "[[0 1]\n",
      " [0 1]]\n",
      "\n",
      "In: m.shape\n",
      "(2, 2)\n"
     ]
    }
   ],
   "source": [
    "import numpy as np\n",
    "\n",
    "# Chapter 2 Beginning with NumPy fundamentals\n",
    "#\n",
    "# Demonstrates the dtype and shape attributes\n",
    "# of ndarray.\n",
    "#\n",
    "# Run from the commandline with \n",
    "#\n",
    "#  python arrayattributes.py\n",
    "a = np.arange(5)\n",
    "print (\"In: a = arange(5)\")\n",
    "\n",
    "print (\"In: a.dtype\")\n",
    "print (a.dtype)\n",
    "#Out: dtype('int64')\n",
    "print ()\n",
    "\n",
    "print (\"In: a.shape\")\n",
    "print (a.shape)\n",
    "#Out: (5,)\n",
    "print ()\n",
    "\n",
    "print (\"In: a\")\n",
    "print (a)\n",
    "#Out[4]: array([0, 1, 2, 3, 4])\n",
    "print ()\n",
    "\n",
    "m = np.array([np.arange(2), np.arange(2)])\n",
    "\n",
    "print (\"In: m\")\n",
    "print (m)\n",
    "#Out: \n",
    "#array([[0, 1],\n",
    "#       [0, 1]])\n",
    "print()\n",
    "\n",
    "print (\"In: m.shape\")\n",
    "print (m.shape)\n",
    "#Out: (2, 2)"
   ]
  },
  {
   "cell_type": "markdown",
   "metadata": {},
   "source": [
    "# R "
   ]
  },
  {
   "cell_type": "code",
   "execution_count": 1,
   "metadata": {},
   "outputs": [
    {
     "data": {
      "text/html": [
       "1024"
      ],
      "text/latex": [
       "1024"
      ],
      "text/markdown": [
       "1024"
      ],
      "text/plain": [
       "[1] 1024"
      ]
     },
     "metadata": {},
     "output_type": "display_data"
    }
   ],
   "source": [
    "2^10\n"
   ]
  },
  {
   "cell_type": "code",
   "execution_count": 31,
   "metadata": {},
   "outputs": [
    {
     "data": {
      "text/plain": [
       "1"
      ]
     },
     "execution_count": 31,
     "metadata": {},
     "output_type": "execute_result"
    }
   ],
   "source": [
    "2^5\n",
    "2^3"
   ]
  },
  {
   "cell_type": "code",
   "execution_count": 2,
   "metadata": {},
   "outputs": [],
   "source": []
  },
  {
   "cell_type": "code",
   "execution_count": 7,
   "metadata": {},
   "outputs": [
    {
     "data": {
      "image/png": "[encoded data removed]",
      "text/plain": [
       "plot without title"
      ]
     },
     "metadata": {},
     "output_type": "display_data"
    }
   ],
   "source": [
    "par(mfrow=c(2, 2)) \n",
    "x <- rnorm(100)\n",
    "y <- x + rnorm(100)\n",
    "plot(x) # plots a vector (against ``time'')\n",
    "plot(x,y) # plots a scatter diagram\n",
    "\n",
    "plot(x) # plots a vector (against ``time'')\n",
    "plot(x,y) # plots a scatter diagram\n"
   ]
  },
  {
   "cell_type": "code",
   "execution_count": 11,
   "metadata": {},
   "outputs": [
    {
     "ename": "ERROR",
     "evalue": "Error in library(freqparcoord): there is no package called ‘freqparcoord’\n",
     "output_type": "error",
     "traceback": [
      "Error in library(freqparcoord): there is no package called ‘freqparcoord’\nTraceback:\n",
      "1. library(freqparcoord)",
      "2. stop(txt, domain = NA)"
     ]
    }
   ],
   "source": [
    "library(freqparcoord)"
   ]
  },
  {
   "cell_type": "code",
   "execution_count": 12,
   "metadata": {},
   "outputs": [
    {
     "ename": "ERROR",
     "evalue": "Error in install.packages(freqparcoord): object 'freqparcoord' not found\n",
     "output_type": "error",
     "traceback": [
      "Error in install.packages(freqparcoord): object 'freqparcoord' not found\nTraceback:\n",
      "1. install.packages(freqparcoord)"
     ]
    }
   ],
   "source": [
    "install.packages(freqparcoord)"
   ]
  },
  {
   "cell_type": "code",
   "execution_count": 13,
   "metadata": {},
   "outputs": [
    {
     "name": "stderr",
     "output_type": "stream",
     "text": [
      "Warning message in install.packages(\"RCurl\", repos = \"http://cran.us.r-project.org\"):\n",
      "“installation of package ‘RCurl’ had non-zero exit status”Updating HTML index of packages in '.Library'\n",
      "Making 'packages.html' ... done\n"
     ]
    }
   ],
   "source": [
    "install.packages(\"RCurl\", repos='http://cran.us.r-project.org')"
   ]
  },
  {
   "cell_type": "code",
   "execution_count": 14,
   "metadata": {},
   "outputs": [
    {
     "ename": "ERROR",
     "evalue": "Error in library(RCurl): there is no package called ‘RCurl’\n",
     "output_type": "error",
     "traceback": [
      "Error in library(RCurl): there is no package called ‘RCurl’\nTraceback:\n",
      "1. library(RCurl)",
      "2. stop(txt, domain = NA)"
     ]
    }
   ],
   "source": [
    "library(RCurl)"
   ]
  },
  {
   "cell_type": "code",
   "execution_count": 15,
   "metadata": {},
   "outputs": [],
   "source": [
    "library(ggplot2)\n",
    "data(diamonds)"
   ]
  },
  {
   "cell_type": "code",
   "execution_count": 18,
   "metadata": {},
   "outputs": [
    {
     "name": "stderr",
     "output_type": "stream",
     "text": [
      "Warning message in install.packages(\"RCurl\"):\n",
      "“installation of package ‘RCurl’ had non-zero exit status”Updating HTML index of packages in '.Library'\n",
      "Making 'packages.html' ... done\n"
     ]
    }
   ],
   "source": [
    "install.packages(\"RCurl\")"
   ]
  },
  {
   "cell_type": "code",
   "execution_count": null,
   "metadata": {},
   "outputs": [],
   "source": []
  },
  {
   "cell_type": "code",
   "execution_count": 2,
   "metadata": {},
   "outputs": [],
   "source": [
    "z <- structure(list(greg = c(7L, 8L, 9L, 10L, 11L, 20L, 21L, 22L, \n",
    "    23L, 24L, 30L, 31L, 32L, 33L, 49L), researcher = 42:48, sally = c(25L, \n",
    "    26L, 27L, 28L, 29L, 37L, 38L, 39L, 40L, 41L), sam = c(1L, 2L, \n",
    "    3L, 4L, 5L, 6L, 16L, 17L, 18L, 19L, 34L, 35L, 36L), teacher = 12:15), .Names = c(\"greg\", \n",
    "    \"researcher\", \"sally\", \"sam\", \"teacher\"))"
   ]
  },
  {
   "cell_type": "code",
   "execution_count": 3,
   "metadata": {},
   "outputs": [
    {
     "data": {
      "text/html": [
       "<dl>\n",
       "\t<dt>$greg</dt>\n",
       "\t\t<dd>'7:11, 20:24, 30:33, 49:49'</dd>\n",
       "\t<dt>$researcher</dt>\n",
       "\t\t<dd>'42:48'</dd>\n",
       "\t<dt>$sally</dt>\n",
       "\t\t<dd>'25:29, 37:41'</dd>\n",
       "\t<dt>$sam</dt>\n",
       "\t\t<dd>'1:6, 16:19, 34:36'</dd>\n",
       "\t<dt>$teacher</dt>\n",
       "\t\t<dd>'12:15'</dd>\n",
       "</dl>\n"
      ],
      "text/latex": [
       "\\begin{description}\n",
       "\\item[\\$greg] '7:11, 20:24, 30:33, 49:49'\n",
       "\\item[\\$researcher] '42:48'\n",
       "\\item[\\$sally] '25:29, 37:41'\n",
       "\\item[\\$sam] '1:6, 16:19, 34:36'\n",
       "\\item[\\$teacher] '12:15'\n",
       "\\end{description}\n"
      ],
      "text/markdown": [
       "$greg\n",
       ":   '7:11, 20:24, 30:33, 49:49'\n",
       "$researcher\n",
       ":   '42:48'\n",
       "$sally\n",
       ":   '25:29, 37:41'\n",
       "$sam\n",
       ":   '1:6, 16:19, 34:36'\n",
       "$teacher\n",
       ":   '12:15'\n",
       "\n",
       "\n"
      ],
      "text/plain": [
       "$greg\n",
       "[1] \"7:11, 20:24, 30:33, 49:49\"\n",
       "\n",
       "$researcher\n",
       "[1] \"42:48\"\n",
       "\n",
       "$sally\n",
       "[1] \"25:29, 37:41\"\n",
       "\n",
       "$sam\n",
       "[1] \"1:6, 16:19, 34:36\"\n",
       "\n",
       "$teacher\n",
       "[1] \"12:15\"\n"
      ]
     },
     "metadata": {},
     "output_type": "display_data"
    }
   ],
   "source": [
    "lapply(z, function(x) {\n",
    "  diffs <- c(1, diff(x))\n",
    "  start_indexes <- c(1, which(diffs > 1))\n",
    "  end_indexes <- c(start_indexes - 1, length(x))\n",
    "  coloned <- paste(x[start_indexes], x[end_indexes], sep=\":\")\n",
    "  paste0(coloned, collapse=\", \")\n",
    "})\n"
   ]
  },
  {
   "cell_type": "markdown",
   "metadata": {},
   "source": [
    "# MISC: "
   ]
  },
  {
   "cell_type": "markdown",
   "metadata": {},
   "source": [
    "### Test basic function"
   ]
  },
  {
   "cell_type": "code",
   "execution_count": 3,
   "metadata": {},
   "outputs": [
    {
     "name": "stdout",
     "output_type": "stream",
     "text": [
      "7\n",
      "\n",
      "9\n",
      "\n",
      "16\n"
     ]
    }
   ],
   "source": [
    "# Use python 2\n",
    "import os\n",
    "\n",
    "x=3\n",
    "y=4\n",
    "print (x+y)\n",
    "\n",
    "def get_addition(x, y):\n",
    "    sum = x + y\n",
    "    print sum\n",
    "print\n",
    "\n",
    "get_addition(4, 5)\n",
    "\n",
    "# Different way:\n",
    "def get_addition2(x, y):\n",
    "    print x + y\n",
    "print\n",
    "\n",
    "get_addition2( 7, 9)"
   ]
  },
  {
   "cell_type": "code",
   "execution_count": null,
   "metadata": {},
   "outputs": [],
   "source": []
  }
 ],
 "metadata": {
  "kernelspec": {
   "display_name": "Python 3",
   "language": "python",
   "name": "python3"
  },
  "language_info": {
   "codemirror_mode": {
    "name": "ipython",
    "version": 3
   },
   "file_extension": ".py",
   "mimetype": "text/x-python",
   "name": "python",
   "nbconvert_exporter": "python",
   "pygments_lexer": "ipython3",
   "version": "3.7.0"
  },
  "latex_envs": {
   "LaTeX_envs_menu_present": true,
   "autoclose": false,
   "autocomplete": true,
   "bibliofile": "biblio.bib",
   "cite_by": "apalike",
   "current_citInitial": 1,
   "eqLabelWithNumbers": true,
   "eqNumInitial": 1,
   "hotkeys": {
    "equation": "Ctrl-E",
    "itemize": "Ctrl-I"
   },
   "labels_anchors": false,
   "latex_user_defs": false,
   "report_style_numbering": false,
   "user_envs_cfg": false
  },
  "toc": {
   "base_numbering": 1,
   "nav_menu": {
    "height": "335px",
    "width": "719px"
   },
   "number_sections": false,
   "sideBar": true,
   "skip_h1_title": false,
   "title_cell": "ToC cell title",
   "title_sidebar": "Contents",
   "toc_cell": false,
   "toc_position": {
    "height": "calc(100% - 180px)",
    "left": "10px",
    "top": "150px",
    "width": "261px"
   },
   "toc_section_display": true,
   "toc_window_display": true
  }
 },
 "nbformat": 4,
 "nbformat_minor": 2
}
