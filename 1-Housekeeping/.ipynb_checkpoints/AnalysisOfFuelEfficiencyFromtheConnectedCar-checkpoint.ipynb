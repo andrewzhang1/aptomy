{
 "cells": [
  {
   "cell_type": "markdown",
   "metadata": {},
   "source": [
    "#  Analysis of Fuel Efficiency from the Connected Car - A Python Project\n",
    "By Andrew Zhang\n",
    "\n",
    "UCSC Extension at Santa Clara, December 02 2017\n"
   ]
  },
  {
   "cell_type": "markdown",
   "metadata": {},
   "source": [
    "#### 1. Introduction\n",
    "\n",
    "This project will do a basic data analysis on the fuel efficiency of most cars on the market in the past 34 years (1984 - 2018) using python notebook. And the data is obtained and downloaded from US govenment's web site: http://www.fueleconomy.gov/feg/epadata/vehicles.csv.zip\n"
   ]
  },
  {
   "cell_type": "markdown",
   "metadata": {},
   "source": [
    "## 2. Download and Exploring and describing fuel efficiency data wiht Python\n",
    "Importing automobile fuel efficiency data “vehicles.csv.zip” into python and save on a local disk driver"
   ]
  },
  {
   "cell_type": "markdown",
   "metadata": {},
   "source": [
    "### Prepare Python packages and load data\n",
    "##### python3 is used for this project, as some of the packages only found in python3\n",
    "- numpy\n",
    "- pandas\n",
    "- ggplot\n",
    "- matplotlib\n",
    "\n",
    "- reduce"
   ]
  },
  {
   "cell_type": "code",
   "execution_count": 1,
   "metadata": {},
   "outputs": [
    {
     "ename": "ModuleNotFoundError",
     "evalue": "No module named 'ggplot'",
     "output_type": "error",
     "traceback": [
      "\u001b[0;31m---------------------------------------------------------------------------\u001b[0m",
      "\u001b[0;31mModuleNotFoundError\u001b[0m                       Traceback (most recent call last)",
      "\u001b[0;32m<ipython-input-1-3ab263399607>\u001b[0m in \u001b[0;36m<module>\u001b[0;34m\u001b[0m\n\u001b[1;32m      6\u001b[0m \u001b[0;32mimport\u001b[0m \u001b[0mpandas\u001b[0m \u001b[0;32mas\u001b[0m \u001b[0mpd\u001b[0m\u001b[0;34m\u001b[0m\u001b[0;34m\u001b[0m\u001b[0m\n\u001b[1;32m      7\u001b[0m \u001b[0;32mimport\u001b[0m \u001b[0mnumpy\u001b[0m \u001b[0;32mas\u001b[0m \u001b[0mnp\u001b[0m\u001b[0;34m\u001b[0m\u001b[0;34m\u001b[0m\u001b[0m\n\u001b[0;32m----> 8\u001b[0;31m \u001b[0;32mfrom\u001b[0m \u001b[0mggplot\u001b[0m \u001b[0;32mimport\u001b[0m \u001b[0;34m*\u001b[0m\u001b[0;34m\u001b[0m\u001b[0;34m\u001b[0m\u001b[0m\n\u001b[0m\u001b[1;32m      9\u001b[0m \u001b[0mget_ipython\u001b[0m\u001b[0;34m(\u001b[0m\u001b[0;34m)\u001b[0m\u001b[0;34m.\u001b[0m\u001b[0mrun_line_magic\u001b[0m\u001b[0;34m(\u001b[0m\u001b[0;34m'matplotlib'\u001b[0m\u001b[0;34m,\u001b[0m \u001b[0;34m'inline'\u001b[0m\u001b[0;34m)\u001b[0m\u001b[0;34m\u001b[0m\u001b[0;34m\u001b[0m\u001b[0m\n\u001b[1;32m     10\u001b[0m \u001b[0;32mfrom\u001b[0m \u001b[0mfunctools\u001b[0m \u001b[0;32mimport\u001b[0m \u001b[0mreduce\u001b[0m\u001b[0;34m\u001b[0m\u001b[0;34m\u001b[0m\u001b[0m\n",
      "\u001b[0;31mModuleNotFoundError\u001b[0m: No module named 'ggplot'"
     ]
    }
   ],
   "source": [
    "# Install a few packages for python3 and 2\n",
    "# conda install -c r r-ggplot2 \n",
    "# conda install -c conda-forge ggplot \n",
    "# https://github.com/datacarpentry/python-ecology-lesson/issues/164\n",
    "\n",
    "import pandas as pd\n",
    "import numpy as np\n",
    "from ggplot import *\n",
    "%matplotlib inline\n",
    "from functools import reduce"
   ]
  },
  {
   "cell_type": "code",
   "execution_count": 3,
   "metadata": {},
   "outputs": [
    {
     "name": "stderr",
     "output_type": "stream",
     "text": [
      "/home/azhang/anaconda3/envs/py34/lib/python3.4/site-packages/IPython/core/interactiveshell.py:2717: DtypeWarning: Columns (70,71,72,73,74,76,79) have mixed types. Specify dtype option on import or set low_memory=False.\n",
      "  interactivity=interactivity, compiler=compiler, result=result)\n"
     ]
    },
    {
     "data": {
      "text/html": [
       "<div>\n",
       "<table border=\"1\" class=\"dataframe\">\n",
       "  <thead>\n",
       "    <tr style=\"text-align: right;\">\n",
       "      <th></th>\n",
       "      <th>barrels08</th>\n",
       "      <th>barrelsA08</th>\n",
       "      <th>charge120</th>\n",
       "      <th>charge240</th>\n",
       "      <th>city08</th>\n",
       "      <th>city08U</th>\n",
       "      <th>cityA08</th>\n",
       "      <th>cityA08U</th>\n",
       "      <th>cityCD</th>\n",
       "      <th>cityE</th>\n",
       "      <th>...</th>\n",
       "      <th>mfrCode</th>\n",
       "      <th>c240Dscr</th>\n",
       "      <th>charge240b</th>\n",
       "      <th>c240bDscr</th>\n",
       "      <th>createdOn</th>\n",
       "      <th>modifiedOn</th>\n",
       "      <th>startStop</th>\n",
       "      <th>phevCity</th>\n",
       "      <th>phevHwy</th>\n",
       "      <th>phevComb</th>\n",
       "    </tr>\n",
       "  </thead>\n",
       "  <tbody>\n",
       "    <tr>\n",
       "      <th>0</th>\n",
       "      <td>15.695714</td>\n",
       "      <td>0.0</td>\n",
       "      <td>0.0</td>\n",
       "      <td>0.0</td>\n",
       "      <td>19</td>\n",
       "      <td>0.0</td>\n",
       "      <td>0</td>\n",
       "      <td>0.0</td>\n",
       "      <td>0.0</td>\n",
       "      <td>0.0</td>\n",
       "      <td>...</td>\n",
       "      <td>NaN</td>\n",
       "      <td>NaN</td>\n",
       "      <td>0.0</td>\n",
       "      <td>NaN</td>\n",
       "      <td>Tue Jan 01 00:00:00 EST 2013</td>\n",
       "      <td>Tue Jan 01 00:00:00 EST 2013</td>\n",
       "      <td>NaN</td>\n",
       "      <td>0</td>\n",
       "      <td>0</td>\n",
       "      <td>0</td>\n",
       "    </tr>\n",
       "    <tr>\n",
       "      <th>1</th>\n",
       "      <td>29.964545</td>\n",
       "      <td>0.0</td>\n",
       "      <td>0.0</td>\n",
       "      <td>0.0</td>\n",
       "      <td>9</td>\n",
       "      <td>0.0</td>\n",
       "      <td>0</td>\n",
       "      <td>0.0</td>\n",
       "      <td>0.0</td>\n",
       "      <td>0.0</td>\n",
       "      <td>...</td>\n",
       "      <td>NaN</td>\n",
       "      <td>NaN</td>\n",
       "      <td>0.0</td>\n",
       "      <td>NaN</td>\n",
       "      <td>Tue Jan 01 00:00:00 EST 2013</td>\n",
       "      <td>Tue Jan 01 00:00:00 EST 2013</td>\n",
       "      <td>NaN</td>\n",
       "      <td>0</td>\n",
       "      <td>0</td>\n",
       "      <td>0</td>\n",
       "    </tr>\n",
       "  </tbody>\n",
       "</table>\n",
       "<p>2 rows × 83 columns</p>\n",
       "</div>"
      ],
      "text/plain": [
       "   barrels08  barrelsA08  charge120  charge240  city08  city08U  cityA08  \\\n",
       "0  15.695714         0.0        0.0        0.0      19      0.0        0   \n",
       "1  29.964545         0.0        0.0        0.0       9      0.0        0   \n",
       "\n",
       "   cityA08U  cityCD  cityE    ...     mfrCode  c240Dscr  charge240b  \\\n",
       "0       0.0     0.0    0.0    ...         NaN       NaN         0.0   \n",
       "1       0.0     0.0    0.0    ...         NaN       NaN         0.0   \n",
       "\n",
       "   c240bDscr                     createdOn                    modifiedOn  \\\n",
       "0        NaN  Tue Jan 01 00:00:00 EST 2013  Tue Jan 01 00:00:00 EST 2013   \n",
       "1        NaN  Tue Jan 01 00:00:00 EST 2013  Tue Jan 01 00:00:00 EST 2013   \n",
       "\n",
       "   startStop  phevCity  phevHwy  phevComb  \n",
       "0        NaN         0        0         0  \n",
       "1        NaN         0        0         0  \n",
       "\n",
       "[2 rows x 83 columns]"
      ]
     },
     "execution_count": 3,
     "metadata": {},
     "output_type": "execute_result"
    }
   ],
   "source": [
    "# Check to see what the data looks like:\n",
    "vehicles = pd.read_csv(\"/mnt/AGZ1/GD_AGZ1117/AGZ_Home/workspace_R/data/vehicles.csv\")\n",
    "vehicles.head(2)"
   ]
  },
  {
   "cell_type": "markdown",
   "metadata": {},
   "source": [
    "### 2-2 Ananlysis for the data set\n",
    "Check how the data format and its structure"
   ]
  },
  {
   "cell_type": "code",
   "execution_count": 4,
   "metadata": {},
   "outputs": [
    {
     "data": {
      "text/plain": [
       "array(['cylinders', 'displ', 'fuelType2', 'rangeA', 'evMotor', 'mfrCode'], dtype=object)"
      ]
     },
     "execution_count": 4,
     "metadata": {},
     "output_type": "execute_result"
    }
   ],
   "source": [
    "column_names = vehicles.columns.values\n",
    "#column_names\n",
    "column_names[[22, 23, 70, 71, 72, 73]]\n"
   ]
  },
  {
   "cell_type": "code",
   "execution_count": 5,
   "metadata": {},
   "outputs": [
    {
     "data": {
      "text/plain": [
       "array(['charge120'], dtype=object)"
      ]
     },
     "execution_count": 5,
     "metadata": {},
     "output_type": "execute_result"
    }
   ],
   "source": [
    "column_names[[2]]"
   ]
  },
  {
   "cell_type": "code",
   "execution_count": 75,
   "metadata": {},
   "outputs": [
    {
     "data": {
      "text/plain": [
       "Automatic 4-spd                     11045\n",
       "Manual 5-spd                         8340\n",
       "Automatic 3-spd                      3151\n",
       "Automatic (S6)                       2904\n",
       "Manual 6-spd                         2601\n",
       "Automatic 5-spd                      2198\n",
       "Automatic 6-spd                      1528\n",
       "Manual 4-spd                         1483\n",
       "Automatic (S8)                       1242\n",
       "Automatic (S5)                        830\n",
       "Automatic (variable gear ratios)      752\n",
       "Automatic 7-spd                       701\n",
       "Automatic (AM-S7)                     338\n",
       "Automatic 8-spd                       327\n",
       "Automatic (S7)                        297\n",
       "Automatic (S4)                        233\n",
       "Automatic (AM7)                       198\n",
       "Automatic (AV-S6)                     180\n",
       "Automatic 9-spd                       173\n",
       "Automatic (A1)                        138\n",
       "Automatic (AM6)                       130\n",
       "Automatic (AM-S6)                     111\n",
       "Automatic (AV-S7)                     107\n",
       "Manual 7-spd                           93\n",
       "Manual 3-spd                           77\n",
       "Automatic (S10)                        51\n",
       "Automatic (S9)                         49\n",
       "Automatic (AV-S8)                      32\n",
       "Automatic (AM-S8)                      28\n",
       "Manual 4-spd Doubled                   17\n",
       "Automatic (AM5)                        14\n",
       "Automatic 10-spd                        8\n",
       "Automatic (AM8)                         5\n",
       "Automatic (L3)                          2\n",
       "Automatic (L4)                          2\n",
       "Automatic (AM-S9)                       1\n",
       "Automatic (AV-S10)                      1\n",
       "Name: trany, dtype: int64"
      ]
     },
     "execution_count": 75,
     "metadata": {},
     "output_type": "execute_result"
    }
   ],
   "source": [
    "pd.value_counts(vehicles.trany)"
   ]
  },
  {
   "cell_type": "markdown",
   "metadata": {},
   "source": [
    "### 2-1 First, let's find out how many observations (rows) are in our data using the following command:"
   ]
  },
  {
   "cell_type": "code",
   "execution_count": 76,
   "metadata": {},
   "outputs": [
    {
     "data": {
      "text/plain": [
       "39398"
      ]
     },
     "execution_count": 76,
     "metadata": {},
     "output_type": "execute_result"
    }
   ],
   "source": [
    "len(vehicles)"
   ]
  },
  {
   "cell_type": "markdown",
   "metadata": {},
   "source": [
    "### 2-2 Next, let's find out how many variables (columns) are in our data using the following command:"
   ]
  },
  {
   "cell_type": "code",
   "execution_count": 77,
   "metadata": {},
   "outputs": [
    {
     "data": {
      "text/plain": [
       "83"
      ]
     },
     "execution_count": 77,
     "metadata": {},
     "output_type": "execute_result"
    }
   ],
   "source": [
    "len(vehicles.columns)"
   ]
  },
  {
   "cell_type": "markdown",
   "metadata": {},
   "source": [
    "### 2-3 Chec to see the names of the columns"
   ]
  },
  {
   "cell_type": "code",
   "execution_count": 6,
   "metadata": {},
   "outputs": [
    {
     "name": "stdout",
     "output_type": "stream",
     "text": [
      "Index(['barrels08', 'barrelsA08', 'charge120', 'charge240', 'city08',\n",
      "       'city08U', 'cityA08', 'cityA08U', 'cityCD', 'cityE', 'cityUF', 'co2',\n",
      "       'co2A', 'co2TailpipeAGpm', 'co2TailpipeGpm', 'comb08', 'comb08U',\n",
      "       'combA08', 'combA08U', 'combE', 'combinedCD', 'combinedUF', 'cylinders',\n",
      "       'displ', 'drive', 'engId', 'eng_dscr', 'feScore', 'fuelCost08',\n",
      "       'fuelCostA08', 'fuelType', 'fuelType1', 'ghgScore', 'ghgScoreA',\n",
      "       'highway08', 'highway08U', 'highwayA08', 'highwayA08U', 'highwayCD',\n",
      "       'highwayE', 'highwayUF', 'hlv', 'hpv', 'id', 'lv2', 'lv4', 'make',\n",
      "       'model', 'mpgData', 'phevBlended', 'pv2', 'pv4', 'range', 'rangeCity',\n",
      "       'rangeCityA', 'rangeHwy', 'rangeHwyA', 'trany', 'UCity', 'UCityA',\n",
      "       'UHighway', 'UHighwayA', 'VClass', 'year', 'youSaveSpend', 'guzzler',\n",
      "       'trans_dscr', 'tCharger', 'sCharger', 'atvType', 'fuelType2', 'rangeA',\n",
      "       'evMotor', 'mfrCode', 'c240Dscr', 'charge240b', 'c240bDscr',\n",
      "       'createdOn', 'modifiedOn', 'startStop', 'phevCity', 'phevHwy',\n",
      "       'phevComb'],\n",
      "      dtype='object')\n"
     ]
    }
   ],
   "source": [
    "print(vehicles.columns)"
   ]
  },
  {
   "cell_type": "markdown",
   "metadata": {},
   "source": [
    "### 2-4 Find out how many unique years of data are included in this dataset and what the first and last years"
   ]
  },
  {
   "cell_type": "code",
   "execution_count": 7,
   "metadata": {},
   "outputs": [
    {
     "data": {
      "text/plain": [
       "35"
      ]
     },
     "execution_count": 7,
     "metadata": {},
     "output_type": "execute_result"
    }
   ],
   "source": [
    "len(pd.unique(vehicles.year))"
   ]
  },
  {
   "cell_type": "code",
   "execution_count": 80,
   "metadata": {},
   "outputs": [
    {
     "data": {
      "text/plain": [
       "1984"
      ]
     },
     "execution_count": 80,
     "metadata": {},
     "output_type": "execute_result"
    }
   ],
   "source": [
    "min(vehicles.year)"
   ]
  },
  {
   "cell_type": "code",
   "execution_count": 81,
   "metadata": {},
   "outputs": [
    {
     "data": {
      "text/plain": [
       "2018"
      ]
     },
     "execution_count": 81,
     "metadata": {},
     "output_type": "execute_result"
    }
   ],
   "source": [
    "max(vehicles[\"year\"])"
   ]
  },
  {
   "cell_type": "markdown",
   "metadata": {},
   "source": [
    "### 2-5. Find out what types of fuel are used as the automobiles' primary fuel types."
   ]
  },
  {
   "cell_type": "code",
   "execution_count": 82,
   "metadata": {},
   "outputs": [
    {
     "data": {
      "text/plain": [
       "Regular Gasoline     27094\n",
       "Premium Gasoline     10905\n",
       "Diesel                1103\n",
       "Electricity            146\n",
       "Midgrade Gasoline       90\n",
       "Natural Gas             60\n",
       "Name: fuelType1, dtype: int64"
      ]
     },
     "execution_count": 82,
     "metadata": {},
     "output_type": "execute_result"
    }
   ],
   "source": [
    "pd.value_counts(vehicles.fuelType1)"
   ]
  },
  {
   "cell_type": "markdown",
   "metadata": {},
   "source": [
    "### 2-6 Explore what types of transmissions these automobiles have"
   ]
  },
  {
   "cell_type": "code",
   "execution_count": 83,
   "metadata": {},
   "outputs": [
    {
     "data": {
      "text/plain": [
       "Automatic 4-spd                     11045\n",
       "Manual 5-spd                         8340\n",
       "Automatic 3-spd                      3151\n",
       "Automatic (S6)                       2904\n",
       "Manual 6-spd                         2601\n",
       "Automatic 5-spd                      2198\n",
       "Automatic 6-spd                      1528\n",
       "Manual 4-spd                         1483\n",
       "Automatic (S8)                       1242\n",
       "Automatic (S5)                        830\n",
       "Automatic (variable gear ratios)      752\n",
       "Automatic 7-spd                       701\n",
       "Automatic (AM-S7)                     338\n",
       "Automatic 8-spd                       327\n",
       "Automatic (S7)                        297\n",
       "Automatic (S4)                        233\n",
       "Automatic (AM7)                       198\n",
       "Automatic (AV-S6)                     180\n",
       "Automatic 9-spd                       173\n",
       "Automatic (A1)                        138\n",
       "Automatic (AM6)                       130\n",
       "Automatic (AM-S6)                     111\n",
       "Automatic (AV-S7)                     107\n",
       "Manual 7-spd                           93\n",
       "Manual 3-spd                           77\n",
       "Automatic (S10)                        51\n",
       "Automatic (S9)                         49\n",
       "Automatic (AV-S8)                      32\n",
       "Automatic (AM-S8)                      28\n",
       "Manual 4-spd Doubled                   17\n",
       "Automatic (AM5)                        14\n",
       "Automatic 10-spd                        8\n",
       "Automatic (AM8)                         5\n",
       "Automatic (L3)                          2\n",
       "Automatic (L4)                          2\n",
       "Automatic (AM-S9)                       1\n",
       "Automatic (AV-S10)                      1\n",
       "Name: trany, dtype: int64"
      ]
     },
     "execution_count": 83,
     "metadata": {},
     "output_type": "execute_result"
    }
   ],
   "source": [
    "pd.value_counts(vehicles.trany)"
   ]
  },
  {
   "cell_type": "markdown",
   "metadata": {},
   "source": [
    "What we really want to know is the number of cars with automatic and manual transmissions. We notice that the trany variable always starts with the letter A when it represents an automatic transmission and M for manual transmission. Thus, we create a new variable, trany2, that contains the first character of the trany variable, which is a string:"
   ]
  },
  {
   "cell_type": "code",
   "execution_count": 84,
   "metadata": {},
   "outputs": [
    {
     "data": {
      "text/plain": [
       "A    26776\n",
       "M    12611\n",
       "Name: trany2, dtype: int64"
      ]
     },
     "execution_count": 84,
     "metadata": {},
     "output_type": "execute_result"
    }
   ],
   "source": [
    "vehicles[\"trany2\"] = vehicles.trany.str[0]\n",
    "pd.value_counts(vehicles.trany2)"
   ]
  },
  {
   "cell_type": "markdown",
   "metadata": {},
   "source": [
    "So, we found out that total number of automatic cars is 26776, and manual is 12611 over the past 34 years."
   ]
  },
  {
   "cell_type": "markdown",
   "metadata": {},
   "source": [
    "## 3. Analyzing automobile fuel efficiency over time with Python\n",
    "\n",
    "Let's look at some of the fuel efficiency metrics over time and in relation to other data points. "
   ]
  },
  {
   "cell_type": "markdown",
   "metadata": {},
   "source": [
    "### 3-1 Looking at whether there is an overall trend of how mpg changes over time on average. We first want to group the data by year:"
   ]
  },
  {
   "cell_type": "code",
   "execution_count": 8,
   "metadata": {},
   "outputs": [],
   "source": [
    "grouped = vehicles.groupby(\"year\")"
   ]
  },
  {
   "cell_type": "markdown",
   "metadata": {},
   "source": [
    "### 3-2  Next, we want to compute the mean of three separate columns by the previous grouping:\n",
    "Thisshould produce a new data frame with three columns containing the mean of comb08, highway08, and city08 variables, respectively; we are using the mean function supplied by NumPy (np)."
   ]
  },
  {
   "cell_type": "code",
   "execution_count": 9,
   "metadata": {},
   "outputs": [],
   "source": [
    "averaged = grouped['comb08', 'highway08','city08'].agg([np.mean])"
   ]
  },
  {
   "cell_type": "markdown",
   "metadata": {},
   "source": [
    "### 3-3. Data Cleaning:\n",
    "In order to make life easier, we rename the columns and then create a new column"
   ]
  },
  {
   "cell_type": "code",
   "execution_count": 10,
   "metadata": {},
   "outputs": [],
   "source": [
    "averaged.columns = ['comb08_mean','highway08_mean', 'city08_mean']\n",
    "averaged['year'] = averaged.index"
   ]
  },
  {
   "cell_type": "markdown",
   "metadata": {},
   "source": [
    "### 3-4. Finally, Plot the results as a scatter plot using the new ggplot package for the Python library:"
   ]
  },
  {
   "cell_type": "code",
   "execution_count": 11,
   "metadata": {},
   "outputs": [
    {
     "data": {
      "image/png": "[encoded data removed]",
      "text/plain": [
       "<matplotlib.figure.Figure at 0x7fbb66d79a90>"
      ]
     },
     "metadata": {},
     "output_type": "display_data"
    },
    {
     "name": "stdout",
     "output_type": "stream",
     "text": [
      "<ggplot: (-9223363259175962224)>\n"
     ]
    }
   ],
   "source": [
    "print (ggplot(averaged, aes('year', 'comb08_mean')) + geom_point(color='steelblue') + xlab(\"Year\") + ylab(\"AverageMPG\") + ggtitle(\"All cars\"))"
   ]
  },
  {
   "cell_type": "markdown",
   "metadata": {},
   "source": [
    "From above plot, we might be missleaded to see the mileage became so good in the recent years, because there're lot hybrid cars coming out in the recent years. Next step will try to consifer to a better way."
   ]
  },
  {
   "cell_type": "markdown",
   "metadata": {},
   "source": [
    "### 3-5. Further clean the data by remove hybrid cars\n",
    "- Create three Boolean arrays. The criteria1 array selects those rows of the data frame where fuelType1 is Regular Gasoline;\n",
    "- Premium Gasoline, or Midgrade Gasoline. \n",
    "- The criteria2 array makes sure that the rows contain a null for fuelType2, and criteria3 ensures that the atvType is not Hybrid. We can perform the logical AND operation over these three"
   ]
  },
  {
   "cell_type": "code",
   "execution_count": 12,
   "metadata": {},
   "outputs": [
    {
     "data": {
      "text/plain": [
       "36062"
      ]
     },
     "execution_count": 12,
     "metadata": {},
     "output_type": "execute_result"
    }
   ],
   "source": [
    "criteria1 = vehicles.fuelType1.isin([\"Regular Gasoline\",\n",
    "\"Premium Gasoline\", \"Midgrade Gasoline\"])\n",
    "criteria2 = vehicles.fuelType2.isnull()\n",
    "criteria3 = vehicles.atvType != \"Hybrid\"\n",
    "vehicles_non_hybrid = vehicles[criteria1 & criteria2 &\n",
    "criteria3]\n",
    "len(vehicles_non_hybrid)"
   ]
  },
  {
   "cell_type": "markdown",
   "metadata": {},
   "source": [
    "### 3-6. Group the resulting data frame by year and then compute the mean combinationfuel efficiency for each year, resulting in the following data frame:"
   ]
  },
  {
   "cell_type": "code",
   "execution_count": 90,
   "metadata": {},
   "outputs": [
    {
     "name": "stdout",
     "output_type": "stream",
     "text": [
      "           mean\n",
      "year           \n",
      "1984  19.121622\n",
      "1985  19.394686\n",
      "1986  19.320457\n",
      "1987  19.164568\n",
      "1988  19.367607\n",
      "1989  19.141964\n",
      "1990  19.031459\n",
      "1991  18.838060\n",
      "1992  18.861566\n",
      "1993  19.137383\n",
      "1994  19.092632\n",
      "1995  18.872591\n",
      "1996  19.530962\n",
      "1997  19.368000\n",
      "1998  19.329545\n",
      "1999  19.239759\n",
      "2000  19.169345\n",
      "2001  19.075058\n",
      "2002  18.950270\n",
      "2003  18.761711\n",
      "2004  18.967339\n",
      "2005  19.005510\n",
      "2006  18.786398\n",
      "2007  18.987512\n",
      "2008  19.191781\n",
      "2009  19.738095\n",
      "2010  20.466736\n",
      "2011  20.838219\n",
      "2012  21.407328\n",
      "2013  22.228877\n",
      "2014  22.279835\n",
      "2015  22.418539\n",
      "2016  22.742509\n",
      "2017  22.799460\n",
      "2018  22.913043\n"
     ]
    }
   ],
   "source": [
    "grouped = vehicles_non_hybrid.groupby(['year'])\n",
    "averaged = grouped['comb08'].agg([np.mean])\n",
    "print(averaged)"
   ]
  },
  {
   "cell_type": "markdown",
   "metadata": {},
   "source": [
    "### 3-7. Can we find out whether there have been fewer cars with large engines built more recently?\n",
    "We may need to dig into the displ variable that represents the engine displacement in liters."
   ]
  },
  {
   "cell_type": "code",
   "execution_count": 91,
   "metadata": {},
   "outputs": [
    {
     "data": {
      "text/plain": [
       "array([ 2. ,  4.9,  2.2,  5.2,  1.8,  1.6,  2.3,  2.8,  4. ,  5. ,  3.3,\n",
       "        3.1,  3.8,  4.6,  3.4,  3. ,  5.9,  2.5,  4.5,  6.8,  2.4,  2.9,\n",
       "        5.7,  4.3,  3.5,  5.8,  3.2,  4.2,  1.9,  2.6,  7.4,  3.9,  1.5,\n",
       "        1.3,  4.1,  8. ,  6. ,  3.6,  5.4,  5.6,  1. ,  2.1,  1.2,  6.5,\n",
       "        2.7,  4.7,  5.5,  1.1,  5.3,  4.4,  3.7,  6.7,  4.8,  1.7,  6.2,\n",
       "        8.3,  1.4,  6.1,  7. ,  8.4,  6.3,  nan,  6.6,  6.4,  0.9])"
      ]
     },
     "execution_count": 91,
     "metadata": {},
     "output_type": "execute_result"
    }
   ],
   "source": [
    "pd.unique(vehicles_non_hybrid.displ)"
   ]
  },
  {
   "cell_type": "markdown",
   "metadata": {},
   "source": [
    "### 3-8 remove all rows from the vehicles_non_hybrid data frame that have nan displ values and then do the same for the comb08 variable."
   ]
  },
  {
   "cell_type": "code",
   "execution_count": 92,
   "metadata": {},
   "outputs": [
    {
     "name": "stderr",
     "output_type": "stream",
     "text": [
      "/home/azhang/anaconda3/envs/py34/lib/python3.4/site-packages/pandas/core/generic.py:2773: SettingWithCopyWarning: \n",
      "A value is trying to be set on a copy of a slice from a DataFrame.\n",
      "Try using .loc[row_indexer,col_indexer] = value instead\n",
      "\n",
      "See the caveats in the documentation: http://pandas.pydata.org/pandas-docs/stable/indexing.html#indexing-view-versus-copy\n",
      "  self[name] = value\n"
     ]
    }
   ],
   "source": [
    "criteria = vehicles_non_hybrid.displ.notnull()\n",
    "vehicles_non_hybrid = vehicles_non_hybrid[criteria]\n",
    "vehicles_non_hybrid.displ = vehicles_non_hybrid.displ.astype('float')\n",
    "criteria = vehicles_non_hybrid.comb08.notnull()\n",
    "vehicles_non_hybrid = vehicles_non_hybrid[criteria]\n",
    "vehicles_non_hybrid.comb08 = vehicles_non_hybrid.comb08.astype('float')"
   ]
  },
  {
   "cell_type": "markdown",
   "metadata": {},
   "source": [
    "### 3-9 Now we can produce a scatter plot of the results again using the ggplot library"
   ]
  },
  {
   "cell_type": "code",
   "execution_count": 93,
   "metadata": {
    "scrolled": true
   },
   "outputs": [
    {
     "data": {
      "image/png": "[encoded data removed]",
      "text/plain": [
       "<matplotlib.figure.Figure at 0x7f4c6ff723c8>"
      ]
     },
     "metadata": {},
     "output_type": "display_data"
    },
    {
     "name": "stdout",
     "output_type": "stream",
     "text": [
      "<ggplot: (8747891994295)>\n"
     ]
    }
   ],
   "source": [
    "print (ggplot(vehicles_non_hybrid, aes('displ', 'comb08')) +\n",
    "geom_point(color='steelblue') + xlab(\"Engine Displacement\") +\n",
    "ylab(\"Average MPG\") + ggtitle(\"Gasoline cars\"))"
   ]
  },
  {
   "cell_type": "markdown",
   "metadata": {},
   "source": [
    "### 3-10 Let's see whether smaller cars were made in later years on average:"
   ]
  },
  {
   "cell_type": "code",
   "execution_count": 94,
   "metadata": {},
   "outputs": [
    {
     "data": {
      "text/html": [
       "<div>\n",
       "<table border=\"1\" class=\"dataframe\">\n",
       "  <thead>\n",
       "    <tr>\n",
       "      <th></th>\n",
       "      <th>displ</th>\n",
       "      <th>comb08</th>\n",
       "    </tr>\n",
       "    <tr>\n",
       "      <th></th>\n",
       "      <th>mean</th>\n",
       "      <th>mean</th>\n",
       "    </tr>\n",
       "    <tr>\n",
       "      <th>year</th>\n",
       "      <th></th>\n",
       "      <th></th>\n",
       "    </tr>\n",
       "  </thead>\n",
       "  <tbody>\n",
       "    <tr>\n",
       "      <th>1984</th>\n",
       "      <td>3.068449</td>\n",
       "      <td>19.121622</td>\n",
       "    </tr>\n",
       "    <tr>\n",
       "      <th>1985</th>\n",
       "      <td>3.075990</td>\n",
       "      <td>19.389358</td>\n",
       "    </tr>\n",
       "    <tr>\n",
       "      <th>1986</th>\n",
       "      <td>3.126514</td>\n",
       "      <td>19.320457</td>\n",
       "    </tr>\n",
       "    <tr>\n",
       "      <th>1987</th>\n",
       "      <td>3.096474</td>\n",
       "      <td>19.164568</td>\n",
       "    </tr>\n",
       "    <tr>\n",
       "      <th>1988</th>\n",
       "      <td>3.113558</td>\n",
       "      <td>19.367607</td>\n",
       "    </tr>\n",
       "    <tr>\n",
       "      <th>1989</th>\n",
       "      <td>3.133393</td>\n",
       "      <td>19.141964</td>\n",
       "    </tr>\n",
       "    <tr>\n",
       "      <th>1990</th>\n",
       "      <td>3.145472</td>\n",
       "      <td>19.031459</td>\n",
       "    </tr>\n",
       "    <tr>\n",
       "      <th>1991</th>\n",
       "      <td>3.178957</td>\n",
       "      <td>18.838060</td>\n",
       "    </tr>\n",
       "    <tr>\n",
       "      <th>1992</th>\n",
       "      <td>3.224954</td>\n",
       "      <td>18.861566</td>\n",
       "    </tr>\n",
       "    <tr>\n",
       "      <th>1993</th>\n",
       "      <td>3.193832</td>\n",
       "      <td>19.137383</td>\n",
       "    </tr>\n",
       "    <tr>\n",
       "      <th>1994</th>\n",
       "      <td>3.233053</td>\n",
       "      <td>19.092632</td>\n",
       "    </tr>\n",
       "    <tr>\n",
       "      <th>1995</th>\n",
       "      <td>3.375161</td>\n",
       "      <td>18.872591</td>\n",
       "    </tr>\n",
       "    <tr>\n",
       "      <th>1996</th>\n",
       "      <td>3.205929</td>\n",
       "      <td>19.530962</td>\n",
       "    </tr>\n",
       "    <tr>\n",
       "      <th>1997</th>\n",
       "      <td>3.206267</td>\n",
       "      <td>19.368000</td>\n",
       "    </tr>\n",
       "    <tr>\n",
       "      <th>1998</th>\n",
       "      <td>3.197348</td>\n",
       "      <td>19.329545</td>\n",
       "    </tr>\n",
       "    <tr>\n",
       "      <th>1999</th>\n",
       "      <td>3.214819</td>\n",
       "      <td>19.239759</td>\n",
       "    </tr>\n",
       "    <tr>\n",
       "      <th>2000</th>\n",
       "      <td>3.227070</td>\n",
       "      <td>19.169345</td>\n",
       "    </tr>\n",
       "    <tr>\n",
       "      <th>2001</th>\n",
       "      <td>3.216051</td>\n",
       "      <td>19.075058</td>\n",
       "    </tr>\n",
       "    <tr>\n",
       "      <th>2002</th>\n",
       "      <td>3.263568</td>\n",
       "      <td>18.950270</td>\n",
       "    </tr>\n",
       "    <tr>\n",
       "      <th>2003</th>\n",
       "      <td>3.340428</td>\n",
       "      <td>18.761711</td>\n",
       "    </tr>\n",
       "    <tr>\n",
       "      <th>2004</th>\n",
       "      <td>3.349568</td>\n",
       "      <td>18.967339</td>\n",
       "    </tr>\n",
       "    <tr>\n",
       "      <th>2005</th>\n",
       "      <td>3.384022</td>\n",
       "      <td>19.005510</td>\n",
       "    </tr>\n",
       "    <tr>\n",
       "      <th>2006</th>\n",
       "      <td>3.534387</td>\n",
       "      <td>18.786398</td>\n",
       "    </tr>\n",
       "    <tr>\n",
       "      <th>2007</th>\n",
       "      <td>3.569452</td>\n",
       "      <td>18.987512</td>\n",
       "    </tr>\n",
       "    <tr>\n",
       "      <th>2008</th>\n",
       "      <td>3.587032</td>\n",
       "      <td>19.191781</td>\n",
       "    </tr>\n",
       "    <tr>\n",
       "      <th>2009</th>\n",
       "      <td>3.522095</td>\n",
       "      <td>19.738095</td>\n",
       "    </tr>\n",
       "    <tr>\n",
       "      <th>2010</th>\n",
       "      <td>3.413306</td>\n",
       "      <td>20.466736</td>\n",
       "    </tr>\n",
       "    <tr>\n",
       "      <th>2011</th>\n",
       "      <td>3.385668</td>\n",
       "      <td>20.838219</td>\n",
       "    </tr>\n",
       "    <tr>\n",
       "      <th>2012</th>\n",
       "      <td>3.350862</td>\n",
       "      <td>21.407328</td>\n",
       "    </tr>\n",
       "    <tr>\n",
       "      <th>2013</th>\n",
       "      <td>3.220107</td>\n",
       "      <td>22.228877</td>\n",
       "    </tr>\n",
       "    <tr>\n",
       "      <th>2014</th>\n",
       "      <td>3.264609</td>\n",
       "      <td>22.279835</td>\n",
       "    </tr>\n",
       "    <tr>\n",
       "      <th>2015</th>\n",
       "      <td>3.241760</td>\n",
       "      <td>22.418539</td>\n",
       "    </tr>\n",
       "    <tr>\n",
       "      <th>2016</th>\n",
       "      <td>3.142603</td>\n",
       "      <td>22.742509</td>\n",
       "    </tr>\n",
       "    <tr>\n",
       "      <th>2017</th>\n",
       "      <td>3.105306</td>\n",
       "      <td>22.799460</td>\n",
       "    </tr>\n",
       "    <tr>\n",
       "      <th>2018</th>\n",
       "      <td>3.054396</td>\n",
       "      <td>22.913043</td>\n",
       "    </tr>\n",
       "  </tbody>\n",
       "</table>\n",
       "</div>"
      ],
      "text/plain": [
       "         displ     comb08\n",
       "          mean       mean\n",
       "year                     \n",
       "1984  3.068449  19.121622\n",
       "1985  3.075990  19.389358\n",
       "1986  3.126514  19.320457\n",
       "1987  3.096474  19.164568\n",
       "1988  3.113558  19.367607\n",
       "1989  3.133393  19.141964\n",
       "1990  3.145472  19.031459\n",
       "1991  3.178957  18.838060\n",
       "1992  3.224954  18.861566\n",
       "1993  3.193832  19.137383\n",
       "1994  3.233053  19.092632\n",
       "1995  3.375161  18.872591\n",
       "1996  3.205929  19.530962\n",
       "1997  3.206267  19.368000\n",
       "1998  3.197348  19.329545\n",
       "1999  3.214819  19.239759\n",
       "2000  3.227070  19.169345\n",
       "2001  3.216051  19.075058\n",
       "2002  3.263568  18.950270\n",
       "2003  3.340428  18.761711\n",
       "2004  3.349568  18.967339\n",
       "2005  3.384022  19.005510\n",
       "2006  3.534387  18.786398\n",
       "2007  3.569452  18.987512\n",
       "2008  3.587032  19.191781\n",
       "2009  3.522095  19.738095\n",
       "2010  3.413306  20.466736\n",
       "2011  3.385668  20.838219\n",
       "2012  3.350862  21.407328\n",
       "2013  3.220107  22.228877\n",
       "2014  3.264609  22.279835\n",
       "2015  3.241760  22.418539\n",
       "2016  3.142603  22.742509\n",
       "2017  3.105306  22.799460\n",
       "2018  3.054396  22.913043"
      ]
     },
     "execution_count": 94,
     "metadata": {},
     "output_type": "execute_result"
    }
   ],
   "source": [
    "grouped_by_year = vehicles_non_hybrid.groupby(['year'])\n",
    "avg_grouped_by_year = grouped_by_year['displ','comb08'].agg([np.mean])\n",
    "avg_grouped_by_year"
   ]
  },
  {
   "cell_type": "markdown",
   "metadata": {},
   "source": [
    "### 3-11 What if plot both the average displ value and the average comb08 value by year on the same plot to look for trends? With this we may need to reshape the avg_grouped_by_year data frame to convert it from the wide format to the long format:"
   ]
  },
  {
   "cell_type": "code",
   "execution_count": 95,
   "metadata": {},
   "outputs": [
    {
     "data": {
      "image/png": "[encoded data removed]",
      "text/plain": [
       "<matplotlib.figure.Figure at 0x7f4c741f2320>"
      ]
     },
     "metadata": {},
     "output_type": "display_data"
    },
    {
     "data": {
      "text/plain": [
       "<ggplot: (8747906642254)>"
      ]
     },
     "execution_count": 95,
     "metadata": {},
     "output_type": "execute_result"
    }
   ],
   "source": [
    "avg_grouped_by_year['year'] = avg_grouped_by_year.index\n",
    "melted_avg_grouped_by_year = pd.melt(avg_grouped_by_year,id_vars='year')\n",
    "\n",
    "#Then, let's create our faceted plot:\n",
    "p = ggplot(aes(x='year', y='value', color = 'variable_0'), data=melted_avg_grouped_by_year)\n",
    "p + geom_point() + facet_wrap(\"variable_0\")\n"
   ]
  },
  {
   "cell_type": "code",
   "execution_count": 109,
   "metadata": {},
   "outputs": [],
   "source": [
    "### Once we have the grouped_by_year object, we can iterate through the groups if we wanted to:\n",
    "\n",
    "# for (name, group) in grouped_by_year:\n",
    "#    print(name)\n",
    "#    print(group)\n",
    "\n",
    "# I commented above code as the printout is very long."
   ]
  },
  {
   "cell_type": "markdown",
   "metadata": {},
   "source": [
    "#### if we like to see the trend in data for the mpg:"
   ]
  },
  {
   "cell_type": "code",
   "execution_count": 97,
   "metadata": {},
   "outputs": [
    {
     "data": {
      "text/html": [
       "<div>\n",
       "<table border=\"1\" class=\"dataframe\">\n",
       "  <thead>\n",
       "    <tr style=\"text-align: right;\">\n",
       "      <th></th>\n",
       "      <th>mean</th>\n",
       "    </tr>\n",
       "    <tr>\n",
       "      <th>year</th>\n",
       "      <th></th>\n",
       "    </tr>\n",
       "  </thead>\n",
       "  <tbody>\n",
       "    <tr>\n",
       "      <th>1984</th>\n",
       "      <td>19.121622</td>\n",
       "    </tr>\n",
       "    <tr>\n",
       "      <th>1985</th>\n",
       "      <td>19.394686</td>\n",
       "    </tr>\n",
       "    <tr>\n",
       "      <th>1986</th>\n",
       "      <td>19.320457</td>\n",
       "    </tr>\n",
       "    <tr>\n",
       "      <th>1987</th>\n",
       "      <td>19.164568</td>\n",
       "    </tr>\n",
       "    <tr>\n",
       "      <th>1988</th>\n",
       "      <td>19.367607</td>\n",
       "    </tr>\n",
       "    <tr>\n",
       "      <th>1989</th>\n",
       "      <td>19.141964</td>\n",
       "    </tr>\n",
       "    <tr>\n",
       "      <th>1990</th>\n",
       "      <td>19.031459</td>\n",
       "    </tr>\n",
       "    <tr>\n",
       "      <th>1991</th>\n",
       "      <td>18.838060</td>\n",
       "    </tr>\n",
       "    <tr>\n",
       "      <th>1992</th>\n",
       "      <td>18.861566</td>\n",
       "    </tr>\n",
       "    <tr>\n",
       "      <th>1993</th>\n",
       "      <td>19.137383</td>\n",
       "    </tr>\n",
       "    <tr>\n",
       "      <th>1994</th>\n",
       "      <td>19.092632</td>\n",
       "    </tr>\n",
       "    <tr>\n",
       "      <th>1995</th>\n",
       "      <td>18.872591</td>\n",
       "    </tr>\n",
       "    <tr>\n",
       "      <th>1996</th>\n",
       "      <td>19.530962</td>\n",
       "    </tr>\n",
       "    <tr>\n",
       "      <th>1997</th>\n",
       "      <td>19.368000</td>\n",
       "    </tr>\n",
       "    <tr>\n",
       "      <th>1998</th>\n",
       "      <td>19.329545</td>\n",
       "    </tr>\n",
       "    <tr>\n",
       "      <th>1999</th>\n",
       "      <td>19.239759</td>\n",
       "    </tr>\n",
       "    <tr>\n",
       "      <th>2000</th>\n",
       "      <td>19.169345</td>\n",
       "    </tr>\n",
       "    <tr>\n",
       "      <th>2001</th>\n",
       "      <td>19.075058</td>\n",
       "    </tr>\n",
       "    <tr>\n",
       "      <th>2002</th>\n",
       "      <td>18.950270</td>\n",
       "    </tr>\n",
       "    <tr>\n",
       "      <th>2003</th>\n",
       "      <td>18.761711</td>\n",
       "    </tr>\n",
       "    <tr>\n",
       "      <th>2004</th>\n",
       "      <td>18.967339</td>\n",
       "    </tr>\n",
       "    <tr>\n",
       "      <th>2005</th>\n",
       "      <td>19.005510</td>\n",
       "    </tr>\n",
       "    <tr>\n",
       "      <th>2006</th>\n",
       "      <td>18.786398</td>\n",
       "    </tr>\n",
       "    <tr>\n",
       "      <th>2007</th>\n",
       "      <td>18.987512</td>\n",
       "    </tr>\n",
       "    <tr>\n",
       "      <th>2008</th>\n",
       "      <td>19.191781</td>\n",
       "    </tr>\n",
       "    <tr>\n",
       "      <th>2009</th>\n",
       "      <td>19.738095</td>\n",
       "    </tr>\n",
       "    <tr>\n",
       "      <th>2010</th>\n",
       "      <td>20.466736</td>\n",
       "    </tr>\n",
       "    <tr>\n",
       "      <th>2011</th>\n",
       "      <td>20.838219</td>\n",
       "    </tr>\n",
       "    <tr>\n",
       "      <th>2012</th>\n",
       "      <td>21.407328</td>\n",
       "    </tr>\n",
       "    <tr>\n",
       "      <th>2013</th>\n",
       "      <td>22.228877</td>\n",
       "    </tr>\n",
       "    <tr>\n",
       "      <th>2014</th>\n",
       "      <td>22.279835</td>\n",
       "    </tr>\n",
       "    <tr>\n",
       "      <th>2015</th>\n",
       "      <td>22.418539</td>\n",
       "    </tr>\n",
       "    <tr>\n",
       "      <th>2016</th>\n",
       "      <td>22.742509</td>\n",
       "    </tr>\n",
       "    <tr>\n",
       "      <th>2017</th>\n",
       "      <td>22.799460</td>\n",
       "    </tr>\n",
       "    <tr>\n",
       "      <th>2018</th>\n",
       "      <td>22.913043</td>\n",
       "    </tr>\n",
       "  </tbody>\n",
       "</table>\n",
       "</div>"
      ],
      "text/plain": [
       "           mean\n",
       "year           \n",
       "1984  19.121622\n",
       "1985  19.394686\n",
       "1986  19.320457\n",
       "1987  19.164568\n",
       "1988  19.367607\n",
       "1989  19.141964\n",
       "1990  19.031459\n",
       "1991  18.838060\n",
       "1992  18.861566\n",
       "1993  19.137383\n",
       "1994  19.092632\n",
       "1995  18.872591\n",
       "1996  19.530962\n",
       "1997  19.368000\n",
       "1998  19.329545\n",
       "1999  19.239759\n",
       "2000  19.169345\n",
       "2001  19.075058\n",
       "2002  18.950270\n",
       "2003  18.761711\n",
       "2004  18.967339\n",
       "2005  19.005510\n",
       "2006  18.786398\n",
       "2007  18.987512\n",
       "2008  19.191781\n",
       "2009  19.738095\n",
       "2010  20.466736\n",
       "2011  20.838219\n",
       "2012  21.407328\n",
       "2013  22.228877\n",
       "2014  22.279835\n",
       "2015  22.418539\n",
       "2016  22.742509\n",
       "2017  22.799460\n",
       "2018  22.913043"
      ]
     },
     "execution_count": 97,
     "metadata": {},
     "output_type": "execute_result"
    }
   ],
   "source": [
    "averaged = grouped['comb08'].agg([np.mean])\n",
    "averaged"
   ]
  },
  {
   "cell_type": "markdown",
   "metadata": {},
   "source": [
    "## 4 Analysis the makes and models of automobiles with Python\n",
    "To continue our investigation of this dataset, I'm going to examine the makes and models of the various automobiles more closely"
   ]
  },
  {
   "cell_type": "markdown",
   "metadata": {},
   "source": [
    "### 4-1. First Let's look at how makes and models of cars inform us about fuel efficiency over time."
   ]
  },
  {
   "cell_type": "code",
   "execution_count": 98,
   "metadata": {},
   "outputs": [
    {
     "data": {
      "text/plain": [
       "array([  4.,  12.,   8.,   6.,   5.,  10.,   2.,   3.,  16.,  nan])"
      ]
     },
     "execution_count": 98,
     "metadata": {},
     "output_type": "execute_result"
    }
   ],
   "source": [
    "pd.unique(vehicles_non_hybrid.cylinders)"
   ]
  },
  {
   "cell_type": "markdown",
   "metadata": {},
   "source": [
    "### 4-2. Let's convert the cylinders variable to float so that we can then easily subset the data frame:"
   ]
  },
  {
   "cell_type": "code",
   "execution_count": 99,
   "metadata": {
    "collapsed": true
   },
   "outputs": [],
   "source": [
    "vehicles_non_hybrid.cylinders = vehicles_non_hybrid.cylinders.astype('float')\n",
    "pd.unique(vehicles_non_hybrid.cylinders)\n",
    "\n",
    "vehicles_non_hybrid_4 = vehicles_non_hybrid[(vehicles_non_hybrid.cylinders == 4.0)]"
   ]
  },
  {
   "cell_type": "markdown",
   "metadata": {},
   "source": [
    "### 4-3 let's look at the numbers of makes that have 4-cylinder cars over the time frame that is available:"
   ]
  },
  {
   "cell_type": "code",
   "execution_count": 100,
   "metadata": {},
   "outputs": [
    {
     "name": "stdout",
     "output_type": "stream",
     "text": [
      "Axes(0.125,0.125;0.775x0.775)\n"
     ]
    },
    {
     "data": {
      "image/png": "[encoded data removed]",
      "text/plain": [
       "<matplotlib.figure.Figure at 0x7f4c7d28d390>"
      ]
     },
     "metadata": {},
     "output_type": "display_data"
    }
   ],
   "source": [
    "grouped_by_year_4_cylinder = vehicles_non_hybrid_4.groupby(['year']).make.nunique()\n",
    "fig = grouped_by_year_4_cylinder.plot()\n",
    "fig.set_xlabel('Year')\n",
    "fig.set_ylabel('Number of 4-Cylinder Makes')\n",
    "print(fig)"
   ]
  },
  {
   "cell_type": "markdown",
   "metadata": {},
   "source": [
    "We can see in the preceding graph that there has been a decline in the number of makes with 4-cylinder engines available since 1980. However, as a caveat, this plot could be misleading, as we do not know if the total number of available makes per\n",
    "year has changed over the same period of time."
   ]
  },
  {
   "cell_type": "markdown",
   "metadata": {},
   "source": [
    "### 4-4 Can we look at the makes that have been available every year of this study? \n",
    "- Find a list of the automobile makes with 4-cylinder engines that were present\n",
    "- Secondary, compute the unique list of makes per model year:\n"
   ]
  },
  {
   "cell_type": "code",
   "execution_count": null,
   "metadata": {
    "collapsed": true
   },
   "outputs": [],
   "source": []
  },
  {
   "cell_type": "code",
   "execution_count": 101,
   "metadata": {},
   "outputs": [
    {
     "name": "stdout",
     "output_type": "stream",
     "text": [
      "{'Volkswagen', 'Mitsubishi', 'Ford', 'Mazda', 'Nissan', 'Toyota', 'Honda', 'Subaru', 'Chevrolet', 'Dodge', 'Jeep'}\n"
     ]
    }
   ],
   "source": [
    "# https://docs.python.org/3/library/functools.html#functools.reduce\n",
    "grouped_by_year_4_cylinder = vehicles_non_hybrid_4.groupby(['year'])\n",
    "\n",
    "unique_makes = []\n",
    "for name, group in grouped_by_year_4_cylinder:\n",
    "    unique_makes.append(set(pd.unique(group['make'])))\n",
    "    \n",
    "unique_makes = reduce (set.intersection, unique_makes)\n",
    "print (unique_makes)"
   ]
  },
  {
   "cell_type": "markdown",
   "metadata": {},
   "source": [
    "We find that there are only 12 manufacturers that made 4-cylinder cars every year\n",
    "during this period."
   ]
  },
  {
   "cell_type": "markdown",
   "metadata": {},
   "source": [
    "### 4-5 Now, I can question how these car manufacturers' models have performed\n",
    "- Ceate an empty list that will eventually be populated by Booleans. \n",
    "- Iterate over each row in the data frame using the iterrows generator that yields both an index and row (we choose to do nothing with the index in the loop). \n",
    "- Test whether the make of the current row is in the unique_makes set computed previously and append the Boolean to the Boolean_mask set. \n",
    "- After the loop is completed, we subset the data frame to contain only rows with a make within the set of unique_makes:"
   ]
  },
  {
   "cell_type": "code",
   "execution_count": 102,
   "metadata": {},
   "outputs": [
    {
     "data": {
      "text/html": [
       "<div>\n",
       "<table border=\"1\" class=\"dataframe\">\n",
       "  <thead>\n",
       "    <tr style=\"text-align: right;\">\n",
       "      <th></th>\n",
       "      <th>barrels08</th>\n",
       "      <th>barrelsA08</th>\n",
       "      <th>charge120</th>\n",
       "      <th>charge240</th>\n",
       "      <th>city08</th>\n",
       "      <th>city08U</th>\n",
       "      <th>cityA08</th>\n",
       "      <th>cityA08U</th>\n",
       "      <th>cityCD</th>\n",
       "      <th>cityE</th>\n",
       "      <th>...</th>\n",
       "      <th>c240Dscr</th>\n",
       "      <th>charge240b</th>\n",
       "      <th>c240bDscr</th>\n",
       "      <th>createdOn</th>\n",
       "      <th>modifiedOn</th>\n",
       "      <th>startStop</th>\n",
       "      <th>phevCity</th>\n",
       "      <th>phevHwy</th>\n",
       "      <th>phevComb</th>\n",
       "      <th>trany2</th>\n",
       "    </tr>\n",
       "  </thead>\n",
       "  <tbody>\n",
       "    <tr>\n",
       "      <th>2</th>\n",
       "      <td>12.207778</td>\n",
       "      <td>0.0</td>\n",
       "      <td>0.0</td>\n",
       "      <td>0.0</td>\n",
       "      <td>23</td>\n",
       "      <td>0.0</td>\n",
       "      <td>0</td>\n",
       "      <td>0.0</td>\n",
       "      <td>0.0</td>\n",
       "      <td>0.0</td>\n",
       "      <td>...</td>\n",
       "      <td>NaN</td>\n",
       "      <td>0.0</td>\n",
       "      <td>NaN</td>\n",
       "      <td>Tue Jan 01 00:00:00 EST 2013</td>\n",
       "      <td>Tue Jan 01 00:00:00 EST 2013</td>\n",
       "      <td>NaN</td>\n",
       "      <td>0</td>\n",
       "      <td>0</td>\n",
       "      <td>0</td>\n",
       "      <td>M</td>\n",
       "    </tr>\n",
       "    <tr>\n",
       "      <th>4</th>\n",
       "      <td>17.347895</td>\n",
       "      <td>0.0</td>\n",
       "      <td>0.0</td>\n",
       "      <td>0.0</td>\n",
       "      <td>17</td>\n",
       "      <td>0.0</td>\n",
       "      <td>0</td>\n",
       "      <td>0.0</td>\n",
       "      <td>0.0</td>\n",
       "      <td>0.0</td>\n",
       "      <td>...</td>\n",
       "      <td>NaN</td>\n",
       "      <td>0.0</td>\n",
       "      <td>NaN</td>\n",
       "      <td>Tue Jan 01 00:00:00 EST 2013</td>\n",
       "      <td>Tue Jan 01 00:00:00 EST 2013</td>\n",
       "      <td>NaN</td>\n",
       "      <td>0</td>\n",
       "      <td>0</td>\n",
       "      <td>0</td>\n",
       "      <td>M</td>\n",
       "    </tr>\n",
       "  </tbody>\n",
       "</table>\n",
       "<p>2 rows × 84 columns</p>\n",
       "</div>"
      ],
      "text/plain": [
       "   barrels08  barrelsA08  charge120  charge240  city08  city08U  cityA08  \\\n",
       "2  12.207778         0.0        0.0        0.0      23      0.0        0   \n",
       "4  17.347895         0.0        0.0        0.0      17      0.0        0   \n",
       "\n",
       "   cityA08U  cityCD  cityE   ...    c240Dscr  charge240b  c240bDscr  \\\n",
       "2       0.0     0.0    0.0   ...         NaN         0.0        NaN   \n",
       "4       0.0     0.0    0.0   ...         NaN         0.0        NaN   \n",
       "\n",
       "                      createdOn                    modifiedOn  startStop  \\\n",
       "2  Tue Jan 01 00:00:00 EST 2013  Tue Jan 01 00:00:00 EST 2013        NaN   \n",
       "4  Tue Jan 01 00:00:00 EST 2013  Tue Jan 01 00:00:00 EST 2013        NaN   \n",
       "\n",
       "   phevCity  phevHwy  phevComb  trany2  \n",
       "2         0        0         0       M  \n",
       "4         0        0         0       M  \n",
       "\n",
       "[2 rows x 84 columns]"
      ]
     },
     "execution_count": 102,
     "metadata": {},
     "output_type": "execute_result"
    }
   ],
   "source": [
    "boolean_mask = []\n",
    "for index, row in vehicles_non_hybrid_4.iterrows():\n",
    "    make = row['make']\n",
    "    boolean_mask.append(make in unique_makes)\n",
    "    \n",
    "df_common_makes = vehicles_non_hybrid_4[boolean_mask]\n",
    "# Check the data looks like for the first two lines:\n",
    "df_common_makes.head(2)"
   ]
  },
  {
   "cell_type": "code",
   "execution_count": 103,
   "metadata": {
    "collapsed": true
   },
   "outputs": [],
   "source": [
    "### 6-6. Group the data frame by both year and make and then compute the mean for each grouping:"
   ]
  },
  {
   "cell_type": "code",
   "execution_count": 104,
   "metadata": {},
   "outputs": [
    {
     "data": {
      "text/html": [
       "<div>\n",
       "<table border=\"1\" class=\"dataframe\">\n",
       "  <thead>\n",
       "    <tr style=\"text-align: right;\">\n",
       "      <th></th>\n",
       "      <th>year</th>\n",
       "      <th>make</th>\n",
       "      <th>barrels08</th>\n",
       "      <th>barrelsA08</th>\n",
       "      <th>charge120</th>\n",
       "      <th>charge240</th>\n",
       "      <th>city08</th>\n",
       "      <th>city08U</th>\n",
       "      <th>cityA08</th>\n",
       "      <th>cityA08U</th>\n",
       "      <th>...</th>\n",
       "      <th>rangeHwyA</th>\n",
       "      <th>UCity</th>\n",
       "      <th>UCityA</th>\n",
       "      <th>UHighway</th>\n",
       "      <th>UHighwayA</th>\n",
       "      <th>youSaveSpend</th>\n",
       "      <th>charge240b</th>\n",
       "      <th>phevCity</th>\n",
       "      <th>phevHwy</th>\n",
       "      <th>phevComb</th>\n",
       "    </tr>\n",
       "  </thead>\n",
       "  <tbody>\n",
       "    <tr>\n",
       "      <th>0</th>\n",
       "      <td>1984</td>\n",
       "      <td>Chevrolet</td>\n",
       "      <td>14.573295</td>\n",
       "      <td>0.0</td>\n",
       "      <td>0.0</td>\n",
       "      <td>0.0</td>\n",
       "      <td>20.031250</td>\n",
       "      <td>0.0</td>\n",
       "      <td>0.0</td>\n",
       "      <td>0.0</td>\n",
       "      <td>...</td>\n",
       "      <td>0.0</td>\n",
       "      <td>25.328125</td>\n",
       "      <td>0.0</td>\n",
       "      <td>38.234375</td>\n",
       "      <td>0.0</td>\n",
       "      <td>-1359.375000</td>\n",
       "      <td>0.0</td>\n",
       "      <td>0.0</td>\n",
       "      <td>0.0</td>\n",
       "      <td>0.0</td>\n",
       "    </tr>\n",
       "    <tr>\n",
       "      <th>1</th>\n",
       "      <td>1984</td>\n",
       "      <td>Dodge</td>\n",
       "      <td>15.303645</td>\n",
       "      <td>0.0</td>\n",
       "      <td>0.0</td>\n",
       "      <td>0.0</td>\n",
       "      <td>19.947368</td>\n",
       "      <td>0.0</td>\n",
       "      <td>0.0</td>\n",
       "      <td>0.0</td>\n",
       "      <td>...</td>\n",
       "      <td>0.0</td>\n",
       "      <td>25.131579</td>\n",
       "      <td>0.0</td>\n",
       "      <td>35.175439</td>\n",
       "      <td>0.0</td>\n",
       "      <td>-1791.666667</td>\n",
       "      <td>0.0</td>\n",
       "      <td>0.0</td>\n",
       "      <td>0.0</td>\n",
       "      <td>0.0</td>\n",
       "    </tr>\n",
       "  </tbody>\n",
       "</table>\n",
       "<p>2 rows × 61 columns</p>\n",
       "</div>"
      ],
      "text/plain": [
       "   year       make  barrels08  barrelsA08  charge120  charge240     city08  \\\n",
       "0  1984  Chevrolet  14.573295         0.0        0.0        0.0  20.031250   \n",
       "1  1984      Dodge  15.303645         0.0        0.0        0.0  19.947368   \n",
       "\n",
       "   city08U  cityA08  cityA08U    ...     rangeHwyA      UCity  UCityA  \\\n",
       "0      0.0      0.0       0.0    ...           0.0  25.328125     0.0   \n",
       "1      0.0      0.0       0.0    ...           0.0  25.131579     0.0   \n",
       "\n",
       "    UHighway  UHighwayA  youSaveSpend  charge240b  phevCity  phevHwy  phevComb  \n",
       "0  38.234375        0.0  -1359.375000         0.0       0.0      0.0       0.0  \n",
       "1  35.175439        0.0  -1791.666667         0.0       0.0      0.0       0.0  \n",
       "\n",
       "[2 rows x 61 columns]"
      ]
     },
     "execution_count": 104,
     "metadata": {},
     "output_type": "execute_result"
    }
   ],
   "source": [
    "df_common_makes_grouped = df_common_makes.groupby(['year','make']).agg(np.mean).reset_index()\n",
    "df_common_makes_grouped.head(2)"
   ]
  },
  {
   "cell_type": "markdown",
   "metadata": {},
   "source": [
    "### 6-7. Finaly  display the results of our efforts using a faceted plot"
   ]
  },
  {
   "cell_type": "code",
   "execution_count": 105,
   "metadata": {
    "scrolled": true
   },
   "outputs": [
    {
     "data": {
      "image/png": "[encoded data removed]",
      "text/plain": [
       "<matplotlib.figure.Figure at 0x7f4c74319a20>"
      ]
     },
     "metadata": {},
     "output_type": "display_data"
    },
    {
     "data": {
      "text/plain": [
       "<ggplot: (8747896478093)>"
      ]
     },
     "execution_count": 105,
     "metadata": {},
     "output_type": "execute_result"
    }
   ],
   "source": [
    "ggplot(aes(x='year', y='comb08'), data =\n",
    "df_common_makes_grouped) + geom_line() + facet_wrap('make')"
   ]
  },
  {
   "cell_type": "markdown",
   "metadata": {},
   "source": [
    "## Conclusion\n",
    "\n",
    "By now, we can see clearly the trend of the mpg for the major car makes in the past 34 years, which give us an insigh for each mobile company's effor and technical improvment have made. It also gives us an indication for the next stepe for the car industrial want to achieve in the next decade. \n",
    "\n",
    "This project does not seem to be very pythonic; I will digest more concepts learnt through the class and implement more function and objected oriented method to automate the process of the data and visualization. "
   ]
  }
 ],
 "metadata": {
  "kernelspec": {
   "display_name": "Python 3",
   "language": "python",
   "name": "python3"
  },
  "language_info": {
   "codemirror_mode": {
    "name": "ipython",
    "version": 3
   },
   "file_extension": ".py",
   "mimetype": "text/x-python",
   "name": "python",
   "nbconvert_exporter": "python",
   "pygments_lexer": "ipython3",
   "version": "3.6.8"
  },
  "latex_envs": {
   "LaTeX_envs_menu_present": true,
   "autoclose": false,
   "autocomplete": true,
   "bibliofile": "biblio.bib",
   "cite_by": "apalike",
   "current_citInitial": 1,
   "eqLabelWithNumbers": true,
   "eqNumInitial": 1,
   "hotkeys": {
    "equation": "Ctrl-E",
    "itemize": "Ctrl-I"
   },
   "labels_anchors": false,
   "latex_user_defs": false,
   "report_style_numbering": false,
   "user_envs_cfg": false
  },
  "toc": {
   "base_numbering": 1,
   "nav_menu": {},
   "number_sections": false,
   "sideBar": true,
   "skip_h1_title": false,
   "title_cell": "Table of Contents",
   "title_sidebar": "Contents",
   "toc_cell": false,
   "toc_position": {},
   "toc_section_display": true,
   "toc_window_display": true
  }
 },
 "nbformat": 4,
 "nbformat_minor": 2
}
