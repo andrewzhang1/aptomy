{
 "cells": [
  {
   "cell_type": "markdown",
   "metadata": {},
   "source": [
    "## Programming Quiz"
   ]
  },
  {
   "cell_type": "markdown",
   "metadata": {},
   "source": [
    "### 1. How is `**` used as a unary operator in Python? In other words, when you see someone make a call to a function, `some_func(**kwargs)`, what is generally happening?\n"
   ]
  },
  {
   "cell_type": "markdown",
   "metadata": {},
   "source": [
    "\n"
   ]
  },
  {
   "cell_type": "markdown",
   "metadata": {},
   "source": [
    "kwargs means keyword argument, declared variables within the arguments; kwargs is a dictionary, with the dictionary key being the variable name and dictionary value is the value of that variable. Here are two samples verify its type as dictionary and usages. "
   ]
  },
  {
   "cell_type": "code",
   "execution_count": 78,
   "metadata": {},
   "outputs": [
    {
     "name": "stdout",
     "output_type": "stream",
     "text": [
      "{'a': 'Andrew'} <type 'dict'>\n",
      "{'a': 'Jason', 'b': 'Sherry'} <type 'dict'>\n"
     ]
    }
   ],
   "source": [
    "# Part 1\n",
    "def some_func(**kwargs):\n",
    "    print kwargs, type(kwargs)\n",
    "    \n",
    "some_func(a = 'Andrew')\n",
    "\n",
    "some_func(a = 'Jason', b ='Sherry')"
   ]
  },
  {
   "cell_type": "code",
   "execution_count": 79,
   "metadata": {},
   "outputs": [
    {
     "name": "stdout",
     "output_type": "stream",
     "text": [
      "a 7\n",
      "c 3\n",
      "b -5\n",
      "d -10\n"
     ]
    }
   ],
   "source": [
    "# Part 2\n",
    "def some_func(**kwargs):\n",
    "    # since kwargs is a dictionary, we can iterate using items() function. \n",
    "    for key, value in kwargs.items():\n",
    "        print key, value\n",
    "\n",
    "some_func(a = 7, b = -5, c = 3, d = -10)"
   ]
  },
  {
   "cell_type": "markdown",
   "metadata": {},
   "source": [
    "### 2. What does the line `#!/bin/sh` do at the beginning of a file?\n"
   ]
  },
  {
   "cell_type": "markdown",
   "metadata": {},
   "source": [
    "\n",
    "It specify which shell the script should be using. In this case, it use \"/bin/sh\" (\"sh\" might have soft link to other shell, such ksh, bash, or csh). If this is not specified at the begenning of a file, it will use the default shell specified by the /etc/passwd. Such as, bash:\n"
   ]
  },
  {
   "cell_type": "code",
   "execution_count": 81,
   "metadata": {},
   "outputs": [
    {
     "name": "stdout",
     "output_type": "stream",
     "text": [
      "/mnt/AGZ1/GD_AGZ1117/AGZ_Home/workspace_pOD/ipython/UCSC/2017PythonClass/Assignment\n",
      "azhang:x:1000:1000:azhang,,,:/home/azhang:/bin/bash\n"
     ]
    }
   ],
   "source": [
    "%%bash\n",
    "pwd\n",
    "grep $LOGNAME /etc/passwd\n",
    "# bash is used by use \"azhang\""
   ]
  },
  {
   "cell_type": "markdown",
   "metadata": {},
   "source": [
    "### 3. Assume you have a list `x = [\"table\", \"chair\", \"cup\", \"fork\"]`. Write a function to write the contents of this list to a file, one item per line."
   ]
  },
  {
   "cell_type": "code",
   "execution_count": 25,
   "metadata": {},
   "outputs": [
    {
     "name": "stdout",
     "output_type": "stream",
     "text": [
      "\n",
      "Check the content for the file\n",
      "table\n",
      "chair\n",
      "cup\n",
      "fork\n"
     ]
    }
   ],
   "source": [
    "# 1. Remove the file if existed on pwd if we need to run multiple time\n",
    "import os\n",
    "if os.path.exists(\"anskey3.txt\"): os.remove(\"anskey3.txt\")\n",
    "\n",
    "# 2. Defile a function and decide the file name to be written: anskey3.txt\n",
    "x = [\"table\", \"chair\", \"cup\", \"fork\"]\n",
    "with open('anskey3.txt', 'a') as the_file:\n",
    "    the_file.write(x[0] +'\\n')\n",
    "    the_file.write(x[1] +'\\n')\n",
    "    the_file.write(x[2] +'\\n')\n",
    "    the_file.write(x[3] +'\\n')\n",
    "    the_file.close\n",
    "\n",
    "# 3. Check the result\n",
    "print \"\\nCheck the content for the file\"\n",
    "with open('anskey3.txt', 'r') as fo:\n",
    "    for items in fo.readlines():\n",
    "        print items.strip()"
   ]
  },
  {
   "cell_type": "markdown",
   "metadata": {},
   "source": [
    "### 4. Write another function to read the file from the previous question, and return the same list of items. (Hint: What about non-printing characters?)"
   ]
  },
  {
   "cell_type": "code",
   "execution_count": 26,
   "metadata": {},
   "outputs": [
    {
     "name": "stdout",
     "output_type": "stream",
     "text": [
      "['table', 'chair', 'cup', 'fork']\n"
     ]
    }
   ],
   "source": [
    "with open(\"anskey3.txt\") as f:\n",
    "    content = f.readlines()\n",
    "# Remove whitespace characters like `\\n` at the end of each line\n",
    "content = [x.strip() for x in content] \n",
    "print content"
   ]
  },
  {
   "cell_type": "markdown",
   "metadata": {},
   "source": [
    "### 5. Write a function to calculate the factorial of number."
   ]
  },
  {
   "cell_type": "code",
   "execution_count": 8,
   "metadata": {},
   "outputs": [
    {
     "name": "stdout",
     "output_type": "stream",
     "text": [
      "720\n"
     ]
    }
   ],
   "source": [
    "# n! --> 6!= 6*5*4*3*2*1 = 720\n",
    "def factorial(n):\n",
    "    num = 1\n",
    "    while n >= 1:\n",
    "        num = num * n\n",
    "        n = n - 1\n",
    "    return num\n",
    "\n",
    "# Run a test of factorial 6:\n",
    "print factorial(6)"
   ]
  },
  {
   "cell_type": "code",
   "execution_count": 9,
   "metadata": {},
   "outputs": [
    {
     "name": "stdout",
     "output_type": "stream",
     "text": [
      "720\n"
     ]
    }
   ],
   "source": [
    "# 2nd way: use math function\n",
    "from math import factorial\n",
    "print factorial(6)"
   ]
  },
  {
   "cell_type": "code",
   "execution_count": 10,
   "metadata": {},
   "outputs": [
    {
     "name": "stdout",
     "output_type": "stream",
     "text": [
      "720\n",
      "None\n"
     ]
    }
   ],
   "source": [
    "# 3rd way: use xrange, which might same memory\n",
    "def factorial(n):\n",
    "    base = 1\n",
    "    for i in xrange(n,0,-1):\n",
    "        base = base * i\n",
    "    print base\n",
    "\n",
    "# Test:\n",
    "print factorial(6)"
   ]
  },
  {
   "cell_type": "markdown",
   "metadata": {},
   "source": [
    "### 6. Write a function to generate the n-th element of the sequence 2, 1, 3, 4, 7, 11, 18,...\n",
    "\n"
   ]
  },
  {
   "cell_type": "code",
   "execution_count": 27,
   "metadata": {},
   "outputs": [
    {
     "name": "stdout",
     "output_type": "stream",
     "text": [
      "1 th element is 2\n",
      "2 th element is 1\n",
      "3 th element is 3\n",
      "4 th element is 4\n",
      "5 th element is 7\n",
      "6 th element is 11\n",
      "7 th element is 18\n"
     ]
    }
   ],
   "source": [
    "def get_nth_element(my_list):\n",
    "    #print len(my_list)\n",
    "    for i in range (0,  len(my_list)):\n",
    "        print i+1,\"th element is\",my_list[i]\n",
    "\n",
    "# Test:     my_list = [2, 1, 3, 4, 7, 11, 18]\n",
    "my_list = [2, 1, 3, 4, 7, 11, 18]\n",
    "get_nth_element(my_list)"
   ]
  },
  {
   "cell_type": "markdown",
   "metadata": {},
   "source": [
    "###  7. Write a function to determine if a number is a prime.\n",
    "Question from Andrew: why it shows multiple line on jupyter, but it's fine on pycharm? I guess it's because loop multiple times until we reach the last; how to avoid it when still use \"print\" command?"
   ]
  },
  {
   "cell_type": "code",
   "execution_count": 125,
   "metadata": {},
   "outputs": [
    {
     "name": "stdout",
     "output_type": "stream",
     "text": [
      "13  is a prime.\n",
      "13  is a prime.\n",
      "13  is a prime.\n",
      "13  is a prime.\n",
      "13  is a prime.\n",
      "13  is a prime.\n",
      "13  is a prime.\n",
      "13  is a prime.\n",
      "13  is a prime.\n",
      "13  is a prime.\n",
      "13  is a prime.\n",
      "None\n"
     ]
    }
   ],
   "source": [
    "def is_primer_number(x):\n",
    "    if x == 1:\n",
    "        print x, \" is not a prime\"\n",
    "    prime_numbers = 0\n",
    "    if x >= 2:\n",
    "        for y in range(2, x):\n",
    "            if not (x % y):\n",
    "                print x, \" is not a prime.\"\n",
    "            else:\n",
    "                print x, \" is a prime.\"\n",
    "\n",
    "\n",
    "#print is_primer_number(0)\n",
    "print is_primer_number(13)\n"
   ]
  },
  {
   "cell_type": "code",
   "execution_count": 126,
   "metadata": {},
   "outputs": [
    {
     "name": "stdout",
     "output_type": "stream",
     "text": [
      "True\n"
     ]
    }
   ],
   "source": [
    "# Method 1: use return, which is more common\n",
    "def is_primer_number(x):\n",
    "    if x >= 2:\n",
    "        for y in range(2, x):\n",
    "            if not (x % y):\n",
    "                return False\n",
    "            else:\n",
    "                return True\n",
    "\n",
    "print is_primer_number(153)"
   ]
  },
  {
   "cell_type": "markdown",
   "metadata": {},
   "source": [
    "### 8. Write a class with a method that determines if a word is a palindrome.\n",
    "\n",
    "Question from Andrew: why it show \"None\" in the answer?"
   ]
  },
  {
   "cell_type": "code",
   "execution_count": 2,
   "metadata": {},
   "outputs": [
    {
     "name": "stdout",
     "output_type": "stream",
     "text": [
      "radar  is a palindrom\n",
      "None\n",
      "palindrom  is not a palindrom\n",
      "None\n"
     ]
    }
   ],
   "source": [
    "class Palindrome():\n",
    "    def __init__(self, n):\n",
    "        self.n = n\n",
    "\n",
    "    def getPalindrome(self, n):\n",
    "        # convert the number into a string\n",
    "        s = str(n)\n",
    "        r = s[::-1]\n",
    "        if ( s == r):\n",
    "            print n, \" is a palindrom\"\n",
    "        else:\n",
    "            print n, \" is not a palindrom\"\n",
    "\n",
    "checkPalindrome = Palindrome(\"\")\n",
    "print checkPalindrome.getPalindrome(\"radar\")\n",
    "print checkPalindrome.getPalindrome(\"palindrom\")\n"
   ]
  },
  {
   "cell_type": "markdown",
   "metadata": {},
   "source": [
    "### 9. Write a function to sum the bits of a number. For example `sum_bits(2) == 1`, `sum_bits(3) == 2`.\n",
    "\n",
    "To Jason, not sure what exactly to do, see if you can write for me then I will try to digest.\n"
   ]
  },
  {
   "cell_type": "code",
   "execution_count": 88,
   "metadata": {
    "collapsed": true
   },
   "outputs": [],
   "source": [
    "def bitcount(n):\n",
    "    a = 1\n",
    "    while 1<<a <= n:\n",
    "        a <<= 1\n",
    "\n",
    "    s = 0\n",
    "    while a>1:\n",
    "        a >>= 1\n",
    "        if n >= 1<<a:\n",
    "            n >>= a\n",
    "            s += a\n",
    "    if n>0:\n",
    "        s += 1\n",
    "\n",
    "    return s\n"
   ]
  },
  {
   "cell_type": "code",
   "execution_count": 86,
   "metadata": {},
   "outputs": [
    {
     "data": {
      "text/plain": [
       "2"
      ]
     },
     "execution_count": 86,
     "metadata": {},
     "output_type": "execute_result"
    }
   ],
   "source": [
    "bitcount(3)"
   ]
  },
  {
   "cell_type": "code",
   "execution_count": 90,
   "metadata": {},
   "outputs": [
    {
     "data": {
      "text/plain": [
       "2"
      ]
     },
     "execution_count": 90,
     "metadata": {},
     "output_type": "execute_result"
    }
   ],
   "source": [
    "bitcount(2)"
   ]
  },
  {
   "cell_type": "code",
   "execution_count": 94,
   "metadata": {},
   "outputs": [
    {
     "name": "stdout",
     "output_type": "stream",
     "text": [
      "2\n"
     ]
    }
   ],
   "source": [
    "# Function to get sum of digits \n",
    " \n",
    "def getSum(n):\n",
    " \n",
    "    sum = 0\n",
    " \n",
    "    # Single line that calculates sum \n",
    "    while(n > 0):\n",
    "        sum += int(n%10)\n",
    "        n = int(n/10)\n",
    " \n",
    "    return sum\n",
    " \n",
    "# Driver code\n",
    " \n",
    "n = 2\n",
    "print(getSum(n))\n",
    " "
   ]
  },
  {
   "cell_type": "markdown",
   "metadata": {},
   "source": [
    "### 10. What is the difference between a logical/boolean OR operation, and a bitwise OR operation? In other words, what is happening in this snippet from a Python interactive session:\n",
    "```\n",
    ">>> a = 0b10\n",
    ">>> b = 0b11\n",
    ">>>\n",
    ">>> a or b\n",
    "2\n",
    ">>> a | b\n",
    "3\n",
    "```\n",
    "- https://stackoverflow.com/questions/31575691/what-is-a-bitmask-and-a-mask\n",
    "- https://www.youtube.com/watch?v=frwqnS9ICxw\n",
    "- https://www.youtube.com/watch?v=iBbT1rCaEhw (28) Python Programming Tutorial - 7 (bitwise operators) - YouTube"
   ]
  },
  {
   "cell_type": "raw",
   "metadata": {},
   "source": [
    "Logical operators deal with statements.\n",
    "Bitwise operators deal with binary representations of data.\n",
    "\n",
    "A bitwise operation operates on one or more bit patterns or binary numerals at the level of their individual bits"
   ]
  },
  {
   "cell_type": "code",
   "execution_count": null,
   "metadata": {
    "collapsed": true
   },
   "outputs": [],
   "source": []
  },
  {
   "cell_type": "code",
   "execution_count": 56,
   "metadata": {},
   "outputs": [
    {
     "data": {
      "text/plain": [
       "2"
      ]
     },
     "execution_count": 56,
     "metadata": {},
     "output_type": "execute_result"
    }
   ],
   "source": [
    "a = 0b10\n",
    "b = 0b11\n",
    "a or b"
   ]
  },
  {
   "cell_type": "markdown",
   "metadata": {},
   "source": [
    "### 11. What is a bit mask? If you had `data = 0b01000010`, how would you toggle the seventh bit from 1 to 0?\n",
    "- https://en.wikipedia.org/wiki/Mask_(computing)\n",
    "\n",
    "(28) 16 - Bitwise Operators ( shifts & | ~ ) | Python Tutorials - YouTube\n",
    "- https://www.codecademy.com/en/forum_questions/51c0c68f9c4e9d31ef00017f"
   ]
  },
  {
   "cell_type": "raw",
   "metadata": {},
   "source": [
    "A bit mask is a binary number that is all 0's except the important locations, e.g. 0b01000000. To form a bit mask, we can use the << operator, so 0b00000001 << 6 would move the 1 over 6 spots to form 0b01000000.\n",
    "\n",
    ">>> 1 << 6\n",
    "64\n",
    ">>> bin(1 << 6)\n",
    "'0b1000000'\n",
    ">>>\n",
    "\n",
    "You can toggle any bit by XOR'ing a mask with a 1 in that spot. So to toggle the 7th bit, you can do n ^ (1 << 6).\n",
    ">>> bin(0b01000010 ^ 0b01000000)\n",
    "'0b10'\n",
    ">>> bin(0b01000010 ^ (1 << 6))\n",
    "'0b10'\n",
    "\n",
    "There are a couple of other tricks you can do with bit operators like xor, and, or. See https://en.wikipedia.org/wiki/Bit_manipulation"
   ]
  },
  {
   "cell_type": "raw",
   "metadata": {},
   "source": [
    "A bit mask is a binary number that is all 0's except the important locations, e.g. 0b01000000. To form a bit mask, we can use the \"<<\" operator, so 0b00000001 << 6 would move the 1 over 6 spots to form 0b01000000."
   ]
  },
  {
   "cell_type": "code",
   "execution_count": 14,
   "metadata": {},
   "outputs": [
    {
     "data": {
      "text/plain": [
       "64"
      ]
     },
     "execution_count": 14,
     "metadata": {},
     "output_type": "execute_result"
    }
   ],
   "source": [
    "1 << 6"
   ]
  },
  {
   "cell_type": "code",
   "execution_count": 13,
   "metadata": {},
   "outputs": [
    {
     "data": {
      "text/plain": [
       "'0b1000000'"
      ]
     },
     "execution_count": 13,
     "metadata": {},
     "output_type": "execute_result"
    }
   ],
   "source": [
    "bin(1 << 6)"
   ]
  },
  {
   "cell_type": "code",
   "execution_count": 101,
   "metadata": {},
   "outputs": [
    {
     "data": {
      "text/plain": [
       "'0b10'"
      ]
     },
     "execution_count": 101,
     "metadata": {},
     "output_type": "execute_result"
    }
   ],
   "source": [
    " bin(0b01000010 ^ 0b01000000)"
   ]
  },
  {
   "cell_type": "code",
   "execution_count": 102,
   "metadata": {},
   "outputs": [
    {
     "data": {
      "text/plain": [
       "'0b10'"
      ]
     },
     "execution_count": 102,
     "metadata": {},
     "output_type": "execute_result"
    }
   ],
   "source": [
    "bin(0b01000010 ^ (1 << 6))"
   ]
  },
  {
   "cell_type": "markdown",
   "metadata": {},
   "source": [
    "### 12. What are the differences between TCP and UDP? (List one or two sentences.)"
   ]
  },
  {
   "cell_type": "markdown",
   "metadata": {},
   "source": [
    "- TCP is connection oriented.  So it has features like reliable transport and flow control.  TCP is streaming oriented (aka stream of bytes).\n",
    "- UDP is connectionless oriented.  So it does not support reliable transport.  UDP is message oriented (aka datagram)."
   ]
  },
  {
   "cell_type": "markdown",
   "metadata": {},
   "source": [
    "### 13. Pick the invalid IP address(es): a) 127.0.0.1,  b) 0.0.0.0,  c) 127.256.365.0\n",
    "\n",
    "Invalid IP address: c) 127.256.365.0"
   ]
  },
  {
   "cell_type": "markdown",
   "metadata": {},
   "source": [
    "### 14. How many tests would you need in order to test an arbitrary state machine? (Is there an upper bound?)\n",
    "- https://teh.id.au/posts/2017/07/15/state-machine-testing/\n",
    "- https://www.youtube.com/watch?v=xNaLrnTuw-M"
   ]
  },
  {
   "cell_type": "raw",
   "metadata": {},
   "source": [
    "\n",
    "Not very sure what an arbitrary state machine is. My guess would be that it can take on an arbitrary number of states, so the number of tests you would need to fully test it would be upper bounded by the number of possible states. For example, if my program has n possible states, the maximum number of tests that would be necessary is n but could be less.\n"
   ]
  },
  {
   "cell_type": "code",
   "execution_count": null,
   "metadata": {
    "collapsed": true
   },
   "outputs": [],
   "source": []
  },
  {
   "cell_type": "markdown",
   "metadata": {},
   "source": [
    "### 15. Examine the following Python code, add comments, and offer suggestions to make this more readable and robust. Context: an Armstrong number is one that can be written as a sum of cubes of its digits. For example, 153 is an Armstrong number is equal to 1^3 + 5^3 + 3^3 = 1 + 125 + 27. \n",
    "```\n",
    "def armstrong(n):\n",
    "    res = 0\n",
    "orig = n\n",
    "    while n != 0:\n",
    "        remainder = n % 10\n",
    "        res += remainder**3\n",
    "        n //= 10\n",
    "    if orig == res:\n",
    "        return True\n",
    "    return False\n",
    "```\n",
    "\n"
   ]
  },
  {
   "cell_type": "code",
   "execution_count": 139,
   "metadata": {
    "collapsed": true
   },
   "outputs": [],
   "source": [
    "# I may make some modification as following:\n",
    "# 1) Rename the variable to be more meaningful\n",
    "# 2) Add data validation: input number must the an interger and greater than 0\n",
    "\n",
    "def armstrong(n):\n",
    "    res = 0\n",
    "    orig = n\n",
    "    while n != 0:\n",
    "        remainder = n % 10     # Find the remaider of 10 \n",
    "        res += remainder**3    # sum of m\n",
    "        n //= 10\n",
    "        if orig == res:\n",
    "            return True\n",
    "        else:                # Return fales if it's not a armstrong nimbe\n",
    "            return False"
   ]
  },
  {
   "cell_type": "code",
   "execution_count": 135,
   "metadata": {},
   "outputs": [
    {
     "name": "stdout",
     "output_type": "stream",
     "text": [
      "False\n",
      "False\n"
     ]
    }
   ],
   "source": [
    "#print armstrong(123)\n",
    "print armstrong(13)\n",
    "print armstrong(370)"
   ]
  },
  {
   "cell_type": "code",
   "execution_count": 138,
   "metadata": {},
   "outputs": [
    {
     "ename": "NameError",
     "evalue": "name 'Number' is not defined",
     "output_type": "error",
     "traceback": [
      "\u001b[0;31m\u001b[0m",
      "\u001b[0;31mNameError\u001b[0mTraceback (most recent call last)",
      "\u001b[0;32m<ipython-input-138-0357ee6d86ad>\u001b[0m in \u001b[0;36m<module>\u001b[0;34m()\u001b[0m\n\u001b[1;32m      6\u001b[0m \u001b[0;34m\u001b[0m\u001b[0m\n\u001b[1;32m      7\u001b[0m \u001b[0;31m# Calculating Number of individual digits\u001b[0m\u001b[0;34m\u001b[0m\u001b[0;34m\u001b[0m\u001b[0m\n\u001b[0;32m----> 8\u001b[0;31m \u001b[0mTemp\u001b[0m \u001b[0;34m=\u001b[0m \u001b[0mNumber\u001b[0m\u001b[0;34m\u001b[0m\u001b[0m\n\u001b[0m\u001b[1;32m      9\u001b[0m \u001b[0;34m\u001b[0m\u001b[0m\n\u001b[1;32m     10\u001b[0m \u001b[0;31m# Finding Armstrong Number\u001b[0m\u001b[0;34m\u001b[0m\u001b[0;34m\u001b[0m\u001b[0m\n",
      "\u001b[0;31mNameError\u001b[0m: name 'Number' is not defined"
     ]
    }
   ],
   "source": [
    "# Python Program For Armstrong Number using While Loop\n",
    "\n",
    "# Initializing Sum and Number of Digits\n",
    "Sum = 0\n",
    "Times = 0\n",
    "           \n",
    "# Calculating Number of individual digits\n",
    "Temp = Number\n",
    "\n",
    "# Finding Armstrong Number\n",
    "Temp = Number\n",
    "while Temp > 0:\n",
    "           Reminder = Temp % 10\n",
    "           Sum = Sum + (Reminder ** Times)\n",
    "           Temp //= 10\n",
    "if Number == Sum:\n",
    "           print(\"\\n %d is Armstrong Number.\\n\" %Number)\n",
    "else:\n",
    "           print(\"\\n %d is Not a Armstrong Number.\\n\" %Number)"
   ]
  },
  {
   "cell_type": "code",
   "execution_count": null,
   "metadata": {
    "collapsed": true
   },
   "outputs": [],
   "source": []
  }
 ],
 "metadata": {
  "kernelspec": {
   "display_name": "Python 2",
   "language": "python",
   "name": "python2"
  },
  "language_info": {
   "codemirror_mode": {
    "name": "ipython",
    "version": 2
   },
   "file_extension": ".py",
   "mimetype": "text/x-python",
   "name": "python",
   "nbconvert_exporter": "python",
   "pygments_lexer": "ipython2",
   "version": "2.7.14"
  }
 },
 "nbformat": 4,
 "nbformat_minor": 2
}
