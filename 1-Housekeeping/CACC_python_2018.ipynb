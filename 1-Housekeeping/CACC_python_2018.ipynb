{
 "cells": [
  {
   "cell_type": "code",
   "execution_count": 5,
   "metadata": {},
   "outputs": [
    {
     "name": "stdout",
     "output_type": "stream",
     "text": [
      "Want to learn python?\n",
      "n\n",
      "Want to learn python?\n",
      "j\n",
      "Want to learn python?\n",
      "yes\n",
      "Oh. Okay.\n",
      "1\n",
      "2\n",
      "3\n",
      "4\n",
      "6\n",
      "7\n",
      "8\n",
      "9\n",
      "10\n",
      "Enter a word: hi\n",
      "\n",
      "Here's each letter in your word:\n",
      "h\n",
      "i\n"
     ]
    }
   ],
   "source": [
    "################\n",
    "# loop statement\n",
    "\n",
    "# while loop\n",
    "response = \"\"\n",
    "while response.lower() != \"yes\":\n",
    "    response = input(\"Want to learn python?\\n\")\n",
    "\n",
    "print(\"Oh. Okay.\")\n",
    "\n",
    "count = 0\n",
    "while True:\n",
    "    count += 1\n",
    "\n",
    "    # end loop if count greater than 10\n",
    "    if count > 10:\n",
    "        break\n",
    "    # skip 5\n",
    "    if count == 5:\n",
    "        continue\n",
    "    print(count)\n",
    "\n",
    "# for loop\n",
    "\n",
    "word = input(\"Enter a word: \")\n",
    "\n",
    "print(\"\\nHere's each letter in your word:\")\n",
    "for letter in word:\n",
    "    print(letter)\n"
   ]
  },
  {
   "cell_type": "markdown",
   "metadata": {},
   "source": [
    "# Week 8 (10/14/2018): List, Tuple\n",
    "```\n",
    "# 1. PRACTICE\n",
    "\n",
    "# List: review\n",
    "#list_1 = [2, 5, 8]\n",
    "#print(list_1)\n",
    "#list_1[0] = 100          # mutable\n",
    "#print(list_1)\n",
    "\n",
    "# Tuples: immutable, contain a heterogeneous sequence of elements\n",
    "#t1 = 12345, 54321, 'hello!'\n",
    "#print(t1[0])\n",
    "#print(t1)\n",
    "#t1 = t1, (1,2,3,4,5)\n",
    "#print(t1)\n",
    "#t1[0] = 'immutable'     # immutable\n",
    "\n",
    "#t1 = 12345, 54321, 'hello!' # packing\n",
    "#x, y, z = t1                # unpacking\n",
    "#print(x, end=', ')\n",
    "#print(y, end=', ')\n",
    "#print(z)\n",
    "\n",
    "# 2. CODING\n",
    "# Improve on Pizza Slicing Game.\n",
    "# In the class, we talked about having to press enter multiple times to exit. See if you can improve on that.\n",
    "```"
   ]
  },
  {
   "cell_type": "markdown",
   "metadata": {},
   "source": [
    "## List's Mutability"
   ]
  },
  {
   "cell_type": "code",
   "execution_count": 3,
   "metadata": {},
   "outputs": [
    {
     "name": "stdout",
     "output_type": "stream",
     "text": [
      "[2, 5, 8]\n",
      "[100, 5, 8]\n"
     ]
    }
   ],
   "source": [
    "list_1 = [2, 5, 8]\n",
    "print(list_1)\n",
    "list_1[0] = 100          # mutable\n",
    "print(list_1)"
   ]
  },
  {
   "cell_type": "markdown",
   "metadata": {},
   "source": [
    "## Tuples: immutable, contain a heterogeneous sequence of elements"
   ]
  },
  {
   "cell_type": "code",
   "execution_count": 2,
   "metadata": {},
   "outputs": [
    {
     "name": "stdout",
     "output_type": "stream",
     "text": [
      "12345\n",
      "(12345, 54321, 'hello!')\n",
      "((12345, 54321, 'hello!'), (1, 2, 3, 4, 5))\n"
     ]
    },
    {
     "ename": "TypeError",
     "evalue": "'tuple' object does not support item assignment",
     "output_type": "error",
     "traceback": [
      "\u001b[0;31m---------------------------------------------------------------------------\u001b[0m",
      "\u001b[0;31mTypeError\u001b[0m                                 Traceback (most recent call last)",
      "\u001b[0;32m<ipython-input-2-5941a9fb4cd3>\u001b[0m in \u001b[0;36m<module>\u001b[0;34m()\u001b[0m\n\u001b[1;32m      4\u001b[0m \u001b[0mt1\u001b[0m \u001b[0;34m=\u001b[0m \u001b[0mt1\u001b[0m\u001b[0;34m,\u001b[0m \u001b[0;34m(\u001b[0m\u001b[0;36m1\u001b[0m\u001b[0;34m,\u001b[0m\u001b[0;36m2\u001b[0m\u001b[0;34m,\u001b[0m\u001b[0;36m3\u001b[0m\u001b[0;34m,\u001b[0m\u001b[0;36m4\u001b[0m\u001b[0;34m,\u001b[0m\u001b[0;36m5\u001b[0m\u001b[0;34m)\u001b[0m\u001b[0;34m\u001b[0m\u001b[0m\n\u001b[1;32m      5\u001b[0m \u001b[0mprint\u001b[0m\u001b[0;34m(\u001b[0m\u001b[0mt1\u001b[0m\u001b[0;34m)\u001b[0m\u001b[0;34m\u001b[0m\u001b[0m\n\u001b[0;32m----> 6\u001b[0;31m \u001b[0mt1\u001b[0m\u001b[0;34m[\u001b[0m\u001b[0;36m0\u001b[0m\u001b[0;34m]\u001b[0m \u001b[0;34m=\u001b[0m \u001b[0;34m'immutable'\u001b[0m     \u001b[0;31m# immutable\u001b[0m\u001b[0;34m\u001b[0m\u001b[0m\n\u001b[0m",
      "\u001b[0;31mTypeError\u001b[0m: 'tuple' object does not support item assignment"
     ]
    }
   ],
   "source": [
    "t1 = 12345, 54321, 'hello!'\n",
    "print(t1[0])\n",
    "print(t1)\n",
    "t1 = t1, (1,2,3,4,5)\n",
    "print(t1)\n",
    "t1[0] = 'immutable'     # immutable"
   ]
  },
  {
   "cell_type": "code",
   "execution_count": 16,
   "metadata": {},
   "outputs": [
    {
     "name": "stdout",
     "output_type": "stream",
     "text": [
      "12345, 54321, hello!\n"
     ]
    }
   ],
   "source": [
    "t1 = 12345, 54321, 'hello!' # packing\n",
    "x, y, z = t1                # unpacking\n",
    "print(x, end=', ')\n",
    "print(y, end=', ')\n",
    "print(z)\n"
   ]
  },
  {
   "cell_type": "markdown",
   "metadata": {},
   "source": [
    "## 2. CODING\n",
    "```\n",
    "Improve on Pizza Slicing Game.\n",
    "# In the class, we talked about having to press enter multiple times to exit. See if you can improve on that.\n",
    "```"
   ]
  },
  {
   "cell_type": "code",
   "execution_count": null,
   "metadata": {},
   "outputs": [
    {
     "name": "stdout",
     "output_type": "stream",
     "text": [
      "\n",
      "    Slicing 'Cheat Sheet'\n",
      "    0     1     2     3     4     5\n",
      "    +—---+—----+—---+—---+-—---+\n",
      "    |  p  |  i  |  z  |  z  |  a  |\n",
      "    +—---+—----+—---+—---+\n",
      "    -5   -4    -3    -2    -1\n",
      "    \n",
      "Enter the beginning and ending index for your slice of 'pizza'.\n",
      "Press the enter key at 'Begin' to exit.\n",
      "\n",
      "Begin: 23\n",
      "End: 34\n",
      "word[ 23 : 34 ]\t\t \n",
      "\n",
      "\n",
      "Press the enter key to exit.\n",
      "\n",
      "Begin: 12\n",
      "End: 23\n",
      "word[ 12 : 23 ]\t\t \n",
      "\n",
      "\n",
      "Press the enter key to exit.\n",
      "\n",
      "Begin: \n",
      "\n",
      "\n",
      "Press the enter key to exit.\n"
     ]
    }
   ],
   "source": [
    "word = \"pizza\"\n",
    "print (\n",
    "    \"\"\"\n",
    "    Slicing 'Cheat Sheet'\n",
    "    0     1     2     3     4     5\n",
    "    +—---+—----+—---+—---+-—---+\n",
    "    |  p  |  i  |  z  |  z  |  a  |\n",
    "    +—---+—----+—---+—---+\n",
    "    -5   -4    -3    -2    -1\n",
    "    \"\"\"\n",
    ")\n",
    "print (\"Enter the beginning and ending index for your slice of 'pizza'.\")\n",
    "print (\"Press the enter key at 'Begin' to exit.\")\n",
    "begin = None\n",
    "while begin != \"\":\n",
    "    begin = (input(\"\\nBegin: \"))\n",
    "    if begin:\n",
    "        begin = int(begin)\n",
    "        end = int(input(\"End: \"))\n",
    "        print (\"word[\", begin, \":\", end, \"]\\t\\t\", word[begin:end])\n",
    "    input(\"\\n\\nPress the enter key to exit.\")\n",
    "\n",
    "    "
   ]
  },
  {
   "cell_type": "markdown",
   "metadata": {},
   "source": [
    "# Week 9 (10/21/2018)\n"
   ]
  },
  {
   "cell_type": "code",
   "execution_count": 1,
   "metadata": {},
   "outputs": [
    {
     "name": "stdout",
     "output_type": "stream",
     "text": [
      "clueless.  From the web error message 404, meaning page not found.\n",
      "the process by which web page links become obsolete.\n"
     ]
    }
   ],
   "source": [
    "# Geek Translator\n",
    "# Demonstrates using dictionaries\n",
    "\n",
    "geek = {\"404\": \"clueless.  From the web error message 404, meaning page not found.\",\n",
    "        \"Googling\": \"searching the Internet for background information on a person.\",\n",
    "        \"Keyboard Plaque\" : \"the collection of debris found in computer keyboards.\",\n",
    "        \"Link Rot\" : \"the process by which web page links become obsolete.\",\n",
    "        \"Percussive Maintenance\" : \"the act of striking an electronic device to make it work.\",\n",
    "        \"Uninstalled\" : \"being fired.  Especially popular during the dot-bomb era.\"}\n",
    "\n",
    "print(geek[\"404\"])\n",
    "print(geek[\"Link Rot\"])\n"
   ]
  },
  {
   "cell_type": "code",
   "execution_count": null,
   "metadata": {},
   "outputs": [],
   "source": []
  },
  {
   "cell_type": "markdown",
   "metadata": {},
   "source": [
    "# Week 16 (12/09/2018)"
   ]
  },
  {
   "cell_type": "code",
   "execution_count": null,
   "metadata": {},
   "outputs": [],
   "source": []
  },
  {
   "cell_type": "code",
   "execution_count": null,
   "metadata": {},
   "outputs": [],
   "source": []
  }
 ],
 "metadata": {
  "kernelspec": {
   "display_name": "Python 3",
   "language": "python",
   "name": "python3"
  },
  "language_info": {
   "codemirror_mode": {
    "name": "ipython",
    "version": 3
   },
   "file_extension": ".py",
   "mimetype": "text/x-python",
   "name": "python",
   "nbconvert_exporter": "python",
   "pygments_lexer": "ipython3",
   "version": "3.7.0"
  },
  "latex_envs": {
   "LaTeX_envs_menu_present": true,
   "autoclose": false,
   "autocomplete": true,
   "bibliofile": "biblio.bib",
   "cite_by": "apalike",
   "current_citInitial": 1,
   "eqLabelWithNumbers": true,
   "eqNumInitial": 1,
   "hotkeys": {
    "equation": "Ctrl-E",
    "itemize": "Ctrl-I"
   },
   "labels_anchors": false,
   "latex_user_defs": false,
   "report_style_numbering": false,
   "user_envs_cfg": false
  },
  "toc": {
   "base_numbering": 1,
   "nav_menu": {},
   "number_sections": false,
   "sideBar": true,
   "skip_h1_title": false,
   "title_cell": "Table of Contents",
   "title_sidebar": "Contents",
   "toc_cell": false,
   "toc_position": {
    "height": "calc(100% - 180px)",
    "left": "10px",
    "top": "150px",
    "width": "307px"
   },
   "toc_section_display": true,
   "toc_window_display": true
  }
 },
 "nbformat": 4,
 "nbformat_minor": 2
}
