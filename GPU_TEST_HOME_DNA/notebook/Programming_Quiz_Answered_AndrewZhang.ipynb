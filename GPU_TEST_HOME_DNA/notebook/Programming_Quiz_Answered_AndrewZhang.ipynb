{
 "cells": [
  {
   "cell_type": "markdown",
   "metadata": {},
   "source": [
    "## Programming Quiz and Answers\n",
    "\n",
    "```\n",
    "By Andrew Zhang\n",
    "3/18/2018\n",
    "```"
   ]
  },
  {
   "cell_type": "markdown",
   "metadata": {},
   "source": [
    "### 1. How is `**` used as a unary operator in Python? In other words, when you see someone make a call to a function, `some_func(**kwargs)`, what is generally happening?\n"
   ]
  },
  {
   "cell_type": "markdown",
   "metadata": {},
   "source": [
    "- kwargs means keyword argument, declared variables within the arguments; \n",
    "- kwargs is a dictionary, with the dictionary key being the variable name and dictionary value is the value of that variable. Here are two samples verify its type as dictionary and usages. "
   ]
  },
  {
   "cell_type": "code",
   "execution_count": 1,
   "metadata": {},
   "outputs": [
    {
     "name": "stdout",
     "output_type": "stream",
     "text": [
      "{'a': 'Andrew'} <type 'dict'>\n",
      "{'a': 'Jason', 'b': 'Sherry'} <type 'dict'>\n"
     ]
    }
   ],
   "source": [
    "# Part 1\n",
    "def some_func(**kwargs):\n",
    "    print kwargs, type(kwargs)\n",
    "    \n",
    "some_func(a = 'Andrew')\n",
    "some_func(a = 'Jason', b ='Sherry')"
   ]
  },
  {
   "cell_type": "code",
   "execution_count": 2,
   "metadata": {},
   "outputs": [
    {
     "name": "stdout",
     "output_type": "stream",
     "text": [
      "a 7\n",
      "c 3\n",
      "b -5\n",
      "d -10\n"
     ]
    }
   ],
   "source": [
    "# Part 2\n",
    "def some_func(**kwargs):\n",
    "    # since kwargs is a dictionary, we can iterate using items() function. \n",
    "    for key, value in kwargs.items():\n",
    "        print key, value\n",
    "\n",
    "some_func(a = 7, b = -5, c = 3, d = -10)"
   ]
  },
  {
   "cell_type": "markdown",
   "metadata": {},
   "source": [
    "### 2. What does the line `#!/bin/sh` do at the beginning of a file?\n"
   ]
  },
  {
   "cell_type": "markdown",
   "metadata": {},
   "source": [
    "\n",
    "It specify which shell the script should be using. In this case, it use \"/bin/sh\" (\"sh\" might have soft link to other shell, such ksh, bash, or csh). If this is not specified at the begenning of a file, it will use the default shell specified by the /etc/passwd. Such as, bash:\n"
   ]
  },
  {
   "cell_type": "code",
   "execution_count": 4,
   "metadata": {},
   "outputs": [
    {
     "name": "stdout",
     "output_type": "stream",
     "text": [
      "/mnt/AGZ1/GD_AGZ1117/AGZ_Home/workspace_pOD/ipython/UCSC/2017PythonClass/Assignment\n",
      "azhang:x:1000:1000:azhang,,,:/home/azhang:/bin/bash\n"
     ]
    }
   ],
   "source": [
    "%%bash\n",
    "pwd\n",
    "grep $LOGNAME /etc/passwd\n",
    "# bash is used by use \"azhang\""
   ]
  },
  {
   "cell_type": "markdown",
   "metadata": {},
   "source": [
    "### 3. Assume you have a list `x = [\"table\", \"chair\", \"cup\", \"fork\"]`. Write a function to write the contents of this list to a file, one item per line."
   ]
  },
  {
   "cell_type": "code",
   "execution_count": 5,
   "metadata": {},
   "outputs": [
    {
     "name": "stdout",
     "output_type": "stream",
     "text": [
      "\n",
      "Check the content for the file\n",
      "table\n",
      "chair\n",
      "cup\n",
      "fork\n"
     ]
    }
   ],
   "source": [
    "# 1. Remove the file if existed on pwd if we need to run multiple time\n",
    "import os\n",
    "if os.path.exists(\"anskey3.txt\"):\n",
    "    os.remove(\"anskey3.txt\")\n",
    "\n",
    "# 2. Defile a function and decide the file name to be written: anskey3.txt\n",
    "x = [\"table\", \"chair\", \"cup\", \"fork\"]\n",
    "with open('anskey3.txt', 'a') as the_file:\n",
    "    the_file.write(x[0] +'\\n')\n",
    "    the_file.write(x[1] +'\\n')\n",
    "    the_file.write(x[2] +'\\n')\n",
    "    the_file.write(x[3] +'\\n')\n",
    "    the_file.close\n",
    "\n",
    "# 3. Check the result\n",
    "print \"\\nCheck the content for the file\"\n",
    "with open('anskey3.txt', 'r') as fo:\n",
    "    for items in fo.readlines():\n",
    "        print items.strip()"
   ]
  },
  {
   "cell_type": "markdown",
   "metadata": {},
   "source": [
    "### 4. Write another function to read the file from the previous question, and return the same list of items. (Hint: What about non-printing characters?)"
   ]
  },
  {
   "cell_type": "code",
   "execution_count": 6,
   "metadata": {},
   "outputs": [
    {
     "name": "stdout",
     "output_type": "stream",
     "text": [
      "['table', 'chair', 'cup', 'fork']\n"
     ]
    }
   ],
   "source": [
    "with open(\"anskey3.txt\") as f:\n",
    "    content = f.readlines()\n",
    "# Remove whitespace characters like `\\n` at the end of each line\n",
    "content = [x.strip() for x in content] \n",
    "print content"
   ]
  },
  {
   "cell_type": "markdown",
   "metadata": {},
   "source": [
    "### 5. Write a function to calculate the factorial of number."
   ]
  },
  {
   "cell_type": "code",
   "execution_count": 7,
   "metadata": {},
   "outputs": [
    {
     "name": "stdout",
     "output_type": "stream",
     "text": [
      "720\n"
     ]
    }
   ],
   "source": [
    "# n! --> 6!= 6*5*4*3*2*1 = 720\n",
    "def factorial(n):\n",
    "    num = 1\n",
    "    while n >= 1:\n",
    "        num = num * n\n",
    "        n = n - 1\n",
    "    return num\n",
    "\n",
    "# Run a test of factorial 6:\n",
    "print factorial(6)"
   ]
  },
  {
   "cell_type": "markdown",
   "metadata": {},
   "source": [
    "### 6. Write a function to generate the n-th element of the sequence 2, 1, 3, 4, 7, 11, 18,...\n",
    "\n"
   ]
  },
  {
   "cell_type": "code",
   "execution_count": 8,
   "metadata": {},
   "outputs": [
    {
     "name": "stdout",
     "output_type": "stream",
     "text": [
      "0 2\n",
      "1 1\n",
      "2 3\n",
      "3 4\n",
      "4 7\n",
      "5 11\n",
      "6 18\n",
      "7 29\n",
      "8 47\n",
      "9 76\n"
     ]
    }
   ],
   "source": [
    "# The pattern of the list it that each number is the sum of the previous two numbers\n",
    "\n",
    "def get_nth_element(n):\n",
    "    if n < 0:\n",
    "        return\n",
    "    prev_number = 2\n",
    "    curr_number = 1\n",
    "    while n > 0:\n",
    "        # curr_number will be overwritten, need a temp variable\n",
    "        temp = curr_number \n",
    "        curr_number = prev_number + curr_number\n",
    "        prev_number = temp\n",
    "        n -= 1\n",
    "    return prev_number\n",
    "\n",
    "# test\n",
    "for i in range(10):\n",
    "    print i, get_nth_element(i)"
   ]
  },
  {
   "cell_type": "markdown",
   "metadata": {},
   "source": [
    "###  7. Write a function to determine if a number is a prime."
   ]
  },
  {
   "cell_type": "code",
   "execution_count": 9,
   "metadata": {},
   "outputs": [
    {
     "name": "stdout",
     "output_type": "stream",
     "text": [
      "1 False\n",
      "2 True\n",
      "3 True\n",
      "4 False\n",
      "5 True\n",
      "6 False\n",
      "7 True\n",
      "8 False\n",
      "9 False\n",
      "10 False\n",
      "11 True\n",
      "12 False\n",
      "13 True\n",
      "14 False\n",
      "15 False\n",
      "16 False\n",
      "17 True\n",
      "18 False\n",
      "19 True\n"
     ]
    }
   ],
   "source": [
    "def is_prime(x):\n",
    "    # up to sqrt(n)\n",
    "    if x == 1:\n",
    "        return False\n",
    "    for i in range(2, x):\n",
    "        if x % i == 0:\n",
    "            return False\n",
    "    return True\n",
    "\n",
    "# Run a test\n",
    "for i in range(1, 20):\n",
    "    print i, is_prime(i)"
   ]
  },
  {
   "cell_type": "code",
   "execution_count": 10,
   "metadata": {},
   "outputs": [
    {
     "name": "stdout",
     "output_type": "stream",
     "text": [
      "True\n"
     ]
    }
   ],
   "source": [
    "print is_prime(23)"
   ]
  },
  {
   "cell_type": "code",
   "execution_count": 11,
   "metadata": {},
   "outputs": [
    {
     "name": "stdout",
     "output_type": "stream",
     "text": [
      "False\n"
     ]
    }
   ],
   "source": [
    "print is_prime(152)"
   ]
  },
  {
   "cell_type": "markdown",
   "metadata": {},
   "source": [
    "### 8. Write a class with a method that determines if a word is a palindrome.\n"
   ]
  },
  {
   "cell_type": "code",
   "execution_count": 3,
   "metadata": {},
   "outputs": [
    {
     "name": "stdout",
     "output_type": "stream",
     "text": [
      "True\n"
     ]
    }
   ],
   "source": [
    "class Palindrome():\n",
    "    \n",
    "    def getPalindrome(self, n):\n",
    "        # convert the number into a string\n",
    "        s = str(n)\n",
    "        r = s[::-1]\n",
    "        if ( s == r):\n",
    "            return True\n",
    "        else:\n",
    "            print False\n",
    "            \n",
    "checkPalindrome = Palindrome()\n",
    "\n",
    "print checkPalindrome.getPalindrome(\"radar\")"
   ]
  },
  {
   "cell_type": "markdown",
   "metadata": {},
   "source": [
    "### 9. Write a function to sum the bits of a number. For example `sum_bits(2) == 1`, `sum_bits(3) == 2`.\n"
   ]
  },
  {
   "cell_type": "code",
   "execution_count": 13,
   "metadata": {
    "collapsed": true
   },
   "outputs": [],
   "source": [
    "def count_bits(n):\n",
    "    bit_count = 0\n",
    "    while n > 0:\n",
    "        bit_count += n % 2\n",
    "        n /= 2\n",
    "    return bit_count"
   ]
  },
  {
   "cell_type": "code",
   "execution_count": 14,
   "metadata": {},
   "outputs": [
    {
     "data": {
      "text/plain": [
       "2"
      ]
     },
     "execution_count": 14,
     "metadata": {},
     "output_type": "execute_result"
    }
   ],
   "source": [
    "# Test\n",
    "count_bits(3)"
   ]
  },
  {
   "cell_type": "code",
   "execution_count": 15,
   "metadata": {},
   "outputs": [
    {
     "data": {
      "text/plain": [
       "1"
      ]
     },
     "execution_count": 15,
     "metadata": {},
     "output_type": "execute_result"
    }
   ],
   "source": [
    "count_bits(2)"
   ]
  },
  {
   "cell_type": "markdown",
   "metadata": {},
   "source": [
    "### 10. What is the difference between a logical/boolean OR operation, and a bitwise OR operation? In other words, what is happening in this snippet from a Python interactive session:\n",
    "```\n",
    ">>> a = 0b10\n",
    ">>> b = 0b11\n",
    ">>>\n",
    ">>> a or b\n",
    "2\n",
    ">>> a | b\n",
    "3\n",
    "```"
   ]
  },
  {
   "cell_type": "raw",
   "metadata": {},
   "source": [
    "Logical operators deal with statements while bitwise operators deal with binary representations of data.\n",
    "\n",
    "Logical OR is a short circuit. In python, all numbers except 0 are equivalent to True. So if we do A or B or C or D or E, it'll return the first value that gives us a true value. So 0 or 1 or 2 would return 1 while 3 or 2 or 1 will return 3 (0 = False, 1 = True, 2 = True, ...). This is similar to the way that logical and works which returns the first value that is equivalent to False unless all values are True.\n"
   ]
  },
  {
   "cell_type": "code",
   "execution_count": 2,
   "metadata": {},
   "outputs": [
    {
     "name": "stdout",
     "output_type": "stream",
     "text": [
      "a:  2\n",
      "b:  3\n"
     ]
    },
    {
     "data": {
      "text/plain": [
       "2"
      ]
     },
     "execution_count": 2,
     "metadata": {},
     "output_type": "execute_result"
    }
   ],
   "source": [
    "# Logic OR (a or b: takes a)\n",
    "a = 0b10\n",
    "b = 0b11\n",
    "print \"a: \", a\n",
    "print \"b: \", b\n",
    "a or b"
   ]
  },
  {
   "cell_type": "raw",
   "metadata": {},
   "source": [
    "On the other hand, bitwise OR does an OR on each bit. so 0b11 | 0b10 will return a number that is 1|1=1 as the first digit and 1|0=1 as the second digit, so it becomes 0b11 in binary, which is 3."
   ]
  },
  {
   "cell_type": "code",
   "execution_count": 3,
   "metadata": {},
   "outputs": [
    {
     "data": {
      "text/plain": [
       "3"
      ]
     },
     "execution_count": 3,
     "metadata": {},
     "output_type": "execute_result"
    }
   ],
   "source": [
    "# Bitwise OR \n",
    "a | b"
   ]
  },
  {
   "cell_type": "markdown",
   "metadata": {},
   "source": [
    "### 11. What is a bit mask? If you had `data = 0b01000010`, how would you toggle the seventh bit from 1 to 0?"
   ]
  },
  {
   "cell_type": "raw",
   "metadata": {},
   "source": [
    "A bit mask is a binary number that is all 0's except the important locations, e.g. 0b01000000. To form a bit mask, we can use the << operator, so 0b00000001 << 6 would move the 1 over 6 spots to form 0b01000000.\n",
    "\n",
    ">>> 1 << 6\n",
    "64\n",
    ">>> bin(1 << 6)\n",
    "'0b1000000'\n",
    ">>>\n",
    "\n",
    "You can toggle any bit by XOR'ing a mask with a 1 in that spot. So to toggle the 7th bit, you can do n ^ (1 << 6).\n",
    ">>> bin(0b01000010 ^ 0b01000000)\n",
    "'0b10'\n",
    ">>> bin(0b01000010 ^ (1 << 6))\n",
    "'0b10'\n"
   ]
  },
  {
   "cell_type": "code",
   "execution_count": 18,
   "metadata": {},
   "outputs": [
    {
     "data": {
      "text/plain": [
       "64"
      ]
     },
     "execution_count": 18,
     "metadata": {},
     "output_type": "execute_result"
    }
   ],
   "source": [
    "# Some tests\n",
    "1 << 6"
   ]
  },
  {
   "cell_type": "code",
   "execution_count": 19,
   "metadata": {},
   "outputs": [
    {
     "data": {
      "text/plain": [
       "'0b1000000'"
      ]
     },
     "execution_count": 19,
     "metadata": {},
     "output_type": "execute_result"
    }
   ],
   "source": [
    "bin(1 << 6)"
   ]
  },
  {
   "cell_type": "code",
   "execution_count": 20,
   "metadata": {},
   "outputs": [
    {
     "data": {
      "text/plain": [
       "'0b10'"
      ]
     },
     "execution_count": 20,
     "metadata": {},
     "output_type": "execute_result"
    }
   ],
   "source": [
    "bin(0b01000010 ^ (1 << 6))"
   ]
  },
  {
   "cell_type": "markdown",
   "metadata": {},
   "source": [
    "### 12. What are the differences between TCP and UDP? (List one or two sentences.)"
   ]
  },
  {
   "cell_type": "markdown",
   "metadata": {},
   "source": [
    "- TCP is connection oriented.  So it has features like reliable transport and flow control.  TCP is streaming oriented (aka stream of bytes).\n",
    "- UDP is connectionless oriented.  So it does not support reliable transport.  UDP is message oriented (aka datagram)."
   ]
  },
  {
   "cell_type": "markdown",
   "metadata": {},
   "source": [
    "### 13. Pick the invalid IP address(es): a) 127.0.0.1,  b) 0.0.0.0,  c) 127.256.365.0\n",
    "\n"
   ]
  },
  {
   "cell_type": "markdown",
   "metadata": {},
   "source": [
    "Invalid IP address: c) 127.256.365.0"
   ]
  },
  {
   "cell_type": "markdown",
   "metadata": {},
   "source": [
    "### 14. How many tests would you need in order to test an arbitrary state machine? (Is there an upper bound?)"
   ]
  },
  {
   "cell_type": "raw",
   "metadata": {},
   "source": [
    "I am not very sure what an arbitrary state machine is. My guess could be that it can take on an arbitrary number of states, so the number of tests you would need to fully test it would be upper bounded by the number of possible states. For example, if my program has n possible states, the maximum number of tests that would be necessary is n but could be less."
   ]
  },
  {
   "cell_type": "code",
   "execution_count": null,
   "metadata": {
    "collapsed": true
   },
   "outputs": [],
   "source": []
  },
  {
   "cell_type": "markdown",
   "metadata": {},
   "source": [
    "### 15. Examine the following Python code, add comments, and offer suggestions to make this more readable and robust. Context: an Armstrong number is one that can be written as a sum of cubes of its digits. For example, 153 is an Armstrong number is equal to 1^3 + 5^3 + 3^3 = 1 + 125 + 27. \n",
    "```\n",
    "def armstrong(n):\n",
    "    res = 0\n",
    "orig = n\n",
    "    while n != 0:\n",
    "        remainder = n % 10\n",
    "        res += remainder**3\n",
    "        n //= 10\n",
    "    if orig == res:\n",
    "        return True\n",
    "    return False\n",
    "```\n",
    "\n"
   ]
  },
  {
   "cell_type": "raw",
   "metadata": {},
   "source": [
    "I may make some modification as following:\n",
    "\n",
    "1) Rename the variable to be more meaningful, for example: use \"sum\" as \"res\", original_number\" as orig\n",
    "2) Add data validation: input number must the an interger and greater than 0, such as:\n",
    "     take input from the user:\n",
    "     num = int(input(\"Please positvie ingeter: \"))\n",
    "   Furhtermore, refuse anythe wrong type of data input.\n",
    "3) Added minimum comments as following.   \n",
    "4) Do a few test for validation"
   ]
  },
  {
   "cell_type": "code",
   "execution_count": 21,
   "metadata": {
    "collapsed": true
   },
   "outputs": [],
   "source": [
    "def armstrong(n):\n",
    "    \n",
    "    # initialize sum\n",
    "    res = 0\n",
    "    orig = n\n",
    "    \n",
    "    # find the sum of the cube of each digit\n",
    "    while n != 0:\n",
    "        remainder = n % 10    \n",
    "        res += remainder**3    \n",
    "        n //= 10\n",
    "        \n",
    "    # display the result\n",
    "    if orig == res:\n",
    "       return True\n",
    "    else:        \n",
    "        return False"
   ]
  },
  {
   "cell_type": "code",
   "execution_count": 22,
   "metadata": {},
   "outputs": [
    {
     "name": "stdout",
     "output_type": "stream",
     "text": [
      "True\n",
      "False\n",
      "True\n"
     ]
    }
   ],
   "source": [
    "# Test\n",
    "print armstrong(153)\n",
    "print armstrong(135)\n",
    "print armstrong(370)\n"
   ]
  },
  {
   "cell_type": "raw",
   "metadata": {},
   "source": [
    "- end"
   ]
  }
 ],
 "metadata": {
  "kernelspec": {
   "display_name": "Python 2",
   "language": "python",
   "name": "python2"
  },
  "language_info": {
   "codemirror_mode": {
    "name": "ipython",
    "version": 2
   },
   "file_extension": ".py",
   "mimetype": "text/x-python",
   "name": "python",
   "nbconvert_exporter": "python",
   "pygments_lexer": "ipython2",
   "version": "2.7.14"
  }
 },
 "nbformat": 4,
 "nbformat_minor": 2
}
