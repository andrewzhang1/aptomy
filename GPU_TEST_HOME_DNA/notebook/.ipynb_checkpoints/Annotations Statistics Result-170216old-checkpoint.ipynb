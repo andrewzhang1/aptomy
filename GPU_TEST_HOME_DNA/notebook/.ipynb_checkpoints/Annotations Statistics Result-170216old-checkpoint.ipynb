{
 "cells": [
  {
   "cell_type": "markdown",
   "metadata": {},
   "source": [
    "# Annotations Statistics Result for 170216\n",
    "### neg_high, neg_low, pos_high, pos_low and their values for max, min, mean, std, and var."
   ]
  },
  {
   "cell_type": "code",
   "execution_count": null,
   "metadata": {
    "collapsed": true
   },
   "outputs": [],
   "source": []
  },
  {
   "cell_type": "code",
   "execution_count": 12,
   "metadata": {
    "collapsed": true
   },
   "outputs": [],
   "source": [
    "%matplotlib inline\n",
    "import pandas as pd"
   ]
  },
  {
   "cell_type": "code",
   "execution_count": 13,
   "metadata": {
    "collapsed": true
   },
   "outputs": [],
   "source": [
    "import pandas as pd"
   ]
  },
  {
   "cell_type": "code",
   "execution_count": 14,
   "metadata": {
    "collapsed": false
   },
   "outputs": [
    {
     "data": {
      "text/plain": [
       "u'/home/genia/azhang/GPU_TEST_HOME/notebook'"
      ]
     },
     "execution_count": 14,
     "metadata": {},
     "output_type": "execute_result"
    }
   ],
   "source": [
    "pwd"
   ]
  },
  {
   "cell_type": "code",
   "execution_count": 18,
   "metadata": {
    "collapsed": false
   },
   "outputs": [
    {
     "name": "stdout",
     "output_type": "stream",
     "text": [
      "                                            anno_path  neg_high_max  \\\n",
      "0   /home/genia/rigdata/aerodactyl/170216_TAG_02_a...     17.924800   \n",
      "1   /home/genia/rigdata/aipom/170216_SIG-A_01_aipo...      7.443440   \n",
      "2   /home/genia/rigdata/alakazam/170216_TAG_02_ala...     23.621800   \n",
      "3   /home/genia/rigdata/beedril/170216_SIG-A_01_be...     10.566700   \n",
      "4   /home/genia/rigdata/beedril/170216_SIG-A_02_be...      2.658900   \n",
      "5   /home/genia/rigdata/bellossom/170216_SAM_03_be...      0.762058   \n",
      "6   /home/genia/rigdata/blaine/170216_PEG-POL_01_b...      7.927630   \n",
      "7   /home/genia/rigdata/blastoise/170216_SIG-A_02_...      3.620130   \n",
      "8   /home/genia/rigdata/blastoise/170216_SIG-A_02_...      6.971110   \n",
      "9   /home/genia/rigdata/blastoise/170216_SIG-A_01_...     -4.892520   \n",
      "10  /home/genia/rigdata/brock/170216_SIG-A_01_broc...     -0.677166   \n",
      "11  /home/genia/rigdata/brock/170216_SIG-A_01_broc...     -0.677166   \n",
      "12  /home/genia/rigdata/butterfree/170216_TAG_02_b...      9.942200   \n",
      "13  /home/genia/rigdata/caterpie/170216_TAG_02_cat...     24.290900   \n",
      "14  /home/genia/rigdata/charizard/170216_SIG-A_02_...      0.737465   \n",
      "15  /home/genia/rigdata/charizard/170216_SIG-A_02_...      0.737466   \n",
      "16  /home/genia/rigdata/charizard/170216_SIG-A_01_...      4.688370   \n",
      "17  /home/genia/rigdata/charmeleon/170216_TAG_02_c...     27.550800   \n",
      "18  /home/genia/rigdata/chikorita/170216_ENG-BIE_0...     18.446100   \n",
      "19  /home/genia/rigdata/chikorita/170216_ENG-BIE_0...     23.131000   \n",
      "\n",
      "    neg_high_min  neg_low_max  neg_low_min  pos_high_max  pos_high_min  \\\n",
      "0      -109.0520    17.924800    -109.0520       173.752     -1.746900   \n",
      "1       -22.9999     7.443440     -22.9999       178.913     12.833100   \n",
      "2      -102.7770    23.621800    -102.7770       156.018      2.141980   \n",
      "3       -24.1116    10.566700     -24.1116       174.476      9.950470   \n",
      "4       -88.4291     2.658900     -88.4291       196.016   -143.821000   \n",
      "5       -23.4111     0.762058     -23.4111       194.664     17.713300   \n",
      "6       -25.6770     7.927630     -25.6770       192.120      3.974430   \n",
      "7       -31.0640     3.620130     -31.0640       177.061     11.436000   \n",
      "8       -63.8038     6.971110     -63.8038       213.958   -109.529000   \n",
      "9       -37.8440    -4.892520     -37.8440       183.777      9.071290   \n",
      "10      -34.6781    -0.677166     -34.6781       180.488     13.809000   \n",
      "11      -34.6781    -0.677166     -34.6781       180.488     13.809000   \n",
      "12     -107.9370     9.942200    -107.9370       160.035      2.689130   \n",
      "13     -111.9520    24.290900    -111.9520       162.130     -6.874810   \n",
      "14      -41.8923     0.737465     -41.8923       163.502     14.825700   \n",
      "15      -65.5084     0.737466     -65.5084       207.726   -109.322000   \n",
      "16      -26.5198     4.688370     -26.5198       175.331     13.976600   \n",
      "17     -107.6980    27.550800    -107.6980       167.255      0.495634   \n",
      "18     -107.0520    18.446100    -107.0520       156.318     -0.036410   \n",
      "19     -101.2240    23.131000    -101.2240       151.868     -0.706492   \n",
      "\n",
      "    pos_low_max  pos_low_min  \n",
      "0       173.752    -1.746900  \n",
      "1       178.913    12.833100  \n",
      "2       156.018     2.141980  \n",
      "3       174.476     9.950470  \n",
      "4       196.016  -143.821000  \n",
      "5       194.664    17.713300  \n",
      "6       192.120     3.974430  \n",
      "7       177.061    11.436000  \n",
      "8       213.958  -109.529000  \n",
      "9       183.777     9.071290  \n",
      "10      180.488    13.809000  \n",
      "11      180.488    13.809000  \n",
      "12      160.035     2.689130  \n",
      "13      162.130    -6.874810  \n",
      "14      163.502    14.825700  \n",
      "15      207.726  -109.322000  \n",
      "16      175.331    13.976600  \n",
      "17      167.255     0.495634  \n",
      "18      156.318    -0.036410  \n",
      "19      151.868    -0.706492  \n"
     ]
    }
   ],
   "source": [
    "\n",
    "anno_result = pd.read_csv('../result/anno_stat_result.csv', delimiter = ' ')\n",
    "print(data)"
   ]
  },
  {
   "cell_type": "code",
   "execution_count": 23,
   "metadata": {
    "collapsed": false
   },
   "outputs": [
    {
     "data": {
      "text/html": [
       "<div>\n",
       "<table border=\"1\" class=\"dataframe\">\n",
       "  <thead>\n",
       "    <tr style=\"text-align: right;\">\n",
       "      <th></th>\n",
       "      <th>anno_path</th>\n",
       "      <th>neg_high_max</th>\n",
       "      <th>neg_high_min</th>\n",
       "      <th>neg_low_max</th>\n",
       "      <th>neg_low_min</th>\n",
       "      <th>pos_high_max</th>\n",
       "      <th>pos_high_min</th>\n",
       "      <th>pos_low_max</th>\n",
       "      <th>pos_low_min</th>\n",
       "    </tr>\n",
       "  </thead>\n",
       "  <tbody>\n",
       "    <tr>\n",
       "      <th>0</th>\n",
       "      <td>/home/genia/rigdata/aerodactyl/170216_TAG_02_a...</td>\n",
       "      <td>17.924800</td>\n",
       "      <td>-109.0520</td>\n",
       "      <td>17.924800</td>\n",
       "      <td>-109.0520</td>\n",
       "      <td>173.752</td>\n",
       "      <td>-1.746900</td>\n",
       "      <td>173.752</td>\n",
       "      <td>-1.746900</td>\n",
       "    </tr>\n",
       "    <tr>\n",
       "      <th>1</th>\n",
       "      <td>/home/genia/rigdata/aipom/170216_SIG-A_01_aipo...</td>\n",
       "      <td>7.443440</td>\n",
       "      <td>-22.9999</td>\n",
       "      <td>7.443440</td>\n",
       "      <td>-22.9999</td>\n",
       "      <td>178.913</td>\n",
       "      <td>12.833100</td>\n",
       "      <td>178.913</td>\n",
       "      <td>12.833100</td>\n",
       "    </tr>\n",
       "    <tr>\n",
       "      <th>2</th>\n",
       "      <td>/home/genia/rigdata/alakazam/170216_TAG_02_ala...</td>\n",
       "      <td>23.621800</td>\n",
       "      <td>-102.7770</td>\n",
       "      <td>23.621800</td>\n",
       "      <td>-102.7770</td>\n",
       "      <td>156.018</td>\n",
       "      <td>2.141980</td>\n",
       "      <td>156.018</td>\n",
       "      <td>2.141980</td>\n",
       "    </tr>\n",
       "    <tr>\n",
       "      <th>3</th>\n",
       "      <td>/home/genia/rigdata/beedril/170216_SIG-A_01_be...</td>\n",
       "      <td>10.566700</td>\n",
       "      <td>-24.1116</td>\n",
       "      <td>10.566700</td>\n",
       "      <td>-24.1116</td>\n",
       "      <td>174.476</td>\n",
       "      <td>9.950470</td>\n",
       "      <td>174.476</td>\n",
       "      <td>9.950470</td>\n",
       "    </tr>\n",
       "    <tr>\n",
       "      <th>4</th>\n",
       "      <td>/home/genia/rigdata/beedril/170216_SIG-A_02_be...</td>\n",
       "      <td>2.658900</td>\n",
       "      <td>-88.4291</td>\n",
       "      <td>2.658900</td>\n",
       "      <td>-88.4291</td>\n",
       "      <td>196.016</td>\n",
       "      <td>-143.821000</td>\n",
       "      <td>196.016</td>\n",
       "      <td>-143.821000</td>\n",
       "    </tr>\n",
       "    <tr>\n",
       "      <th>5</th>\n",
       "      <td>/home/genia/rigdata/bellossom/170216_SAM_03_be...</td>\n",
       "      <td>0.762058</td>\n",
       "      <td>-23.4111</td>\n",
       "      <td>0.762058</td>\n",
       "      <td>-23.4111</td>\n",
       "      <td>194.664</td>\n",
       "      <td>17.713300</td>\n",
       "      <td>194.664</td>\n",
       "      <td>17.713300</td>\n",
       "    </tr>\n",
       "    <tr>\n",
       "      <th>6</th>\n",
       "      <td>/home/genia/rigdata/blaine/170216_PEG-POL_01_b...</td>\n",
       "      <td>7.927630</td>\n",
       "      <td>-25.6770</td>\n",
       "      <td>7.927630</td>\n",
       "      <td>-25.6770</td>\n",
       "      <td>192.120</td>\n",
       "      <td>3.974430</td>\n",
       "      <td>192.120</td>\n",
       "      <td>3.974430</td>\n",
       "    </tr>\n",
       "    <tr>\n",
       "      <th>7</th>\n",
       "      <td>/home/genia/rigdata/blastoise/170216_SIG-A_02_...</td>\n",
       "      <td>3.620130</td>\n",
       "      <td>-31.0640</td>\n",
       "      <td>3.620130</td>\n",
       "      <td>-31.0640</td>\n",
       "      <td>177.061</td>\n",
       "      <td>11.436000</td>\n",
       "      <td>177.061</td>\n",
       "      <td>11.436000</td>\n",
       "    </tr>\n",
       "    <tr>\n",
       "      <th>8</th>\n",
       "      <td>/home/genia/rigdata/blastoise/170216_SIG-A_02_...</td>\n",
       "      <td>6.971110</td>\n",
       "      <td>-63.8038</td>\n",
       "      <td>6.971110</td>\n",
       "      <td>-63.8038</td>\n",
       "      <td>213.958</td>\n",
       "      <td>-109.529000</td>\n",
       "      <td>213.958</td>\n",
       "      <td>-109.529000</td>\n",
       "    </tr>\n",
       "    <tr>\n",
       "      <th>9</th>\n",
       "      <td>/home/genia/rigdata/blastoise/170216_SIG-A_01_...</td>\n",
       "      <td>-4.892520</td>\n",
       "      <td>-37.8440</td>\n",
       "      <td>-4.892520</td>\n",
       "      <td>-37.8440</td>\n",
       "      <td>183.777</td>\n",
       "      <td>9.071290</td>\n",
       "      <td>183.777</td>\n",
       "      <td>9.071290</td>\n",
       "    </tr>\n",
       "    <tr>\n",
       "      <th>10</th>\n",
       "      <td>/home/genia/rigdata/brock/170216_SIG-A_01_broc...</td>\n",
       "      <td>-0.677166</td>\n",
       "      <td>-34.6781</td>\n",
       "      <td>-0.677166</td>\n",
       "      <td>-34.6781</td>\n",
       "      <td>180.488</td>\n",
       "      <td>13.809000</td>\n",
       "      <td>180.488</td>\n",
       "      <td>13.809000</td>\n",
       "    </tr>\n",
       "    <tr>\n",
       "      <th>11</th>\n",
       "      <td>/home/genia/rigdata/brock/170216_SIG-A_01_broc...</td>\n",
       "      <td>-0.677166</td>\n",
       "      <td>-34.6781</td>\n",
       "      <td>-0.677166</td>\n",
       "      <td>-34.6781</td>\n",
       "      <td>180.488</td>\n",
       "      <td>13.809000</td>\n",
       "      <td>180.488</td>\n",
       "      <td>13.809000</td>\n",
       "    </tr>\n",
       "    <tr>\n",
       "      <th>12</th>\n",
       "      <td>/home/genia/rigdata/butterfree/170216_TAG_02_b...</td>\n",
       "      <td>9.942200</td>\n",
       "      <td>-107.9370</td>\n",
       "      <td>9.942200</td>\n",
       "      <td>-107.9370</td>\n",
       "      <td>160.035</td>\n",
       "      <td>2.689130</td>\n",
       "      <td>160.035</td>\n",
       "      <td>2.689130</td>\n",
       "    </tr>\n",
       "    <tr>\n",
       "      <th>13</th>\n",
       "      <td>/home/genia/rigdata/caterpie/170216_TAG_02_cat...</td>\n",
       "      <td>24.290900</td>\n",
       "      <td>-111.9520</td>\n",
       "      <td>24.290900</td>\n",
       "      <td>-111.9520</td>\n",
       "      <td>162.130</td>\n",
       "      <td>-6.874810</td>\n",
       "      <td>162.130</td>\n",
       "      <td>-6.874810</td>\n",
       "    </tr>\n",
       "    <tr>\n",
       "      <th>14</th>\n",
       "      <td>/home/genia/rigdata/charizard/170216_SIG-A_02_...</td>\n",
       "      <td>0.737465</td>\n",
       "      <td>-41.8923</td>\n",
       "      <td>0.737465</td>\n",
       "      <td>-41.8923</td>\n",
       "      <td>163.502</td>\n",
       "      <td>14.825700</td>\n",
       "      <td>163.502</td>\n",
       "      <td>14.825700</td>\n",
       "    </tr>\n",
       "    <tr>\n",
       "      <th>15</th>\n",
       "      <td>/home/genia/rigdata/charizard/170216_SIG-A_02_...</td>\n",
       "      <td>0.737466</td>\n",
       "      <td>-65.5084</td>\n",
       "      <td>0.737466</td>\n",
       "      <td>-65.5084</td>\n",
       "      <td>207.726</td>\n",
       "      <td>-109.322000</td>\n",
       "      <td>207.726</td>\n",
       "      <td>-109.322000</td>\n",
       "    </tr>\n",
       "    <tr>\n",
       "      <th>16</th>\n",
       "      <td>/home/genia/rigdata/charizard/170216_SIG-A_01_...</td>\n",
       "      <td>4.688370</td>\n",
       "      <td>-26.5198</td>\n",
       "      <td>4.688370</td>\n",
       "      <td>-26.5198</td>\n",
       "      <td>175.331</td>\n",
       "      <td>13.976600</td>\n",
       "      <td>175.331</td>\n",
       "      <td>13.976600</td>\n",
       "    </tr>\n",
       "    <tr>\n",
       "      <th>17</th>\n",
       "      <td>/home/genia/rigdata/charmeleon/170216_TAG_02_c...</td>\n",
       "      <td>27.550800</td>\n",
       "      <td>-107.6980</td>\n",
       "      <td>27.550800</td>\n",
       "      <td>-107.6980</td>\n",
       "      <td>167.255</td>\n",
       "      <td>0.495634</td>\n",
       "      <td>167.255</td>\n",
       "      <td>0.495634</td>\n",
       "    </tr>\n",
       "    <tr>\n",
       "      <th>18</th>\n",
       "      <td>/home/genia/rigdata/chikorita/170216_ENG-BIE_0...</td>\n",
       "      <td>18.446100</td>\n",
       "      <td>-107.0520</td>\n",
       "      <td>18.446100</td>\n",
       "      <td>-107.0520</td>\n",
       "      <td>156.318</td>\n",
       "      <td>-0.036410</td>\n",
       "      <td>156.318</td>\n",
       "      <td>-0.036410</td>\n",
       "    </tr>\n",
       "    <tr>\n",
       "      <th>19</th>\n",
       "      <td>/home/genia/rigdata/chikorita/170216_ENG-BIE_0...</td>\n",
       "      <td>23.131000</td>\n",
       "      <td>-101.2240</td>\n",
       "      <td>23.131000</td>\n",
       "      <td>-101.2240</td>\n",
       "      <td>151.868</td>\n",
       "      <td>-0.706492</td>\n",
       "      <td>151.868</td>\n",
       "      <td>-0.706492</td>\n",
       "    </tr>\n",
       "  </tbody>\n",
       "</table>\n",
       "</div>"
      ],
      "text/plain": [
       "                                            anno_path  neg_high_max  \\\n",
       "0   /home/genia/rigdata/aerodactyl/170216_TAG_02_a...     17.924800   \n",
       "1   /home/genia/rigdata/aipom/170216_SIG-A_01_aipo...      7.443440   \n",
       "2   /home/genia/rigdata/alakazam/170216_TAG_02_ala...     23.621800   \n",
       "3   /home/genia/rigdata/beedril/170216_SIG-A_01_be...     10.566700   \n",
       "4   /home/genia/rigdata/beedril/170216_SIG-A_02_be...      2.658900   \n",
       "5   /home/genia/rigdata/bellossom/170216_SAM_03_be...      0.762058   \n",
       "6   /home/genia/rigdata/blaine/170216_PEG-POL_01_b...      7.927630   \n",
       "7   /home/genia/rigdata/blastoise/170216_SIG-A_02_...      3.620130   \n",
       "8   /home/genia/rigdata/blastoise/170216_SIG-A_02_...      6.971110   \n",
       "9   /home/genia/rigdata/blastoise/170216_SIG-A_01_...     -4.892520   \n",
       "10  /home/genia/rigdata/brock/170216_SIG-A_01_broc...     -0.677166   \n",
       "11  /home/genia/rigdata/brock/170216_SIG-A_01_broc...     -0.677166   \n",
       "12  /home/genia/rigdata/butterfree/170216_TAG_02_b...      9.942200   \n",
       "13  /home/genia/rigdata/caterpie/170216_TAG_02_cat...     24.290900   \n",
       "14  /home/genia/rigdata/charizard/170216_SIG-A_02_...      0.737465   \n",
       "15  /home/genia/rigdata/charizard/170216_SIG-A_02_...      0.737466   \n",
       "16  /home/genia/rigdata/charizard/170216_SIG-A_01_...      4.688370   \n",
       "17  /home/genia/rigdata/charmeleon/170216_TAG_02_c...     27.550800   \n",
       "18  /home/genia/rigdata/chikorita/170216_ENG-BIE_0...     18.446100   \n",
       "19  /home/genia/rigdata/chikorita/170216_ENG-BIE_0...     23.131000   \n",
       "\n",
       "    neg_high_min  neg_low_max  neg_low_min  pos_high_max  pos_high_min  \\\n",
       "0      -109.0520    17.924800    -109.0520       173.752     -1.746900   \n",
       "1       -22.9999     7.443440     -22.9999       178.913     12.833100   \n",
       "2      -102.7770    23.621800    -102.7770       156.018      2.141980   \n",
       "3       -24.1116    10.566700     -24.1116       174.476      9.950470   \n",
       "4       -88.4291     2.658900     -88.4291       196.016   -143.821000   \n",
       "5       -23.4111     0.762058     -23.4111       194.664     17.713300   \n",
       "6       -25.6770     7.927630     -25.6770       192.120      3.974430   \n",
       "7       -31.0640     3.620130     -31.0640       177.061     11.436000   \n",
       "8       -63.8038     6.971110     -63.8038       213.958   -109.529000   \n",
       "9       -37.8440    -4.892520     -37.8440       183.777      9.071290   \n",
       "10      -34.6781    -0.677166     -34.6781       180.488     13.809000   \n",
       "11      -34.6781    -0.677166     -34.6781       180.488     13.809000   \n",
       "12     -107.9370     9.942200    -107.9370       160.035      2.689130   \n",
       "13     -111.9520    24.290900    -111.9520       162.130     -6.874810   \n",
       "14      -41.8923     0.737465     -41.8923       163.502     14.825700   \n",
       "15      -65.5084     0.737466     -65.5084       207.726   -109.322000   \n",
       "16      -26.5198     4.688370     -26.5198       175.331     13.976600   \n",
       "17     -107.6980    27.550800    -107.6980       167.255      0.495634   \n",
       "18     -107.0520    18.446100    -107.0520       156.318     -0.036410   \n",
       "19     -101.2240    23.131000    -101.2240       151.868     -0.706492   \n",
       "\n",
       "    pos_low_max  pos_low_min  \n",
       "0       173.752    -1.746900  \n",
       "1       178.913    12.833100  \n",
       "2       156.018     2.141980  \n",
       "3       174.476     9.950470  \n",
       "4       196.016  -143.821000  \n",
       "5       194.664    17.713300  \n",
       "6       192.120     3.974430  \n",
       "7       177.061    11.436000  \n",
       "8       213.958  -109.529000  \n",
       "9       183.777     9.071290  \n",
       "10      180.488    13.809000  \n",
       "11      180.488    13.809000  \n",
       "12      160.035     2.689130  \n",
       "13      162.130    -6.874810  \n",
       "14      163.502    14.825700  \n",
       "15      207.726  -109.322000  \n",
       "16      175.331    13.976600  \n",
       "17      167.255     0.495634  \n",
       "18      156.318    -0.036410  \n",
       "19      151.868    -0.706492  "
      ]
     },
     "execution_count": 23,
     "metadata": {},
     "output_type": "execute_result"
    }
   ],
   "source": [
    "anno_result_df = DataFrame(anno_result)\n",
    "anno_result_df"
   ]
  },
  {
   "cell_type": "markdown",
   "metadata": {},
   "source": [
    "## 1. Top Five neg_high_max runs"
   ]
  },
  {
   "cell_type": "code",
   "execution_count": 31,
   "metadata": {
    "collapsed": false
   },
   "outputs": [
    {
     "data": {
      "text/html": [
       "<div>\n",
       "<table border=\"1\" class=\"dataframe\">\n",
       "  <thead>\n",
       "    <tr style=\"text-align: right;\">\n",
       "      <th></th>\n",
       "      <th>anno_path</th>\n",
       "      <th>neg_high_max</th>\n",
       "      <th>neg_high_min</th>\n",
       "      <th>neg_low_max</th>\n",
       "      <th>neg_low_min</th>\n",
       "      <th>pos_high_max</th>\n",
       "      <th>pos_high_min</th>\n",
       "      <th>pos_low_max</th>\n",
       "      <th>pos_low_min</th>\n",
       "    </tr>\n",
       "  </thead>\n",
       "  <tbody>\n",
       "    <tr>\n",
       "      <th>17</th>\n",
       "      <td>/home/genia/rigdata/charmeleon/170216_TAG_02_c...</td>\n",
       "      <td>27.5508</td>\n",
       "      <td>-107.698</td>\n",
       "      <td>27.5508</td>\n",
       "      <td>-107.698</td>\n",
       "      <td>167.255</td>\n",
       "      <td>0.495634</td>\n",
       "      <td>167.255</td>\n",
       "      <td>0.495634</td>\n",
       "    </tr>\n",
       "    <tr>\n",
       "      <th>13</th>\n",
       "      <td>/home/genia/rigdata/caterpie/170216_TAG_02_cat...</td>\n",
       "      <td>24.2909</td>\n",
       "      <td>-111.952</td>\n",
       "      <td>24.2909</td>\n",
       "      <td>-111.952</td>\n",
       "      <td>162.130</td>\n",
       "      <td>-6.874810</td>\n",
       "      <td>162.130</td>\n",
       "      <td>-6.874810</td>\n",
       "    </tr>\n",
       "    <tr>\n",
       "      <th>2</th>\n",
       "      <td>/home/genia/rigdata/alakazam/170216_TAG_02_ala...</td>\n",
       "      <td>23.6218</td>\n",
       "      <td>-102.777</td>\n",
       "      <td>23.6218</td>\n",
       "      <td>-102.777</td>\n",
       "      <td>156.018</td>\n",
       "      <td>2.141980</td>\n",
       "      <td>156.018</td>\n",
       "      <td>2.141980</td>\n",
       "    </tr>\n",
       "    <tr>\n",
       "      <th>19</th>\n",
       "      <td>/home/genia/rigdata/chikorita/170216_ENG-BIE_0...</td>\n",
       "      <td>23.1310</td>\n",
       "      <td>-101.224</td>\n",
       "      <td>23.1310</td>\n",
       "      <td>-101.224</td>\n",
       "      <td>151.868</td>\n",
       "      <td>-0.706492</td>\n",
       "      <td>151.868</td>\n",
       "      <td>-0.706492</td>\n",
       "    </tr>\n",
       "    <tr>\n",
       "      <th>18</th>\n",
       "      <td>/home/genia/rigdata/chikorita/170216_ENG-BIE_0...</td>\n",
       "      <td>18.4461</td>\n",
       "      <td>-107.052</td>\n",
       "      <td>18.4461</td>\n",
       "      <td>-107.052</td>\n",
       "      <td>156.318</td>\n",
       "      <td>-0.036410</td>\n",
       "      <td>156.318</td>\n",
       "      <td>-0.036410</td>\n",
       "    </tr>\n",
       "  </tbody>\n",
       "</table>\n",
       "</div>"
      ],
      "text/plain": [
       "                                            anno_path  neg_high_max  \\\n",
       "17  /home/genia/rigdata/charmeleon/170216_TAG_02_c...       27.5508   \n",
       "13  /home/genia/rigdata/caterpie/170216_TAG_02_cat...       24.2909   \n",
       "2   /home/genia/rigdata/alakazam/170216_TAG_02_ala...       23.6218   \n",
       "19  /home/genia/rigdata/chikorita/170216_ENG-BIE_0...       23.1310   \n",
       "18  /home/genia/rigdata/chikorita/170216_ENG-BIE_0...       18.4461   \n",
       "\n",
       "    neg_high_min  neg_low_max  neg_low_min  pos_high_max  pos_high_min  \\\n",
       "17      -107.698      27.5508     -107.698       167.255      0.495634   \n",
       "13      -111.952      24.2909     -111.952       162.130     -6.874810   \n",
       "2       -102.777      23.6218     -102.777       156.018      2.141980   \n",
       "19      -101.224      23.1310     -101.224       151.868     -0.706492   \n",
       "18      -107.052      18.4461     -107.052       156.318     -0.036410   \n",
       "\n",
       "    pos_low_max  pos_low_min  \n",
       "17      167.255     0.495634  \n",
       "13      162.130    -6.874810  \n",
       "2       156.018     2.141980  \n",
       "19      151.868    -0.706492  \n",
       "18      156.318    -0.036410  "
      ]
     },
     "execution_count": 31,
     "metadata": {},
     "output_type": "execute_result"
    }
   ],
   "source": [
    "anno_result_df.sort(['neg_high_max'], ascending=[False]).head(n=5)"
   ]
  },
  {
   "cell_type": "code",
   "execution_count": 44,
   "metadata": {
    "collapsed": false
   },
   "outputs": [
    {
     "data": {
      "text/plain": [
       "(array([ 1.,  5.,  3.,  3.,  2.,  0.,  0.,  2.,  3.,  1.]),\n",
       " array([ -4.89252 ,  -1.648188,   1.596144,   4.840476,   8.084808,\n",
       "         11.32914 ,  14.573472,  17.817804,  21.062136,  24.306468,  27.5508  ]),\n",
       " <a list of 10 Patch objects>)"
      ]
     },
     "execution_count": 44,
     "metadata": {},
     "output_type": "execute_result"
    },
    {
     "data": {
      "image/png": "[encoded data removed]",
      "text/plain": [
       "<matplotlib.figure.Figure at 0x7ff101020d50>"
      ]
     },
     "metadata": {},
     "output_type": "display_data"
    }
   ],
   "source": [
    "# plot:\n",
    "# plt.hist()\n",
    "neg_high_max = anno_result_df['neg_high_max']\n",
    "neg_high_max\n",
    "plt.hist(neg_high_max)"
   ]
  },
  {
   "cell_type": "markdown",
   "metadata": {},
   "source": [
    "## 2. Top Five neg_high_min runs"
   ]
  },
  {
   "cell_type": "code",
   "execution_count": 33,
   "metadata": {
    "collapsed": false
   },
   "outputs": [
    {
     "data": {
      "text/html": [
       "<div>\n",
       "<table border=\"1\" class=\"dataframe\">\n",
       "  <thead>\n",
       "    <tr style=\"text-align: right;\">\n",
       "      <th></th>\n",
       "      <th>anno_path</th>\n",
       "      <th>neg_high_max</th>\n",
       "      <th>neg_high_min</th>\n",
       "      <th>neg_low_max</th>\n",
       "      <th>neg_low_min</th>\n",
       "      <th>pos_high_max</th>\n",
       "      <th>pos_high_min</th>\n",
       "      <th>pos_low_max</th>\n",
       "      <th>pos_low_min</th>\n",
       "    </tr>\n",
       "  </thead>\n",
       "  <tbody>\n",
       "    <tr>\n",
       "      <th>13</th>\n",
       "      <td>/home/genia/rigdata/caterpie/170216_TAG_02_cat...</td>\n",
       "      <td>24.2909</td>\n",
       "      <td>-111.952</td>\n",
       "      <td>24.2909</td>\n",
       "      <td>-111.952</td>\n",
       "      <td>162.130</td>\n",
       "      <td>-6.874810</td>\n",
       "      <td>162.130</td>\n",
       "      <td>-6.874810</td>\n",
       "    </tr>\n",
       "    <tr>\n",
       "      <th>0</th>\n",
       "      <td>/home/genia/rigdata/aerodactyl/170216_TAG_02_a...</td>\n",
       "      <td>17.9248</td>\n",
       "      <td>-109.052</td>\n",
       "      <td>17.9248</td>\n",
       "      <td>-109.052</td>\n",
       "      <td>173.752</td>\n",
       "      <td>-1.746900</td>\n",
       "      <td>173.752</td>\n",
       "      <td>-1.746900</td>\n",
       "    </tr>\n",
       "    <tr>\n",
       "      <th>12</th>\n",
       "      <td>/home/genia/rigdata/butterfree/170216_TAG_02_b...</td>\n",
       "      <td>9.9422</td>\n",
       "      <td>-107.937</td>\n",
       "      <td>9.9422</td>\n",
       "      <td>-107.937</td>\n",
       "      <td>160.035</td>\n",
       "      <td>2.689130</td>\n",
       "      <td>160.035</td>\n",
       "      <td>2.689130</td>\n",
       "    </tr>\n",
       "    <tr>\n",
       "      <th>17</th>\n",
       "      <td>/home/genia/rigdata/charmeleon/170216_TAG_02_c...</td>\n",
       "      <td>27.5508</td>\n",
       "      <td>-107.698</td>\n",
       "      <td>27.5508</td>\n",
       "      <td>-107.698</td>\n",
       "      <td>167.255</td>\n",
       "      <td>0.495634</td>\n",
       "      <td>167.255</td>\n",
       "      <td>0.495634</td>\n",
       "    </tr>\n",
       "    <tr>\n",
       "      <th>18</th>\n",
       "      <td>/home/genia/rigdata/chikorita/170216_ENG-BIE_0...</td>\n",
       "      <td>18.4461</td>\n",
       "      <td>-107.052</td>\n",
       "      <td>18.4461</td>\n",
       "      <td>-107.052</td>\n",
       "      <td>156.318</td>\n",
       "      <td>-0.036410</td>\n",
       "      <td>156.318</td>\n",
       "      <td>-0.036410</td>\n",
       "    </tr>\n",
       "  </tbody>\n",
       "</table>\n",
       "</div>"
      ],
      "text/plain": [
       "                                            anno_path  neg_high_max  \\\n",
       "13  /home/genia/rigdata/caterpie/170216_TAG_02_cat...       24.2909   \n",
       "0   /home/genia/rigdata/aerodactyl/170216_TAG_02_a...       17.9248   \n",
       "12  /home/genia/rigdata/butterfree/170216_TAG_02_b...        9.9422   \n",
       "17  /home/genia/rigdata/charmeleon/170216_TAG_02_c...       27.5508   \n",
       "18  /home/genia/rigdata/chikorita/170216_ENG-BIE_0...       18.4461   \n",
       "\n",
       "    neg_high_min  neg_low_max  neg_low_min  pos_high_max  pos_high_min  \\\n",
       "13      -111.952      24.2909     -111.952       162.130     -6.874810   \n",
       "0       -109.052      17.9248     -109.052       173.752     -1.746900   \n",
       "12      -107.937       9.9422     -107.937       160.035      2.689130   \n",
       "17      -107.698      27.5508     -107.698       167.255      0.495634   \n",
       "18      -107.052      18.4461     -107.052       156.318     -0.036410   \n",
       "\n",
       "    pos_low_max  pos_low_min  \n",
       "13      162.130    -6.874810  \n",
       "0       173.752    -1.746900  \n",
       "12      160.035     2.689130  \n",
       "17      167.255     0.495634  \n",
       "18      156.318    -0.036410  "
      ]
     },
     "execution_count": 33,
     "metadata": {},
     "output_type": "execute_result"
    }
   ],
   "source": [
    "anno_result_df.sort(['neg_high_min'], ascending=[True]).head(n=5)"
   ]
  },
  {
   "cell_type": "code",
   "execution_count": 45,
   "metadata": {
    "collapsed": false
   },
   "outputs": [
    {
     "data": {
      "text/plain": [
       "(array([ 5.,  2.,  1.,  0.,  0.,  2.,  0.,  1.,  3.,  6.]),\n",
       " array([-111.952  , -103.05679,  -94.16158,  -85.26637,  -76.37116,\n",
       "         -67.47595,  -58.58074,  -49.68553,  -40.79032,  -31.89511,\n",
       "         -22.9999 ]),\n",
       " <a list of 10 Patch objects>)"
      ]
     },
     "execution_count": 45,
     "metadata": {},
     "output_type": "execute_result"
    },
    {
     "data": {
      "image/png": "[encoded data removed]",
      "text/plain": [
       "<matplotlib.figure.Figure at 0x7ff100ce1e10>"
      ]
     },
     "metadata": {},
     "output_type": "display_data"
    }
   ],
   "source": [
    "# plot:\n",
    "# plt.hist()\n",
    "neg_high_min = anno_result_df['neg_high_min']\n",
    "neg_high_min\n",
    "plt.hist(neg_high_min)"
   ]
  },
  {
   "cell_type": "markdown",
   "metadata": {},
   "source": [
    "## 3. Top Five neg_low_max runs"
   ]
  },
  {
   "cell_type": "code",
   "execution_count": 48,
   "metadata": {
    "collapsed": false
   },
   "outputs": [
    {
     "data": {
      "text/html": [
       "<div>\n",
       "<table border=\"1\" class=\"dataframe\">\n",
       "  <thead>\n",
       "    <tr style=\"text-align: right;\">\n",
       "      <th></th>\n",
       "      <th>anno_path</th>\n",
       "      <th>neg_high_max</th>\n",
       "      <th>neg_high_min</th>\n",
       "      <th>neg_low_max</th>\n",
       "      <th>neg_low_min</th>\n",
       "      <th>pos_high_max</th>\n",
       "      <th>pos_high_min</th>\n",
       "      <th>pos_low_max</th>\n",
       "      <th>pos_low_min</th>\n",
       "    </tr>\n",
       "  </thead>\n",
       "  <tbody>\n",
       "    <tr>\n",
       "      <th>13</th>\n",
       "      <td>/home/genia/rigdata/caterpie/170216_TAG_02_cat...</td>\n",
       "      <td>24.2909</td>\n",
       "      <td>-111.952</td>\n",
       "      <td>24.2909</td>\n",
       "      <td>-111.952</td>\n",
       "      <td>162.130</td>\n",
       "      <td>-6.874810</td>\n",
       "      <td>162.130</td>\n",
       "      <td>-6.874810</td>\n",
       "    </tr>\n",
       "    <tr>\n",
       "      <th>0</th>\n",
       "      <td>/home/genia/rigdata/aerodactyl/170216_TAG_02_a...</td>\n",
       "      <td>17.9248</td>\n",
       "      <td>-109.052</td>\n",
       "      <td>17.9248</td>\n",
       "      <td>-109.052</td>\n",
       "      <td>173.752</td>\n",
       "      <td>-1.746900</td>\n",
       "      <td>173.752</td>\n",
       "      <td>-1.746900</td>\n",
       "    </tr>\n",
       "    <tr>\n",
       "      <th>12</th>\n",
       "      <td>/home/genia/rigdata/butterfree/170216_TAG_02_b...</td>\n",
       "      <td>9.9422</td>\n",
       "      <td>-107.937</td>\n",
       "      <td>9.9422</td>\n",
       "      <td>-107.937</td>\n",
       "      <td>160.035</td>\n",
       "      <td>2.689130</td>\n",
       "      <td>160.035</td>\n",
       "      <td>2.689130</td>\n",
       "    </tr>\n",
       "    <tr>\n",
       "      <th>17</th>\n",
       "      <td>/home/genia/rigdata/charmeleon/170216_TAG_02_c...</td>\n",
       "      <td>27.5508</td>\n",
       "      <td>-107.698</td>\n",
       "      <td>27.5508</td>\n",
       "      <td>-107.698</td>\n",
       "      <td>167.255</td>\n",
       "      <td>0.495634</td>\n",
       "      <td>167.255</td>\n",
       "      <td>0.495634</td>\n",
       "    </tr>\n",
       "    <tr>\n",
       "      <th>18</th>\n",
       "      <td>/home/genia/rigdata/chikorita/170216_ENG-BIE_0...</td>\n",
       "      <td>18.4461</td>\n",
       "      <td>-107.052</td>\n",
       "      <td>18.4461</td>\n",
       "      <td>-107.052</td>\n",
       "      <td>156.318</td>\n",
       "      <td>-0.036410</td>\n",
       "      <td>156.318</td>\n",
       "      <td>-0.036410</td>\n",
       "    </tr>\n",
       "  </tbody>\n",
       "</table>\n",
       "</div>"
      ],
      "text/plain": [
       "                                            anno_path  neg_high_max  \\\n",
       "13  /home/genia/rigdata/caterpie/170216_TAG_02_cat...       24.2909   \n",
       "0   /home/genia/rigdata/aerodactyl/170216_TAG_02_a...       17.9248   \n",
       "12  /home/genia/rigdata/butterfree/170216_TAG_02_b...        9.9422   \n",
       "17  /home/genia/rigdata/charmeleon/170216_TAG_02_c...       27.5508   \n",
       "18  /home/genia/rigdata/chikorita/170216_ENG-BIE_0...       18.4461   \n",
       "\n",
       "    neg_high_min  neg_low_max  neg_low_min  pos_high_max  pos_high_min  \\\n",
       "13      -111.952      24.2909     -111.952       162.130     -6.874810   \n",
       "0       -109.052      17.9248     -109.052       173.752     -1.746900   \n",
       "12      -107.937       9.9422     -107.937       160.035      2.689130   \n",
       "17      -107.698      27.5508     -107.698       167.255      0.495634   \n",
       "18      -107.052      18.4461     -107.052       156.318     -0.036410   \n",
       "\n",
       "    pos_low_max  pos_low_min  \n",
       "13      162.130    -6.874810  \n",
       "0       173.752    -1.746900  \n",
       "12      160.035     2.689130  \n",
       "17      167.255     0.495634  \n",
       "18      156.318    -0.036410  "
      ]
     },
     "execution_count": 48,
     "metadata": {},
     "output_type": "execute_result"
    }
   ],
   "source": [
    "anno_result_df.sort(['neg_high_min'], ascending=[True]).head(n=5)"
   ]
  },
  {
   "cell_type": "code",
   "execution_count": 49,
   "metadata": {
    "collapsed": false
   },
   "outputs": [
    {
     "data": {
      "text/plain": [
       "(array([ 1.,  5.,  3.,  3.,  2.,  0.,  0.,  2.,  3.,  1.]),\n",
       " array([ -4.89252 ,  -1.648188,   1.596144,   4.840476,   8.084808,\n",
       "         11.32914 ,  14.573472,  17.817804,  21.062136,  24.306468,  27.5508  ]),\n",
       " <a list of 10 Patch objects>)"
      ]
     },
     "execution_count": 49,
     "metadata": {},
     "output_type": "execute_result"
    },
    {
     "data": {
      "image/png": "[encoded data removed]",
      "text/plain": [
       "<matplotlib.figure.Figure at 0x7ff100cfc650>"
      ]
     },
     "metadata": {},
     "output_type": "display_data"
    }
   ],
   "source": [
    "neg_low_max = anno_result_df['neg_low_max']\n",
    "neg_low_max\n",
    "plt.hist(neg_low_max, bins =10)"
   ]
  },
  {
   "cell_type": "markdown",
   "metadata": {},
   "source": [
    "## Find the max neg_high_max"
   ]
  },
  {
   "cell_type": "code",
   "execution_count": null,
   "metadata": {
    "collapsed": true
   },
   "outputs": [],
   "source": [
    "df.sort(['two'], ascending=[False]).head(n=3)"
   ]
  },
  {
   "cell_type": "code",
   "execution_count": 11,
   "metadata": {
    "collapsed": false
   },
   "outputs": [
    {
     "data": {
      "text/plain": [
       "[<matplotlib.lines.Line2D at 0x7ff1080a1f50>]"
      ]
     },
     "execution_count": 11,
     "metadata": {},
     "output_type": "execute_result"
    },
    {
     "data": {
      "image/png": "[encoded data removed]",
      "text/plain": [
       "<matplotlib.figure.Figure at 0x7ff108c35150>"
      ]
     },
     "metadata": {},
     "output_type": "display_data"
    }
   ],
   "source": [
    "import matplotlib.pyplot as plt\n",
    "plt.plot(range(10))"
   ]
  },
  {
   "cell_type": "code",
   "execution_count": 6,
   "metadata": {
    "collapsed": false
   },
   "outputs": [
    {
     "data": {
      "text/plain": [
       "{'letter': ['a', 'a', 'b', 'b', 'c'],\n",
       " 'one': [2, 3, 1, 4, 5],\n",
       " 'two': [5, 4, 3, 2, 1]}"
      ]
     },
     "execution_count": 6,
     "metadata": {},
     "output_type": "execute_result"
    }
   ],
   "source": [
    "d = {'one':[2,3,1,4,5],\n",
    "     'two':[5,4,3,2,1],\n",
    "     'letter':['a','a','b','b','c']}\n",
    "d"
   ]
  },
  {
   "cell_type": "code",
   "execution_count": 8,
   "metadata": {
    "collapsed": false
   },
   "outputs": [
    {
     "data": {
      "text/html": [
       "<div>\n",
       "<table border=\"1\" class=\"dataframe\">\n",
       "  <thead>\n",
       "    <tr style=\"text-align: right;\">\n",
       "      <th></th>\n",
       "      <th>letter</th>\n",
       "      <th>one</th>\n",
       "      <th>two</th>\n",
       "    </tr>\n",
       "  </thead>\n",
       "  <tbody>\n",
       "    <tr>\n",
       "      <th>0</th>\n",
       "      <td>a</td>\n",
       "      <td>2</td>\n",
       "      <td>5</td>\n",
       "    </tr>\n",
       "    <tr>\n",
       "      <th>1</th>\n",
       "      <td>a</td>\n",
       "      <td>3</td>\n",
       "      <td>4</td>\n",
       "    </tr>\n",
       "    <tr>\n",
       "      <th>2</th>\n",
       "      <td>b</td>\n",
       "      <td>1</td>\n",
       "      <td>3</td>\n",
       "    </tr>\n",
       "    <tr>\n",
       "      <th>3</th>\n",
       "      <td>b</td>\n",
       "      <td>4</td>\n",
       "      <td>2</td>\n",
       "    </tr>\n",
       "    <tr>\n",
       "      <th>4</th>\n",
       "      <td>c</td>\n",
       "      <td>5</td>\n",
       "      <td>1</td>\n",
       "    </tr>\n",
       "  </tbody>\n",
       "</table>\n",
       "</div>"
      ],
      "text/plain": [
       "  letter  one  two\n",
       "0      a    2    5\n",
       "1      a    3    4\n",
       "2      b    1    3\n",
       "3      b    4    2\n",
       "4      c    5    1"
      ]
     },
     "execution_count": 8,
     "metadata": {},
     "output_type": "execute_result"
    }
   ],
   "source": [
    "df = DataFrame(d)\n",
    "df.sort(['two'], ascending=[False])"
   ]
  },
  {
   "cell_type": "code",
   "execution_count": null,
   "metadata": {
    "collapsed": true
   },
   "outputs": [],
   "source": []
  },
  {
   "cell_type": "code",
   "execution_count": null,
   "metadata": {
    "collapsed": true
   },
   "outputs": [],
   "source": []
  },
  {
   "cell_type": "code",
   "execution_count": 9,
   "metadata": {
    "collapsed": false
   },
   "outputs": [
    {
     "data": {
      "text/html": [
       "<div>\n",
       "<table border=\"1\" class=\"dataframe\">\n",
       "  <thead>\n",
       "    <tr style=\"text-align: right;\">\n",
       "      <th></th>\n",
       "      <th>letter</th>\n",
       "      <th>one</th>\n",
       "      <th>two</th>\n",
       "    </tr>\n",
       "  </thead>\n",
       "  <tbody>\n",
       "    <tr>\n",
       "      <th>0</th>\n",
       "      <td>a</td>\n",
       "      <td>2</td>\n",
       "      <td>5</td>\n",
       "    </tr>\n",
       "    <tr>\n",
       "      <th>1</th>\n",
       "      <td>a</td>\n",
       "      <td>3</td>\n",
       "      <td>4</td>\n",
       "    </tr>\n",
       "    <tr>\n",
       "      <th>2</th>\n",
       "      <td>b</td>\n",
       "      <td>1</td>\n",
       "      <td>3</td>\n",
       "    </tr>\n",
       "  </tbody>\n",
       "</table>\n",
       "</div>"
      ],
      "text/plain": [
       "  letter  one  two\n",
       "0      a    2    5\n",
       "1      a    3    4\n",
       "2      b    1    3"
      ]
     },
     "execution_count": 9,
     "metadata": {},
     "output_type": "execute_result"
    }
   ],
   "source": [
    "df.sort(['two'], ascending=[False]).head(n=3)"
   ]
  }
 ],
 "metadata": {
  "kernelspec": {
   "display_name": "Python 2",
   "language": "python",
   "name": "python2"
  },
  "language_info": {
   "codemirror_mode": {
    "name": "ipython",
    "version": 2
   },
   "file_extension": ".py",
   "mimetype": "text/x-python",
   "name": "python",
   "nbconvert_exporter": "python",
   "pygments_lexer": "ipython2",
   "version": "2.7.9"
  }
 },
 "nbformat": 4,
 "nbformat_minor": 0
}
