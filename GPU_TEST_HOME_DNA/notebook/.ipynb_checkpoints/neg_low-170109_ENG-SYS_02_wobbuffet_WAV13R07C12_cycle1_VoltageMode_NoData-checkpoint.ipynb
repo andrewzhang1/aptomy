{
 "cells": [
  {
   "cell_type": "markdown",
   "metadata": {},
   "source": [
    "#### Find one cell that its neg_low is above vmzoro and one cell that its neg_low is above 0; look at the trace data for both on dvt.\n",
    "Use data set: \n",
    "1. 170109_ENG-SYS_02_wobbuffet_WAV13R07C12_cycle1 (check is existed: /experiments/vmzero_end/cell_anno/vmzero_end Dataset {131072) \n",
    "2. 170124_SIG-A_03_blastoise_WAV06R05C15  (check is existed: /experiments/vmzero_end/cell_anno/vmzero_end Dataset {131072) \n",
    "3. 170206_TAG_01_caterpie_WAV07R10C15 (CVC mode ==> vmzero_end is NOT existed, why?)"
   ]
  },
  {
   "cell_type": "markdown",
   "metadata": {},
   "source": []
  },
  {
   "cell_type": "code",
   "execution_count": 6,
   "metadata": {
    "collapsed": true
   },
   "outputs": [],
   "source": [
    "from os.path import abspath, dirname, join\n",
    "import numpy as np\n",
    "import matplotlib.pyplot as plt\n",
    "\n",
    "import ac_analysis\n",
    "\n",
    "from ac_analysis.model.annotations import load_from_h5"
   ]
  },
  {
   "cell_type": "code",
   "execution_count": null,
   "metadata": {
    "collapsed": true
   },
   "outputs": [],
   "source": []
  },
  {
   "cell_type": "markdown",
   "metadata": {},
   "source": [
    "### 1) Load the annotation files and show the interested annotations"
   ]
  },
  {
   "cell_type": "code",
   "execution_count": 7,
   "metadata": {
    "collapsed": false
   },
   "outputs": [
    {
     "name": "stdout",
     "output_type": "stream",
     "text": [
      "annos ==>  <ac_analysis.model.annotations_v2.Annotations_v2 object at 0x4a086b0>\n"
     ]
    }
   ],
   "source": [
    "# 1) 170109_ENG-SYS_02_wobbuffet_WAV13R07C12_cycle1\n",
    "anno_path=\"/mnt/AGZ_Home_vmwin10/workspace_pOD/genia/Andrew/170109_ENG-SYS_02_wobbuffet_WAV13R07C12_cycle1/P_00_170110023618_ggc3-keeper_ac-analysis_v11.19.1/annotations.h5\"\n",
    "\n",
    "# 2) 170124_SIG-A_03_blastoise_WAV06R05C15\n",
    "#anno_path=\"/mnt/AGZ_Home_vmwin10/workspace_pOD/genia/Andrew/170124_SIG-A_03_blastoise_WAV06R05C15/annotations.h5\"\n",
    "\n",
    "annos = load_from_h5(anno_path)\n",
    "print \"annos ==> \", annos"
   ]
  },
  {
   "cell_type": "code",
   "execution_count": 8,
   "metadata": {
    "collapsed": false,
    "scrolled": true
   },
   "outputs": [
    {
     "name": "stdout",
     "output_type": "stream",
     "text": [
      "neg_low ==>  [[ nan]\n",
      " [ nan]\n",
      " [ nan]\n",
      " ..., \n",
      " [ nan]\n",
      " [ nan]\n",
      " [ nan]] ADC\n",
      "\n",
      "neg_low.shape ==>  (131072, 1)\n",
      "\n",
      "neg_low.size ==>  131072\n"
     ]
    }
   ],
   "source": [
    "neg_low, units = annos.get_rep_annotation('neg_low') #grab neg_low matrix shape = (cells, reps)\n",
    "print \"neg_low ==> \",  neg_low, units\n",
    "print \"\\nneg_low.shape ==> \", neg_low.shape\n",
    "print \"\\nneg_low.size ==> \", neg_low.size # ??? Sometime it will show the different number: 4063232, why?"
   ]
  },
  {
   "cell_type": "code",
   "execution_count": 9,
   "metadata": {
    "collapsed": false
   },
   "outputs": [
    {
     "name": "stdout",
     "output_type": "stream",
     "text": [
      "cells ==>  ['b00c0000' 'b00c0001' 'b00c0002' ..., 'b15c8189' 'b15c8190' 'b15c8191']\n",
      "\n",
      "cells.shape ==>  (131072,)\n",
      "\n",
      "cells.size ==>  131072\n"
     ]
    }
   ],
   "source": [
    "cells = annos.cells  #grab all cells\n",
    "print \"cells ==> \", cells\n",
    "print \"\\ncells.shape ==> \", cells.shape\n",
    "print \"\\ncells.size ==> \", cells.size "
   ]
  },
  {
   "cell_type": "markdown",
   "metadata": {
    "collapsed": true
   },
   "source": [
    "### 2. Filter for neg_low"
   ]
  },
  {
   "cell_type": "code",
   "execution_count": 10,
   "metadata": {
    "collapsed": false
   },
   "outputs": [
    {
     "name": "stdout",
     "output_type": "stream",
     "text": [
      "mask is ==>  [ True  True  True ...,  True  True  True]\n",
      "\n",
      "filt_neg_low is:  [[-15.82650375]\n",
      " [-14.90199852]\n",
      " [-29.95208168]\n",
      " ..., \n",
      " [-15.62517452]\n",
      " [-17.76834297]\n",
      " [-44.0656929 ]]\n",
      "\n",
      "filt_cells is:  ['b00c0029' 'b00c0359' 'b00c0413' ..., 'b15c3338' 'b15c4868' 'b15c5003']\n",
      "\n",
      "neg_low_cell is:  [[-44.0656929]]\n"
     ]
    }
   ],
   "source": [
    "# Remove rows with only nan and zero \n",
    "#(probably dont want to just remove zeros, why?)\n",
    "mask = np.all(np.isnan(neg_low) | np.equal(neg_low, 0), axis=1) \n",
    "print \"mask is ==> \", mask\n",
    "\n",
    "filt_neg_low = neg_low[~mask]   #only get cells where neg_low is not all nan or all zero\n",
    "print \"\\nfilt_neg_low is: \", filt_neg_low\n",
    "\n",
    "filt_cells = cells[~mask]  #get cell names based on neg_low mask \n",
    "print \"\\nfilt_cells is: \", filt_cells\n",
    "\n",
    "# Test one cell trace:\n",
    "neg_low_cell = neg_low[cells == 'b15c5003']\n",
    "print \"\\nneg_low_cell is: \", neg_low_cell"
   ]
  },
  {
   "cell_type": "markdown",
   "metadata": {},
   "source": [
    "### 3. Get oc_calibration_vmzero"
   ]
  },
  {
   "cell_type": "code",
   "execution_count": 11,
   "metadata": {
    "collapsed": false
   },
   "outputs": [
    {
     "name": "stdout",
     "output_type": "stream",
     "text": [
      "1) vmzeros ==>  [          nan           nan           nan ...,  111.48249054  117.55555725\n",
      "           nan] ADC\n",
      "\n",
      "2) vmzeros_end, unit ==>  [ 111.53581238  131.98692322  126.56000519 ...,  117.90969849  125.96927643\n",
      "  107.09092712] ADC\n",
      "\n",
      "3) filt_vmzeros ==>  [ 133.7086792   142.36787415  135.17764282 ...,  116.07119751   94.63398743\n",
      "  103.41806793]\n",
      "4-1) flat_filt_neg_low ==>  [-15.82650375 -14.90199852 -29.95208168 ..., -15.62517452 -17.76834297\n",
      " -44.0656929 ]\n",
      "4-2) neg_low_minus_vmzero ==>  [-149.53518677 -157.26986694 -165.12973022 ..., -131.69636536 -112.40232849\n",
      " -147.48376465]\n",
      "4-3) neg_low_minus_vmzero.shape ==>  (8700,)\n",
      "4-4) flat_filt_neg_low.shape ==>  (8700,)\n",
      "\n",
      "5-1) final_mask ==>  [array([ True,  True,  True, ...,  True,  True,  True], dtype=bool)]\n",
      "5-2) filt_cells[final_mask] ==>  ['b00c0029' 'b00c0359' 'b00c0413' ..., 'b15c3338' 'b15c4868' 'b15c5003']\n",
      "5-3) The size of the filt_cells[final_mask] ==>  8700\n",
      "\n",
      "6) Check a few cells... ==>  ['b00c0359' 'b00c0413' 'b00c0416' 'b00c0417' 'b00c0419' 'b00c0422'\n",
      " 'b00c0430' 'b00c0450' 'b00c0451' 'b00c0452' 'b00c0453' 'b00c0456'\n",
      " 'b00c0464' 'b00c0467' 'b00c0470' 'b00c0472' 'b00c0483' 'b00c0508'\n",
      " 'b00c0509' 'b00c0513' 'b00c0533' 'b00c0536' 'b00c0551' 'b00c0553'\n",
      " 'b00c0554' 'b00c0556' 'b00c0561' 'b00c0565' 'b00c0571']\n"
     ]
    }
   ],
   "source": [
    "# 1) Read oc_calibration_vmzero\n",
    "vmzeros, unit = annos.get_cell_annotation('oc_calibration_vmzero')\n",
    "print \"1) vmzeros ==> \", vmzeros, unit\n",
    "\n",
    "# 2) returns numpy matrix, and string (matrix, string)\n",
    "# One of the run that does not have the nvmzeros_end (CVC mode one, why? )\n",
    "vmzeros_end, unit = annos.get_cell_annotation('vmzero_end') \n",
    "print \"\\n2) vmzeros_end, unit ==> \", vmzeros_end, unit\n",
    "\n",
    "# 3) Filted vmzero that elimited the nan, etc??\n",
    "filt_vmzeros = vmzeros[~mask]\n",
    "#plt.hist(filt_vmzeros, bins=100); plt.show()  #plot to show vmzeoro distribution\n",
    "print \"\\n3) filt_vmzeros ==> \",  filt_vmzeros \n",
    "\n",
    "# 4) what you have is neg_low minus vmzero:\n",
    "#    Get flatten matrix (numpy.matrix.flatten), \n",
    "#    See: https://docs.scipy.org/doc/numpy/reference/generated/numpy.matrix.flatten.html\n",
    "#       https://plot.ly/numpy/ravel/\n",
    "\n",
    "# now what you have is neg_low minus vmzero\n",
    "flat_filt_neg_low = np.ravel(filt_neg_low)  #flatten matrix to array to do subtraction of vmzero \n",
    "print \"4-1) flat_filt_neg_low ==> \", flat_filt_neg_low\n",
    "\n",
    "#subtract vmzero:\n",
    "neg_low_minus_vmzero = flat_filt_neg_low - filt_vmzeros  #subtract vmzero\n",
    "print \"4-2) neg_low_minus_vmzero ==> \", neg_low_minus_vmzero\n",
    "\n",
    "#confirm proper shape\n",
    "print \"4-3) neg_low_minus_vmzero.shape ==> \", neg_low_minus_vmzero.shape  #confirm proper shape\n",
    "print \"4-4) flat_filt_neg_low.shape ==> \",  flat_filt_neg_low.shape\n",
    "\n",
    "# Finally, give a value, such as : 0, < 4, < 5:\n",
    "# How to decide?\n",
    "\n",
    "final_mask = [neg_low_minus_vmzero < 5]\n",
    "print \"\\n5-1) final_mask ==> \", final_mask\n",
    "\n",
    "print \"5-2) filt_cells[final_mask] ==> \", filt_cells[final_mask]\n",
    "print \"5-3) The size of the filt_cells[final_mask] ==> \",  filt_cells[final_mask].size\n",
    "# 8700\n",
    "\n",
    "# A test: meaning of the following samples:\n",
    "print \"\\n6) Check a few cells... ==> \", filt_cells[final_mask][1:30]"
   ]
  },
  {
   "cell_type": "code",
   "execution_count": null,
   "metadata": {
    "collapsed": true
   },
   "outputs": [],
   "source": []
  },
  {
   "cell_type": "code",
   "execution_count": null,
   "metadata": {
    "collapsed": true
   },
   "outputs": [],
   "source": []
  },
  {
   "cell_type": "markdown",
   "metadata": {},
   "source": [
    "### 4. Finally, calculate the difference (range from 0 ~ 5?) "
   ]
  },
  {
   "cell_type": "code",
   "execution_count": 12,
   "metadata": {
    "collapsed": false
   },
   "outputs": [
    {
     "name": "stdout",
     "output_type": "stream",
     "text": [
      "1) vmzero_minus_neg_low ==>  [ 149.53518677  157.26986694  165.12973022 ...,  131.69636536  112.40232849\n",
      "  147.48376465]\n",
      "\n",
      "2) final_mask ==>  [array([ True,  True,  True, ...,  True,  True,  True], dtype=bool)]\n",
      "\n",
      "3) vmzero_minus_neg_low.max() ==>  237.118\n",
      "\n",
      "3-1) vmzero_minus_neg_low.min() ==>  102.18\n",
      "4-1) cell_vmzero at cell_ID of ==>  []\n"
     ]
    }
   ],
   "source": [
    "vmzero_minus_neg_low = filt_vmzeros - flat_filt_neg_low\n",
    "print \"1) vmzero_minus_neg_low ==> \", vmzero_minus_neg_low\n",
    "\n",
    "final_mask = [vmzero_minus_neg_low > 0]\n",
    "print \"\\n2) final_mask ==> \", final_mask\n",
    "\n",
    "print \"\\n3) vmzero_minus_neg_low.max() ==> \", vmzero_minus_neg_low.max()\n",
    "print \"\\n3-1) vmzero_minus_neg_low.min() ==> \", vmzero_minus_neg_low.min()\n",
    "\n",
    "cell_vmzero = filt_vmzeros[filt_cells == 'b00c0486']  # What does this mean?\n",
    "\n",
    "print \"4-1) cell_vmzero at cell_ID of ==> \", cell_vmzero"
   ]
  },
  {
   "cell_type": "code",
   "execution_count": null,
   "metadata": {
    "collapsed": true
   },
   "outputs": [],
   "source": []
  }
 ],
 "metadata": {
  "kernelspec": {
   "display_name": "Python 2",
   "language": "python",
   "name": "python2"
  },
  "language_info": {
   "codemirror_mode": {
    "name": "ipython",
    "version": 2
   },
   "file_extension": ".py",
   "mimetype": "text/x-python",
   "name": "python",
   "nbconvert_exporter": "python",
   "pygments_lexer": "ipython2",
   "version": "2.7.9"
  }
 },
 "nbformat": 4,
 "nbformat_minor": 0
}
