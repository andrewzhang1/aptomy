{
 "cells": [
  {
   "cell_type": "markdown",
   "metadata": {},
   "source": [
    "# Annotations Statistics Result for 170216\n",
    "### neg_high, neg_low, pos_high, pos_low and their values for max, min, mean, std, and var."
   ]
  },
  {
   "cell_type": "code",
   "execution_count": null,
   "metadata": {
    "collapsed": true
   },
   "outputs": [],
   "source": []
  },
  {
   "cell_type": "code",
   "execution_count": 16,
   "metadata": {
    "collapsed": true
   },
   "outputs": [],
   "source": [
    "%matplotlib inline\n",
    "import pandas as pd\n",
    "import pandas"
   ]
  },
  {
   "cell_type": "code",
   "execution_count": 18,
   "metadata": {
    "collapsed": true
   },
   "outputs": [],
   "source": [
    "import pandas as pd"
   ]
  },
  {
   "cell_type": "code",
   "execution_count": 19,
   "metadata": {
    "collapsed": true
   },
   "outputs": [],
   "source": [
    "import pandas as pd, numpy as np"
   ]
  },
  {
   "cell_type": "code",
   "execution_count": 5,
   "metadata": {
    "collapsed": false
   },
   "outputs": [
    {
     "data": {
      "text/plain": [
       "u'/home/genia/azhang/GPU_TEST_HOME/notebook'"
      ]
     },
     "execution_count": 5,
     "metadata": {},
     "output_type": "execute_result"
    }
   ],
   "source": [
    "pwd"
   ]
  },
  {
   "cell_type": "code",
   "execution_count": 8,
   "metadata": {
    "collapsed": false
   },
   "outputs": [
    {
     "name": "stdout",
     "output_type": "stream",
     "text": [
      "                                             anno_path  neg_high_max  \\\n",
      "0    /home/genia/rigdata/beedril/170216_SIG-A_02_be...      2.658900   \n",
      "1    /home/genia/rigdata/beedril/170216_SIG-A_02_be...      2.658900   \n",
      "2    /home/genia/rigdata/bellossom/170216_SAM_03_be...      0.762058   \n",
      "3    /home/genia/rigdata/blaine/170216_PEG-POL_01_b...      7.927630   \n",
      "4    /home/genia/rigdata/blastoise/170216_SIG-A_02_...      3.620130   \n",
      "5    /home/genia/rigdata/blastoise/170216_SIG-A_02_...      6.971110   \n",
      "6    /home/genia/rigdata/blastoise/170216_SIG-A_01_...     -4.892520   \n",
      "7    /home/genia/rigdata/brock/170216_SIG-A_01_broc...     -0.677166   \n",
      "8    /home/genia/rigdata/brock/170216_SIG-A_01_broc...     -0.677166   \n",
      "9    /home/genia/rigdata/butterfree/170216_TAG_02_b...      9.942200   \n",
      "10   /home/genia/rigdata/caterpie/170216_TAG_02_cat...     24.290900   \n",
      "11   /home/genia/rigdata/charizard/170216_SIG-A_02_...      0.737465   \n",
      "12   /home/genia/rigdata/charizard/170216_SIG-A_02_...      0.737466   \n",
      "13   /home/genia/rigdata/charizard/170216_SIG-A_01_...      4.688370   \n",
      "14   /home/genia/rigdata/charmeleon/170216_TAG_02_c...     27.550800   \n",
      "15   /home/genia/rigdata/chikorita/170216_ENG-BIE_0...     18.446100   \n",
      "16   /home/genia/rigdata/chikorita/170216_ENG-BIE_0...     23.131000   \n",
      "17   /home/genia/rigdata/chikorita/170216_ENG-BIE_0...      7.277280   \n",
      "18   /home/genia/rigdata/clefairy/170216_TAG_02_cle...     12.709700   \n",
      "19   /home/genia/rigdata/cloyster/170216_ACTG_01_cl...    107.690000   \n",
      "20   /home/genia/rigdata/cloyster/170216_ACTG_01_cl...    107.690000   \n",
      "21   /home/genia/rigdata/cloyster/170216_ACTG_01_cl...      0.014787   \n",
      "22   /home/genia/rigdata/cyndaquil/170216_ENG-BIE_0...      3.853010   \n",
      "23   /home/genia/rigdata/cyndaquil/170216_ENG-BIE_0...      4.342020   \n",
      "24   /home/genia/rigdata/cyndaquil/170216_ENG-BIE_0...      1.654300   \n",
      "25   /home/genia/rigdata/diglett/170216_TAG_02_digl...     19.972000   \n",
      "26   /home/genia/rigdata/ditto/170216_ACTG_01_ditto...    121.553000   \n",
      "27   /home/genia/rigdata/ditto/170216_ACTG_01_ditto...     -1.636770   \n",
      "28   /home/genia/rigdata/ditto/170216_ACTG_01_ditto...    121.553000   \n",
      "29   /home/genia/rigdata/ditto/170216_ACTG_01_ditto...           NaN   \n",
      "..                                                 ...           ...   \n",
      "327  /home/genia/rigdata/sudowoodo/170216_ENG-SYS_0...     22.570000   \n",
      "328  /home/genia/rigdata/sudowoodo/170216_ENG-SYS_0...     25.713300   \n",
      "329  /home/genia/rigdata/sudowoodo/170216_ENG-SYS_0...     21.555000   \n",
      "330  /home/genia/rigdata/tangela/170216_ENG-BIE_01_...      3.377750   \n",
      "331  /home/genia/rigdata/tangela/170216_ENG-BIE_03_...      8.169240   \n",
      "332  /home/genia/rigdata/tangela/170216_ENG-BIE_02_...     12.836100   \n",
      "333  /home/genia/rigdata/taoros/170216_SAM_01_taoro...      3.120560   \n",
      "334  /home/genia/rigdata/tentacool/170216_PEG-POL_0...     -7.291770   \n",
      "335  /home/genia/rigdata/unown/170216_PEG-POL_01_un...      8.421620   \n",
      "336  /home/genia/rigdata/venusaur/170216_SAM_01_ven...     -0.184496   \n",
      "337  /home/genia/rigdata/vespasian/170216_ACTG_01_v...    142.794000   \n",
      "338  /home/genia/rigdata/vespasian/170216_ACTG_01_v...    142.794000   \n",
      "339  /home/genia/rigdata/vespasian/170216_ACTG_01_v...     -8.776380   \n",
      "340  /home/genia/rigdata/vileplume/170216_ENG-BIE_0...      1.841200   \n",
      "341  /home/genia/rigdata/voltorb/170216_ENG-SYS_02_...     30.106100   \n",
      "342  /home/genia/rigdata/voltorb/170216_ENG-SYS_01_...      1.570290   \n",
      "343  /home/genia/rigdata/voltorb/170216_ENG-SYS_05_...     18.117300   \n",
      "344  /home/genia/rigdata/voltorb/170216_ENG-SYS_04_...      7.910430   \n",
      "345  /home/genia/rigdata/weepinbell/170216_SAM_01_w...      2.090070   \n",
      "346  /home/genia/rigdata/wobbuffet/170216_ENG-SYS_0...      9.993180   \n",
      "347  /home/genia/rigdata/wobbuffet/170216_ENG-SYS_0...     24.902700   \n",
      "348  /home/genia/rigdata/wobbuffet/170216_ENG-SYS_0...     16.292100   \n",
      "349  /home/genia/rigdata/wobbuffet/170216_ENG-SYS_0...     11.899100   \n",
      "350  /home/genia/rigdata/wobbuffet/170216_ENG-SYS_0...      7.572530   \n",
      "351  /home/genia/rigdata/wobbuffet/170216_ENG-SYS_0...      2.259640   \n",
      "352  /home/genia/rigdata/wobbuffet/170216_ENG-SYS_0...     15.396600   \n",
      "353  /home/genia/rigdata/wobbuffet/170216_ENG-SYS_0...     14.996200   \n",
      "354  /home/genia/rigdata/wobbuffet/170216_ENG-SYS_0...     15.824100   \n",
      "355  /home/genia/rigdata/wobbuffet/170216_ENG-SYS_0...      3.995760   \n",
      "356  /home/genia/rigdata/wooper/170216_PEG-POL_01_w...      6.992200   \n",
      "\n",
      "     neg_high_min  neg_low_max  neg_low_min  pos_high_max  pos_high_min  \\\n",
      "0        -52.7769     2.658900     -52.7769      167.3250     12.949300   \n",
      "1        -88.4291     2.658900     -88.4291      196.0160   -143.821000   \n",
      "2        -23.4111     0.762058     -23.4111      194.6640     17.713300   \n",
      "3        -25.6770     7.927630     -25.6770      192.1200      3.974430   \n",
      "4        -31.0640     3.620130     -31.0640      177.0610     11.436000   \n",
      "5        -63.8038     6.971110     -63.8038      213.9580   -109.529000   \n",
      "6        -37.8440    -4.892520     -37.8440      183.7770      9.071290   \n",
      "7        -34.6781    -0.677166     -34.6781      180.4880     13.809000   \n",
      "8        -34.6781    -0.677166     -34.6781      180.4880     13.809000   \n",
      "9       -107.9370     9.942200    -107.9370      160.0350      2.689130   \n",
      "10      -111.9520    24.290900    -111.9520      162.1300     -6.874810   \n",
      "11       -41.8923     0.737465     -41.8923      163.5020     14.825700   \n",
      "12       -65.5084     0.737466     -65.5084      207.7260   -109.322000   \n",
      "13       -26.5198     4.688370     -26.5198      175.3310     13.976600   \n",
      "14      -107.6980    27.550800    -107.6980      167.2550      0.495634   \n",
      "15      -107.0520    18.446100    -107.0520      156.3180     -0.036410   \n",
      "16      -101.2240    23.131000    -101.2240      151.8680     -0.706492   \n",
      "17      -100.4770     7.277280    -100.4770      153.0690     -0.625967   \n",
      "18      -109.1200    12.709700    -109.1200      156.1160      2.413640   \n",
      "19      -145.0870   107.690000    -145.0870      196.1940     10.867900   \n",
      "20      -145.0870   107.690000    -145.0870      196.1940     17.349100   \n",
      "21       -92.0019     0.014787     -92.0019      106.2320     10.867900   \n",
      "22      -100.6010     3.853010    -100.6010      150.6120     -0.526591   \n",
      "23       -96.0916     4.342020     -96.0916      149.4490      1.427100   \n",
      "24      -103.0230     1.654300    -103.0230      147.4320      0.490170   \n",
      "25      -109.7610    19.972000    -109.7610      157.6050    -20.132700   \n",
      "26      -124.1900   121.553000    -124.1900      154.9010     12.495100   \n",
      "27       -81.2977    -1.636770     -81.2977       91.9813      8.571530   \n",
      "28      -124.1900   121.553000    -124.1900      154.9010      8.571530   \n",
      "29            NaN          NaN          NaN           NaN           NaN   \n",
      "..            ...          ...          ...           ...           ...   \n",
      "327      -91.3127    22.570000     -91.3127      138.5180     -0.137971   \n",
      "328      -89.2629    25.713300     -89.2629      143.7850     -3.465530   \n",
      "329      -94.9088    21.555000     -94.9088      148.7500    -18.876800   \n",
      "330      -98.5660     3.377750     -98.5660      149.0590     -0.036610   \n",
      "331     -104.1560     8.169240    -104.1560      155.4800     -0.375536   \n",
      "332      -99.2749    12.836100     -99.2749      152.2130      0.972399   \n",
      "333      -25.1651     3.120560     -25.1651      183.0950      6.781750   \n",
      "334      -45.6639    -7.291770     -45.6639      197.2230      9.767120   \n",
      "335      -31.2491     8.421620     -31.2491      188.0150      3.496450   \n",
      "336      -30.6909    -0.184496     -30.6909      173.5370      7.573900   \n",
      "337     -109.1870   142.794000    -109.1870      199.3210    -35.047000   \n",
      "338     -109.1870   142.794000    -109.1870      199.3210    -35.047000   \n",
      "339      -70.0646    -8.776380     -70.0646       79.3629      7.826640   \n",
      "340     -107.7660     1.841200    -107.7660      152.1860     -3.551950   \n",
      "341      -98.9246    30.106100     -98.9246      121.7100      3.399770   \n",
      "342      -84.1248     1.570290     -84.1248      110.7440      9.852740   \n",
      "343     -101.8380    18.117300    -101.8380      104.6620      7.166070   \n",
      "344      -70.4855     7.910430     -70.4855      129.1700      3.265670   \n",
      "345      -18.3939     2.090070     -18.3939      175.8310     13.127300   \n",
      "346      -96.2108     9.993180     -96.2108      146.0810      1.369430   \n",
      "347      -86.6726    24.902700     -86.6726      150.8330    -16.992300   \n",
      "348     -100.7820    16.292100    -100.7820      141.0690    -25.815400   \n",
      "349      -91.4085    11.899100     -91.4085      142.9360     -0.097650   \n",
      "350      -93.3427     7.572530     -93.3427      140.1550      1.485110   \n",
      "351      -96.0437     2.259640     -96.0437      139.9660      2.372820   \n",
      "352      -88.1089    15.396600     -88.1089      140.2830      2.143960   \n",
      "353     -111.3320    14.996200    -111.3320      141.0010    -24.941600   \n",
      "354      -91.7095    15.824100     -91.7095      137.6090      1.944360   \n",
      "355      -77.5795     3.995760     -77.5795      140.1190      2.969710   \n",
      "356      -34.9770     6.992200     -34.9770      192.4360      8.597410   \n",
      "\n",
      "     pos_low_max  pos_low_min  \n",
      "0       167.3250    12.949300  \n",
      "1       196.0160  -143.821000  \n",
      "2       194.6640    17.713300  \n",
      "3       192.1200     3.974430  \n",
      "4       177.0610    11.436000  \n",
      "5       213.9580  -109.529000  \n",
      "6       183.7770     9.071290  \n",
      "7       180.4880    13.809000  \n",
      "8       180.4880    13.809000  \n",
      "9       160.0350     2.689130  \n",
      "10      162.1300    -6.874810  \n",
      "11      163.5020    14.825700  \n",
      "12      207.7260  -109.322000  \n",
      "13      175.3310    13.976600  \n",
      "14      167.2550     0.495634  \n",
      "15      156.3180    -0.036410  \n",
      "16      151.8680    -0.706492  \n",
      "17      153.0690    -0.625967  \n",
      "18      156.1160     2.413640  \n",
      "19      196.1940    10.867900  \n",
      "20      196.1940    17.349100  \n",
      "21      106.2320    10.867900  \n",
      "22      150.6120    -0.526591  \n",
      "23      149.4490     1.427100  \n",
      "24      147.4320     0.490170  \n",
      "25      157.6050   -20.132700  \n",
      "26      154.9010    12.495100  \n",
      "27       91.9813     8.571530  \n",
      "28      154.9010     8.571530  \n",
      "29           NaN          NaN  \n",
      "..           ...          ...  \n",
      "327     138.5180    -0.137971  \n",
      "328     143.7850    -3.465530  \n",
      "329     148.7500   -18.876800  \n",
      "330     149.0590    -0.036610  \n",
      "331     155.4800    -0.375536  \n",
      "332     152.2130     0.972399  \n",
      "333     183.0950     6.781750  \n",
      "334     197.2230     9.767120  \n",
      "335     188.0150     3.496450  \n",
      "336     173.5370     7.573900  \n",
      "337     199.3210   -35.047000  \n",
      "338     199.3210   -35.047000  \n",
      "339      79.3629     7.826640  \n",
      "340     152.1860    -3.551950  \n",
      "341     121.7100     3.399770  \n",
      "342     110.7440     9.852740  \n",
      "343     104.6620     7.166070  \n",
      "344     129.1700     3.265670  \n",
      "345     175.8310    13.127300  \n",
      "346     146.0810     1.369430  \n",
      "347     150.8330   -16.992300  \n",
      "348     141.0690   -25.815400  \n",
      "349     142.9360    -0.097650  \n",
      "350     140.1550     1.485110  \n",
      "351     139.9660     2.372820  \n",
      "352     140.2830     2.143960  \n",
      "353     141.0010   -24.941600  \n",
      "354     137.6090     1.944360  \n",
      "355     140.1190     2.969710  \n",
      "356     192.4360     8.597410  \n",
      "\n",
      "[357 rows x 9 columns]\n"
     ]
    }
   ],
   "source": [
    "anno_result = pd.read_csv('../result/anno_stat_result_170216.csv', delimiter = ' ')\n",
    "print(anno_result)"
   ]
  },
  {
   "cell_type": "code",
   "execution_count": 20,
   "metadata": {
    "collapsed": false
   },
   "outputs": [
    {
     "ename": "NameError",
     "evalue": "name 'DataFrame' is not defined",
     "output_type": "error",
     "traceback": [
      "\u001b[1;31m---------------------------------------------------------------------------\u001b[0m",
      "\u001b[1;31mNameError\u001b[0m                                 Traceback (most recent call last)",
      "\u001b[1;32m<ipython-input-20-89c6deb385e8>\u001b[0m in \u001b[0;36m<module>\u001b[1;34m()\u001b[0m\n\u001b[1;32m----> 1\u001b[1;33m \u001b[0manno_result_df\u001b[0m \u001b[1;33m=\u001b[0m \u001b[0mDataFrame\u001b[0m\u001b[1;33m(\u001b[0m\u001b[0manno_result\u001b[0m\u001b[1;33m)\u001b[0m\u001b[1;33m\u001b[0m\u001b[0m\n\u001b[0m\u001b[0;32m      2\u001b[0m \u001b[0manno_result_df\u001b[0m\u001b[1;33m\u001b[0m\u001b[0m\n",
      "\u001b[1;31mNameError\u001b[0m: name 'DataFrame' is not defined"
     ]
    }
   ],
   "source": [
    "anno_result_df = DataFrame(anno_result)\n",
    "anno_result_df"
   ]
  },
  {
   "cell_type": "markdown",
   "metadata": {},
   "source": [
    "## 1. Top Five neg_high_max runs"
   ]
  },
  {
   "cell_type": "code",
   "execution_count": 21,
   "metadata": {
    "collapsed": false
   },
   "outputs": [
    {
     "ename": "NameError",
     "evalue": "name 'anno_result_df' is not defined",
     "output_type": "error",
     "traceback": [
      "\u001b[1;31m---------------------------------------------------------------------------\u001b[0m",
      "\u001b[1;31mNameError\u001b[0m                                 Traceback (most recent call last)",
      "\u001b[1;32m<ipython-input-21-806f0c868bc9>\u001b[0m in \u001b[0;36m<module>\u001b[1;34m()\u001b[0m\n\u001b[1;32m----> 1\u001b[1;33m \u001b[0manno_result_df\u001b[0m\u001b[1;33m.\u001b[0m\u001b[0msort\u001b[0m\u001b[1;33m(\u001b[0m\u001b[1;33m[\u001b[0m\u001b[1;34m'neg_high_max'\u001b[0m\u001b[1;33m]\u001b[0m\u001b[1;33m,\u001b[0m \u001b[0mascending\u001b[0m\u001b[1;33m=\u001b[0m\u001b[1;33m[\u001b[0m\u001b[0mFalse\u001b[0m\u001b[1;33m]\u001b[0m\u001b[1;33m)\u001b[0m\u001b[1;33m.\u001b[0m\u001b[0mhead\u001b[0m\u001b[1;33m(\u001b[0m\u001b[0mn\u001b[0m\u001b[1;33m=\u001b[0m\u001b[1;36m5\u001b[0m\u001b[1;33m)\u001b[0m\u001b[1;33m\u001b[0m\u001b[0m\n\u001b[0m",
      "\u001b[1;31mNameError\u001b[0m: name 'anno_result_df' is not defined"
     ]
    }
   ],
   "source": [
    "anno_result_df.sort(['neg_high_max'], ascending=[False]).head(n=5)"
   ]
  },
  {
   "cell_type": "code",
   "execution_count": 44,
   "metadata": {
    "collapsed": false
   },
   "outputs": [
    {
     "data": {
      "text/plain": [
       "(array([ 1.,  5.,  3.,  3.,  2.,  0.,  0.,  2.,  3.,  1.]),\n",
       " array([ -4.89252 ,  -1.648188,   1.596144,   4.840476,   8.084808,\n",
       "         11.32914 ,  14.573472,  17.817804,  21.062136,  24.306468,  27.5508  ]),\n",
       " <a list of 10 Patch objects>)"
      ]
     },
     "execution_count": 44,
     "metadata": {},
     "output_type": "execute_result"
    },
    {
     "data": {
      "image/png": "[encoded data removed]",
      "text/plain": [
       "<matplotlib.figure.Figure at 0x7ff101020d50>"
      ]
     },
     "metadata": {},
     "output_type": "display_data"
    }
   ],
   "source": [
    "# plot:\n",
    "# plt.hist()\n",
    "neg_high_max = anno_result_df['neg_high_max']\n",
    "neg_high_max\n",
    "plt.hist(neg_high_max)"
   ]
  },
  {
   "cell_type": "markdown",
   "metadata": {},
   "source": [
    "## 2. Top Five neg_high_min runs"
   ]
  },
  {
   "cell_type": "code",
   "execution_count": 33,
   "metadata": {
    "collapsed": false
   },
   "outputs": [
    {
     "data": {
      "text/html": [
       "<div>\n",
       "<table border=\"1\" class=\"dataframe\">\n",
       "  <thead>\n",
       "    <tr style=\"text-align: right;\">\n",
       "      <th></th>\n",
       "      <th>anno_path</th>\n",
       "      <th>neg_high_max</th>\n",
       "      <th>neg_high_min</th>\n",
       "      <th>neg_low_max</th>\n",
       "      <th>neg_low_min</th>\n",
       "      <th>pos_high_max</th>\n",
       "      <th>pos_high_min</th>\n",
       "      <th>pos_low_max</th>\n",
       "      <th>pos_low_min</th>\n",
       "    </tr>\n",
       "  </thead>\n",
       "  <tbody>\n",
       "    <tr>\n",
       "      <th>13</th>\n",
       "      <td>/home/genia/rigdata/caterpie/170216_TAG_02_cat...</td>\n",
       "      <td>24.2909</td>\n",
       "      <td>-111.952</td>\n",
       "      <td>24.2909</td>\n",
       "      <td>-111.952</td>\n",
       "      <td>162.130</td>\n",
       "      <td>-6.874810</td>\n",
       "      <td>162.130</td>\n",
       "      <td>-6.874810</td>\n",
       "    </tr>\n",
       "    <tr>\n",
       "      <th>0</th>\n",
       "      <td>/home/genia/rigdata/aerodactyl/170216_TAG_02_a...</td>\n",
       "      <td>17.9248</td>\n",
       "      <td>-109.052</td>\n",
       "      <td>17.9248</td>\n",
       "      <td>-109.052</td>\n",
       "      <td>173.752</td>\n",
       "      <td>-1.746900</td>\n",
       "      <td>173.752</td>\n",
       "      <td>-1.746900</td>\n",
       "    </tr>\n",
       "    <tr>\n",
       "      <th>12</th>\n",
       "      <td>/home/genia/rigdata/butterfree/170216_TAG_02_b...</td>\n",
       "      <td>9.9422</td>\n",
       "      <td>-107.937</td>\n",
       "      <td>9.9422</td>\n",
       "      <td>-107.937</td>\n",
       "      <td>160.035</td>\n",
       "      <td>2.689130</td>\n",
       "      <td>160.035</td>\n",
       "      <td>2.689130</td>\n",
       "    </tr>\n",
       "    <tr>\n",
       "      <th>17</th>\n",
       "      <td>/home/genia/rigdata/charmeleon/170216_TAG_02_c...</td>\n",
       "      <td>27.5508</td>\n",
       "      <td>-107.698</td>\n",
       "      <td>27.5508</td>\n",
       "      <td>-107.698</td>\n",
       "      <td>167.255</td>\n",
       "      <td>0.495634</td>\n",
       "      <td>167.255</td>\n",
       "      <td>0.495634</td>\n",
       "    </tr>\n",
       "    <tr>\n",
       "      <th>18</th>\n",
       "      <td>/home/genia/rigdata/chikorita/170216_ENG-BIE_0...</td>\n",
       "      <td>18.4461</td>\n",
       "      <td>-107.052</td>\n",
       "      <td>18.4461</td>\n",
       "      <td>-107.052</td>\n",
       "      <td>156.318</td>\n",
       "      <td>-0.036410</td>\n",
       "      <td>156.318</td>\n",
       "      <td>-0.036410</td>\n",
       "    </tr>\n",
       "  </tbody>\n",
       "</table>\n",
       "</div>"
      ],
      "text/plain": [
       "                                            anno_path  neg_high_max  \\\n",
       "13  /home/genia/rigdata/caterpie/170216_TAG_02_cat...       24.2909   \n",
       "0   /home/genia/rigdata/aerodactyl/170216_TAG_02_a...       17.9248   \n",
       "12  /home/genia/rigdata/butterfree/170216_TAG_02_b...        9.9422   \n",
       "17  /home/genia/rigdata/charmeleon/170216_TAG_02_c...       27.5508   \n",
       "18  /home/genia/rigdata/chikorita/170216_ENG-BIE_0...       18.4461   \n",
       "\n",
       "    neg_high_min  neg_low_max  neg_low_min  pos_high_max  pos_high_min  \\\n",
       "13      -111.952      24.2909     -111.952       162.130     -6.874810   \n",
       "0       -109.052      17.9248     -109.052       173.752     -1.746900   \n",
       "12      -107.937       9.9422     -107.937       160.035      2.689130   \n",
       "17      -107.698      27.5508     -107.698       167.255      0.495634   \n",
       "18      -107.052      18.4461     -107.052       156.318     -0.036410   \n",
       "\n",
       "    pos_low_max  pos_low_min  \n",
       "13      162.130    -6.874810  \n",
       "0       173.752    -1.746900  \n",
       "12      160.035     2.689130  \n",
       "17      167.255     0.495634  \n",
       "18      156.318    -0.036410  "
      ]
     },
     "execution_count": 33,
     "metadata": {},
     "output_type": "execute_result"
    }
   ],
   "source": [
    "anno_result_df.sort(['neg_high_min'], ascending=[True]).head(n=5)"
   ]
  },
  {
   "cell_type": "code",
   "execution_count": 45,
   "metadata": {
    "collapsed": false
   },
   "outputs": [
    {
     "data": {
      "text/plain": [
       "(array([ 5.,  2.,  1.,  0.,  0.,  2.,  0.,  1.,  3.,  6.]),\n",
       " array([-111.952  , -103.05679,  -94.16158,  -85.26637,  -76.37116,\n",
       "         -67.47595,  -58.58074,  -49.68553,  -40.79032,  -31.89511,\n",
       "         -22.9999 ]),\n",
       " <a list of 10 Patch objects>)"
      ]
     },
     "execution_count": 45,
     "metadata": {},
     "output_type": "execute_result"
    },
    {
     "data": {
      "image/png": "[encoded data removed]",
      "text/plain": [
       "<matplotlib.figure.Figure at 0x7ff100ce1e10>"
      ]
     },
     "metadata": {},
     "output_type": "display_data"
    }
   ],
   "source": [
    "# plot:\n",
    "# plt.hist()\n",
    "neg_high_min = anno_result_df['neg_high_min']\n",
    "neg_high_min\n",
    "plt.hist(neg_high_min)"
   ]
  },
  {
   "cell_type": "markdown",
   "metadata": {},
   "source": [
    "## 3. Top Five neg_low_max runs"
   ]
  },
  {
   "cell_type": "code",
   "execution_count": 48,
   "metadata": {
    "collapsed": false
   },
   "outputs": [
    {
     "data": {
      "text/html": [
       "<div>\n",
       "<table border=\"1\" class=\"dataframe\">\n",
       "  <thead>\n",
       "    <tr style=\"text-align: right;\">\n",
       "      <th></th>\n",
       "      <th>anno_path</th>\n",
       "      <th>neg_high_max</th>\n",
       "      <th>neg_high_min</th>\n",
       "      <th>neg_low_max</th>\n",
       "      <th>neg_low_min</th>\n",
       "      <th>pos_high_max</th>\n",
       "      <th>pos_high_min</th>\n",
       "      <th>pos_low_max</th>\n",
       "      <th>pos_low_min</th>\n",
       "    </tr>\n",
       "  </thead>\n",
       "  <tbody>\n",
       "    <tr>\n",
       "      <th>13</th>\n",
       "      <td>/home/genia/rigdata/caterpie/170216_TAG_02_cat...</td>\n",
       "      <td>24.2909</td>\n",
       "      <td>-111.952</td>\n",
       "      <td>24.2909</td>\n",
       "      <td>-111.952</td>\n",
       "      <td>162.130</td>\n",
       "      <td>-6.874810</td>\n",
       "      <td>162.130</td>\n",
       "      <td>-6.874810</td>\n",
       "    </tr>\n",
       "    <tr>\n",
       "      <th>0</th>\n",
       "      <td>/home/genia/rigdata/aerodactyl/170216_TAG_02_a...</td>\n",
       "      <td>17.9248</td>\n",
       "      <td>-109.052</td>\n",
       "      <td>17.9248</td>\n",
       "      <td>-109.052</td>\n",
       "      <td>173.752</td>\n",
       "      <td>-1.746900</td>\n",
       "      <td>173.752</td>\n",
       "      <td>-1.746900</td>\n",
       "    </tr>\n",
       "    <tr>\n",
       "      <th>12</th>\n",
       "      <td>/home/genia/rigdata/butterfree/170216_TAG_02_b...</td>\n",
       "      <td>9.9422</td>\n",
       "      <td>-107.937</td>\n",
       "      <td>9.9422</td>\n",
       "      <td>-107.937</td>\n",
       "      <td>160.035</td>\n",
       "      <td>2.689130</td>\n",
       "      <td>160.035</td>\n",
       "      <td>2.689130</td>\n",
       "    </tr>\n",
       "    <tr>\n",
       "      <th>17</th>\n",
       "      <td>/home/genia/rigdata/charmeleon/170216_TAG_02_c...</td>\n",
       "      <td>27.5508</td>\n",
       "      <td>-107.698</td>\n",
       "      <td>27.5508</td>\n",
       "      <td>-107.698</td>\n",
       "      <td>167.255</td>\n",
       "      <td>0.495634</td>\n",
       "      <td>167.255</td>\n",
       "      <td>0.495634</td>\n",
       "    </tr>\n",
       "    <tr>\n",
       "      <th>18</th>\n",
       "      <td>/home/genia/rigdata/chikorita/170216_ENG-BIE_0...</td>\n",
       "      <td>18.4461</td>\n",
       "      <td>-107.052</td>\n",
       "      <td>18.4461</td>\n",
       "      <td>-107.052</td>\n",
       "      <td>156.318</td>\n",
       "      <td>-0.036410</td>\n",
       "      <td>156.318</td>\n",
       "      <td>-0.036410</td>\n",
       "    </tr>\n",
       "  </tbody>\n",
       "</table>\n",
       "</div>"
      ],
      "text/plain": [
       "                                            anno_path  neg_high_max  \\\n",
       "13  /home/genia/rigdata/caterpie/170216_TAG_02_cat...       24.2909   \n",
       "0   /home/genia/rigdata/aerodactyl/170216_TAG_02_a...       17.9248   \n",
       "12  /home/genia/rigdata/butterfree/170216_TAG_02_b...        9.9422   \n",
       "17  /home/genia/rigdata/charmeleon/170216_TAG_02_c...       27.5508   \n",
       "18  /home/genia/rigdata/chikorita/170216_ENG-BIE_0...       18.4461   \n",
       "\n",
       "    neg_high_min  neg_low_max  neg_low_min  pos_high_max  pos_high_min  \\\n",
       "13      -111.952      24.2909     -111.952       162.130     -6.874810   \n",
       "0       -109.052      17.9248     -109.052       173.752     -1.746900   \n",
       "12      -107.937       9.9422     -107.937       160.035      2.689130   \n",
       "17      -107.698      27.5508     -107.698       167.255      0.495634   \n",
       "18      -107.052      18.4461     -107.052       156.318     -0.036410   \n",
       "\n",
       "    pos_low_max  pos_low_min  \n",
       "13      162.130    -6.874810  \n",
       "0       173.752    -1.746900  \n",
       "12      160.035     2.689130  \n",
       "17      167.255     0.495634  \n",
       "18      156.318    -0.036410  "
      ]
     },
     "execution_count": 48,
     "metadata": {},
     "output_type": "execute_result"
    }
   ],
   "source": [
    "anno_result_df.sort(['neg_high_min'], ascending=[True]).head(n=5)"
   ]
  },
  {
   "cell_type": "code",
   "execution_count": 49,
   "metadata": {
    "collapsed": false
   },
   "outputs": [
    {
     "data": {
      "text/plain": [
       "(array([ 1.,  5.,  3.,  3.,  2.,  0.,  0.,  2.,  3.,  1.]),\n",
       " array([ -4.89252 ,  -1.648188,   1.596144,   4.840476,   8.084808,\n",
       "         11.32914 ,  14.573472,  17.817804,  21.062136,  24.306468,  27.5508  ]),\n",
       " <a list of 10 Patch objects>)"
      ]
     },
     "execution_count": 49,
     "metadata": {},
     "output_type": "execute_result"
    },
    {
     "data": {
      "image/png": "[encoded data removed]",
      "text/plain": [
       "<matplotlib.figure.Figure at 0x7ff100cfc650>"
      ]
     },
     "metadata": {},
     "output_type": "display_data"
    }
   ],
   "source": [
    "neg_low_max = anno_result_df['neg_low_max']\n",
    "neg_low_max\n",
    "plt.hist(neg_low_max, bins =10)"
   ]
  },
  {
   "cell_type": "markdown",
   "metadata": {},
   "source": [
    "## Find the max neg_high_max"
   ]
  },
  {
   "cell_type": "code",
   "execution_count": null,
   "metadata": {
    "collapsed": true
   },
   "outputs": [],
   "source": [
    "df.sort(['two'], ascending=[False]).head(n=3)"
   ]
  },
  {
   "cell_type": "code",
   "execution_count": 11,
   "metadata": {
    "collapsed": false
   },
   "outputs": [
    {
     "data": {
      "text/plain": [
       "[<matplotlib.lines.Line2D at 0x7ff1080a1f50>]"
      ]
     },
     "execution_count": 11,
     "metadata": {},
     "output_type": "execute_result"
    },
    {
     "data": {
      "image/png": "[encoded data removed]",
      "text/plain": [
       "<matplotlib.figure.Figure at 0x7ff108c35150>"
      ]
     },
     "metadata": {},
     "output_type": "display_data"
    }
   ],
   "source": [
    "import matplotlib.pyplot as plt\n",
    "plt.plot(range(10))"
   ]
  },
  {
   "cell_type": "code",
   "execution_count": 6,
   "metadata": {
    "collapsed": false
   },
   "outputs": [
    {
     "data": {
      "text/plain": [
       "{'letter': ['a', 'a', 'b', 'b', 'c'],\n",
       " 'one': [2, 3, 1, 4, 5],\n",
       " 'two': [5, 4, 3, 2, 1]}"
      ]
     },
     "execution_count": 6,
     "metadata": {},
     "output_type": "execute_result"
    }
   ],
   "source": [
    "d = {'one':[2,3,1,4,5],\n",
    "     'two':[5,4,3,2,1],\n",
    "     'letter':['a','a','b','b','c']}\n",
    "d"
   ]
  },
  {
   "cell_type": "code",
   "execution_count": 8,
   "metadata": {
    "collapsed": false
   },
   "outputs": [
    {
     "data": {
      "text/html": [
       "<div>\n",
       "<table border=\"1\" class=\"dataframe\">\n",
       "  <thead>\n",
       "    <tr style=\"text-align: right;\">\n",
       "      <th></th>\n",
       "      <th>letter</th>\n",
       "      <th>one</th>\n",
       "      <th>two</th>\n",
       "    </tr>\n",
       "  </thead>\n",
       "  <tbody>\n",
       "    <tr>\n",
       "      <th>0</th>\n",
       "      <td>a</td>\n",
       "      <td>2</td>\n",
       "      <td>5</td>\n",
       "    </tr>\n",
       "    <tr>\n",
       "      <th>1</th>\n",
       "      <td>a</td>\n",
       "      <td>3</td>\n",
       "      <td>4</td>\n",
       "    </tr>\n",
       "    <tr>\n",
       "      <th>2</th>\n",
       "      <td>b</td>\n",
       "      <td>1</td>\n",
       "      <td>3</td>\n",
       "    </tr>\n",
       "    <tr>\n",
       "      <th>3</th>\n",
       "      <td>b</td>\n",
       "      <td>4</td>\n",
       "      <td>2</td>\n",
       "    </tr>\n",
       "    <tr>\n",
       "      <th>4</th>\n",
       "      <td>c</td>\n",
       "      <td>5</td>\n",
       "      <td>1</td>\n",
       "    </tr>\n",
       "  </tbody>\n",
       "</table>\n",
       "</div>"
      ],
      "text/plain": [
       "  letter  one  two\n",
       "0      a    2    5\n",
       "1      a    3    4\n",
       "2      b    1    3\n",
       "3      b    4    2\n",
       "4      c    5    1"
      ]
     },
     "execution_count": 8,
     "metadata": {},
     "output_type": "execute_result"
    }
   ],
   "source": [
    "df = DataFrame(d)\n",
    "df.sort(['two'], ascending=[False])"
   ]
  },
  {
   "cell_type": "code",
   "execution_count": null,
   "metadata": {
    "collapsed": true
   },
   "outputs": [],
   "source": []
  },
  {
   "cell_type": "code",
   "execution_count": null,
   "metadata": {
    "collapsed": true
   },
   "outputs": [],
   "source": []
  },
  {
   "cell_type": "code",
   "execution_count": 9,
   "metadata": {
    "collapsed": false
   },
   "outputs": [
    {
     "data": {
      "text/html": [
       "<div>\n",
       "<table border=\"1\" class=\"dataframe\">\n",
       "  <thead>\n",
       "    <tr style=\"text-align: right;\">\n",
       "      <th></th>\n",
       "      <th>letter</th>\n",
       "      <th>one</th>\n",
       "      <th>two</th>\n",
       "    </tr>\n",
       "  </thead>\n",
       "  <tbody>\n",
       "    <tr>\n",
       "      <th>0</th>\n",
       "      <td>a</td>\n",
       "      <td>2</td>\n",
       "      <td>5</td>\n",
       "    </tr>\n",
       "    <tr>\n",
       "      <th>1</th>\n",
       "      <td>a</td>\n",
       "      <td>3</td>\n",
       "      <td>4</td>\n",
       "    </tr>\n",
       "    <tr>\n",
       "      <th>2</th>\n",
       "      <td>b</td>\n",
       "      <td>1</td>\n",
       "      <td>3</td>\n",
       "    </tr>\n",
       "  </tbody>\n",
       "</table>\n",
       "</div>"
      ],
      "text/plain": [
       "  letter  one  two\n",
       "0      a    2    5\n",
       "1      a    3    4\n",
       "2      b    1    3"
      ]
     },
     "execution_count": 9,
     "metadata": {},
     "output_type": "execute_result"
    }
   ],
   "source": [
    "df.sort(['two'], ascending=[False]).head(n=3)"
   ]
  }
 ],
 "metadata": {
  "kernelspec": {
   "display_name": "Python 2",
   "language": "python",
   "name": "python2"
  },
  "language_info": {
   "codemirror_mode": {
    "name": "ipython",
    "version": 2
   },
   "file_extension": ".py",
   "mimetype": "text/x-python",
   "name": "python",
   "nbconvert_exporter": "python",
   "pygments_lexer": "ipython2",
   "version": "2.7.14"
  }
 },
 "nbformat": 4,
 "nbformat_minor": 2
}
