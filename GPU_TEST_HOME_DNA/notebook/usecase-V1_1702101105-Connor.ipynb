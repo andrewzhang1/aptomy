{
 "cells": [
  {
   "cell_type": "code",
   "execution_count": 4,
   "metadata": {},
   "outputs": [],
   "source": [
    "import sys, string, os\n",
    "from os.path import abspath, dirname, join\n",
    "import h5py\n",
    "import numpy as np\n",
    "import matplotlib.pyplot as plt\n",
    "from os.path import abspath, dirname, join\n",
    "import ac_analysis"
   ]
  },
  {
   "cell_type": "code",
   "execution_count": 5,
   "metadata": {
    "collapsed": true
   },
   "outputs": [],
   "source": [
    "from ac_analysis.model.annotations import load_from_h5"
   ]
  },
  {
   "cell_type": "code",
   "execution_count": 11,
   "metadata": {},
   "outputs": [],
   "source": [
    "#DATA_PATH = join(dirname(abspath(ac_analysis.__file__)), 'tests', 'data')\n",
    "\n",
    "path_name = '/home/genia/rigdata/wobbuffet/170109_ENG-SYS_02_wobbuffet_WAV13R07C12_cycle1/P_00_170110023618_ggc3-keeper_ac-analysis_v11.19.1'\n",
    "\n",
    "f = h5py.File(path_name + '/annotations.h5')"
   ]
  },
  {
   "cell_type": "code",
   "execution_count": 12,
   "metadata": {},
   "outputs": [
    {
     "data": {
      "text/plain": [
       "[u'cells', u'description', u'experiments', u'metadata', u'version']"
      ]
     },
     "execution_count": 12,
     "metadata": {},
     "output_type": "execute_result"
    }
   ],
   "source": [
    "f.keys()"
   ]
  },
  {
   "cell_type": "code",
   "execution_count": 15,
   "metadata": {},
   "outputs": [
    {
     "data": {
      "text/plain": [
       "array(['b00c0000', 'b00c0001', 'b00c0002', ..., 'b15c8189', 'b15c8190',\n",
       "       'b15c8191'], \n",
       "      dtype='|S8')"
      ]
     },
     "execution_count": 15,
     "metadata": {},
     "output_type": "execute_result"
    }
   ],
   "source": [
    "f['cells'].value"
   ]
  },
  {
   "cell_type": "code",
   "execution_count": 8,
   "metadata": {
    "collapsed": true
   },
   "outputs": [],
   "source": [
    "DATA_PATH = join(dirname(abspath(ac_analysis.__file__)), 'tests', 'data')"
   ]
  },
  {
   "cell_type": "code",
   "execution_count": 18,
   "metadata": {},
   "outputs": [],
   "source": [
    "from ac_analysis.model.annotations import load_from_h5\n",
    "\n",
    "#make annotation object to get rep based annotations \n",
    "#anno_path = \"/net/connor/170124_SIG-A_03_blastoise_WAV06R05C15/P_00_170124230837_ggc3-keeper_ac-analysis_v11.19.1/annotations.h5\"\n",
    "anno_path = \"/home/genia/rigdata/wobbuffet/170109_ENG-SYS_02_wobbuffet_WAV13R07C12_cycle1/P_00_170110023618_ggc3-keeper_ac-analysis_v11.19.1/annotations.h5\"\n",
    "annos = load_from_h5(anno_path)\n",
    "cells = annos.cells  #grab all cells; same as f['cells'].value using h5py?\n",
    "neg_low, units = annos.get_rep_annotation('neg_low') #grab neg_low matrix shape = (cells, reps)"
   ]
  },
  {
   "cell_type": "code",
   "execution_count": 19,
   "metadata": {},
   "outputs": [
    {
     "data": {
      "text/plain": [
       "(131072, 1)"
      ]
     },
     "execution_count": 19,
     "metadata": {},
     "output_type": "execute_result"
    }
   ],
   "source": [
    "neg_low.shape  #single rep of neg_low"
   ]
  },
  {
   "cell_type": "code",
   "execution_count": 20,
   "metadata": {},
   "outputs": [
    {
     "data": {
      "text/plain": [
       "array(['b00c0000', 'b00c0001', 'b00c0002', ..., 'b15c8189', 'b15c8190',\n",
       "       'b15c8191'], \n",
       "      dtype='|S8')"
      ]
     },
     "execution_count": 20,
     "metadata": {},
     "output_type": "execute_result"
    }
   ],
   "source": [
    "cells"
   ]
  },
  {
   "cell_type": "code",
   "execution_count": 22,
   "metadata": {},
   "outputs": [],
   "source": [
    "mask = np.all(np.isnan(neg_low) | np.equal(neg_low, 0), axis=1) #remove rows with only nan and zero (probably dont want to just remove zeros)\n",
    "filt_neg_low = neg_low[~mask]   #only get cells where neg_low is not all nan or all zero\n",
    "filt_cells = cells[~mask]  #get cell names based on neg_low mask \n",
    "\n",
    "# neg_low_cell = neg_low[cells == 'b00c0810']\n",
    "# neg_low_cell"
   ]
  },
  {
   "cell_type": "code",
   "execution_count": 23,
   "metadata": {},
   "outputs": [
    {
     "data": {
      "text/plain": [
       "array([ True,  True,  True, ...,  True,  True,  True], dtype=bool)"
      ]
     },
     "execution_count": 23,
     "metadata": {},
     "output_type": "execute_result"
    }
   ],
   "source": [
    "mask"
   ]
  },
  {
   "cell_type": "code",
   "execution_count": 14,
   "metadata": {},
   "outputs": [
    {
     "data": {
      "text/plain": [
       "array([[-15.82650375],\n",
       "       [-14.90199852],\n",
       "       [-29.95208168],\n",
       "       ..., \n",
       "       [-15.62517452],\n",
       "       [-17.76834297],\n",
       "       [-44.0656929 ]], dtype=float32)"
      ]
     },
     "execution_count": 14,
     "metadata": {},
     "output_type": "execute_result"
    }
   ],
   "source": [
    "filt_neg_low"
   ]
  },
  {
   "cell_type": "code",
   "execution_count": 15,
   "metadata": {},
   "outputs": [
    {
     "data": {
      "text/plain": [
       "array(['b00c0029', 'b00c0359', 'b00c0413', ..., 'b15c3338', 'b15c4868',\n",
       "       'b15c5003'], \n",
       "      dtype='|S8')"
      ]
     },
     "execution_count": 15,
     "metadata": {},
     "output_type": "execute_result"
    }
   ],
   "source": [
    "filt_cells"
   ]
  },
  {
   "cell_type": "code",
   "execution_count": 24,
   "metadata": {},
   "outputs": [
    {
     "data": {
      "text/plain": [
       "[u'vmzero_end', u'oc_calibration_cmzero', u'oc_calibration_vmzero']"
      ]
     },
     "execution_count": 24,
     "metadata": {},
     "output_type": "execute_result"
    }
   ],
   "source": [
    "#now build \n",
    "[name for name in annos.get_cell_annotation_names() if 'zero' in name]  #don't need but useful for checking annotation names"
   ]
  },
  {
   "cell_type": "code",
   "execution_count": 33,
   "metadata": {},
   "outputs": [
    {
     "name": "stdout",
     "output_type": "stream",
     "text": [
      "((8700,), (8700,))\n"
     ]
    },
    {
     "data": {
      "text/plain": [
       "array(['b00c0029', 'b00c0359', 'b00c0413', ..., 'b15c3338', 'b15c4868',\n",
       "       'b15c5003'], \n",
       "      dtype='|S8')"
      ]
     },
     "execution_count": 33,
     "metadata": {},
     "output_type": "execute_result"
    }
   ],
   "source": [
    "vmzeros, unit = annos.get_cell_annotation('oc_calibration_vmzero')\n",
    "vmzeros_end, unit = annos.get_cell_annotation('vmzero_end') #returns numpy matrix, and string (matrix, string)\n",
    "filt_vmzeros = vmzeros[~mask]\n",
    "plt.hist(filt_vmzeros, bins=10); plt.show()  #plot to show vmzeor distribution\n",
    "\n",
    "#now what you have is neg_low minus vmzero\n",
    "flat_filt_neg_low = np.ravel(filt_neg_low)  #flatten matrix to array to do subtraction of vmzero \n",
    "print(flat_filt_neg_low.shape, filt_vmzeros.shape) \n",
    "neg_low_minus_vmzero = flat_filt_neg_low - filt_vmzeros  #subtract vmzero\n",
    "neg_low_minus_vmzero.shape  #confirm proper shape \n",
    "\n",
    "\n",
    "final_mask = [neg_low_minus_vmzero < 5]\n",
    "filt_cells[final_mask]\n",
    "\n"
   ]
  },
  {
   "cell_type": "code",
   "execution_count": 31,
   "metadata": {},
   "outputs": [],
   "source": [
    "vmzero_minus_neg_low = filt_vmzeros - flat_filt_neg_low\n",
    "final_mask = [vmzero_minus_neg_low > 0]\n",
    "vmzero_minus_neg_low.max()\n",
    "\n",
    "cell_vmzero = filt_vmzeros[filt_cells == 'b00c0810']"
   ]
  },
  {
   "cell_type": "markdown",
   "metadata": {
    "collapsed": true
   },
   "source": [
    "#### Look at a particula cell found on ac-dvt (with the problem of neg_low > vmzero)"
   ]
  },
  {
   "cell_type": "code",
   "execution_count": 35,
   "metadata": {},
   "outputs": [
    {
     "data": {
      "text/plain": [
       "array([[ nan]], dtype=float32)"
      ]
     },
     "execution_count": 35,
     "metadata": {},
     "output_type": "execute_result"
    }
   ],
   "source": [
    "neg_low_cell = neg_low[cells == 'b00c0810']\n",
    "neg_low_cell\n",
    "\n",
    "# Did not seem to find?"
   ]
  }
 ],
 "metadata": {
  "kernelspec": {
   "display_name": "Python 2",
   "language": "python",
   "name": "python2"
  },
  "language_info": {
   "codemirror_mode": {
    "name": "ipython",
    "version": 2
   },
   "file_extension": ".py",
   "mimetype": "text/x-python",
   "name": "python",
   "nbconvert_exporter": "python",
   "pygments_lexer": "ipython2",
   "version": "2.7.14"
  },
  "toc": {
   "nav_menu": {},
   "number_sections": true,
   "sideBar": true,
   "skip_h1_title": false,
   "title_cell": "Table of Contents",
   "title_sidebar": "Contents",
   "toc_cell": false,
   "toc_position": {},
   "toc_section_display": true,
   "toc_window_display": false
  }
 },
 "nbformat": 4,
 "nbformat_minor": 1
}
