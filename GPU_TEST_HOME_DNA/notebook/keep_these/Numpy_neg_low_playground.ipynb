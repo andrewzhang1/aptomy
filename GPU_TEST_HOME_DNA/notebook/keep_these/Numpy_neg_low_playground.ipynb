{
 "cells": [
  {
   "cell_type": "markdown",
   "metadata": {},
   "source": [
    "#### Find one cell that its neg_low is above vmzoro and one cell that its neg_low is above 0; look at the trace data for both on dvt.\n",
    "Use data set: \n",
    "1. 170109_ENG-SYS_02_wobbuffet_WAV13R07C12_cycle1 (check is existed: /experiments/vmzero_end/cell_anno/vmzero_end Dataset {131072) \n",
    "2. 170124_SIG-A_03_blastoise_WAV06R05C15  (check is existed: /experiments/vmzero_end/cell_anno/vmzero_end Dataset {131072) \n",
    "3. 170206_TAG_01_caterpie_WAV07R10C15 (CVC mode ==> vmzero_end is NOT existed, why?)"
   ]
  },
  {
   "cell_type": "markdown",
   "metadata": {},
   "source": []
  },
  {
   "cell_type": "code",
   "execution_count": 1,
   "metadata": {
    "collapsed": true
   },
   "outputs": [],
   "source": [
    "from os.path import abspath, dirname, join\n",
    "import numpy as np\n",
    "import matplotlib.pyplot as plt\n",
    "\n",
    "import ac_analysis\n",
    "from ac_analysis.model.annotations import load_from_h5"
   ]
  },
  {
   "cell_type": "code",
   "execution_count": null,
   "metadata": {
    "collapsed": true
   },
   "outputs": [],
   "source": []
  },
  {
   "cell_type": "markdown",
   "metadata": {},
   "source": [
    "### 1) Load the annotation files and show the interested annotations"
   ]
  },
  {
   "cell_type": "code",
   "execution_count": 2,
   "metadata": {},
   "outputs": [
    {
     "name": "stdout",
     "output_type": "stream",
     "text": [
      "annos ==>  <ac_analysis.model.annotations_v2.Annotations_v2 object at 0x7f72621aaf50>\n"
     ]
    }
   ],
   "source": [
    "# 1) 170109_ENG-SYS_02_wobbuffet_WAV13R07C12_cycle1\n",
    "#anno_path=\"/mnt/AGZ_Home_vmwin10/workspace_pOD/genia/Andrew/170109_ENG-SYS_02_wobbuffet_WAV13R07C12_cycle1/P_00_170110023618_ggc3-keeper_ac-analysis_v11.19.1/annotations.h5\"\n",
    "\n",
    "# 2) 170124_SIG-A_03_blastoise_WAV06R05C15\n",
    "#anno_path=\"/mnt/AGZ_Home_vmwin10/workspace_pOD/genia/Andrew/170124_SIG-A_03_blastoise_WAV06R05C15/annotations.h5\"\n",
    "\n",
    "#Script for this one ==>\n",
    "#anno_path=\"/home/genia/rigdata/blastoise/170124_SIG-A_03_blastoise_WAV06R05C15/\\\n",
    "#P_00_170124230837_ggc3-keeper_ac-analysis_v11.19.1/annotations.h5\"\n",
    "#\n",
    "\n",
    "anno_path = \"/home/genia/azhang/GPU_TEST_HOME/data/170124_SIG-A_03_blastoise_WAV06R05C15/\\\n",
    "P_00_170124230837_ggc3-keeper_ac-analysis_v11.19.1/annotations.h5\"\n",
    "\n",
    "\n",
    "#anno_path = \"/home/genia/rigdata/crobat/170120_SW_03_crobat_WAV05R07C13_cycle1/P_12_170201223402_spore1-master_ac-analysis_v11.21.1/annotations.h5\"\n",
    "\n",
    "annos = load_from_h5(anno_path)\n",
    "print \"annos ==> \", annos"
   ]
  },
  {
   "cell_type": "code",
   "execution_count": 3,
   "metadata": {
    "scrolled": false
   },
   "outputs": [
    {
     "name": "stdout",
     "output_type": "stream",
     "text": [
      "neg_low ==>  [[ nan  nan  nan ...,  nan  nan  nan]\n",
      " [ nan  nan  nan ...,  nan  nan  nan]\n",
      " [ nan  nan  nan ...,  nan  nan  nan]\n",
      " ..., \n",
      " [ nan  nan  nan ...,  nan  nan  nan]\n",
      " [ nan  nan  nan ...,  nan  nan  nan]\n",
      " [ nan  nan  nan ...,  nan  nan  nan]] ADC\n",
      "\n",
      "neg_low.shape ==>  (131072, 31)\n",
      "\n",
      "neg_low.size ==>  4063232\n"
     ]
    }
   ],
   "source": [
    "neg_low, units = annos.get_rep_annotation('neg_low') # Enthough enable us to grab neg_low matrix shape = (cells, reps)\n",
    "print \"neg_low ==> \",  neg_low, units\n",
    "print \"\\nneg_low.shape ==> \", neg_low.shape\n",
    "print \"\\nneg_low.size ==> \", neg_low.size # rows * columns"
   ]
  },
  {
   "cell_type": "code",
   "execution_count": 4,
   "metadata": {},
   "outputs": [
    {
     "name": "stdout",
     "output_type": "stream",
     "text": [
      "cells ==>  ['b00c0000' 'b00c0001' 'b00c0002' ..., 'b15c8189' 'b15c8190' 'b15c8191']\n",
      "\n",
      "cells.shape ==>  (131072,)\n",
      "\n",
      "cells.size ==>  131072\n"
     ]
    }
   ],
   "source": [
    "cells = annos.cells  #grab all cells\n",
    "print \"cells ==> \", cells\n",
    "print \"\\ncells.shape ==> \", cells.shape\n",
    "print \"\\ncells.size ==> \", cells.size "
   ]
  },
  {
   "cell_type": "markdown",
   "metadata": {
    "collapsed": true
   },
   "source": [
    "### 2. Filter for neg_low"
   ]
  },
  {
   "cell_type": "code",
   "execution_count": 10,
   "metadata": {},
   "outputs": [
    {
     "name": "stdout",
     "output_type": "stream",
     "text": [
      "This mask only removes cells that have no reps of data. If a cell has even one rep of neg_low value recorded we keep the cell\n",
      "mask is ==>  [ True  True  True ...,  True  True  True]\n",
      "\n",
      "filt_neg_low is:  [[-10.85306072 -10.28666973 -10.69818687 ..., -25.76595116 -25.78050232\n",
      "  -25.7927494 ]\n",
      " [ -2.96160626  -1.97020257  -1.97036946 ...,  -1.97030938  -1.97037399\n",
      "   -1.97030687]\n",
      " [ -6.67061424  -7.02709198  -7.53554487 ...,          nan          nan\n",
      "           nan]\n",
      " ..., \n",
      " [-77.29393005 -84.30439758 -84.58358002 ...,          nan          nan\n",
      "           nan]\n",
      " [-87.52383423 -93.97598267 -95.60056305 ...,          nan          nan\n",
      "           nan]\n",
      " [-75.48808289 -84.0631485  -96.71679688 ...,          nan          nan\n",
      "           nan]]\n",
      "\n",
      "filt_cells is:  ['b00c0392' 'b00c0480' 'b00c0509' ..., 'b15c7996' 'b15c7997' 'b15c7999']\n"
     ]
    }
   ],
   "source": [
    "# Remove rows with only nan and zero \n",
    "#(probably dont want to just remove zeros, why?)\n",
    "#mask = np.all(np.isnan(neg_low) | np.equal(neg_low, 0), axis=1) \n",
    "print \"This mask only removes cells that have no reps of data. If a cell has even one rep of neg_low value recorded we keep the cell\"\n",
    "# Filter cells that don't complete sequencing waveform \n",
    "mask = np.all(np.isnan(neg_low), axis=1)\n",
    "print \"mask is ==> \", mask\n",
    "\n",
    "filt_neg_low = neg_low[~mask]   #only get cells where neg_low is not all nan or all zero\n",
    "print \"\\nfilt_neg_low is: \", filt_neg_low\n",
    "\n",
    "filt_cells = cells[~mask]  #get cell names based on neg_low mask \n",
    "print \"\\nfilt_cells is: \", filt_cells\n",
    "\n"
   ]
  },
  {
   "cell_type": "code",
   "execution_count": null,
   "metadata": {
    "collapsed": true
   },
   "outputs": [],
   "source": [
    "# 2-1 "
   ]
  },
  {
   "cell_type": "markdown",
   "metadata": {},
   "source": [
    "### 2-1 A test case to check the corretness"
   ]
  },
  {
   "cell_type": "code",
   "execution_count": 13,
   "metadata": {},
   "outputs": [
    {
     "name": "stdout",
     "output_type": "stream",
     "text": [
      "\n",
      "=================\n",
      "MISC: Verify a few cells' value for b15c7996 and b02c7334 \n",
      "================== \n",
      "Below we can see that cell was deactivated after 3 reps, so only 3 neg_low values were recorded.\n",
      "In order to keep numpy matrix structure, the remaining values were recorded as nan???\n",
      "\n",
      "neg_low_cell is:  [[-18.48287201 -17.6192112  -15.18126583 -12.58522701 -16.29192734\n",
      "  -16.31523514 -15.88560581 -13.02407742 -14.00270081 -14.15161037\n",
      "  -14.68091679 -15.05156231 -15.79098701 -16.93075562 -20.03195381\n",
      "  -21.16149521 -21.6505394  -21.98173332 -24.4615097  -25.68001747\n",
      "  -19.80051231          nan          nan          nan          nan\n",
      "           nan          nan          nan          nan          nan\n",
      "           nan]]\n"
     ]
    }
   ],
   "source": [
    "# Test one cell trace: such as b15c7996 and b02c7334\n",
    "print \"\\n=================\\nMISC: Verify a few cells' value for b15c7996 and b02c7334 \\n================== \"\n",
    "#neg_low_cell = neg_low[cells == 'b15c7996']\n",
    "neg_low_cell = neg_low[cells == 'b02c7334']\n",
    "print \"Below we can see that cell was deactivated after 3 reps, so only 3 neg_low values were recorded.\"\n",
    "print \"In order to keep numpy matrix structure, the remaining values were recorded as nan???\"\n",
    "print \"\\nneg_low_cell is: \", neg_low_cell  # What does these 3 values?\n",
    "\n"
   ]
  },
  {
   "cell_type": "markdown",
   "metadata": {},
   "source": [
    "### 3. Get oc_calibration_vmzero"
   ]
  },
  {
   "cell_type": "code",
   "execution_count": 14,
   "metadata": {
    "scrolled": true
   },
   "outputs": [
    {
     "name": "stdout",
     "output_type": "stream",
     "text": [
      "1) vmzeros ==>  [ nan  nan  nan ...,  nan  nan  nan] ADC\n",
      "\n",
      "2) filt_vmzeros ==>  [  95.28665161  112.97035217  124.0042038  ...,  103.78548431  112.5655899\n",
      "  121.89308929]\n",
      "3-1) flat_filt_neg_low ==>  [-10.85306072 -10.28666973 -10.69818687 ...,          nan          nan\n",
      "          nan]\n",
      "3-3) neg_low_minus_vmzero.shape ==>  (68485, 31)\n",
      "3-4) flat_filt_neg_low.shape ==>  (2123035,)\n",
      "\n",
      "===============\n",
      "neg_low_minus_vmzero is:  [[-10.85306072 -10.28666973 -10.69818687 ..., -25.76595116 -25.78050232\n",
      "  -25.7927494 ]\n",
      " [ -2.96160626  -1.97020257  -1.97036946 ...,  -1.97030938  -1.97037399\n",
      "   -1.97030687]\n",
      " [ -6.67061424  -7.02709198  -7.53554487 ...,          nan          nan\n",
      "           nan]\n",
      " ..., \n",
      " [-77.29393005 -84.30439758 -84.58358002 ...,          nan          nan\n",
      "           nan]\n",
      " [-87.52383423 -93.97598267 -95.60056305 ...,          nan          nan\n",
      "           nan]\n",
      " [-75.48808289 -84.0631485  -96.71679688 ...,          nan          nan\n",
      "           nan]]\n",
      "\n",
      "===============\n",
      "\n",
      "neg_low_minus_vmzero.size is:  2123035\n",
      "\n",
      "===============\n",
      "\n",
      "neg_low_minus_vmzero.shape is:  (68485, 31)\n"
     ]
    }
   ],
   "source": [
    "# 1) Read oc_calibration_vmzero\n",
    "vmzeros, unit = annos.get_cell_annotation('oc_calibration_vmzero')\n",
    "print \"1) vmzeros ==> \", vmzeros, unit\n",
    "\n",
    "# 2) Filted vmzero that elimited the nan, etc??\n",
    "filt_vmzeros = vmzeros[~mask]\n",
    "#plt.hist(filt_vmzeros, bins=100); plt.show()  #plot to show vmzeoro distribution\n",
    "print \"\\n2) filt_vmzeros ==> \",  filt_vmzeros \n",
    "\n",
    "# 3 what you have is neg_low minus vmzero:\n",
    "#    Get flatten matrix (numpy.matrix.flatten), \n",
    "#    See: https://docs.scipy.org/doc/numpy/reference/generated/numpy.matrix.flatten.html\n",
    "#       https://plot.ly/numpy/ravel/\n",
    "\n",
    "# now what you have is neg_low minus vmzero\n",
    "flat_filt_neg_low = np.ravel(filt_neg_low)  #flatten matrix to array to do subtraction of vmzero \n",
    "print \"3-1) flat_filt_neg_low ==> \", flat_filt_neg_low\n",
    "\n",
    "# Feb 14. Conner fixed this logic by commentting out the following line:\n",
    "#print flat_filt_neg_low.shape\n",
    "#neg_low_minus_vmzero = (filt_neg_low - filt_vmzeros[:, np.newaxis])\n",
    "\n",
    "neg_low_minus_vmzero = filt_neg_low\n",
    "\n",
    "#print \"ACTUAL FIRST ROW\", neg_low_minus_vmzero[0]\n",
    "\n",
    "\n",
    "#####################\n",
    "#print \"EXPECTED FIRST ROW\" , filt_neg_low[0] - filt_vmzeros[0]\n",
    "\n",
    "#sanity check for sign \n",
    "# plt.hist(filt_vmzeros, bins = 20); plt.show()\n",
    "\n",
    "#confirm proper shape\n",
    "print \"3-3) neg_low_minus_vmzero.shape ==> \", neg_low_minus_vmzero.shape\n",
    "print \"3-4) flat_filt_neg_low.shape ==> \",  flat_filt_neg_low.shape\n",
    "\n",
    "# Finally, give a value, such as : > 0, > 4, or > 5:\n",
    "# How to decide? Actually we want to look for a positive number. For example, if vmzero is 120 and neg low goes to 130\"\n",
    "#\"above\" vmzero, then neg_low - vmzero will be positive e.g. 10. \n",
    "\n",
    "\n",
    "print \"\\n===============\"\n",
    "print \"neg_low_minus_vmzero is: \", neg_low_minus_vmzero\n",
    "\n",
    "print \"\\n===============\"\n",
    "print \"\\nneg_low_minus_vmzero.size is: \", neg_low_minus_vmzero.size\n",
    "\n",
    "print \"\\n===============\"\n",
    "print \"\\nneg_low_minus_vmzero.shape is: \", neg_low_minus_vmzero.shape"
   ]
  },
  {
   "cell_type": "code",
   "execution_count": 10,
   "metadata": {},
   "outputs": [
    {
     "data": {
      "text/plain": [
       "array([[-10.85306072, -10.28666973, -10.69818687, ..., -25.76595116,\n",
       "        -25.78050232, -25.7927494 ],\n",
       "       [ -2.96160626,  -1.97020257,  -1.97036946, ...,  -1.97030938,\n",
       "         -1.97037399,  -1.97030687],\n",
       "       [ -6.67061424,  -7.02709198,  -7.53554487, ...,          nan,\n",
       "                 nan,          nan],\n",
       "       ..., \n",
       "       [-77.29393005, -84.30439758, -84.58358002, ...,          nan,\n",
       "                 nan,          nan],\n",
       "       [-87.52383423, -93.97598267, -95.60056305, ...,          nan,\n",
       "                 nan,          nan],\n",
       "       [-75.48808289, -84.0631485 , -96.71679688, ...,          nan,\n",
       "                 nan,          nan]], dtype=float32)"
      ]
     },
     "execution_count": 10,
     "metadata": {},
     "output_type": "execute_result"
    }
   ],
   "source": [
    "neg_low_minus_vmzero"
   ]
  },
  {
   "cell_type": "markdown",
   "metadata": {},
   "source": [
    "### Plot the histogram for the neg_low_minus_vmzero:"
   ]
  },
  {
   "cell_type": "code",
   "execution_count": null,
   "metadata": {},
   "outputs": [],
   "source": [
    "#plt.hist()\n",
    "\n",
    "plt.hist(neg_low_minus_vmzero, bins=np.arange(-50,200,5), label = 'neg_low_minus_vmzero', color='b', alpha=0.5, lw=0.1)\n",
    "\n",
    "plt.legend()\n",
    "plt.title(\"neg_low_minus_vmzero\")\n",
    "\n"
   ]
  },
  {
   "cell_type": "code",
   "execution_count": null,
   "metadata": {
    "collapsed": true
   },
   "outputs": [],
   "source": []
  },
  {
   "cell_type": "markdown",
   "metadata": {},
   "source": [
    "### 3-1 Test the logic (neg_low_minus_vmzero > 0)"
   ]
  },
  {
   "cell_type": "code",
   "execution_count": 13,
   "metadata": {},
   "outputs": [
    {
     "name": "stdout",
     "output_type": "stream",
     "text": [
      "====== Final =======\n",
      "FINAL mask (68485,)\n",
      "Filt cells (68485,)\n",
      "\n",
      "MISC Confirmation\n",
      "-------------------\n",
      "final_mask ==>  [False False False ..., False False False]\n",
      "length of final_mask ==>  68485\n",
      "filt_cells.shape    ==>   (68485,)\n",
      "\n",
      "====== Final Result =======\n",
      "Final Targeted Filted Cells ==>  ['b03c0958' 'b03c1036' 'b03c1053' 'b03c1711' 'b04c0233' 'b04c0343'\n",
      " 'b04c0348' 'b04c0359' 'b04c0361' 'b04c0362' 'b04c0365' 'b04c0373'\n",
      " 'b04c0488' 'b04c0493' 'b04c0494' 'b04c0495' 'b04c0496' 'b04c0501'\n",
      " 'b04c0502' 'b04c0507' 'b05c0258' 'b05c0289' 'b05c0293' 'b05c7708'\n",
      " 'b05c7823' 'b06c7732' 'b06c7792' 'b07c0478' 'b07c8056' 'b07c8104'\n",
      " 'b08c0432' 'b08c0437' 'b08c0464' 'b08c0466' 'b08c0562' 'b08c0590'\n",
      " 'b08c0687' 'b09c7265' 'b11c0100' 'b11c8127' 'b11c8129' 'b11c8130'\n",
      " 'b11c8131' 'b11c8132' 'b11c8133' 'b11c8135' 'b12c0460' 'b12c0463'\n",
      " 'b12c0502' 'b12c0546' 'b12c0548' 'b12c0585' 'b12c0586' 'b12c0587'\n",
      " 'b12c7450' 'b13c0074' 'b13c0195' 'b13c0277' 'b13c0289' 'b13c0295'\n",
      " 'b13c0311' 'b14c0125' 'b14c0126' 'b14c2400' 'b14c2406' 'b14c2425'\n",
      " 'b15c0348' 'b15c7966']\n"
     ]
    }
   ],
   "source": [
    "print '====== Final ======='\n",
    "final_mask = np.any(neg_low_minus_vmzero > 0, axis=1)  # < -265\n",
    "print \"FINAL mask\", final_mask.shape\n",
    "print \"Filt cells\", filt_cells.shape\n",
    "\n",
    "print \"\\nMISC Confirmation\"\n",
    "print \"-------------------\"\n",
    "print \"final_mask ==> \", final_mask\n",
    "print \"length of final_mask ==> \", len(final_mask)\n",
    "print \"filt_cells.shape    ==>  \",filt_cells.shape\n",
    "\n",
    "print '\\n====== Final Result ======='\n",
    "final_filt_cells = filt_cells[final_mask]\n",
    "print \"Final Targeted Filted Cells ==> \", final_filt_cells\n",
    "\n"
   ]
  },
  {
   "cell_type": "markdown",
   "metadata": {},
   "source": [
    "### 3-2 A test the logic using various combinations (neg_low_minus_vmzero <  0; < -10, -50, -200, etc)"
   ]
  },
  {
   "cell_type": "code",
   "execution_count": 12,
   "metadata": {},
   "outputs": [
    {
     "name": "stdout",
     "output_type": "stream",
     "text": [
      "====== Final =======\n",
      "FINAL mask (68485,)\n",
      "Filt cells (68485,)\n",
      "Final Targeted Filted Cells ==>  ['b00c0621' 'b00c0722' 'b00c1401' 'b00c1439' 'b00c1587' 'b00c1657'\n",
      " 'b00c1725' 'b00c1738' 'b00c1777' 'b00c1805' 'b00c1854' 'b00c1940'\n",
      " 'b00c1982' 'b00c2061' 'b00c2166' 'b00c2403' 'b00c2522' 'b00c2608'\n",
      " 'b00c2736' 'b00c2804' 'b00c3169' 'b00c3408' 'b00c3714' 'b00c4164'\n",
      " 'b00c4921' 'b00c5183' 'b00c5437' 'b00c5710' 'b00c6067' 'b00c6446'\n",
      " 'b00c6516' 'b00c6532' 'b00c7200' 'b00c7340' 'b00c7505' 'b00c7554'\n",
      " 'b00c7571' 'b00c7653' 'b00c7989' 'b01c1094' 'b01c1195' 'b01c1216'\n",
      " 'b01c1221' 'b01c1243' 'b01c1307' 'b01c1376' 'b01c1512' 'b01c1632'\n",
      " 'b01c3122' 'b01c3941' 'b01c5248' 'b01c5451' 'b01c6010' 'b01c6013'\n",
      " 'b01c6080' 'b01c6198' 'b01c6223' 'b01c6314' 'b01c6315' 'b01c6334'\n",
      " 'b01c6463' 'b01c6574' 'b01c6580' 'b01c6600' 'b01c6634' 'b01c6761'\n",
      " 'b01c6831' 'b01c7284' 'b01c7286' 'b01c7306' 'b01c7442' 'b01c7488'\n",
      " 'b01c7494' 'b01c7770' 'b02c0715' 'b02c0757' 'b02c0838' 'b02c0847'\n",
      " 'b02c0850' 'b02c0860' 'b02c1019' 'b02c1023' 'b02c1051' 'b02c1070'\n",
      " 'b02c1149' 'b02c1397' 'b02c1404' 'b02c1858' 'b02c4048' 'b02c4347'\n",
      " 'b02c5113' 'b02c5641' 'b02c5906' 'b02c6031' 'b02c6282' 'b02c6363'\n",
      " 'b02c6400' 'b02c6430' 'b02c6510' 'b02c6604' 'b02c6659' 'b02c6754'\n",
      " 'b02c6765' 'b02c6783' 'b02c6787' 'b02c6803' 'b02c6814' 'b02c6910'\n",
      " 'b02c6963' 'b02c7119' 'b02c7139' 'b02c7284' 'b02c7285' 'b02c7396'\n",
      " 'b02c7410' 'b02c8101' 'b02c8102' 'b02c8120' 'b02c8126' 'b03c0298'\n",
      " 'b03c0649' 'b03c1047' 'b03c1232' 'b03c1548' 'b03c1623' 'b03c1627'\n",
      " 'b03c1642' 'b03c1743' 'b03c1744' 'b03c1783' 'b03c1786' 'b03c1787'\n",
      " 'b03c1790' 'b03c1791' 'b03c1862' 'b03c1880' 'b03c2026' 'b03c2042'\n",
      " 'b03c2159' 'b03c2283' 'b03c2287' 'b03c2311' 'b03c2538' 'b03c2540'\n",
      " 'b03c2696' 'b03c2767' 'b03c3083' 'b03c3235' 'b03c3305' 'b03c3463'\n",
      " 'b03c3547' 'b03c3559' 'b03c3561' 'b03c3684' 'b03c3812' 'b03c4437'\n",
      " 'b03c4451' 'b03c4482' 'b03c5644' 'b03c5882' 'b03c6098' 'b03c6142'\n",
      " 'b03c6342' 'b03c6774' 'b03c6776' 'b03c6782' 'b03c6910' 'b03c7073'\n",
      " 'b03c7147' 'b03c7162' 'b03c7197' 'b03c7198' 'b03c7216' 'b03c7241'\n",
      " 'b03c7252' 'b03c7280' 'b03c7327' 'b03c7330' 'b03c7339' 'b03c7341'\n",
      " 'b03c7365' 'b03c7374' 'b03c7378' 'b03c7425' 'b03c7469' 'b03c7499'\n",
      " 'b03c7970' 'b03c8142' 'b04c0911' 'b04c1041' 'b04c1172' 'b04c1191'\n",
      " 'b04c1262' 'b04c1296' 'b04c1325' 'b04c1353' 'b04c1386' 'b04c1402'\n",
      " 'b04c1412' 'b04c1652' 'b04c1738' 'b04c1835' 'b04c1875' 'b04c1878'\n",
      " 'b04c2161' 'b04c2299' 'b04c2355' 'b04c2398' 'b04c2413' 'b04c2424'\n",
      " 'b04c2459' 'b04c2603' 'b04c2608' 'b04c2639' 'b04c2645' 'b04c2726'\n",
      " 'b04c2867' 'b04c2872' 'b04c2968' 'b04c3059' 'b04c3619' 'b04c3743'\n",
      " 'b04c3815' 'b04c3914' 'b04c4504' 'b04c4695' 'b04c5735' 'b04c6483'\n",
      " 'b04c6957' 'b04c7543' 'b05c0954' 'b05c0970' 'b05c1103' 'b05c1286'\n",
      " 'b05c1288' 'b05c1423' 'b05c1977' 'b05c1978' 'b05c2244' 'b05c2493'\n",
      " 'b05c2798' 'b05c2933' 'b05c3067' 'b05c3087' 'b05c3254' 'b05c3374'\n",
      " 'b05c3487' 'b05c7568' 'b06c0686' 'b06c0900' 'b06c0944' 'b06c1210'\n",
      " 'b06c1296' 'b06c1413' 'b06c1615' 'b06c1636' 'b06c1670' 'b06c1774'\n",
      " 'b06c1902' 'b06c2208' 'b06c2485' 'b06c2746' 'b06c2859' 'b06c2864'\n",
      " 'b06c2959' 'b06c3125' 'b06c3236' 'b06c4478' 'b06c4563' 'b06c4686'\n",
      " 'b06c4722' 'b06c4953' 'b06c4970' 'b06c5085' 'b06c5335' 'b06c5572'\n",
      " 'b06c5971' 'b06c5996' 'b06c6118' 'b06c6254' 'b06c6470' 'b06c6714'\n",
      " 'b06c6782' 'b06c6835' 'b06c7028' 'b06c7101' 'b06c7112' 'b06c7149'\n",
      " 'b06c7228' 'b06c7420' 'b06c8023' 'b06c8095' 'b06c8101' 'b06c8128'\n",
      " 'b06c8131' 'b07c1340' 'b07c1352' 'b07c1446' 'b07c1451' 'b07c1559'\n",
      " 'b07c1618' 'b07c1629' 'b07c1667' 'b07c1698' 'b07c1735' 'b07c1758'\n",
      " 'b07c1853' 'b07c1881' 'b07c1886' 'b07c1949' 'b07c1958' 'b07c2057'\n",
      " 'b07c2080' 'b07c2100' 'b07c2113' 'b07c2226' 'b07c2274' 'b07c2346'\n",
      " 'b07c2434' 'b07c2512' 'b07c2520' 'b07c2982' 'b07c3130' 'b07c3290'\n",
      " 'b07c3520' 'b07c4861' 'b07c5250' 'b07c5779' 'b07c5795' 'b07c5923'\n",
      " 'b07c6165' 'b07c6538' 'b07c6563' 'b07c6950' 'b07c7075' 'b08c0697'\n",
      " 'b08c0822' 'b08c1837' 'b08c1863' 'b08c2113' 'b08c2242' 'b08c2360'\n",
      " 'b08c2467' 'b08c2786' 'b08c2922' 'b08c3476' 'b08c3922' 'b08c4005'\n",
      " 'b08c4094' 'b08c4185' 'b08c4232' 'b08c4279' 'b08c4962' 'b08c5017'\n",
      " 'b08c5098' 'b08c5138' 'b08c5155' 'b08c5281' 'b08c5507' 'b08c5613'\n",
      " 'b08c5784' 'b08c5928' 'b08c6114' 'b08c6152' 'b08c6242' 'b08c7300'\n",
      " 'b08c8114' 'b08c8166' 'b08c8178' 'b09c0371' 'b09c0444' 'b09c1568'\n",
      " 'b09c1746' 'b09c1796' 'b09c1905' 'b09c2126' 'b09c2218' 'b09c2225'\n",
      " 'b09c2293' 'b09c2450' 'b09c2475' 'b09c2610' 'b09c3126' 'b09c3275'\n",
      " 'b09c3317' 'b09c3338' 'b09c3409' 'b09c3426' 'b09c3443' 'b09c3551'\n",
      " 'b09c3591' 'b09c3831' 'b09c3934' 'b09c4017' 'b09c4098' 'b09c4495'\n",
      " 'b09c4623' 'b09c4881' 'b09c4954' 'b09c5082' 'b09c5111' 'b09c5126'\n",
      " 'b09c5166' 'b09c5921' 'b09c6806' 'b09c6875' 'b09c7010' 'b09c7050'\n",
      " 'b09c7295' 'b09c7543' 'b09c7967' 'b09c8144' 'b10c1288' 'b10c2331'\n",
      " 'b10c2589' 'b10c2705' 'b10c2972' 'b10c3081' 'b10c6010' 'b10c6362'\n",
      " 'b10c6795' 'b10c6809' 'b10c6810' 'b10c6822' 'b10c7021' 'b10c7282'\n",
      " 'b10c8110' 'b10c8112' 'b11c1007' 'b11c1015' 'b11c1140' 'b11c1145'\n",
      " 'b11c1406' 'b11c2024' 'b11c3476' 'b11c4246' 'b11c5506' 'b11c7939'\n",
      " 'b12c2060' 'b12c2168' 'b12c2616' 'b12c2641' 'b12c3276' 'b12c3837'\n",
      " 'b12c6491' 'b12c7428' 'b13c0348' 'b13c2201' 'b13c2492' 'b13c3233'\n",
      " 'b13c5874' 'b13c7612' 'b14c1183' 'b14c1535' 'b14c6725' 'b14c8057'\n",
      " 'b14c8137' 'b15c0166' 'b15c0171' 'b15c1297' 'b15c1412' 'b15c1450'\n",
      " 'b15c1576' 'b15c1589' 'b15c1924' 'b15c2256' 'b15c2275' 'b15c2346'\n",
      " 'b15c2481' 'b15c2782' 'b15c3148' 'b15c3167' 'b15c3694' 'b15c4444'\n",
      " 'b15c4744' 'b15c5064' 'b15c5321' 'b15c5349' 'b15c5486' 'b15c5612'\n",
      " 'b15c5738' 'b15c5741' 'b15c5980' 'b15c6325' 'b15c6408' 'b15c6872'\n",
      " 'b15c7139']\n",
      "\n",
      "MISC Confirmation\n",
      "-------------------\n",
      "final_mask ==>  [False False False ..., False False False]\n",
      "length of final_mask ==>  68485\n",
      "filt_cells.shape    ==>   (68485,)\n"
     ]
    }
   ],
   "source": [
    "print '====== Final ======='\n",
    "final_mask = np.any(neg_low_minus_vmzero < -105, axis=1)  # < -265\n",
    "print \"FINAL mask\", final_mask.shape\n",
    "print \"Filt cells\", filt_cells.shape\n",
    "\n",
    "final_filt_cells = filt_cells[final_mask]\n",
    "print \"Final Targeted Filted Cells ==> \", final_filt_cells\n",
    "\n",
    "print \"\\nMISC Confirmation\"\n",
    "print \"-------------------\"\n",
    "print \"final_mask ==> \", final_mask\n",
    "print \"length of final_mask ==> \", len(final_mask)\n",
    "print \"filt_cells.shape    ==>  \",filt_cells.shape\n",
    "\n"
   ]
  },
  {
   "cell_type": "code",
   "execution_count": 163,
   "metadata": {
    "collapsed": true
   },
   "outputs": [],
   "source": [
    "# Check cell b04c1191 and b11c4246 on the ac-dvt"
   ]
  },
  {
   "cell_type": "markdown",
   "metadata": {},
   "source": [
    "### 4. Finally, calculate the rep(s)  and see on ac-dvt"
   ]
  },
  {
   "cell_type": "code",
   "execution_count": null,
   "metadata": {
    "collapsed": true
   },
   "outputs": [],
   "source": []
  },
  {
   "cell_type": "markdown",
   "metadata": {},
   "source": [
    "#### MISC, a few other np functions "
   ]
  },
  {
   "cell_type": "code",
   "execution_count": 151,
   "metadata": {},
   "outputs": [
    {
     "data": {
      "text/plain": [
       "array([18871, 48664])"
      ]
     },
     "execution_count": 151,
     "metadata": {},
     "output_type": "execute_result"
    }
   ],
   "source": [
    "np.where(neg_low_minus_vmzero < -265)[0]\n",
    "\n",
    "# This function is to find the rep parameter and time\n",
    "# array([18871, 48664]) ==> Number of the sameple\n",
    "# 18871: dot (timing) \n",
    "# Find the total # of the dots, and "
   ]
  },
  {
   "cell_type": "markdown",
   "metadata": {},
   "source": []
  },
  {
   "cell_type": "code",
   "execution_count": 164,
   "metadata": {},
   "outputs": [
    {
     "name": "stdout",
     "output_type": "stream",
     "text": [
      "Help on built-in function where in module numpy.core.multiarray:\n",
      "\n",
      "where(...)\n",
      "    where(condition, [x, y])\n",
      "    \n",
      "    Return elements, either from `x` or `y`, depending on `condition`.\n",
      "    \n",
      "    If only `condition` is given, return ``condition.nonzero()``.\n",
      "    \n",
      "    Parameters\n",
      "    ----------\n",
      "    condition : array_like, bool\n",
      "        When True, yield `x`, otherwise yield `y`.\n",
      "    x, y : array_like, optional\n",
      "        Values from which to choose. `x` and `y` need to have the same\n",
      "        shape as `condition`.\n",
      "    \n",
      "    Returns\n",
      "    -------\n",
      "    out : ndarray or tuple of ndarrays\n",
      "        If both `x` and `y` are specified, the output array contains\n",
      "        elements of `x` where `condition` is True, and elements from\n",
      "        `y` elsewhere.\n",
      "    \n",
      "        If only `condition` is given, return the tuple\n",
      "        ``condition.nonzero()``, the indices where `condition` is True.\n",
      "    \n",
      "    See Also\n",
      "    --------\n",
      "    nonzero, choose\n",
      "    \n",
      "    Notes\n",
      "    -----\n",
      "    If `x` and `y` are given and input arrays are 1-D, `where` is\n",
      "    equivalent to::\n",
      "    \n",
      "        [xv if c else yv for (c,xv,yv) in zip(condition,x,y)]\n",
      "    \n",
      "    Examples\n",
      "    --------\n",
      "    >>> np.where([[True, False], [True, True]],\n",
      "    ...          [[1, 2], [3, 4]],\n",
      "    ...          [[9, 8], [7, 6]])\n",
      "    array([[1, 8],\n",
      "           [3, 4]])\n",
      "    \n",
      "    >>> np.where([[0, 1], [1, 0]])\n",
      "    (array([0, 1]), array([1, 0]))\n",
      "    \n",
      "    >>> x = np.arange(9.).reshape(3, 3)\n",
      "    >>> np.where( x > 5 )\n",
      "    (array([2, 2, 2]), array([0, 1, 2]))\n",
      "    >>> x[np.where( x > 3.0 )]               # Note: result is 1D.\n",
      "    array([ 4.,  5.,  6.,  7.,  8.])\n",
      "    >>> np.where(x < 5, x, -1)               # Note: broadcasting.\n",
      "    array([[ 0.,  1.,  2.],\n",
      "           [ 3.,  4., -1.],\n",
      "           [-1., -1., -1.]])\n",
      "    \n",
      "    Find the indices of elements of `x` that are in `goodvalues`.\n",
      "    \n",
      "    >>> goodvalues = [3, 4, 7]\n",
      "    >>> ix = np.in1d(x.ravel(), goodvalues).reshape(x.shape)\n",
      "    >>> ix\n",
      "    array([[False, False, False],\n",
      "           [ True,  True, False],\n",
      "           [False,  True, False]], dtype=bool)\n",
      "    >>> np.where(ix)\n",
      "    (array([1, 1, 2]), array([0, 1, 1]))\n",
      "\n"
     ]
    }
   ],
   "source": [
    "help(np.where)"
   ]
  },
  {
   "cell_type": "markdown",
   "metadata": {
    "collapsed": true
   },
   "source": [
    "#### MISC: Find the rep numbers?"
   ]
  },
  {
   "cell_type": "code",
   "execution_count": 152,
   "metadata": {},
   "outputs": [
    {
     "name": "stderr",
     "output_type": "stream",
     "text": [
      "/usr/local/Canopy_64bit/User/lib/python2.7/site-packages/ipykernel/__main__.py:5: DeprecationWarning: using a boolean instead of an integer will result in an error in the future\n"
     ]
    },
    {
     "data": {
      "text/plain": [
       "(array([1, 2]),)"
      ]
     },
     "execution_count": 152,
     "metadata": {},
     "output_type": "execute_result"
    }
   ],
   "source": [
    "# Here might be the logic\n",
    "\n",
    "cells = [['a'], ['b']] #This would be your array of cells \n",
    "x = np.array([[1,2,3], [1,4,5]])  #this would be your neg low \n",
    "x = x[cells != 'b'] \n",
    "np.where(x > 3)"
   ]
  }
 ],
 "metadata": {
  "kernelspec": {
   "display_name": "Python 2",
   "language": "python",
   "name": "python2"
  },
  "language_info": {
   "codemirror_mode": {
    "name": "ipython",
    "version": 2
   },
   "file_extension": ".py",
   "mimetype": "text/x-python",
   "name": "python",
   "nbconvert_exporter": "python",
   "pygments_lexer": "ipython2",
   "version": "2.7.14"
  },
  "toc": {
   "nav_menu": {},
   "number_sections": true,
   "sideBar": true,
   "skip_h1_title": false,
   "title_cell": "Table of Contents",
   "title_sidebar": "Contents",
   "toc_cell": false,
   "toc_position": {},
   "toc_section_display": true,
   "toc_window_display": false
  }
 },
 "nbformat": 4,
 "nbformat_minor": 1
}
