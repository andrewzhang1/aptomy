{
 "cells": [
  {
   "cell_type": "markdown",
   "metadata": {},
   "source": [
    "### Requirement:\n",
    "Jan 17, 2017 \n",
    "- Annotations are Based on: https://docs.google.com/spreadsheets/d/1RM1xmq9noZyzA97Ca3AgdujziyTb-0lwGlTFjWaiJvc/edit?ts=58797bde#gid=0\n",
    "1. Read the annotations.h5 file (using h5py, etc);\n",
    "2. Make some simple plot: scatter, heatmap, etc;\n",
    "3. Obtain statisitcs data from \" ACPreprocessingAnnotator\" in the tab of Limited Core, such as: neg_high, neg_low pos_high, pos_low, and vmzero.\n",
    "4. Reference: http://10.21.56.21/docs/ac-analysis/latest/\n",
    "5. Look at this for Quantile-Quantile Plot using SciPy http://stackoverflow.com/questions/13865596/quantile-quantile-plot-using-scipy\n",
    "6. More details for the neg_high http://10.21.56.21/docs/ac-analysis/latest/developer/annotations-list.html?highlight=neg_high"
   ]
  },
  {
   "cell_type": "code",
   "execution_count": null,
   "metadata": {
    "collapsed": true
   },
   "outputs": [],
   "source": []
  },
  {
   "cell_type": "code",
   "execution_count": 319,
   "metadata": {
    "scrolled": true
   },
   "outputs": [],
   "source": [
    "import plotly.plotly as py"
   ]
  },
  {
   "cell_type": "code",
   "execution_count": 355,
   "metadata": {},
   "outputs": [
    {
     "name": "stdout",
     "output_type": "stream",
     "text": [
      "Populating the interactive namespace from numpy and matplotlib\n"
     ]
    }
   ],
   "source": [
    "import os\n",
    "import numpy as np\n",
    "import h5py\n",
    "import time\n",
    "#import plotly as py\n",
    "#import plotly.graph_objs as go\n",
    "import matplotlib.pyplot as plt\n",
    "import pandas as pd\n",
    "%pylab inline"
   ]
  },
  {
   "cell_type": "code",
   "execution_count": 321,
   "metadata": {},
   "outputs": [
    {
     "name": "stdout",
     "output_type": "stream",
     "text": [
      "We are on the machine: \"merge1\"\n",
      "\n",
      "File structure is:\n",
      "/home/genia/azhang/GPU_TEST_HOME/notebook\n",
      ".\n",
      "├── 1.  neg_low-170109_ENG-SYS_02_wobbuffet_WAV13R07C12_cycle1 (Voltage Mode)-For practice numpy.ipynb\n",
      "├── 1.  neg_low-170109_ENG-SYS_02_wobbuffet_WAV13R07C12_cycle1 (Voltage Mode).ipynb\n",
      "├── 2-Final-neg_low-170124_SIG-A_03_blastoise_WAV06R05C15-170214_330.ipynb\n",
      "├── 2-Final-neg_low-170124_SIG-A_03_blastoise_WAV06R05C15-Copy_170214.ipynb\n",
      "├── 2-Final-neg_low-170124_SIG-A_03_blastoise_WAV06R05C15.ipynb\n",
      "├── 2-Final-neg_low-170124_SIG-A_03_blastoise_WAV06R05C15.py\n",
      "├── 2-Final-neg_low-need-run_name.py\n",
      "├── 2.  neg_low-170124_SIG-A_03_blastoise_WAV06R05C15-ForPractice.ipynb\n",
      "├── 2.  neg_low-170124_SIG-A_03_blastoise_WAV06R05C15.ipynb\n",
      "├── 3.  neg_low-170206_TAG_01_caterpie_WAV07R10C15 (CVC Mode).ipynb\n",
      "├── 4.  neg_low-170120_SW_03_crobat_WAV05R07C13_cycle1 (CVC Mode) .ipynb\n",
      "├── 5.  neg_low-170209_SIG-A_01_flareon_WAS23R13C13.ipynb\n",
      "├── ACAP_Core_Annotations_Test1_voltage-mode.ipynb\n",
      "├── ACAP_Core_Annotations_Test2-CVC-Mode (with one voltage mode).ipynb\n",
      "├── test.annotation.py\n",
      "├── test.usecase.py\n",
      "├── usecase.ipynb\n",
      "├── usecase-V1_1702101105-Connor.ipynb\n",
      "└── usecase-V1_1702101105.ipynb\n",
      "\n",
      "0 directories, 19 files\n",
      "11.10_data-handling_dev\n",
      "11.12\n",
      "ACAP_Core_Annotations_Test1-Copy1.ipynb\n",
      "ACAP_Core_Annotations_Test1-Copy.ipynb\n",
      "ACAP_Core_Annotations_Test1.ipynb\n",
      "ACAP_Core_Annotations_Test1-Latest.ipynb\n",
      "bin\n",
      "data\n",
      "data-handling\n",
      "dvt-server\n",
      "genia-sqa-old\n",
      "log\n",
      "nohup.out\n",
      "notebook\n",
      "result\n",
      "snail-tools\n",
      "snail-tools_old_16_09_22\n",
      "snail-tools_provide-single-pore-tolerance\n",
      "start_ipython_notebook_anaconda2-by-user-conda2-port-9000.log\n",
      "start_ipython_notebook_Canopy-by-user-genia-port-8888.log\n",
      "start_ipython_notebook_Canopy-by-user-genia-port-8888.sh\n",
      "test.txt\n"
     ]
    }
   ],
   "source": [
    "%%bash\n",
    "echo -e \"We are on the machine: \\\"`hostname`\\\"\\n\"\n",
    "#cd /home/genia/azhang/GPU_TEST_HOME/data\n",
    "echo \"File structure is:\"\n",
    "pwd\n",
    "tree\n",
    "cd ..\n",
    "ls"
   ]
  },
  {
   "cell_type": "code",
   "execution_count": null,
   "metadata": {
    "collapsed": true
   },
   "outputs": [],
   "source": []
  },
  {
   "cell_type": "code",
   "execution_count": null,
   "metadata": {
    "collapsed": true
   },
   "outputs": [],
   "source": []
  },
  {
   "cell_type": "markdown",
   "metadata": {
    "collapsed": true
   },
   "source": [
    "## Requirement:\n",
    "Based on: https://docs.google.com/spreadsheets/d/1RM1xmq9noZyzA97Ca3AgdujziyTb-0lwGlTFjWaiJvc/edit?ts=58797bde#gid=0\n",
    "\n",
    "#### 1. Read the annotations.h5 file (using h5py, etc);\n",
    "#### 2. Make some simple plot: heatmap \n",
    "#### 3. Obtain statisitcs data from \" ACPreprocessingAnnotator\" in the tab of Limited Core, such as: neg_high, vmzero. "
   ]
  },
  {
   "cell_type": "code",
   "execution_count": 322,
   "metadata": {},
   "outputs": [
    {
     "name": "stdout",
     "output_type": "stream",
     "text": [
      "/home/genia/azhang/GPU_TEST_HOME/notebook\n",
      "1.  neg_low-170109_ENG-SYS_02_wobbuffet_WAV13R07C12_cycle1 (Voltage Mode)-For practice numpy.ipynb\n",
      "1.  neg_low-170109_ENG-SYS_02_wobbuffet_WAV13R07C12_cycle1 (Voltage Mode).ipynb\n",
      "2-Final-neg_low-170124_SIG-A_03_blastoise_WAV06R05C15-170214_330.ipynb\n",
      "2-Final-neg_low-170124_SIG-A_03_blastoise_WAV06R05C15-Copy_170214.ipynb\n",
      "2-Final-neg_low-170124_SIG-A_03_blastoise_WAV06R05C15.ipynb\n",
      "2-Final-neg_low-170124_SIG-A_03_blastoise_WAV06R05C15.py\n",
      "2-Final-neg_low-need-run_name.py\n",
      "2.  neg_low-170124_SIG-A_03_blastoise_WAV06R05C15-ForPractice.ipynb\n",
      "2.  neg_low-170124_SIG-A_03_blastoise_WAV06R05C15.ipynb\n",
      "3.  neg_low-170206_TAG_01_caterpie_WAV07R10C15 (CVC Mode).ipynb\n",
      "4.  neg_low-170120_SW_03_crobat_WAV05R07C13_cycle1 (CVC Mode) .ipynb\n",
      "5.  neg_low-170209_SIG-A_01_flareon_WAS23R13C13.ipynb\n",
      "ACAP_Core_Annotations_Test1_voltage-mode.ipynb\n",
      "ACAP_Core_Annotations_Test2-CVC-Mode (with one voltage mode).ipynb\n",
      "test.annotation.py\n",
      "test.usecase.py\n",
      "usecase.ipynb\n",
      "usecase-V1_1702101105-Connor.ipynb\n",
      "usecase-V1_1702101105.ipynb\n"
     ]
    },
    {
     "name": "stderr",
     "output_type": "stream",
     "text": [
      "bash: line 1: cd: data: No such file or directory\n"
     ]
    }
   ],
   "source": [
    "%%bash\n",
    "cd data\n",
    "pwd\n",
    "ls"
   ]
  },
  {
   "cell_type": "markdown",
   "metadata": {
    "collapsed": true
   },
   "source": [
    "### Description for the datasets\n",
    "#### CVC mode:\n",
    "170120_SW_03_crobat_WAV05R07C13_cycle1 and\n",
    "170131_TAG_01_krabby_WAV10R07C05\n",
    "#### valtage mode:\n",
    "170109_ENG-SYS_02_wobbuffet_WAV13R07C12_cycle1"
   ]
  },
  {
   "cell_type": "code",
   "execution_count": 356,
   "metadata": {},
   "outputs": [],
   "source": [
    "#filename1=\"/home/genia/azhang/GPU_TEST_HOME/data/170109_ENG-SYS_02_wobbuffet_WAV13R07C12_cycle1/\\\n",
    "#P_00_170110023618_v11.19.1/annotations.h5\"\n",
    "\n",
    "filename1_CVC1=\"/home/genia/rigdata/crobat/170120_SW_03_crobat_WAV05R07C13_cycle1/\\\n",
    "P_12_170201223402_spore1-master_ac-analysis_v11.21.1/annotations.h5\"\n",
    "\n",
    "filename1_CVC2=\"/home/genia/azhang/GPU_TEST_HOME/data/170131_TAG_01_krabby_WAV10R07C05/annotations.h5\"\n",
    "\n",
    "\n",
    "anno_one_CVC1 = h5py.File(filename1_CVC1, 'r')\n",
    "anno_one_CVC2 = h5py.File(filename1_CVC2, 'r')\n",
    "\n",
    "\n",
    "filename2 = \"/home/genia/azhang/GPU_TEST_HOME/data/170109_ENG-SYS_02_wobbuffet_WAV13R07C12_cycle2/\\\n",
    "P_00_170110031255_ggc3-keeper_ac-analysis_v11.19.1/annotations.h5\"\n",
    "\n",
    "anno_two = h5py.File(filename2, 'r')\n",
    "csvname1=\"170109_ENG-SYS_02_wobbuffet_WAV13R07C12_cycle1/P_00_170110023618_v11.19.1/cell_annotations.csv\"\n",
    "\n",
    "\n",
    "# Files on vmlxu2\"\n",
    "#filename1=\"/mnt/AGZ_Home_vmwin10/workspace_pOD/genia/Chuck/170109_ENG-SYS_02_wobbuffet_WAV13R07C12_cycle1/annotations.h5\"\n",
    "#filename2=\"/mnt/AGZ_Home_vmwin10/workspace_pOD/genia/Chuck/170109_ENG-SYS_02_wobbuffet_WAV13R07C12_cycle2/annotations.h5\"\n"
   ]
  },
  {
   "cell_type": "code",
   "execution_count": 324,
   "metadata": {},
   "outputs": [
    {
     "data": {
      "text/plain": [
       "'/home/genia/rigdata/crobat/170120_SW_03_crobat_WAV05R07C13_cycle1/P_12_170201223402_spore1-master_ac-analysis_v11.21.1/annotations.h5'"
      ]
     },
     "execution_count": 324,
     "metadata": {},
     "output_type": "execute_result"
    }
   ],
   "source": [
    "filename1_CVC1"
   ]
  },
  {
   "cell_type": "code",
   "execution_count": 325,
   "metadata": {},
   "outputs": [
    {
     "data": {
      "text/plain": [
       "'/home/genia/azhang/GPU_TEST_HOME/data/170131_TAG_01_krabby_WAV10R07C05/annotations.h5'"
      ]
     },
     "execution_count": 325,
     "metadata": {},
     "output_type": "execute_result"
    }
   ],
   "source": [
    "filename1_CVC2"
   ]
  },
  {
   "cell_type": "markdown",
   "metadata": {},
   "source": [
    "## Look into the structure for the annotations.h5"
   ]
  },
  {
   "cell_type": "markdown",
   "metadata": {},
   "source": [
    "#### 1) Look into oc_calibration_vmzero: run one vs run two"
   ]
  },
  {
   "cell_type": "code",
   "execution_count": 326,
   "metadata": {},
   "outputs": [
    {
     "data": {
      "text/plain": [
       "[u'cells', u'description', u'experiments', u'metadata', u'version']"
      ]
     },
     "execution_count": 326,
     "metadata": {},
     "output_type": "execute_result"
    }
   ],
   "source": [
    "anno_one_CVC1.keys()  # Same as \"h5ls annotations.h5\"\n",
    "#anno_one_CVC2.keys()  # Same as \"h5ls annotations.h5\""
   ]
  },
  {
   "cell_type": "code",
   "execution_count": 327,
   "metadata": {},
   "outputs": [
    {
     "data": {
      "text/plain": [
       "[u'activethinning',\n",
       " u'drytest',\n",
       " u'electroporation',\n",
       " u'oc_calibration',\n",
       " u'primary',\n",
       " u'run_metadata',\n",
       " u'srcm']"
      ]
     },
     "execution_count": 327,
     "metadata": {},
     "output_type": "execute_result"
    }
   ],
   "source": [
    "anno_one_CVC1['experiments'].keys()"
   ]
  },
  {
   "cell_type": "code",
   "execution_count": 328,
   "metadata": {},
   "outputs": [
    {
     "data": {
      "text/plain": [
       "array([ nan,  nan,  nan, ...,  nan,  nan,  nan], dtype=float32)"
      ]
     },
     "execution_count": 328,
     "metadata": {},
     "output_type": "execute_result"
    }
   ],
   "source": [
    "vmzero_one_CVC1 = anno_one_CVC1['experiments/oc_calibration/cell_anno/oc_calibration_vmzero'].value\n",
    "vmzero_one_CVC1"
   ]
  },
  {
   "cell_type": "code",
   "execution_count": 329,
   "metadata": {},
   "outputs": [
    {
     "data": {
      "text/plain": [
       "array([ 59.54895401,  32.80421829,  25.04044151, ...,  78.9467392 ,\n",
       "        27.2345314 ,  28.30464935], dtype=float32)"
      ]
     },
     "execution_count": 329,
     "metadata": {},
     "output_type": "execute_result"
    }
   ],
   "source": [
    "vmzero_one_CVC2 = anno_one_CVC2['experiments/oc_calibration/cell_anno/oc_calibration_vmzero'].value\n",
    "vmzero_one_CVC2"
   ]
  },
  {
   "cell_type": "code",
   "execution_count": 330,
   "metadata": {},
   "outputs": [
    {
     "data": {
      "text/plain": [
       "array([          nan,  139.41577148,  130.67912292, ...,  117.00022888,\n",
       "        117.09118652,           nan], dtype=float32)"
      ]
     },
     "execution_count": 330,
     "metadata": {},
     "output_type": "execute_result"
    }
   ],
   "source": [
    "# Data set two:\n",
    "vmzero_two = anno_two['experiments/oc_calibration/cell_anno/oc_calibration_vmzero'].value\n",
    "vmzero_two"
   ]
  },
  {
   "cell_type": "code",
   "execution_count": null,
   "metadata": {
    "collapsed": true
   },
   "outputs": [],
   "source": []
  },
  {
   "cell_type": "markdown",
   "metadata": {},
   "source": [
    "####  Check the neg_high for all three datasets (two CVC mode and one valtage mode)"
   ]
  },
  {
   "cell_type": "code",
   "execution_count": 331,
   "metadata": {},
   "outputs": [
    {
     "data": {
      "text/plain": [
       "array([[ nan,  nan,  nan, ...,  nan,  nan,  nan],\n",
       "       [ nan,  nan,  nan, ...,  nan,  nan,  nan],\n",
       "       [ nan,  nan,  nan, ...,  nan,  nan,  nan],\n",
       "       ..., \n",
       "       [ nan,  nan,  nan, ...,  nan,  nan,  nan],\n",
       "       [ nan,  nan,  nan, ...,  nan,  nan,  nan],\n",
       "       [ nan,  nan,  nan, ...,  nan,  nan,  nan]], dtype=float32)"
      ]
     },
     "execution_count": 331,
     "metadata": {},
     "output_type": "execute_result"
    }
   ],
   "source": [
    "neg_high_CVC1 = anno_one_CVC1['experiments/primary/rep_anno/neg_high'].value\n",
    "neg_high_CVC1"
   ]
  },
  {
   "cell_type": "code",
   "execution_count": 332,
   "metadata": {},
   "outputs": [
    {
     "data": {
      "text/plain": [
       "array([[ 4.16623068,  4.14167881,  4.92570734, ...,  4.96256208,\n",
       "         5.10992193,  5.10993814],\n",
       "       [ 1.84970832,  1.84975433,  1.85013688, ...,  1.84969127,\n",
       "         1.85064411,  1.85303557],\n",
       "       [ 2.67300463,  2.68293762,  3.64735508, ...,  2.66869545,\n",
       "         2.66777563,  2.66849399],\n",
       "       ..., \n",
       "       [-4.58375072, -5.08354092,         nan, ...,         nan,\n",
       "                nan,         nan],\n",
       "       [-1.64770722, -0.13994412,  0.24080989, ...,  0.24080972,\n",
       "         0.24083683,  0.2408296 ],\n",
       "       [        nan,         nan,         nan, ...,         nan,\n",
       "                nan,         nan]], dtype=float32)"
      ]
     },
     "execution_count": 332,
     "metadata": {},
     "output_type": "execute_result"
    }
   ],
   "source": [
    "neg_high_CVC2 = anno_one_CVC2['/experiments/primary/rep_anno/neg_high'].value\n",
    "neg_high_CVC2"
   ]
  },
  {
   "cell_type": "code",
   "execution_count": 333,
   "metadata": {},
   "outputs": [
    {
     "data": {
      "text/plain": [
       "array([[         nan],\n",
       "       [         nan],\n",
       "       [-13.64763355],\n",
       "       ..., \n",
       "       [         nan],\n",
       "       [  1.68721139],\n",
       "       [         nan]], dtype=float32)"
      ]
     },
     "execution_count": 333,
     "metadata": {},
     "output_type": "execute_result"
    }
   ],
   "source": [
    "neg_high_two = anno_two['/experiments/primary/rep_anno/neg_high'].value\n",
    "neg_high_two"
   ]
  },
  {
   "cell_type": "markdown",
   "metadata": {},
   "source": [
    "### Check other \"oc_calibration_vmzero\"\n",
    "/home/genia/azhang/GPU_TEST_HOME/data/170109_ENG-SYS_02_wobbuffet_WAV13R07C12_cycle1/P_00_170110023618_v11.19.1\n",
    "(genia@merge1)\\>grep oc_calibration_vmzero whole_parameters\n",
    "\n",
    "/experiments/oc_calibration/cell_anno/oc_calibration_vmzero Dataset {131072}\n",
    "\n",
    "/experiments/oc_calibration/metadata/units/annotations/oc_calibration_vmzero Dataset {SCALAR}\n",
    "/metadata/schema/annotation/oc_calibration/oc_calibration_vmzero Group\n",
    "/metadata/schema/annotation/oc_calibration/oc_calibration_vmzero/annotation_type Dataset {SCALAR}\n",
    "/metadata/schema/annotation/oc_calibration/oc_calibration_vmzero/annotator Dataset {SCALAR}\n",
    "...\n",
    "/metadata/schema/annotation/oc_calibration/oc_calibration_vmzero/experiment_type Dataset {SCALAR}\n",
    "/metadata/schema/annotation/oc_calibration/oc_calibration_vmzero/name Dataset {SCALAR}\n",
    "/metadata/schema/annotation/oc_calibration/oc_calibration_vmzero/schema_type Dataset {SCALAR}\n",
    "/metadata/schema/annotation/oc_calibration/oc_calibration_vmzero/units Dataset {SCALAR}\n",
    "\n",
    "\n",
    "/experiments/oc_calibration/vmzero_start Dataset {1}\n",
    "\n",
    "/experiments/oc_calibration/vmzero_stop Dataset {1}\n",
    "/experiments/primary/vmzero_start Dataset {1}\n",
    "/experiments/primary/vmzero_stop Dataset {1}\n"
   ]
  },
  {
   "cell_type": "code",
   "execution_count": null,
   "metadata": {
    "collapsed": true
   },
   "outputs": [],
   "source": []
  },
  {
   "cell_type": "code",
   "execution_count": null,
   "metadata": {
    "collapsed": true
   },
   "outputs": [],
   "source": []
  },
  {
   "cell_type": "code",
   "execution_count": 334,
   "metadata": {},
   "outputs": [
    {
     "data": {
      "text/plain": [
       "<matplotlib.collections.PathCollection at 0x7fe1f5b2b650>"
      ]
     },
     "execution_count": 334,
     "metadata": {},
     "output_type": "execute_result"
    },
    {
     "data": {
      "image/png": "[encoded data removed]",
      "text/plain": [
       "<matplotlib.figure.Figure at 0x7fe1f5f7a690>"
      ]
     },
     "metadata": {},
     "output_type": "display_data"
    }
   ],
   "source": [
    "# Scatter plot for vmzero_one_CVC1\n",
    "plt.scatter(range(vmzero_one_CVC1.size), vmzero_one_CVC1, s=.02, alpha=0.5, color='b')"
   ]
  },
  {
   "cell_type": "code",
   "execution_count": 335,
   "metadata": {},
   "outputs": [
    {
     "data": {
      "text/plain": [
       "<matplotlib.collections.PathCollection at 0x7fe1f5a5dc50>"
      ]
     },
     "execution_count": 335,
     "metadata": {},
     "output_type": "execute_result"
    },
    {
     "data": {
      "image/png": "[encoded data removed]",
      "text/plain": [
       "<matplotlib.figure.Figure at 0x7fe1f5ac2810>"
      ]
     },
     "metadata": {},
     "output_type": "display_data"
    }
   ],
   "source": [
    "# Scatter plot for vmzero_one_CVC2\n",
    "plt.scatter(range(vmzero_one_CVC2.size), vmzero_one_CVC2, s=.02, alpha=0.5, color='b')\n"
   ]
  },
  {
   "cell_type": "code",
   "execution_count": 336,
   "metadata": {},
   "outputs": [
    {
     "data": {
      "text/plain": [
       "<matplotlib.collections.PathCollection at 0x7fe1f5e17610>"
      ]
     },
     "execution_count": 336,
     "metadata": {},
     "output_type": "execute_result"
    },
    {
     "data": {
      "image/png": "[encoded data removed]",
      "text/plain": [
       "<matplotlib.figure.Figure at 0x7fe1f5a79510>"
      ]
     },
     "metadata": {},
     "output_type": "display_data"
    }
   ],
   "source": [
    "# Scatter plot for vmzero_two\n",
    "plt.scatter(range(vmzero_two.size), vmzero_two, s=.02, alpha=0.5, color='r')"
   ]
  },
  {
   "cell_type": "code",
   "execution_count": 337,
   "metadata": {},
   "outputs": [
    {
     "data": {
      "text/plain": [
       "<matplotlib.collections.PathCollection at 0x7fe1f5d0f290>"
      ]
     },
     "execution_count": 337,
     "metadata": {},
     "output_type": "execute_result"
    },
    {
     "data": {
      "image/png": "[encoded data removed]",
      "text/plain": [
       "<matplotlib.figure.Figure at 0x7fe1f9448390>"
      ]
     },
     "metadata": {},
     "output_type": "display_data"
    }
   ],
   "source": [
    "\n",
    "plt.scatter(range(vmzero_one_CVC1.size), vmzero_one_CVC1, s=.02, alpha=0.5, color='b')\n",
    "plt.scatter(range(vmzero_one_CVC2.size), vmzero_one_CVC2, s=.02, alpha=0.5, color='g')\n",
    "plt.scatter(range(vmzero_two.size), vmzero_two, s=.02, alpha=0.5, color='r')\n"
   ]
  },
  {
   "cell_type": "code",
   "execution_count": 338,
   "metadata": {},
   "outputs": [
    {
     "name": "stdout",
     "output_type": "stream",
     "text": [
      "('vmzero_one_CVC1_new is: ', array([  59.30098724,  108.29113007,   58.68998337, ...,   70.53884125,\n",
      "         68.14842224,   60.38773727], dtype=float32))\n",
      "============\n",
      "('vmzero_one_CVC2_new is: ', array([ 59.54895401,  32.80421829,  25.04044151, ...,  78.9467392 ,\n",
      "        27.2345314 ,  28.30464935], dtype=float32))\n",
      "============\n",
      "('vmzero_two_new is: ', array([ 139.41577148,  130.67912292,  118.58004761, ...,  117.51531219,\n",
      "        117.00022888,  117.09118652], dtype=float32))\n"
     ]
    }
   ],
   "source": [
    "## Plog the Histogram:\n",
    "# 1. Remove nan first:\n",
    "\n",
    "vmzero_one_CVC1_new = vmzero_one_CVC1[~np.isnan(vmzero_one_CVC1)]\n",
    "vmzero_one_CVC2_new = vmzero_one_CVC2[~np.isnan(vmzero_one_CVC2)]\n",
    "\n",
    "vmzero_two_new = vmzero_two[~np.isnan(vmzero_two)]\n",
    "\n",
    "#vmzero_one_new =[np.logical_not(np.isnan(vmzero_one))]\n",
    "#print \"vmzero_one after remove the nan is: \", vmzero_one_new\n",
    "\n",
    "#vmzero_two_new =[np.logical_not(np.isnan(vmzero_two))]\n",
    "#print \"vmzero_two after remove the nan is: \", vmzero_two_new\n",
    "print (\"vmzero_one_CVC1_new is: \", vmzero_one_CVC1_new)\n",
    "print \"============\"\n",
    "print (\"vmzero_one_CVC2_new is: \", vmzero_one_CVC2_new)\n",
    "print \"============\"\n",
    "print (\"vmzero_two_new is: \", vmzero_two_new)\n"
   ]
  },
  {
   "cell_type": "code",
   "execution_count": null,
   "metadata": {
    "collapsed": true
   },
   "outputs": [],
   "source": []
  },
  {
   "cell_type": "code",
   "execution_count": 339,
   "metadata": {},
   "outputs": [
    {
     "data": {
      "image/png": "[encoded data removed]",
      "text/plain": [
       "<matplotlib.figure.Figure at 0x7fe1f5dac950>"
      ]
     },
     "metadata": {},
     "output_type": "display_data"
    }
   ],
   "source": [
    "\n",
    "# Plot histogram for vmzero\n",
    "#plt.hist(vmzero_one_new, bins=20, label = 'vmzero')\n",
    "plt.hist(vmzero_one_CVC1_new, bins=np.arange(0,200,5), label = 'vmzero_one_CVC-mode', color='b', alpha=0.5, lw=0.1)\n",
    "plt.hist(vmzero_one_CVC2_new, bins=np.arange(0,200,5), label = 'vmzero_two_CVC-mode', color='g', alpha=0.5, lw=0.1)\n",
    "\n",
    "plt.hist(vmzero_two_new, bins=np.arange(0,180,5), label = 'vmzero_two', color='r', alpha=0.5, lw=0.1)\n",
    "plt.legend()\n",
    "plt.title(\"vmzero: CVC vs voltage mode\");\n"
   ]
  },
  {
   "cell_type": "markdown",
   "metadata": {},
   "source": [
    "#### Feb. 9 Look at "
   ]
  },
  {
   "cell_type": "code",
   "execution_count": null,
   "metadata": {
    "collapsed": true
   },
   "outputs": [],
   "source": []
  },
  {
   "cell_type": "markdown",
   "metadata": {
    "collapsed": true
   },
   "source": [
    "# Check the following\n",
    "(Feb. 2, 2017)\n",
    "The mean of the each value  for the following:\n",
    "## 1) neg_high, 2) neg_low, 3) pos_high, 4) pos_low, and 5)vmzero.\n",
    "\n",
    "Y(n) = Y(i) - Mean (Y)\n",
    "\n",
    "plot and histgram\n",
    "\n"
   ]
  },
  {
   "cell_type": "markdown",
   "metadata": {},
   "source": [
    "### 1) neg_high"
   ]
  },
  {
   "cell_type": "code",
   "execution_count": 340,
   "metadata": {},
   "outputs": [
    {
     "data": {
      "text/plain": [
       "array([[ nan,  nan,  nan, ...,  nan,  nan,  nan],\n",
       "       [ nan,  nan,  nan, ...,  nan,  nan,  nan],\n",
       "       [ nan,  nan,  nan, ...,  nan,  nan,  nan],\n",
       "       ..., \n",
       "       [ nan,  nan,  nan, ...,  nan,  nan,  nan],\n",
       "       [ nan,  nan,  nan, ...,  nan,  nan,  nan],\n",
       "       [ nan,  nan,  nan, ...,  nan,  nan,  nan]], dtype=float32)"
      ]
     },
     "execution_count": 340,
     "metadata": {},
     "output_type": "execute_result"
    }
   ],
   "source": [
    "neg_high_CVC1"
   ]
  },
  {
   "cell_type": "code",
   "execution_count": 341,
   "metadata": {},
   "outputs": [
    {
     "data": {
      "text/plain": [
       "array([[ 4.16623068,  4.14167881,  4.92570734, ...,  4.96256208,\n",
       "         5.10992193,  5.10993814],\n",
       "       [ 1.84970832,  1.84975433,  1.85013688, ...,  1.84969127,\n",
       "         1.85064411,  1.85303557],\n",
       "       [ 2.67300463,  2.68293762,  3.64735508, ...,  2.66869545,\n",
       "         2.66777563,  2.66849399],\n",
       "       ..., \n",
       "       [-4.58375072, -5.08354092,         nan, ...,         nan,\n",
       "                nan,         nan],\n",
       "       [-1.64770722, -0.13994412,  0.24080989, ...,  0.24080972,\n",
       "         0.24083683,  0.2408296 ],\n",
       "       [        nan,         nan,         nan, ...,         nan,\n",
       "                nan,         nan]], dtype=float32)"
      ]
     },
     "execution_count": 341,
     "metadata": {},
     "output_type": "execute_result"
    }
   ],
   "source": [
    "neg_high_CVC2"
   ]
  },
  {
   "cell_type": "code",
   "execution_count": 342,
   "metadata": {},
   "outputs": [
    {
     "name": "stdout",
     "output_type": "stream",
     "text": [
      "('neg_high_CVC1 before cleanning: ', array([[ nan,  nan,  nan, ...,  nan,  nan,  nan],\n",
      "       [ nan,  nan,  nan, ...,  nan,  nan,  nan],\n",
      "       [ nan,  nan,  nan, ...,  nan,  nan,  nan],\n",
      "       ..., \n",
      "       [ nan,  nan,  nan, ...,  nan,  nan,  nan],\n",
      "       [ nan,  nan,  nan, ...,  nan,  nan,  nan],\n",
      "       [ nan,  nan,  nan, ...,  nan,  nan,  nan]], dtype=float32))\n",
      "==================\n",
      "('neg_high after cleanning: ', array([-10.13928318,  -9.29737568,  -9.29459858, ..., -11.77673149,\n",
      "       -12.79944229, -20.55405235], dtype=float32))\n"
     ]
    },
    {
     "data": {
      "text/plain": [
       "<matplotlib.text.Text at 0x7fe1f62885d0>"
      ]
     },
     "execution_count": 342,
     "metadata": {},
     "output_type": "execute_result"
    },
    {
     "data": {
      "image/png": "[encoded data removed]",
      "text/plain": [
       "<matplotlib.figure.Figure at 0x7fe1f5ee7d50>"
      ]
     },
     "metadata": {},
     "output_type": "display_data"
    }
   ],
   "source": [
    "# statistics and histogram for CVC1:\n",
    "neg_high_new_CVC1 = neg_high_CVC1[~np.isnan(neg_high_CVC1)]\n",
    "neg_high_new_CVC1\n",
    "\"Mean for neg_high_one_new_CVC1 is:\", neg_high_new_CVC1.mean()\n",
    "\"Standard Deviation is: \", neg_high_new_CVC1.std()\n",
    "\n",
    "print (\"neg_high_CVC1 before cleanning: \", neg_high_CVC1)\n",
    "print (\"==================\")\n",
    "print (\"neg_high after cleanning: \",neg_high_new_CVC1)\n",
    "plt.hist(neg_high_new_CVC1, bins = 20, color = 'b')\n",
    "plt.title(\"Histogram of neg_high_one_new_CVC1\")"
   ]
  },
  {
   "cell_type": "code",
   "execution_count": 343,
   "metadata": {},
   "outputs": [
    {
     "name": "stdout",
     "output_type": "stream",
     "text": [
      "('neg_high_CVC2 before cleanning: ', array([[ 4.16623068,  4.14167881,  4.92570734, ...,  4.96256208,\n",
      "         5.10992193,  5.10993814],\n",
      "       [ 1.84970832,  1.84975433,  1.85013688, ...,  1.84969127,\n",
      "         1.85064411,  1.85303557],\n",
      "       [ 2.67300463,  2.68293762,  3.64735508, ...,  2.66869545,\n",
      "         2.66777563,  2.66849399],\n",
      "       ..., \n",
      "       [-4.58375072, -5.08354092,         nan, ...,         nan,\n",
      "                nan,         nan],\n",
      "       [-1.64770722, -0.13994412,  0.24080989, ...,  0.24080972,\n",
      "         0.24083683,  0.2408296 ],\n",
      "       [        nan,         nan,         nan, ...,         nan,\n",
      "                nan,         nan]], dtype=float32))\n",
      "==================\n",
      "('neg_high after cleanning: ', array([ 4.16623068,  4.14167881,  4.92570734, ...,  0.24080972,\n",
      "        0.24083683,  0.2408296 ], dtype=float32))\n"
     ]
    },
    {
     "data": {
      "text/plain": [
       "<matplotlib.text.Text at 0x7fe1f69cb0d0>"
      ]
     },
     "execution_count": 343,
     "metadata": {},
     "output_type": "execute_result"
    },
    {
     "data": {
      "image/png": "[encoded data removed]",
      "text/plain": [
       "<matplotlib.figure.Figure at 0x7fe1f5e56c10>"
      ]
     },
     "metadata": {},
     "output_type": "display_data"
    }
   ],
   "source": [
    "# statistics and histogram for CVC2:\n",
    "neg_high_new_CVC2 = neg_high_CVC2[~np.isnan(neg_high_CVC2)]\n",
    "neg_high_new_CVC2\n",
    "\"Mean for neg_high_one_new_CVC2 is:\", neg_high_new_CVC2.mean()\n",
    "\"Standard Deviation is: \", neg_high_new_CVC2.std()\n",
    "\n",
    "print (\"neg_high_CVC2 before cleanning: \", neg_high_CVC2)\n",
    "print (\"==================\")\n",
    "print (\"neg_high after cleanning: \",neg_high_new_CVC2)\n",
    "plt.hist(neg_high_new_CVC2, bins = 20, color = 'g')\n",
    "plt.title(\"Histogram of neg_high_one_new_CVC2\")"
   ]
  },
  {
   "cell_type": "code",
   "execution_count": 344,
   "metadata": {},
   "outputs": [
    {
     "name": "stdout",
     "output_type": "stream",
     "text": [
      "('neg_high before cleanning: ', array([[         nan],\n",
      "       [         nan],\n",
      "       [-13.64763355],\n",
      "       ..., \n",
      "       [         nan],\n",
      "       [  1.68721139],\n",
      "       [         nan]], dtype=float32))\n",
      "==================\n",
      "('neg_high after cleanning: ', array([-13.64763355, -13.46699905,  -8.33486843, ...,   1.29357052,\n",
      "         1.18352103,   1.68721139], dtype=float32))\n"
     ]
    },
    {
     "data": {
      "text/plain": [
       "<matplotlib.text.Text at 0x7fe1f686bc10>"
      ]
     },
     "execution_count": 344,
     "metadata": {},
     "output_type": "execute_result"
    },
    {
     "data": {
      "image/png": "[encoded data removed]",
      "text/plain": [
       "<matplotlib.figure.Figure at 0x7fe1f69291d0>"
      ]
     },
     "metadata": {},
     "output_type": "display_data"
    }
   ],
   "source": [
    "# statistics and histogram for neg_high_two:\n",
    "\n",
    "\n",
    "#neg_high_one_new = neg_high_one[np.logical_not(np.isnan(neg_high_one))]\n",
    "neg_high_two_new = neg_high_two[~np.isnan(neg_high_two)]\n",
    "neg_high_two_new\n",
    "\"Mean for neg_high is:\", neg_high_two_new.mean()\n",
    "\"Standard Deviation is: \", neg_high_two_new.std()\n",
    "\n",
    "print (\"neg_high before cleanning: \", neg_high_two)\n",
    "print (\"==================\")\n",
    "print (\"neg_high after cleanning: \",neg_high_two_new)\n",
    "plt.hist(neg_high_two_new, bins = 20, color = 'r')\n",
    "plt.title(\"Histogram of neg_high\")"
   ]
  },
  {
   "cell_type": "code",
   "execution_count": 345,
   "metadata": {},
   "outputs": [
    {
     "data": {
      "text/plain": [
       "<matplotlib.legend.Legend at 0x7fe1f686bc90>"
      ]
     },
     "execution_count": 345,
     "metadata": {},
     "output_type": "execute_result"
    },
    {
     "data": {
      "image/png": "[encoded data removed]",
      "text/plain": [
       "<matplotlib.figure.Figure at 0x7fe1f686bf50>"
      ]
     },
     "metadata": {},
     "output_type": "display_data"
    }
   ],
   "source": [
    "plt.hist(neg_high_new_CVC1, bins=np.arange(-40,40,3), label = 'neg_high_CVC1', color='b', alpha=0.5, lw=0.1)\n",
    "plt.hist(neg_high_new_CVC2, bins=np.arange(-40,40,3), label = 'neg_high_CVC2', color='g', alpha=0.5, lw=0.1)\n",
    "plt.hist(neg_high_two_new, bins=np.arange(-40,40,3), label = 'neg_high_two', color='r', alpha=0.5, lw=0.1)\n",
    "plt.legend()"
   ]
  },
  {
   "cell_type": "code",
   "execution_count": 346,
   "metadata": {},
   "outputs": [
    {
     "data": {
      "text/plain": [
       "<matplotlib.text.Text at 0x7fe1f659fc90>"
      ]
     },
     "execution_count": 346,
     "metadata": {},
     "output_type": "execute_result"
    },
    {
     "data": {
      "image/png": "[encoded data removed]",
      "text/plain": [
       "<matplotlib.figure.Figure at 0x7fe1f5e93d90>"
      ]
     },
     "metadata": {},
     "output_type": "display_data"
    }
   ],
   "source": [
    "# Scatter plot\n",
    "plt.scatter(range(neg_high_one.size), neg_high_one, s=.02, alpha=0.5, color='b')\n",
    "plt.title(\"Scatter plot for neg_high\")"
   ]
  },
  {
   "cell_type": "markdown",
   "metadata": {},
   "source": [
    "###  Variance, mean, and Y(0...n) =   Y(n) - Y(mean) pot"
   ]
  },
  {
   "cell_type": "markdown",
   "metadata": {},
   "source": [
    "#### Quantile-Quantile Plot using SciPy"
   ]
  },
  {
   "cell_type": "code",
   "execution_count": 349,
   "metadata": {},
   "outputs": [
    {
     "data": {
      "text/plain": [
       "((array([-4.27701362, -4.07518449, -3.96529574, ...,  3.96529574,\n",
       "          4.07518449,  4.27701362]),\n",
       "  array([-29.42446709, -29.27105522, -28.5345726 , ...,   3.56183577,\n",
       "           3.56419396,   4.1243763 ], dtype=float32)),\n",
       " (4.3262092536213776, -7.8295555114746076, 0.99302036837753394))"
      ]
     },
     "execution_count": 349,
     "metadata": {},
     "output_type": "execute_result"
    },
    {
     "data": {
      "image/png": "[encoded data removed]",
      "text/plain": [
       "<matplotlib.figure.Figure at 0x7fe1f6b567d0>"
      ]
     },
     "metadata": {},
     "output_type": "display_data"
    }
   ],
   "source": [
    "stats.probplot(neg_high_one_new, dist=\"norm\", plot=plt)"
   ]
  },
  {
   "cell_type": "markdown",
   "metadata": {
    "collapsed": true
   },
   "source": [
    "#### 2) neg_low"
   ]
  },
  {
   "cell_type": "code",
   "execution_count": 353,
   "metadata": {},
   "outputs": [
    {
     "name": "stderr",
     "output_type": "stream",
     "text": [
      "/usr/local/Canopy_64bit/User/lib/python2.7/site-packages/ipykernel/__main__.py:1: DeprecationWarning:\n",
      "\n",
      "using a non-integer number instead of an integer will result in an error in the future\n",
      "\n"
     ]
    },
    {
     "ename": "IndexError",
     "evalue": "only integers, slices (`:`), ellipsis (`...`), numpy.newaxis (`None`) and integer or boolean arrays are valid indices",
     "traceback": [
      "\u001b[1;31m---------------------------------------------------------------------------\u001b[0m",
      "\u001b[1;31mIndexError\u001b[0m                                Traceback (most recent call last)",
      "\u001b[1;32m<ipython-input-353-550cce1f3872>\u001b[0m in \u001b[0;36m<module>\u001b[1;34m()\u001b[0m\n\u001b[1;32m----> 1\u001b[1;33m \u001b[0mneg_low_one\u001b[0m \u001b[1;33m=\u001b[0m \u001b[0manno_one\u001b[0m\u001b[1;33m[\u001b[0m\u001b[1;34m'experiments/primary/rep_anno/neg_low'\u001b[0m\u001b[1;33m]\u001b[0m\u001b[1;33m.\u001b[0m\u001b[0mvalue\u001b[0m\u001b[1;33m\u001b[0m\u001b[0m\n\u001b[0m\u001b[0;32m      2\u001b[0m \u001b[0mneg_low_one\u001b[0m\u001b[1;33m\u001b[0m\u001b[0m\n",
      "\u001b[1;31mIndexError\u001b[0m: only integers, slices (`:`), ellipsis (`...`), numpy.newaxis (`None`) and integer or boolean arrays are valid indices"
     ],
     "output_type": "error"
    }
   ],
   "source": [
    "neg_low_one = anno_one['experiments/primary/rep_anno/neg_low'].value\n",
    "neg_low_one"
   ]
  },
  {
   "cell_type": "code",
   "execution_count": 351,
   "metadata": {},
   "outputs": [
    {
     "ename": "NameError",
     "evalue": "name 'neg_low_one' is not defined",
     "traceback": [
      "\u001b[1;31m---------------------------------------------------------------------------\u001b[0m",
      "\u001b[1;31mNameError\u001b[0m                                 Traceback (most recent call last)",
      "\u001b[1;32m<ipython-input-351-3764bb3c279a>\u001b[0m in \u001b[0;36m<module>\u001b[1;34m()\u001b[0m\n\u001b[0;32m      1\u001b[0m \u001b[1;31m# Remove nan\u001b[0m\u001b[1;33m\u001b[0m\u001b[1;33m\u001b[0m\u001b[0m\n\u001b[0;32m      2\u001b[0m \u001b[1;31m#neg_high_one_new = neg_high_one[np.logical_not(np.isnan(neg_high_one))]\u001b[0m\u001b[1;33m\u001b[0m\u001b[1;33m\u001b[0m\u001b[0m\n\u001b[1;32m----> 3\u001b[1;33m \u001b[0mneg_low_one_new\u001b[0m \u001b[1;33m=\u001b[0m \u001b[0mneg_low_one\u001b[0m\u001b[1;33m[\u001b[0m\u001b[1;33m~\u001b[0m\u001b[0mnp\u001b[0m\u001b[1;33m.\u001b[0m\u001b[0misnan\u001b[0m\u001b[1;33m(\u001b[0m\u001b[0mneg_low_one\u001b[0m\u001b[1;33m)\u001b[0m\u001b[1;33m]\u001b[0m\u001b[1;33m\u001b[0m\u001b[0m\n\u001b[0m\u001b[0;32m      4\u001b[0m \u001b[1;32mprint\u001b[0m \u001b[1;33m(\u001b[0m\u001b[1;34m\"neg_low_one_new is: \"\u001b[0m\u001b[1;33m,\u001b[0m \u001b[0mneg_low_one_new\u001b[0m\u001b[1;33m)\u001b[0m\u001b[1;33m\u001b[0m\u001b[0m\n\u001b[0;32m      5\u001b[0m \u001b[1;32mprint\u001b[0m \u001b[1;33m(\u001b[0m\u001b[1;34m\"==================\"\u001b[0m\u001b[1;33m)\u001b[0m\u001b[1;33m\u001b[0m\u001b[0m\n",
      "\u001b[1;31mNameError\u001b[0m: name 'neg_low_one' is not defined"
     ],
     "output_type": "error"
    }
   ],
   "source": [
    "# Remove nan\n",
    "#neg_high_one_new = neg_high_one[np.logical_not(np.isnan(neg_high_one))]\n",
    "neg_low_one_new = neg_low_one[~np.isnan(neg_low_one)]\n",
    "print (\"neg_low_one_new is: \", neg_low_one_new)\n",
    "print (\"==================\")\n",
    "print (\"Mean for neg_low is:\", neg_low_one_new.mean())\n",
    "print (\"==================\")\n",
    "print (\"Standard Deviation is: \", neg_low_one_new.std())\n",
    "print (\"==================\")\n",
    "print (\"neg_high_one_new.variance is: \", neg_low_one_new.var())\n",
    "\n",
    "#print neg_high_one\n",
    "plt.hist(neg_low_one_new, bins = 20, color='g')\n",
    "plt.title(\"Histogram of neg_low\")"
   ]
  },
  {
   "cell_type": "markdown",
   "metadata": {},
   "source": [
    "### A few statistics summary for neg_low_one"
   ]
  },
  {
   "cell_type": "code",
   "execution_count": null,
   "metadata": {},
   "outputs": [],
   "source": [
    "print (\"calc mean, diff, and their plot\")\n",
    "print (\"==================================\")\n",
    "print (\"neg_low_one_new.mean is:\", neg_low_one_new.mean())\n",
    "\n",
    "print (\"==================\")\n"
   ]
  },
  {
   "cell_type": "code",
   "execution_count": null,
   "metadata": {},
   "outputs": [],
   "source": [
    "stats.probplot(neg_low_one_new, dist=\"norm\", plot=plt)"
   ]
  },
  {
   "cell_type": "markdown",
   "metadata": {},
   "source": [
    "### 3) pos_high "
   ]
  },
  {
   "cell_type": "code",
   "execution_count": null,
   "metadata": {},
   "outputs": [],
   "source": [
    "pos_high_one = anno_one['experiments/primary/rep_anno/pos_high'].value\n",
    "pos_high_one "
   ]
  },
  {
   "cell_type": "code",
   "execution_count": null,
   "metadata": {},
   "outputs": [],
   "source": [
    "# Remove nan\n",
    "#neg_high_one_new = neg_high_one[np.logical_not(np.isnan(neg_high_one))]\n",
    "pos_high_one_new = pos_high_one[~np.isnan(pos_high_one)]\n",
    "#print pos_high_one_new\n",
    "print (\"Mean for pos_high is:\", pos_high_one_new.mean())\n",
    "print (\"Standard Deviation is: \", pos_high_one_new.std())\n",
    "#print neg_high_one\n",
    "plt.hist(pos_high_one_new, bins = 20, color='y')"
   ]
  },
  {
   "cell_type": "code",
   "execution_count": null,
   "metadata": {},
   "outputs": [],
   "source": [
    "#plt.scatter(range(pos_high_one.size), pos_high_one, s=.02, alpha=0.5, color='b')"
   ]
  },
  {
   "cell_type": "code",
   "execution_count": null,
   "metadata": {},
   "outputs": [],
   "source": [
    "stats.probplot(pos_high_one_new, dist=\"norm\", plot=plt)\n",
    "stats.probplot(pos_low_one_new, dist=\"norm\", plot=plt)\n",
    "plt.legend()"
   ]
  },
  {
   "cell_type": "markdown",
   "metadata": {},
   "source": [
    "#### 4. pos_low"
   ]
  },
  {
   "cell_type": "code",
   "execution_count": null,
   "metadata": {},
   "outputs": [],
   "source": [
    "pos_low_one = anno_one['experiments/primary/rep_anno/pos_low'].value\n",
    "pos_low_one "
   ]
  },
  {
   "cell_type": "code",
   "execution_count": null,
   "metadata": {
    "scrolled": true
   },
   "outputs": [],
   "source": [
    "# Remove nan\n",
    "#pos_low_one_new = neg_high_one[np.logical_not(np.isnan(neg_high_one))]\n",
    "pos_low_one_new = pos_low_one[~np.isnan(pos_low_one)]\n",
    "print (\"pos_low_one_new is: \", pos_low_one_new)\n",
    "print (\"Mean for pos_low is:\", pos_low_one_new.mean())\n",
    "print (\"Standard Deviation is: \", pos_low_one_new.std())\n",
    "plt.hist(pos_low_one_new, bins = 20, color='r')"
   ]
  },
  {
   "cell_type": "code",
   "execution_count": null,
   "metadata": {},
   "outputs": [],
   "source": [
    "# Plot histogram for compare pos_high vs pos_low\n",
    "#plt.hist(vmzero_one_new, bins=20, label = 'vmzero')\n",
    "plt.hist(pos_high_one_new, bins=np.arange(-90,110,10), label = 'pos_high', color='y', alpha=0.5, lw=0.1)\n",
    "plt.hist(pos_low_one_new, bins=np.arange(-90,120,10), label = 'pos_low', color='r', alpha=0.5, lw=0.1)\n",
    "plt.legend()\n",
    "plt.title(\"pos_high vs pos_low\");\n",
    "plt.xlabel(\"Value\")\n",
    "plt.ylabel(\"Frequency\")\n"
   ]
  },
  {
   "cell_type": "code",
   "execution_count": null,
   "metadata": {},
   "outputs": [],
   "source": [
    "stats.probplot(pos_low_one_new, dist=\"norm\", plot=plt)\n"
   ]
  },
  {
   "cell_type": "markdown",
   "metadata": {
    "collapsed": true
   },
   "source": [
    "#### 2-1 Check oc_calibration_neg_low (vs neg_low)"
   ]
  },
  {
   "cell_type": "code",
   "execution_count": null,
   "metadata": {},
   "outputs": [],
   "source": [
    "#neg_low_one = anno_one['experiments/primary/rep_anno/neg_low'].value\n",
    "print (\"neg_low_one is: \", neg_low_one)\n",
    "print (\"===================\\n\")\n",
    "\n",
    "# experiments/oc_calibration/cell_anno/oc_calibration_neg_low\n",
    "oc_calibration_neg_low_one = anno_one['experiments/oc_calibration/cell_anno/oc_calibration_neg_low'].value\n",
    "print (\"oc_calibration_neg_low_one is: \", oc_calibration_neg_low_one)"
   ]
  },
  {
   "cell_type": "code",
   "execution_count": null,
   "metadata": {
    "collapsed": true
   },
   "outputs": [],
   "source": []
  },
  {
   "cell_type": "code",
   "execution_count": null,
   "metadata": {},
   "outputs": [],
   "source": [
    "# 2After eliminate the \"nan\"\n",
    "\n",
    "# Remove nan\n",
    "#neg_high_one_new = neg_high_one[np.logical_not(np.isnan(neg_high_one))]\n",
    "oc_calibration_neg_low_one_new = oc_calibration_neg_low_one[~np.isnan(oc_calibration_neg_low_one)]\n",
    "print (\"oc_calibration_neg_low_one_new is: \", oc_calibration_neg_low_one_new)\n",
    "print (\"==================\")\n",
    "print (\"Mean for oc_calibration_neg_low_one is:\", oc_calibration_neg_low_one_new.mean())\n",
    "print (\"==================\")\n",
    "print (\"Standard Deviation is: \", oc_calibration_neg_low_one_new.std())\n",
    "print (\"==================\")\n",
    "print (\"variance is: \", oc_calibration_neg_low_one_new.var())\n",
    "\n",
    "#print neg_high_one\n",
    "\n",
    "plt.hist(oc_calibration_neg_low_one_new, bins = 20, color='g')\n",
    "plt.title(\"Histogram of oc_calibration_neg_low_one\")\n",
    "\n",
    "\n"
   ]
  },
  {
   "cell_type": "code",
   "execution_count": null,
   "metadata": {},
   "outputs": [],
   "source": [
    "# run q-q test\n",
    "stats.probplot(oc_calibration_neg_low_one_new, dist=\"norm\", plot=plt)"
   ]
  },
  {
   "cell_type": "code",
   "execution_count": 354,
   "metadata": {},
   "outputs": [
    {
     "ename": "NameError",
     "evalue": "name 'oc_calibration_neg_low_one_new' is not defined",
     "traceback": [
      "\u001b[1;31m---------------------------------------------------------------------------\u001b[0m",
      "\u001b[1;31mNameError\u001b[0m                                 Traceback (most recent call last)",
      "\u001b[1;32m<ipython-input-354-b219b745298f>\u001b[0m in \u001b[0;36m<module>\u001b[1;34m()\u001b[0m\n\u001b[0;32m      2\u001b[0m \u001b[1;31m# Plot histogram for compare pos_high vs pos_low\u001b[0m\u001b[1;33m\u001b[0m\u001b[1;33m\u001b[0m\u001b[0m\n\u001b[0;32m      3\u001b[0m \u001b[1;31m#plt.hist(vmzero_one_new, bins=20, label = 'vmzero')\u001b[0m\u001b[1;33m\u001b[0m\u001b[1;33m\u001b[0m\u001b[0m\n\u001b[1;32m----> 4\u001b[1;33m \u001b[0mplt\u001b[0m\u001b[1;33m.\u001b[0m\u001b[0mhist\u001b[0m\u001b[1;33m(\u001b[0m\u001b[0moc_calibration_neg_low_one_new\u001b[0m\u001b[1;33m,\u001b[0m \u001b[0mbins\u001b[0m\u001b[1;33m=\u001b[0m\u001b[0mnp\u001b[0m\u001b[1;33m.\u001b[0m\u001b[0marange\u001b[0m\u001b[1;33m(\u001b[0m\u001b[1;33m-\u001b[0m\u001b[1;36m90\u001b[0m\u001b[1;33m,\u001b[0m\u001b[1;36m20\u001b[0m\u001b[1;33m,\u001b[0m\u001b[1;36m5\u001b[0m\u001b[1;33m)\u001b[0m\u001b[1;33m,\u001b[0m \u001b[0mlabel\u001b[0m \u001b[1;33m=\u001b[0m \u001b[1;34m'oc_calibration_neg_low'\u001b[0m\u001b[1;33m,\u001b[0m \u001b[0mcolor\u001b[0m\u001b[1;33m=\u001b[0m\u001b[1;34m'y'\u001b[0m\u001b[1;33m,\u001b[0m \u001b[0malpha\u001b[0m\u001b[1;33m=\u001b[0m\u001b[1;36m0.5\u001b[0m\u001b[1;33m,\u001b[0m \u001b[0mlw\u001b[0m\u001b[1;33m=\u001b[0m\u001b[1;36m0.1\u001b[0m\u001b[1;33m)\u001b[0m\u001b[1;33m\u001b[0m\u001b[0m\n\u001b[0m\u001b[0;32m      5\u001b[0m \u001b[0mplt\u001b[0m\u001b[1;33m.\u001b[0m\u001b[0mhist\u001b[0m\u001b[1;33m(\u001b[0m\u001b[0mneg_low_one_new\u001b[0m\u001b[1;33m,\u001b[0m \u001b[0mbins\u001b[0m\u001b[1;33m=\u001b[0m\u001b[0mnp\u001b[0m\u001b[1;33m.\u001b[0m\u001b[0marange\u001b[0m\u001b[1;33m(\u001b[0m\u001b[1;33m-\u001b[0m\u001b[1;36m90\u001b[0m\u001b[1;33m,\u001b[0m \u001b[1;36m20\u001b[0m\u001b[1;33m,\u001b[0m\u001b[1;36m5\u001b[0m\u001b[1;33m)\u001b[0m\u001b[1;33m,\u001b[0m \u001b[0mlabel\u001b[0m \u001b[1;33m=\u001b[0m \u001b[1;34m'neg_low'\u001b[0m\u001b[1;33m,\u001b[0m \u001b[0mcolor\u001b[0m\u001b[1;33m=\u001b[0m\u001b[1;34m'r'\u001b[0m\u001b[1;33m,\u001b[0m \u001b[0malpha\u001b[0m\u001b[1;33m=\u001b[0m\u001b[1;36m0.5\u001b[0m\u001b[1;33m,\u001b[0m \u001b[0mlw\u001b[0m\u001b[1;33m=\u001b[0m\u001b[1;36m0.1\u001b[0m\u001b[1;33m)\u001b[0m\u001b[1;33m\u001b[0m\u001b[0m\n\u001b[0;32m      6\u001b[0m \u001b[0mplt\u001b[0m\u001b[1;33m.\u001b[0m\u001b[0mlegend\u001b[0m\u001b[1;33m(\u001b[0m\u001b[1;33m)\u001b[0m\u001b[1;33m\u001b[0m\u001b[0m\n",
      "\u001b[1;31mNameError\u001b[0m: name 'oc_calibration_neg_low_one_new' is not defined"
     ],
     "output_type": "error"
    }
   ],
   "source": [
    "# Will this make sense: oc_calibration_neg_low vs neg_low\n",
    "# Plot histogram for compare pos_high vs pos_low\n",
    "#plt.hist(vmzero_one_new, bins=20, label = 'vmzero')\n",
    "plt.hist(oc_calibration_neg_low_one_new, bins=np.arange(-90,20,5), label = 'oc_calibration_neg_low', color='y', alpha=0.5, lw=0.1)\n",
    "plt.hist(neg_low_one_new, bins=np.arange(-90, 20,5), label = 'neg_low', color='r', alpha=0.5, lw=0.1)\n",
    "plt.legend()\n",
    "plt.title(\"oc_calibration_neg_low vs neg_low\");\n",
    "plt.xlabel(\"Value\")\n",
    "plt.ylabel(\"Frequency\")"
   ]
  },
  {
   "cell_type": "markdown",
   "metadata": {
    "collapsed": true
   },
   "source": [
    "### 6) oc_calibration_pos_cycle_decay_range"
   ]
  },
  {
   "cell_type": "code",
   "execution_count": 352,
   "metadata": {},
   "outputs": [
    {
     "name": "stderr",
     "output_type": "stream",
     "text": [
      "/usr/local/Canopy_64bit/User/lib/python2.7/site-packages/ipykernel/__main__.py:1: DeprecationWarning:\n",
      "\n",
      "using a non-integer number instead of an integer will result in an error in the future\n",
      "\n"
     ]
    },
    {
     "ename": "IndexError",
     "evalue": "only integers, slices (`:`), ellipsis (`...`), numpy.newaxis (`None`) and integer or boolean arrays are valid indices",
     "traceback": [
      "\u001b[1;31m---------------------------------------------------------------------------\u001b[0m",
      "\u001b[1;31mIndexError\u001b[0m                                Traceback (most recent call last)",
      "\u001b[1;32m<ipython-input-352-9ad1389d4e65>\u001b[0m in \u001b[0;36m<module>\u001b[1;34m()\u001b[0m\n\u001b[1;32m----> 1\u001b[1;33m \u001b[0moc_calibration_pos_cycle_decay_range_one\u001b[0m \u001b[1;33m=\u001b[0m \u001b[0manno_one\u001b[0m\u001b[1;33m[\u001b[0m\u001b[1;34m'experiments/oc_calibration/cell_anno/oc_calibration_pos_cycle_decay_range'\u001b[0m\u001b[1;33m]\u001b[0m\u001b[1;33m.\u001b[0m\u001b[0mvalue\u001b[0m\u001b[1;33m\u001b[0m\u001b[0m\n\u001b[0m\u001b[0;32m      2\u001b[0m \u001b[1;32mprint\u001b[0m \u001b[1;33m(\u001b[0m\u001b[1;34m\"oc_calibration_pos_cycle_decay_range_one is: \"\u001b[0m\u001b[1;33m,\u001b[0m \u001b[0moc_calibration_pos_cycle_decay_range_one\u001b[0m\u001b[1;33m)\u001b[0m\u001b[1;33m\u001b[0m\u001b[0m\n",
      "\u001b[1;31mIndexError\u001b[0m: only integers, slices (`:`), ellipsis (`...`), numpy.newaxis (`None`) and integer or boolean arrays are valid indices"
     ],
     "output_type": "error"
    }
   ],
   "source": [
    "oc_calibration_pos_cycle_decay_range_one = \\\n",
    "anno_one['experiments/oc_calibration/cell_anno/oc_calibration_pos_cycle_decay_range'].value\n",
    "print (\"oc_calibration_pos_cycle_decay_range_one is: \", oc_calibration_pos_cycle_decay_range_one)"
   ]
  },
  {
   "cell_type": "code",
   "execution_count": null,
   "metadata": {},
   "outputs": [],
   "source": [
    "# Remove nan\n",
    "oc_calibration_pos_cycle_decay_range_one_new = oc_calibration_pos_cycle_decay_range_one\\\n",
    "[~np.isnan(oc_calibration_pos_cycle_decay_range_one)]\n",
    "print (\"oc_calibration_pos_cycle_decay_range_one_new is: \", \\\n",
    "       oc_calibration_pos_cycle_decay_range_one_new)\n",
    "\n"
   ]
  },
  {
   "cell_type": "code",
   "execution_count": null,
   "metadata": {},
   "outputs": [],
   "source": [
    "plt.hist(oc_calibration_pos_cycle_decay_range_one_new, bins=2, \\\n",
    "         label = 'oc_calibration_pos_cycle_decay_range_one_new ',\\\n",
    "         color='g', alpha=0.5, lw=0.1)\n",
    "plt.title(\"oc_calibration_pos_cycle_decay_range_one_new\");\n",
    "plt.xlabel(\"Value\")\n",
    "plt.ylabel(\"Frequency\")\n"
   ]
  },
  {
   "cell_type": "code",
   "execution_count": null,
   "metadata": {},
   "outputs": [],
   "source": [
    "# Scatter plot:\n",
    "# Scatter plot\n",
    "plt.scatter(range(oc_calibration_pos_cycle_decay_range_one.size), oc_calibration_pos_cycle_decay_range_one, s=.02, alpha=0.5, color='b')\n",
    "plt.title(\"Scatter plot for neg_high\")\n"
   ]
  },
  {
   "cell_type": "code",
   "execution_count": null,
   "metadata": {},
   "outputs": [],
   "source": [
    "# Scatter plot:\n",
    "# Scatter plot\n",
    "plt.scatter(range(oc_calibration_pos_cycle_decay_range_one_new.size), \\\n",
    "            oc_calibration_pos_cycle_decay_range_one_new, s=.02, alpha=0.5, color='b')\n",
    "plt.title(\"Scatter plot for neg_high\")\n"
   ]
  },
  {
   "cell_type": "markdown",
   "metadata": {},
   "source": [
    "# Next Steps:\n",
    "####==================\n",
    "#### 1)  plot a few histgram to see if if makes more sense for the distribution of the data\n",
    "#### 2) Find out the physical meanings for each annotations (where the doc is?)\n",
    "#### 3) More detailed explainations for the data missing, nan, variations for the data source? etc.)\n",
    "#### 4) More comparisons: chip vs chip; cycles vs cycles withint the same chip, etc) \n"
   ]
  },
  {
   "cell_type": "code",
   "execution_count": null,
   "metadata": {
    "collapsed": true
   },
   "outputs": [],
   "source": []
  },
  {
   "cell_type": "code",
   "execution_count": null,
   "metadata": {
    "collapsed": true
   },
   "outputs": [],
   "source": []
  },
  {
   "cell_type": "markdown",
   "metadata": {
    "collapsed": true
   },
   "source": [
    "### Appendex: for my practice"
   ]
  },
  {
   "cell_type": "markdown",
   "metadata": {},
   "source": [
    "#### Plot test"
   ]
  },
  {
   "cell_type": "code",
   "execution_count": null,
   "metadata": {},
   "outputs": [],
   "source": [
    "print (randn(10))\n",
    "plot(randn(10))"
   ]
  },
  {
   "cell_type": "code",
   "execution_count": null,
   "metadata": {},
   "outputs": [],
   "source": []
  },
  {
   "cell_type": "markdown",
   "metadata": {
    "collapsed": true
   },
   "source": [
    "### Check the cell_annotations.csv"
   ]
  },
  {
   "cell_type": "code",
   "execution_count": null,
   "metadata": {},
   "outputs": [],
   "source": [
    "%%bash\n",
    "cd \"170109_ENG-SYS_02_wobbuffet_WAV13R07C12_cycle1/P_00_170110023618_v11.19.1\"\n",
    "pwd\n",
    "ls\n"
   ]
  },
  {
   "cell_type": "code",
   "execution_count": null,
   "metadata": {},
   "outputs": [],
   "source": [
    "%%bash\n",
    "#cell_annotations = pd.read_csv(\"cell_annotations.csv\")\n",
    "pwd"
   ]
  },
  {
   "cell_type": "code",
   "execution_count": null,
   "metadata": {
    "collapsed": true
   },
   "outputs": [],
   "source": []
  },
  {
   "cell_type": "code",
   "execution_count": null,
   "metadata": {
    "collapsed": true
   },
   "outputs": [],
   "source": []
  },
  {
   "cell_type": "code",
   "execution_count": null,
   "metadata": {},
   "outputs": [],
   "source": [
    "%%bash\n",
    "pwd"
   ]
  },
  {
   "cell_type": "code",
   "execution_count": null,
   "metadata": {},
   "outputs": [],
   "source": [
    "cell_annotations = pd.read_csv(\"/home/genia/azhang/GPU_TEST_HOME/data/170109_ENG-SYS_02_wobbuffet_WAV13R07C12_cycle1/P_00_170110023618_v11.19.1/cell_annotations.csv\")"
   ]
  },
  {
   "cell_type": "code",
   "execution_count": null,
   "metadata": {},
   "outputs": [],
   "source": [
    "cell_annotations.head"
   ]
  },
  {
   "cell_type": "code",
   "execution_count": null,
   "metadata": {
    "collapsed": true
   },
   "outputs": [],
   "source": [
    "import plotly"
   ]
  },
  {
   "cell_type": "code",
   "execution_count": null,
   "metadata": {},
   "outputs": [],
   "source": [
    "plotly.__version__"
   ]
  },
  {
   "cell_type": "code",
   "execution_count": null,
   "metadata": {},
   "outputs": [],
   "source": [
    "x = np.random.randn(50)\n",
    "x"
   ]
  },
  {
   "cell_type": "code",
   "execution_count": null,
   "metadata": {},
   "outputs": [],
   "source": [
    "data = [\n",
    "    go.Histogram(\n",
    "        x=x\n",
    "    )\n",
    "]\n",
    "data"
   ]
  },
  {
   "cell_type": "code",
   "execution_count": null,
   "metadata": {
    "collapsed": true
   },
   "outputs": [],
   "source": [
    "import ggplot"
   ]
  },
  {
   "cell_type": "code",
   "execution_count": null,
   "metadata": {},
   "outputs": [],
   "source": [
    "fig = plt.figure()\n",
    "ax = fig.add_subplot(111)\n",
    "x = np.random.normal(0,1,1000)\n",
    "numBins = 50\n",
    "ax.hist(x,numBins,color='g',alpha=0.5)\n",
    "plt.show()"
   ]
  },
  {
   "cell_type": "code",
   "execution_count": null,
   "metadata": {
    "collapsed": true
   },
   "outputs": [],
   "source": [
    "from mpl_toolkits.mplot3d import Axes3D\n",
    "import matplotlib.pyplot as plt\n",
    "import numpy as np\n"
   ]
  },
  {
   "cell_type": "code",
   "execution_count": null,
   "metadata": {},
   "outputs": [],
   "source": [
    "import matplotlib.pyplot as plt\n",
    "from numpy.random import normal\n",
    "gaussian_numbers = normal(size=100)\n",
    "plt.hist(gaussian_numbers)\n",
    "plt.title(\"Gaussian Histogram\")\n",
    "plt.xlabel(\"Value\")\n",
    "plt.ylabel(\"Frequency\")\n",
    "plt.show()"
   ]
  },
  {
   "cell_type": "code",
   "execution_count": null,
   "metadata": {},
   "outputs": [],
   "source": [
    "import random\n",
    "import matplotlib.pyplot as plt\n",
    "x = random.sample(range(1000), 50)\n",
    "xbins = [0, len(x)]\n",
    "plt.scatter(x, bins=xbins, color = 'blue') \n",
    "#Does not make the histogram correct. It counts the occurances of the individual counts. \n",
    "print (\"x is: \", x)\n",
    "print (\"xbins is: \" , xbins)\n",
    "#plt.plot(x)\n",
    "#plot works but I need this in histogram format\n",
    "#plt.show()"
   ]
  },
  {
   "cell_type": "code",
   "execution_count": null,
   "metadata": {},
   "outputs": [],
   "source": [
    "import random\n",
    "import matplotlib.pyplot as plt\n",
    "x=[x/100 for x in random.sample(range(10000),100)]\n",
    "xbins=range(0,len(x))\n",
    "plt.hist(x, bins=xbins, color='blue')\n",
    "plt.show()\n"
   ]
  },
  {
   "cell_type": "code",
   "execution_count": null,
   "metadata": {
    "collapsed": true
   },
   "outputs": [],
   "source": []
  },
  {
   "cell_type": "code",
   "execution_count": null,
   "metadata": {},
   "outputs": [],
   "source": [
    "xbins\n",
    "# x"
   ]
  },
  {
   "cell_type": "markdown",
   "metadata": {},
   "source": [
    "### Scatter plots\n",
    "A scatter plot displays values for two numerical variables in the same data set. The Matplotlib scatter func on creates a sca er plot. Op onally, we can specify the color and size of the data points in the plot as well as alpha transparency.\n",
    "\n",
    "### Histograms\n",
    "Histograms visualize the distribu on of numerical data. Matplotlib has the handy hist func on that graphs histograms. The hist func on has two arguments—the array containing the data and the number of bars."
   ]
  },
  {
   "cell_type": "code",
   "execution_count": null,
   "metadata": {},
   "outputs": [],
   "source": [
    "abc=3\n",
    "abc\n",
    "\n",
    "#print a"
   ]
  },
  {
   "cell_type": "code",
   "execution_count": null,
   "metadata": {
    "collapsed": true
   },
   "outputs": [],
   "source": [
    "b=[1,2,3]"
   ]
  },
  {
   "cell_type": "code",
   "execution_count": null,
   "metadata": {},
   "outputs": [],
   "source": [
    "import datetime"
   ]
  },
  {
   "cell_type": "code",
   "execution_count": null,
   "metadata": {},
   "outputs": [],
   "source": [
    "datetime.time\n",
    "print (datetime)"
   ]
  },
  {
   "cell_type": "code",
   "execution_count": null,
   "metadata": {
    "collapsed": true
   },
   "outputs": [],
   "source": [
    "def add_numbers(a, b):\n",
    "    \"\"\"\n",
    "    Add two num together\n",
    "    Returns\n",
    "    -------\n",
    "    the_sum: type of arguments\n",
    "    \"\"\"\n",
    "    return a + b"
   ]
  },
  {
   "cell_type": "code",
   "execution_count": null,
   "metadata": {
    "collapsed": true
   },
   "outputs": [],
   "source": [
    "add_numbers??"
   ]
  },
  {
   "cell_type": "code",
   "execution_count": null,
   "metadata": {},
   "outputs": [],
   "source": [
    "add_numbers(3, 30)"
   ]
  },
  {
   "cell_type": "code",
   "execution_count": null,
   "metadata": {},
   "outputs": [],
   "source": [
    "np.*load*?"
   ]
  },
  {
   "cell_type": "code",
   "execution_count": null,
   "metadata": {},
   "outputs": [],
   "source": [
    "import matplotlib.pyplot as plt\n",
    "fig = plt.figure()"
   ]
  },
  {
   "cell_type": "code",
   "execution_count": null,
   "metadata": {},
   "outputs": [],
   "source": [
    "ax1 = fig.add_sublot(2, 2, 1)"
   ]
  },
  {
   "cell_type": "code",
   "execution_count": null,
   "metadata": {
    "collapsed": true
   },
   "outputs": [],
   "source": []
  },
  {
   "cell_type": "code",
   "execution_count": null,
   "metadata": {
    "collapsed": true
   },
   "outputs": [],
   "source": [
    "ax2 = fig.add_subplot(2, 2, 2)"
   ]
  },
  {
   "cell_type": "code",
   "execution_count": null,
   "metadata": {
    "collapsed": true
   },
   "outputs": [],
   "source": [
    "ax3 = fig.add_subplot(2, 2, 3)"
   ]
  },
  {
   "cell_type": "code",
   "execution_count": null,
   "metadata": {},
   "outputs": [],
   "source": [
    "fig, axes = plt.subplots(2, 3)"
   ]
  },
  {
   "cell_type": "code",
   "execution_count": null,
   "metadata": {},
   "outputs": [],
   "source": [
    "axes"
   ]
  },
  {
   "cell_type": "code",
   "execution_count": null,
   "metadata": {
    "collapsed": true
   },
   "outputs": [],
   "source": []
  },
  {
   "cell_type": "code",
   "execution_count": null,
   "metadata": {
    "collapsed": true
   },
   "outputs": [],
   "source": [
    "from numpy.random import randn"
   ]
  },
  {
   "cell_type": "code",
   "execution_count": null,
   "metadata": {},
   "outputs": [],
   "source": [
    "plt.plot(randn(50).cumsum(), 'k--')"
   ]
  },
  {
   "cell_type": "code",
   "execution_count": null,
   "metadata": {
    "collapsed": true
   },
   "outputs": [],
   "source": []
  },
  {
   "cell_type": "code",
   "execution_count": null,
   "metadata": {
    "collapsed": true
   },
   "outputs": [],
   "source": []
  },
  {
   "cell_type": "code",
   "execution_count": null,
   "metadata": {},
   "outputs": [],
   "source": [
    "\n",
    "ax1 = fig.add_subplot(2, 2, 1)\n",
    "plot(np.arange(10))\n",
    "fig = plt.figure()"
   ]
  },
  {
   "cell_type": "code",
   "execution_count": null,
   "metadata": {},
   "outputs": [],
   "source": [
    "arr = np.arange(20,10)\n",
    "arr"
   ]
  },
  {
   "cell_type": "code",
   "execution_count": null,
   "metadata": {},
   "outputs": [],
   "source": [
    "data = {i : randn() for i in range(10)}\n",
    "data\n",
    "plot(data)"
   ]
  }
 ],
 "metadata": {
  "kernelspec": {
   "display_name": "Python 3",
   "language": "python",
   "name": "python3"
  },
  "language_info": {
   "codemirror_mode": {
    "name": "ipython",
    "version": 3
   },
   "file_extension": ".py",
   "mimetype": "text/x-python",
   "name": "python",
   "nbconvert_exporter": "python",
   "pygments_lexer": "ipython3",
   "version": "3.4.5"
  },
  "toc": {
   "nav_menu": {},
   "number_sections": true,
   "sideBar": true,
   "skip_h1_title": false,
   "title_cell": "Table of Contents",
   "title_sidebar": "Contents",
   "toc_cell": false,
   "toc_position": {},
   "toc_section_display": true,
   "toc_window_display": true
  }
 },
 "nbformat": 4,
 "nbformat_minor": 1
}
